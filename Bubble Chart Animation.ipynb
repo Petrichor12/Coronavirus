{
 "cells": [
  {
   "cell_type": "code",
   "execution_count": null,
   "metadata": {},
   "outputs": [],
   "source": [
    "import plotly.express as px\n",
    "import numpy as np\n",
    "import pandas as pd\n",
    "import numpy as np\n",
    "from os import listdir\n",
    "from os.path import isfile, join"
   ]
  },
  {
   "cell_type": "markdown",
   "metadata": {},
   "source": [
    "# Data Prep"
   ]
  },
  {
   "cell_type": "code",
   "execution_count": null,
   "metadata": {},
   "outputs": [],
   "source": [
    "df = pd.read_csv('./Data/world_info.csv')\n",
    "\n",
    "path = './Data/Countries'\n",
    "onlyfiles = [f for f in listdir(path) if isfile(join(path, f))]\n",
    "\n",
    "countries = []\n",
    "for c in onlyfiles:\n",
    "    df = pd.read_csv(path+'/'+c)\n",
    "    df['Country'] = str.split(c,'.')[0]\n",
    "    df['Dates'] = df['Dates'].astype(str) + ' 2020'\n",
    "    df['Dates'] = pd.to_datetime(df['Dates'],format='%b %d %Y')\n",
    "    df.sort_values(by=['Dates'],inplace=True)\n",
    "    df.reset_index(inplace=True)\n",
    "    countries.append(df)\n",
    "\n",
    "df = pd.concat(countries)\n",
    "df = df[['Country','Dates','Cases','Deaths','Active Cases','Daily Deaths']]\n",
    "\n",
    "dt = pd.DataFrame(np.random.randn(len(df['Dates'].unique()), 1), index=df['Dates'].unique())\n",
    "dt.sort_index(inplace=True)\n",
    "dt.reset_index(inplace=True)\n",
    "dt = dt[['index']]\n",
    "dt.reset_index(inplace=True)\n",
    "dt.columns = ['Day0','Dates']\n",
    "\n",
    "df = df.merge(dt,how='left',left_on='Dates',right_on='Dates',copy=False)\n",
    "#df = df.sort_values(by='Day0')\n",
    "df.reset_index(inplace=True,drop=True)        \n",
    "\n",
    "#df.to_csv('./Data/Test/timeseries.csv')\n",
    "#df"
   ]
  },
  {
   "cell_type": "markdown",
   "metadata": {},
   "source": [
    "# Area Chart"
   ]
  },
  {
   "cell_type": "code",
   "execution_count": null,
   "metadata": {
    "scrolled": false
   },
   "outputs": [],
   "source": [
    "for col in ['Cases', 'Deaths','Active Cases','Daily Deaths']:\n",
    "    \n",
    "    fig = px.area(df, x=\"Dates\", y=col, color=\"Country\",)\n",
    "    fig.update_layout(title=col+' by Country over Time')\n",
    "    fig.show()"
   ]
  },
  {
   "cell_type": "code",
   "execution_count": null,
   "metadata": {},
   "outputs": [],
   "source": [
    "fig = px.scatter(df, x=\"Cases\", y=\"Deaths\", animation_frame=\"Day0\",\n",
    "           size=\"Daily Deaths\", color=\"Country\", hover_name=\"Country\",animation_group=\"Country\",text=\"Country\",\n",
    "                 range_x=[0,100000], range_y=[0,10000],trendline='ols')\n",
    "fig.show()"
   ]
  },
  {
   "cell_type": "code",
   "execution_count": null,
   "metadata": {},
   "outputs": [],
   "source": []
  },
  {
   "cell_type": "code",
   "execution_count": null,
   "metadata": {},
   "outputs": [],
   "source": []
  }
 ],
 "metadata": {
  "kernelspec": {
   "display_name": "Python 3",
   "language": "python",
   "name": "python3"
  },
  "language_info": {
   "codemirror_mode": {
    "name": "ipython",
    "version": 3
   },
   "file_extension": ".py",
   "mimetype": "text/x-python",
   "name": "python",
   "nbconvert_exporter": "python",
   "pygments_lexer": "ipython3",
   "version": "3.6.5"
  }
 },
 "nbformat": 4,
 "nbformat_minor": 4
}
