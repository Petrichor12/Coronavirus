{
 "cells": [
  {
   "cell_type": "code",
   "execution_count": null,
   "metadata": {},
   "outputs": [],
   "source": [
    "import plotly.express as px\n",
    "import numpy as np\n",
    "import pandas as pd\n",
    "import numpy as np\n",
    "from os import listdir\n",
    "from os.path import isfile, join\n",
    "from datetime import date"
   ]
  },
  {
   "cell_type": "markdown",
   "metadata": {},
   "source": [
    "# Data Prep"
   ]
  },
  {
   "cell_type": "code",
   "execution_count": null,
   "metadata": {},
   "outputs": [],
   "source": [
    "df = pd.read_csv('./Data/world_info.csv')\n",
    "\n",
    "path = './Data/Countries'\n",
    "onlyfiles = [f for f in listdir(path) if isfile(join(path, f))]\n",
    "\n",
    "t = pd.date_range(start='1/1/2020', end='24/3/2020')#date.today().strftime(\"%d/%m/%Y\"))\n",
    "dt = pd.DataFrame(np.arange(0,len(t), 1), index=t, columns=['Day0'])\n",
    "\n",
    "countries = []\n",
    "for c in onlyfiles:\n",
    "    df = pd.read_csv(path+'/'+c)\n",
    "    df['Dates'] = df['Dates'].astype(str) + ' 2020'\n",
    "    df['Dates'] = pd.to_datetime(df['Dates'],format='%b %d %Y')\n",
    "    df.set_index(df['Dates'],inplace=True)\n",
    "    df = df.merge(dt,how='right',left_index=True, right_index=True,copy=False)\n",
    "    df.fillna(0,inplace=True)\n",
    "    df['Country'] = str.split(c,'.')[0]\n",
    "    df.reset_index(inplace=True, drop=True)\n",
    "    df = df[['Day0','Country','Dates','Cases','Deaths','Active Cases','Daily Deaths']]\n",
    "    df['NewCasesLastWeek']=df['Cases'].diff(periods=7)\n",
    "    print(df)\n",
    "    countries.append(df)\n",
    "\n",
    "df = pd.concat(countries)\n",
    "df = df.sort_values(by='Day0')\n",
    "df.reset_index(inplace=True,drop=True)        \n",
    "\n",
    "#df.to_csv('./Data/Test/timeseries.csv')\n",
    "df"
   ]
  },
  {
   "cell_type": "markdown",
   "metadata": {},
   "source": [
    "# Area Chart"
   ]
  },
  {
   "cell_type": "code",
   "execution_count": null,
   "metadata": {
    "scrolled": false
   },
   "outputs": [],
   "source": [
    "for col in ['Cases', 'Deaths','Active Cases','Daily Deaths']:\n",
    "    \n",
    "    fig = px.area(df, x=\"Day0\", y=col, color=\"Country\",)\n",
    "    fig.update_layout(title=col+' by Country over Time')\n",
    "    fig.show()"
   ]
  },
  {
   "cell_type": "code",
   "execution_count": null,
   "metadata": {},
   "outputs": [],
   "source": [
    "fig = px.scatter(df, x=\"Cases\", y=\"Deaths\", animation_frame=\"Day0\",\n",
    "           size=\"Daily Deaths\", color=\"Country\", hover_name=\"Country\",animation_group=\"Country\",text=\"Country\",\n",
    "                 range_x=[0,100000], range_y=[0,10000],trendline='ols')\n",
    "fig.show()"
   ]
  },
  {
   "cell_type": "code",
   "execution_count": null,
   "metadata": {},
   "outputs": [],
   "source": [
    "fig = px.line(df, x=\"Cases\", y=\"NewCasesLastWeek\", animation_frame=\"Day0\",\n",
    "              color=\"Country\", hover_name=\"Country\",animation_group=\"Country\",text=\"Country\",\n",
    "                 range_x=[0,100000], range_y=[0,100000],log_x=True,log_y=True,)\n",
    "fig.show()\n"
   ]
  },
  {
   "cell_type": "code",
   "execution_count": null,
   "metadata": {},
   "outputs": [],
   "source": []
  },
  {
   "cell_type": "code",
   "execution_count": null,
   "metadata": {},
   "outputs": [],
   "source": []
  }
 ],
 "metadata": {
  "kernelspec": {
   "display_name": "Python 3",
   "language": "python",
   "name": "python3"
  },
  "language_info": {
   "codemirror_mode": {
    "name": "ipython",
    "version": 3
   },
   "file_extension": ".py",
   "mimetype": "text/x-python",
   "name": "python",
   "nbconvert_exporter": "python",
   "pygments_lexer": "ipython3",
   "version": "3.7.6"
  }
 },
 "nbformat": 4,
 "nbformat_minor": 4
}
