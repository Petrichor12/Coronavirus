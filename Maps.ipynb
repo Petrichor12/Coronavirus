{
 "cells": [
  {
   "cell_type": "markdown",
   "metadata": {},
   "source": [
    "## Notes:\n",
    "I find the projection 'natural earth' to be the best 2D projection and 'orthographic' to be the best globe projection. For a full list see here: https://plotly.com/python-api-reference/generated/plotly.express.choropleth.html"
   ]
  },
  {
   "cell_type": "code",
   "execution_count": null,
   "metadata": {},
   "outputs": [],
   "source": [
    "import plotly.express as px\n",
    "import plotly.graph_objects as go\n",
    "import numpy as np\n",
    "import pandas as pd\n",
    "import numpy as np\n",
    "from os import listdir\n",
    "from os.path import isfile, join\n",
    "from datetime import date"
   ]
  },
  {
   "cell_type": "markdown",
   "metadata": {},
   "source": [
    "## Bubble maps"
   ]
  },
  {
   "cell_type": "code",
   "execution_count": null,
   "metadata": {
    "scrolled": true
   },
   "outputs": [],
   "source": [
    "df = pd.read_csv('./Data/world_info.csv')\n",
    "df.columns = ['Unnamed','Country', 'Total Cases', 'New Cases', 'Total Deaths', 'New Deaths', 'Total Recovered', \n",
    "           'Active Cases', 'Critical cases', 'Cases per 1M', 'Deaths per 1M', 'Date of 1st case']\n",
    "\n",
    "df = df.drop(df.columns[[0]], axis=1)                      #drop 'Unnamed' column\n",
    "df.drop(df.tail(1).index,inplace=True)                     #drop 'Total' row"
   ]
  },
  {
   "cell_type": "code",
   "execution_count": null,
   "metadata": {
    "scrolled": false
   },
   "outputs": [],
   "source": [
    "#World map of total cases\n",
    "fig = px.scatter_geo(df, locations=\"Country\",\n",
    "                     hover_name=\"Country\", size=\"Total Cases\",\n",
    "                     projection=\"natural earth\", locationmode='country names')\n",
    "fig.update_geos(showcountries=True)\n",
    "fig.update_layout(title_text = 'Total cases')\n",
    "fig.show()\n"
   ]
  },
  {
   "cell_type": "code",
   "execution_count": null,
   "metadata": {},
   "outputs": [],
   "source": [
    "#World map of total deaths\n",
    "fig = px.scatter_geo(df, locations=\"Country\",\n",
    "                     hover_name=\"Country\", size=\"Total Deaths\",\n",
    "                     projection=\"natural earth\", locationmode='country names')\n",
    "fig.update_geos(showcountries=True)\n",
    "fig.update_layout(title_text = 'Total deaths')\n",
    "fig.show()"
   ]
  },
  {
   "cell_type": "code",
   "execution_count": null,
   "metadata": {
    "scrolled": true
   },
   "outputs": [],
   "source": [
    "#World map of cases per capita\n",
    "fig = px.scatter_geo(df, locations=\"Country\",\n",
    "                     hover_name=\"Country\", size=\"Cases per 1M\",\n",
    "                     projection=\"natural earth\", locationmode='country names')\n",
    "fig.update_geos(showcountries=True)\n",
    "fig.update_layout(title_text = 'Total cases per 1M people')\n",
    "fig.show()\n"
   ]
  },
  {
   "cell_type": "code",
   "execution_count": null,
   "metadata": {
    "scrolled": true
   },
   "outputs": [],
   "source": [
    "#World map of deaths per capita\n",
    "fig = px.scatter_geo(df, locations=\"Country\",\n",
    "                     hover_name=\"Country\", size=\"Deaths per 1M\",\n",
    "                     projection=\"natural earth\", locationmode='country names')\n",
    "fig.update_geos(showcountries=True)\n",
    "fig.update_layout(title_text = 'Total deaths per 1M people')\n",
    "fig.show()\n"
   ]
  },
  {
   "cell_type": "markdown",
   "metadata": {},
   "source": [
    "## Choropleth maps"
   ]
  },
  {
   "cell_type": "code",
   "execution_count": null,
   "metadata": {
    "scrolled": false
   },
   "outputs": [],
   "source": [
    "#World choropleth map of total cases\n",
    "fig = px.choropleth(df, locations=\"Country\",\n",
    "                     hover_name=\"Country\", color=\"Total Cases\",\n",
    "                     projection=\"orthographic\", locationmode='country names')\n",
    "fig.update_geos(showcountries=True)\n",
    "fig.update_layout(title_text = 'Total cases')\n",
    "fig.show()"
   ]
  },
  {
   "cell_type": "code",
   "execution_count": null,
   "metadata": {
    "scrolled": false
   },
   "outputs": [],
   "source": [
    "#World choropleth map of total deaths\n",
    "fig = px.choropleth(df, locations=\"Country\",\n",
    "                     hover_name=\"Country\", color=\"Total Deaths\",\n",
    "                     projection=\"natural earth\", locationmode='country names')\n",
    "fig.update_geos(showcountries=True)\n",
    "fig.update_layout(title_text = 'Total deaths')\n",
    "fig.show()"
   ]
  },
  {
   "cell_type": "code",
   "execution_count": null,
   "metadata": {
    "scrolled": false
   },
   "outputs": [],
   "source": [
    "#World choropleth map of cases per capita\n",
    "fig = px.choropleth(df, locations=\"Country\",\n",
    "                     hover_name=\"Country\", color=\"Cases per 1M\",\n",
    "                     projection=\"natural earth\", locationmode='country names')\n",
    "fig.update_geos(showcountries=True)\n",
    "fig.update_layout(title_text = 'Cases per 1M people')\n",
    "fig.show()"
   ]
  },
  {
   "cell_type": "code",
   "execution_count": null,
   "metadata": {
    "scrolled": false
   },
   "outputs": [],
   "source": [
    "#World choropleth map of deaths per capita\n",
    "df = df.sort_values(by='Deaths per 1M', ascending=0)        #order by deaths per 1M\n",
    "df.drop(df.head(1).index,inplace=True)                       #delete 'San Marino' (outlier)                                          \n",
    "\n",
    "fig = px.choropleth(df, locations=\"Country\",\n",
    "                     hover_name=\"Country\", color=\"Deaths per 1M\",\n",
    "                     projection=\"natural earth\", locationmode='country names')\n",
    "fig.update_geos(showcountries=True)\n",
    "fig.update_layout(title_text = 'Deaths per 1M people')\n",
    "fig.show()"
   ]
  },
  {
   "cell_type": "markdown",
   "metadata": {},
   "source": [
    "## Animations"
   ]
  },
  {
   "cell_type": "code",
   "execution_count": null,
   "metadata": {},
   "outputs": [],
   "source": [
    "df = pd.read_csv('./Data/world_info.csv')\n",
    "\n",
    "path = './Data/Countries'\n",
    "onlyfiles = [f for f in listdir(path) if isfile(join(path, f))]\n",
    "\n",
    "t = pd.date_range(start='1/1/2020', end='30/3/2020')#date.today().strftime(\"%d/%m/%Y\"))\n",
    "dt = pd.DataFrame(np.arange(0,len(t), 1), index=t, columns=['Day0'])\n",
    "\n",
    "countries = []\n",
    "for c in onlyfiles:\n",
    "    df = pd.read_csv(path+'/'+c)\n",
    "    df['Dates'] = df['Dates'].astype(str) + ' 2020'\n",
    "    df['Dates'] = pd.to_datetime(df['Dates'],format='%b %d %Y')\n",
    "    df.set_index(df['Dates'],inplace=True)\n",
    "    df = df.merge(dt,how='right',left_index=True, right_index=True,copy=False)\n",
    "    df.fillna(0,inplace=True)\n",
    "    df['Country'] = str.split(c,'.')[0]\n",
    "    df.reset_index(inplace=True, drop=True)\n",
    "    df = df[['Day0','Country','Dates','Cases','Deaths','Active Cases','Daily Cases', 'Daily Deaths', 'CFR']]\n",
    "    df['New Cases Last Week']=df['Cases'].diff(periods=7)\n",
    "    df['New Deaths Last Week']=df['Deaths'].diff(periods=7)\n",
    "    df.fillna(0,inplace=True)\n",
    "    countries.append(df)\n",
    "\n",
    "df = pd.concat(countries)\n",
    "df = df.sort_values(by='Day0')\n",
    "df.reset_index(inplace=True,drop=True)        \n",
    "\n",
    "# parameters\n",
    "mdeaths = int(df['Deaths'].max())\n",
    "mcases = int(df['Cases'].max())\n",
    "mnewcases = int(df['New Cases Last Week'].max())\n",
    "mnewdeaths = int(df['New Deaths Last Week'].max())\n",
    "#df.to_csv('./Data/Test/timeseries.csv')\n",
    "#df"
   ]
  },
  {
   "cell_type": "code",
   "execution_count": null,
   "metadata": {
    "scrolled": false
   },
   "outputs": [],
   "source": [
    "#Bubble animation map of total cases over time\n",
    "fig = px.scatter_geo(df, locations=\"Country\",\n",
    "                     hover_name=\"Country\", size=\"Cases\",\n",
    "                     projection=\"natural earth\", locationmode='country names',\n",
    "                     animation_frame='Day0', animation_group='Country')\n",
    "fig.update_geos(showcountries=True)\n",
    "fig.update_layout(title_text = 'Total cases over time')\n",
    "fig.show()"
   ]
  },
  {
   "cell_type": "code",
   "execution_count": null,
   "metadata": {},
   "outputs": [],
   "source": [
    "#Bubble animation map of total deaths over time\n",
    "fig = px.scatter_geo(df, locations=\"Country\",\n",
    "                     hover_name=\"Country\", size=\"Deaths\",\n",
    "                     projection=\"natural earth\", locationmode='country names',\n",
    "                     animation_frame='Day0', animation_group='Country')\n",
    "fig.update_geos(showcountries=True)\n",
    "fig.update_layout(title_text = 'Total deaths over time')\n",
    "fig.show()"
   ]
  },
  {
   "cell_type": "code",
   "execution_count": null,
   "metadata": {
    "scrolled": false
   },
   "outputs": [],
   "source": [
    "#Choropleth animation map of cases over time\n",
    "fig = px.choropleth(df, locations=\"Country\",\n",
    "                     hover_name=\"Country\", color=\"Cases\",\n",
    "                     projection=\"natural earth\", locationmode='country names', \n",
    "                     animation_frame='Day0', animation_group='Country')\n",
    "fig.update_geos(showcountries=True)\n",
    "fig.update_layout(title_text = 'Total cases over time')\n",
    "fig.show()"
   ]
  },
  {
   "cell_type": "code",
   "execution_count": null,
   "metadata": {},
   "outputs": [],
   "source": [
    "#Choropleth animation map of deaths over time\n",
    "fig = px.choropleth(df, locations=\"Country\",\n",
    "                     hover_name=\"Country\", color=\"Deaths\",\n",
    "                     projection=\"natural earth\", locationmode='country names', \n",
    "                     animation_frame='Day0', animation_group='Country')\n",
    "fig.update_geos(showcountries=True)\n",
    "fig.update_layout(title_text = 'Total deaths over time')\n",
    "fig.show()"
   ]
  },
  {
   "cell_type": "code",
   "execution_count": null,
   "metadata": {},
   "outputs": [],
   "source": [
    "#Choropleth animation map of daily cases over time\n",
    "fig = px.choropleth(df, locations=\"Country\",\n",
    "                     hover_name=\"Country\", color=\"Daily Cases\",\n",
    "                     projection=\"natural earth\", locationmode='country names', \n",
    "                     animation_frame='Day0', animation_group='Country')\n",
    "fig.update_geos(showcountries=True)\n",
    "fig.update_layout(title_text = 'Daily cases over time')\n",
    "fig.show()"
   ]
  },
  {
   "cell_type": "code",
   "execution_count": null,
   "metadata": {},
   "outputs": [],
   "source": [
    "#Choropleth animation map of daily deaths over time\n",
    "fig = px.choropleth(df, locations=\"Country\",\n",
    "                     hover_name=\"Country\", color=\"Daily Deaths\",\n",
    "                     projection=\"natural earth\", locationmode='country names', \n",
    "                     animation_frame='Day0', animation_group='Country')\n",
    "fig.update_geos(showcountries=True)\n",
    "fig.update_layout(title_text = 'Daily deaths over time')\n",
    "fig.show()"
   ]
  },
  {
   "cell_type": "code",
   "execution_count": null,
   "metadata": {},
   "outputs": [],
   "source": []
  }
 ],
 "metadata": {
  "kernelspec": {
   "display_name": "Python 3",
   "language": "python",
   "name": "python3"
  },
  "language_info": {
   "codemirror_mode": {
    "name": "ipython",
    "version": 3
   },
   "file_extension": ".py",
   "mimetype": "text/x-python",
   "name": "python",
   "nbconvert_exporter": "python",
   "pygments_lexer": "ipython3",
   "version": "3.6.5"
  }
 },
 "nbformat": 4,
 "nbformat_minor": 2
}
