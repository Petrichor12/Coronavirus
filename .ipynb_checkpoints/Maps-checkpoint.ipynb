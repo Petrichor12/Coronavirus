{
 "cells": [
  {
   "cell_type": "code",
   "execution_count": null,
   "metadata": {},
   "outputs": [],
   "source": [
    "import plotly.express as px\n",
    "import pandas as pd"
   ]
  },
  {
   "cell_type": "code",
   "execution_count": null,
   "metadata": {
    "scrolled": false
   },
   "outputs": [],
   "source": [
    "#World map of total cases\n",
    "df = pd.read_csv('./Data/world_info.csv')\n",
    "df.columns = ['Unnamed','Country', 'Total Cases', 'New Cases', 'Total Deaths', 'New Deaths', 'Total Recovered', \n",
    "           'Active Cases', 'Critical cases', 'Cases per 1M', 'Deaths per 1M']\n",
    "\n",
    "df = df.drop(df.columns[[0]], axis=1)                      #drop 'Unnamed' column\n",
    "df.drop(df.tail(1).index,inplace=True)                     #drop 'Total' row\n",
    "\n",
    "fig = px.scatter_geo(df, locations=\"Country\",\n",
    "                     hover_name=\"Country\", size=\"Total Cases\",\n",
    "                     projection=\"natural earth\", locationmode='country names')\n",
    "fig.update_geos(showcountries=True)\n",
    "fig.show()\n"
   ]
  },
  {
   "cell_type": "code",
   "execution_count": null,
   "metadata": {},
   "outputs": [],
   "source": [
    "#World map of total deaths\n",
    "df = pd.read_csv('./Data/world_info.csv')\n",
    "df.columns = ['Unnamed','Country', 'Total Cases', 'New Cases', 'Total Deaths', 'New Deaths', 'Total Recovered', \n",
    "           'Active Cases', 'Critical cases', 'Cases per 1M', 'Deaths per 1M']\n",
    "\n",
    "df = df.drop(df.columns[[0]], axis=1)                      #drop 'Unnamed' column\n",
    "df.drop(df.tail(1).index,inplace=True)                     #drop 'Total' row\n",
    "\n",
    "fig = px.scatter_geo(df, locations=\"Country\",\n",
    "                     hover_name=\"Country\", size=\"Total Deaths\",\n",
    "                     projection=\"natural earth\", locationmode='country names')\n",
    "fig.update_geos(showcountries=True)\n",
    "fig.show()\n"
   ]
  },
  {
   "cell_type": "code",
   "execution_count": null,
   "metadata": {},
   "outputs": [],
   "source": []
  }
 ],
 "metadata": {
  "kernelspec": {
   "display_name": "Python 3",
   "language": "python",
   "name": "python3"
  },
  "language_info": {
   "codemirror_mode": {
    "name": "ipython",
    "version": 3
   },
   "file_extension": ".py",
   "mimetype": "text/x-python",
   "name": "python",
   "nbconvert_exporter": "python",
   "pygments_lexer": "ipython3",
   "version": "3.6.5"
  }
 },
 "nbformat": 4,
 "nbformat_minor": 2
}
