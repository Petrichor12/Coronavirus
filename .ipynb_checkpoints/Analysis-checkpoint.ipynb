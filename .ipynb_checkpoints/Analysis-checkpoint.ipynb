{
 "cells": [
  {
   "cell_type": "code",
   "execution_count": 71,
   "metadata": {},
   "outputs": [],
   "source": [
    "import pandas as pd\n",
    "import numpy as np\n",
    "import matplotlib.pyplot as plt"
   ]
  },
  {
   "cell_type": "markdown",
   "metadata": {},
   "source": [
    "## World Analysis"
   ]
  },
  {
   "cell_type": "code",
   "execution_count": 72,
   "metadata": {},
   "outputs": [
    {
     "data": {
      "text/html": [
       "<div>\n",
       "<style scoped>\n",
       "    .dataframe tbody tr th:only-of-type {\n",
       "        vertical-align: middle;\n",
       "    }\n",
       "\n",
       "    .dataframe tbody tr th {\n",
       "        vertical-align: top;\n",
       "    }\n",
       "\n",
       "    .dataframe thead th {\n",
       "        text-align: right;\n",
       "    }\n",
       "</style>\n",
       "<table border=\"1\" class=\"dataframe\">\n",
       "  <thead>\n",
       "    <tr style=\"text-align: right;\">\n",
       "      <th></th>\n",
       "      <th>Total Cases</th>\n",
       "      <th>New Cases</th>\n",
       "      <th>Total Deaths</th>\n",
       "      <th>New Deaths</th>\n",
       "      <th>Total Recovered</th>\n",
       "      <th>Active Cases</th>\n",
       "      <th>Critical cases</th>\n",
       "      <th>Cases per 1M</th>\n",
       "      <th>Deaths per 1M</th>\n",
       "    </tr>\n",
       "    <tr>\n",
       "      <th>Country</th>\n",
       "      <th></th>\n",
       "      <th></th>\n",
       "      <th></th>\n",
       "      <th></th>\n",
       "      <th></th>\n",
       "      <th></th>\n",
       "      <th></th>\n",
       "      <th></th>\n",
       "      <th></th>\n",
       "    </tr>\n",
       "  </thead>\n",
       "  <tbody>\n",
       "    <tr>\n",
       "      <th>China</th>\n",
       "      <td>81218</td>\n",
       "      <td>+47</td>\n",
       "      <td>3281.0</td>\n",
       "      <td>4.0</td>\n",
       "      <td>73650.0</td>\n",
       "      <td>4287</td>\n",
       "      <td>1399.0</td>\n",
       "      <td>56.0</td>\n",
       "      <td>2.0</td>\n",
       "    </tr>\n",
       "    <tr>\n",
       "      <th>Italy</th>\n",
       "      <td>69176</td>\n",
       "      <td>0</td>\n",
       "      <td>6820.0</td>\n",
       "      <td>0.0</td>\n",
       "      <td>8326.0</td>\n",
       "      <td>54030</td>\n",
       "      <td>3393.0</td>\n",
       "      <td>1144.0</td>\n",
       "      <td>113.0</td>\n",
       "    </tr>\n",
       "    <tr>\n",
       "      <th>USA</th>\n",
       "      <td>59966</td>\n",
       "      <td>+5,110</td>\n",
       "      <td>808.0</td>\n",
       "      <td>28.0</td>\n",
       "      <td>379.0</td>\n",
       "      <td>58779</td>\n",
       "      <td>1307.0</td>\n",
       "      <td>181.0</td>\n",
       "      <td>2.0</td>\n",
       "    </tr>\n",
       "    <tr>\n",
       "      <th>Spain</th>\n",
       "      <td>47610</td>\n",
       "      <td>+5,552</td>\n",
       "      <td>3434.0</td>\n",
       "      <td>443.0</td>\n",
       "      <td>5367.0</td>\n",
       "      <td>38809</td>\n",
       "      <td>2636.0</td>\n",
       "      <td>1018.0</td>\n",
       "      <td>73.0</td>\n",
       "    </tr>\n",
       "    <tr>\n",
       "      <th>Germany</th>\n",
       "      <td>35714</td>\n",
       "      <td>+2,723</td>\n",
       "      <td>181.0</td>\n",
       "      <td>22.0</td>\n",
       "      <td>3540.0</td>\n",
       "      <td>31993</td>\n",
       "      <td>23.0</td>\n",
       "      <td>426.0</td>\n",
       "      <td>2.0</td>\n",
       "    </tr>\n",
       "  </tbody>\n",
       "</table>\n",
       "</div>"
      ],
      "text/plain": [
       "         Total Cases New Cases  Total Deaths  New Deaths  Total Recovered  \\\n",
       "Country                                                                     \n",
       "China          81218       +47        3281.0         4.0          73650.0   \n",
       "Italy          69176         0        6820.0         0.0           8326.0   \n",
       "USA            59966    +5,110         808.0        28.0            379.0   \n",
       "Spain          47610    +5,552        3434.0       443.0           5367.0   \n",
       "Germany        35714    +2,723         181.0        22.0           3540.0   \n",
       "\n",
       "         Active Cases  Critical cases  Cases per 1M  Deaths per 1M  \n",
       "Country                                                             \n",
       "China            4287          1399.0          56.0            2.0  \n",
       "Italy           54030          3393.0        1144.0          113.0  \n",
       "USA             58779          1307.0         181.0            2.0  \n",
       "Spain           38809          2636.0        1018.0           73.0  \n",
       "Germany         31993            23.0         426.0            2.0  "
      ]
     },
     "execution_count": 72,
     "metadata": {},
     "output_type": "execute_result"
    }
   ],
   "source": [
    "df = pd.read_csv('./Data/world_info.csv')\n",
    "\n",
    "df.columns = ['Unnamed','Country', 'Total Cases', 'New Cases', 'Total Deaths', 'New Deaths', 'Total Recovered', \n",
    "           'Active Cases', 'Critical cases', 'Cases per 1M', 'Deaths per 1M']\n",
    "df = df.set_index('Country')\n",
    "df = df.drop(df.columns[[0]], axis=1)\n",
    "\n",
    "df.drop(df.tail(1).index,inplace=True)        #removes total row\n",
    "\n",
    "df.head()"
   ]
  },
  {
   "cell_type": "code",
   "execution_count": 73,
   "metadata": {},
   "outputs": [
    {
     "data": {
      "image/png": "[encoded data removed]",
      "text/plain": [
       "<Figure size 432x288 with 1 Axes>"
      ]
     },
     "metadata": {
      "needs_background": "light"
     },
     "output_type": "display_data"
    }
   ],
   "source": [
    "#Plot cases vs deaths on a scatter plot\n",
    "x = df.loc[:,'Total Cases']\n",
    "y = df.loc[:,'Total Deaths']\n",
    "colors = 'black'\n",
    "area = np.pi*3\n",
    "\n",
    "plt.scatter(x, y, s=area, c=colors, alpha=0.7)\n",
    "plt.title('Cases vs Deaths')\n",
    "plt.xlabel('Cases')\n",
    "plt.ylabel('Deaths')\n",
    "\n",
    "plt.show()"
   ]
  },
  {
   "cell_type": "code",
   "execution_count": 74,
   "metadata": {
    "scrolled": false
   },
   "outputs": [
    {
     "data": {
      "text/plain": [
       "Text(0, 0.5, 'Deaths')"
      ]
     },
     "execution_count": 74,
     "metadata": {},
     "output_type": "execute_result"
    },
    {
     "data": {
      "image/png": "[encoded data removed]",
      "text/plain": [
       "<Figure size 432x288 with 1 Axes>"
      ]
     },
     "metadata": {
      "needs_background": "light"
     },
     "output_type": "display_data"
    }
   ],
   "source": [
    "#same scatter plot on log scale\n",
    "fig = plt.figure()\n",
    "ax = plt.gca()\n",
    "\n",
    "ax.plot(x,y, 'o', c='black', alpha=0.7, markeredgecolor='none')\n",
    "ax.set_yscale('log')\n",
    "ax.set_xscale('log')\n",
    "plt.title('Cases vs Deaths')\n",
    "plt.xlabel('Cases')\n",
    "plt.ylabel('Deaths')"
   ]
  },
  {
   "cell_type": "code",
   "execution_count": 75,
   "metadata": {
    "scrolled": false
   },
   "outputs": [
    {
     "data": {
      "image/png": "[encoded data removed]",
      "text/plain": [
       "<Figure size 1332x648 with 1 Axes>"
      ]
     },
     "metadata": {
      "needs_background": "light"
     },
     "output_type": "display_data"
    }
   ],
   "source": [
    "#bar chart of total cases by country\n",
    "df = df.sort_values(by='Total Cases', ascending=0)\n",
    "objects = df.index[0:20]\n",
    "y_pos = np.arange(len(objects))\n",
    "x = df.iloc[0:20,0]\n",
    "\n",
    "plt.bar(y_pos, x, align='center', alpha=0.7)\n",
    "plt.xticks(y_pos, objects)\n",
    "plt.ylabel('Cases')\n",
    "plt.title('Total cases by country')\n",
    "\n",
    "fig = plt.gcf()\n",
    "fig.set_size_inches(18.5, 9)\n",
    "plt.show()\n"
   ]
  },
  {
   "cell_type": "code",
   "execution_count": 76,
   "metadata": {
    "scrolled": false
   },
   "outputs": [
    {
     "data": {
      "image/png": "[encoded data removed]",
      "text/plain": [
       "<Figure size 1332x648 with 1 Axes>"
      ]
     },
     "metadata": {
      "needs_background": "light"
     },
     "output_type": "display_data"
    }
   ],
   "source": [
    "#bar chart of deaths by country\n",
    "df = df.sort_values(by='Total Deaths', ascending=0)\n",
    "objects = df.index[0:20]\n",
    "y_pos = np.arange(len(objects))\n",
    "x = df.iloc[0:20,2]\n",
    "\n",
    "plt.bar(y_pos, x, align='center', alpha=0.7)\n",
    "plt.xticks(y_pos, objects)\n",
    "plt.ylabel('Total Deaths')\n",
    "plt.title('Total deaths per country')\n",
    "\n",
    "fig = plt.gcf()\n",
    "fig.set_size_inches(18.5, 9)\n",
    "plt.show()\n"
   ]
  },
  {
   "cell_type": "code",
   "execution_count": 77,
   "metadata": {
    "scrolled": false
   },
   "outputs": [
    {
     "data": {
      "image/png": "[encoded data removed]",
      "text/plain": [
       "<Figure size 1332x648 with 1 Axes>"
      ]
     },
     "metadata": {
      "needs_background": "light"
     },
     "output_type": "display_data"
    }
   ],
   "source": [
    "#bar chart of cases per capita\n",
    "df = df.sort_values(by='Cases per 1M', ascending=0)\n",
    "objects = df.index[0:20]\n",
    "y_pos = np.arange(len(objects))\n",
    "x = df.iloc[0:20,7]\n",
    "\n",
    "plt.bar(y_pos, x, align='center', alpha=0.7)\n",
    "plt.xticks(y_pos, objects)\n",
    "plt.ylabel('Cases per 1M people')\n",
    "plt.title('Per capita cases per country')\n",
    "\n",
    "fig = plt.gcf()\n",
    "fig.set_size_inches(18.5, 9)\n",
    "plt.show()\n"
   ]
  },
  {
   "cell_type": "code",
   "execution_count": 78,
   "metadata": {},
   "outputs": [
    {
     "data": {
      "image/png": "[encoded data removed]",
      "text/plain": [
       "<Figure size 1332x648 with 1 Axes>"
      ]
     },
     "metadata": {
      "needs_background": "light"
     },
     "output_type": "display_data"
    }
   ],
   "source": [
    "#bar chart of deaths per capita\n",
    "df = df.sort_values(by='Deaths per 1M', ascending=0)\n",
    "objects = df.index[1:21]\n",
    "y_pos = np.arange(len(objects))\n",
    "x = df.iloc[1:21,8]\n",
    "\n",
    "plt.bar(y_pos, x, align='center', alpha=0.7)\n",
    "plt.xticks(y_pos, objects)\n",
    "plt.ylabel('Deaths per 1M people')\n",
    "plt.title('Per capita deaths per country')\n",
    "\n",
    "fig = plt.gcf()\n",
    "fig.set_size_inches(18.5, 9)\n",
    "plt.show()\n"
   ]
  },
  {
   "cell_type": "code",
   "execution_count": null,
   "metadata": {},
   "outputs": [],
   "source": []
  },
  {
   "cell_type": "markdown",
   "metadata": {},
   "source": [
    "## Cases Analysis"
   ]
  },
  {
   "cell_type": "code",
   "execution_count": 79,
   "metadata": {},
   "outputs": [],
   "source": [
    "df_cases = pd.read_csv('./Data/Stats/Cases.csv')\n",
    "\n",
    "df_cases = df_cases.set_index('Dates')\n",
    "\n",
    "#df_cases.tail()"
   ]
  },
  {
   "cell_type": "code",
   "execution_count": 80,
   "metadata": {
    "scrolled": false
   },
   "outputs": [
    {
     "name": "stderr",
     "output_type": "stream",
     "text": [
      "/opt/anaconda3/lib/python3.7/site-packages/ipykernel_launcher.py:16: UserWarning:\n",
      "\n",
      "Matplotlib is currently using module://ipykernel.pylab.backend_inline, which is a non-GUI backend, so cannot show the figure.\n",
      "\n",
      "/opt/anaconda3/lib/python3.7/site-packages/ipykernel_launcher.py:20: MatplotlibDeprecationWarning:\n",
      "\n",
      "Adding an axes using the same arguments as a previous axes currently reuses the earlier instance.  In a future version, a new instance will always be created and returned.  Meanwhile, this warning can be suppressed, and the future behavior ensured, by passing a unique label to each axes instance.\n",
      "\n"
     ]
    },
    {
     "data": {
      "image/png": "[encoded data removed]",
      "text/plain": [
       "<Figure size 1440x648 with 1 Axes>"
      ]
     },
     "metadata": {
      "needs_background": "light"
     },
     "output_type": "display_data"
    }
   ],
   "source": [
    "#cases over time\n",
    "x = df_cases.index\n",
    "germany = df_cases.loc[:,'Germany']\n",
    "iran = df_cases.loc[:,'Iran']\n",
    "italy = df_cases.loc[:,'Italy']\n",
    "spain = df_cases.loc[:,'Spain']\n",
    "US = df_cases.loc[:,'USA']\n",
    "UK = df_cases.loc[:,'UK']\n",
    "france = df_cases.loc[:,'France']\n",
    "south_korea = df_cases.loc[:,'S. Korea']\n",
    "australia = df_cases.loc[:,'Australia']\n",
    "canada = df_cases.loc[:,'Canada']\n",
    "norway = df_cases.loc[:,'Norway']\n",
    "\n",
    "fig=plt.figure()\n",
    "fig.show()\n",
    "fig.set_size_inches(20, 9)\n",
    "plt.ylabel('Total Cases')\n",
    "plt.title('Cases per country over time')\n",
    "ax=fig.add_subplot(111)\n",
    "\n",
    "ax.plot(x,germany,c='b',marker=\"^\",ls='--',label='Germany',fillstyle='none')\n",
    "ax.plot(x,iran,c='g',marker=(8,2,0),ls='--',label='Iran')\n",
    "ax.plot(x,italy,c='k',marker=\"^\",ls='-',label='Italy')\n",
    "ax.plot(x,spain,c='r',marker=\"v\",ls='-',label='Spain')\n",
    "ax.plot(x,US,c='m',marker=\"o\",ls='--',label='US',fillstyle='none')\n",
    "ax.plot(x,UK,c='k',marker=\"+\",ls=':',label='UK')\n",
    "ax.plot(x,france,c='g',marker=\"o\",ls=':',label='France')\n",
    "ax.plot(x,south_korea,c='b',marker=\"+\",ls=':',label='South Korea')\n",
    "ax.plot(x,australia,c='m',marker=(8,2,0),ls='-',label='Australia')\n",
    "ax.plot(x,canada,c='k',marker=\"v\",ls='--',label='Canada')\n",
    "ax.plot(x,norway,c='r',marker=(8,2,0),ls=':',label='Norway')\n",
    "\n",
    "plt.legend(loc=2)\n",
    "plt.draw()"
   ]
  },
  {
   "cell_type": "code",
   "execution_count": 81,
   "metadata": {},
   "outputs": [
    {
     "data": {
      "text/plain": [
       "<matplotlib.axes._subplots.AxesSubplot at 0x1a2a2d9a50>"
      ]
     },
     "execution_count": 81,
     "metadata": {},
     "output_type": "execute_result"
    },
    {
     "data": {
      "image/png": "[encoded data removed]",
      "text/plain": [
       "<Figure size 1332x648 with 1 Axes>"
      ]
     },
     "metadata": {
      "needs_background": "light"
     },
     "output_type": "display_data"
    }
   ],
   "source": [
    "def index_X_cases(df=df_cases,X_cases=200):\n",
    "    \"\"\"Produces a dataframe that sets the index to 0 at X cases and removes all preceeding observations\"\"\"\n",
    "    \n",
    "    # cycle through columns and reset index at X_cases\n",
    "    country_dfs = []\n",
    "    for c in df.columns:\n",
    "        dfc = df[[c]]\n",
    "        dfc = dfc[dfc[c]>=X_cases]\n",
    "        dfc.reset_index(drop=True,inplace=True)\n",
    "        country_dfs.append(dfc)\n",
    "    return pd.concat(country_dfs,axis=1)\n",
    "    \n",
    "# plot index_X_cases \n",
    "fig,ax = plt.subplots(figsize=(18.5,9))\n",
    "X_cases = 200\n",
    "ax.set_title('Cases starting at {} over time'.format(X_cases))\n",
    "ax.set_xlabel('Days after {} case numbers reached'.format(X_cases))\n",
    "ax.set_ylabel('Cases')\n",
    "\n",
    "index_X_cases(df_cases,X_cases).plot(ax=ax)\n"
   ]
  },
  {
   "cell_type": "code",
   "execution_count": 82,
   "metadata": {},
   "outputs": [
    {
     "data": {
      "text/plain": [
       "<matplotlib.axes._subplots.AxesSubplot at 0x123b5b690>"
      ]
     },
     "execution_count": 82,
     "metadata": {},
     "output_type": "execute_result"
    },
    {
     "data": {
      "image/png": "[encoded data removed]",
      "text/plain": [
       "<Figure size 1080x360 with 1 Axes>"
      ]
     },
     "metadata": {
      "needs_background": "light"
     },
     "output_type": "display_data"
    }
   ],
   "source": [
    "df_deaths = pd.read_csv('./Data/Stats/Deaths.csv')\n",
    "\n",
    "df_deaths = df_deaths.set_index('Dates')\n",
    "\n",
    "#df_cases.tail()\n",
    "\n",
    "fig,ax = plt.subplots(figsize=(15,5))\n",
    "X = 5\n",
    "ax.set_title('Deaths starting at {} over time'.format(X))\n",
    "ax.set_xlabel('Days after {} deaths reached'.format(X))\n",
    "ax.set_ylabel('Deaths')\n",
    "index_X_cases(df_deaths,X).plot(ax=ax)"
   ]
  },
  {
   "cell_type": "markdown",
   "metadata": {},
   "source": [
    "# Fit function through data"
   ]
  },
  {
   "cell_type": "code",
   "execution_count": 83,
   "metadata": {},
   "outputs": [],
   "source": [
    "df_200_cases = index_X_cases()\n",
    "#df_200_cases"
   ]
  },
  {
   "cell_type": "code",
   "execution_count": 84,
   "metadata": {
    "scrolled": false
   },
   "outputs": [],
   "source": [
    "from scipy.optimize import curve_fit\n",
    "\n",
    "\n",
    "def func(x, a, b, c):\n",
    "    return a * np.exp(b * x) + c\n",
    "\n",
    "def projection(df):\n",
    "    country_dfs = []\n",
    "    for c in df.columns:\n",
    "        dfc = df[c]\n",
    "        x = df.index\n",
    "        dfc.dropna(inplace=True)\n",
    "        x_fit = dfc.index\n",
    "        y = dfc\n",
    "        \n",
    "        popt, pcov = curve_fit(func, x_fit, y, p0=[0,0,0], maxfev=5000)\n",
    "        dfc = pd.DataFrame(data = func(x.difference(x_fit), *popt), index=x.difference(x_fit), columns=['{}_fit'.format(c)])\n",
    "\n",
    "        country_dfs.append(dfc)\n",
    "    dfc = pd.concat(country_dfs,axis=1)\n",
    "    return dfc"
   ]
  },
  {
   "cell_type": "code",
   "execution_count": 88,
   "metadata": {},
   "outputs": [
    {
     "data": {
      "text/html": [
       "<div>\n",
       "<style scoped>\n",
       "    .dataframe tbody tr th:only-of-type {\n",
       "        vertical-align: middle;\n",
       "    }\n",
       "\n",
       "    .dataframe tbody tr th {\n",
       "        vertical-align: top;\n",
       "    }\n",
       "\n",
       "    .dataframe thead th {\n",
       "        text-align: right;\n",
       "    }\n",
       "</style>\n",
       "<table border=\"1\" class=\"dataframe\">\n",
       "  <thead>\n",
       "    <tr style=\"text-align: right;\">\n",
       "      <th></th>\n",
       "      <th>days</th>\n",
       "      <th>country</th>\n",
       "      <th>cases</th>\n",
       "    </tr>\n",
       "  </thead>\n",
       "  <tbody>\n",
       "    <tr>\n",
       "      <th>0</th>\n",
       "      <td>0</td>\n",
       "      <td>Germany</td>\n",
       "      <td>203.000000</td>\n",
       "    </tr>\n",
       "    <tr>\n",
       "      <th>1</th>\n",
       "      <td>1</td>\n",
       "      <td>Germany</td>\n",
       "      <td>262.000000</td>\n",
       "    </tr>\n",
       "    <tr>\n",
       "      <th>2</th>\n",
       "      <td>2</td>\n",
       "      <td>Germany</td>\n",
       "      <td>545.000000</td>\n",
       "    </tr>\n",
       "    <tr>\n",
       "      <th>3</th>\n",
       "      <td>3</td>\n",
       "      <td>Germany</td>\n",
       "      <td>670.000000</td>\n",
       "    </tr>\n",
       "    <tr>\n",
       "      <th>4</th>\n",
       "      <td>4</td>\n",
       "      <td>Germany</td>\n",
       "      <td>800.000000</td>\n",
       "    </tr>\n",
       "    <tr>\n",
       "      <th>...</th>\n",
       "      <td>...</td>\n",
       "      <td>...</td>\n",
       "      <td>...</td>\n",
       "    </tr>\n",
       "    <tr>\n",
       "      <th>721</th>\n",
       "      <td>28</td>\n",
       "      <td>Australia_fit</td>\n",
       "      <td>145524.132724</td>\n",
       "    </tr>\n",
       "    <tr>\n",
       "      <th>722</th>\n",
       "      <td>29</td>\n",
       "      <td>Australia_fit</td>\n",
       "      <td>183025.944964</td>\n",
       "    </tr>\n",
       "    <tr>\n",
       "      <th>723</th>\n",
       "      <td>30</td>\n",
       "      <td>Australia_fit</td>\n",
       "      <td>230192.247197</td>\n",
       "    </tr>\n",
       "    <tr>\n",
       "      <th>724</th>\n",
       "      <td>31</td>\n",
       "      <td>Australia_fit</td>\n",
       "      <td>289513.648844</td>\n",
       "    </tr>\n",
       "    <tr>\n",
       "      <th>725</th>\n",
       "      <td>32</td>\n",
       "      <td>Australia_fit</td>\n",
       "      <td>364122.607501</td>\n",
       "    </tr>\n",
       "  </tbody>\n",
       "</table>\n",
       "<p>726 rows × 3 columns</p>\n",
       "</div>"
      ],
      "text/plain": [
       "     days        country          cases\n",
       "0       0        Germany     203.000000\n",
       "1       1        Germany     262.000000\n",
       "2       2        Germany     545.000000\n",
       "3       3        Germany     670.000000\n",
       "4       4        Germany     800.000000\n",
       "..    ...            ...            ...\n",
       "721    28  Australia_fit  145524.132724\n",
       "722    29  Australia_fit  183025.944964\n",
       "723    30  Australia_fit  230192.247197\n",
       "724    31  Australia_fit  289513.648844\n",
       "725    32  Australia_fit  364122.607501\n",
       "\n",
       "[726 rows x 3 columns]"
      ]
     },
     "execution_count": 88,
     "metadata": {},
     "output_type": "execute_result"
    }
   ],
   "source": [
    "df_200_cases_projection = projection(df_200_cases)\n",
    "df_200_cases = index_X_cases()\n",
    "df_200 = pd.concat([df_200_cases,df_200_cases_projection],axis=1)\n",
    "\n",
    "df_200 = df_200.reset_index()\n",
    "df_200_l = df_200.melt(id_vars='index')\n",
    "df_200_l.columns=['days','country','cases']\n",
    "#df_200_l[['country','type']] = df_200_l['country'].str.split('_',expand=True).fillna('act')\n",
    "df_200_l"
   ]
  },
  {
   "cell_type": "code",
   "execution_count": 89,
   "metadata": {},
   "outputs": [
    {
     "data": {
      "application/vnd.plotly.v1+json": {
       "config": {
        "plotlyServerURL": "https://plot.ly"
       },
       "data": [
        {
         "hoverlabel": {
          "namelength": 0
         },
         "hovertemplate": "<b>%{hovertext}</b><br><br>country=Germany<br>days=%{x}<br>cases=%{y}",
         "hovertext": [
          "Germany",
          "Germany",
          "Germany",
          "Germany",
          "Germany",
          "Germany",
          "Germany",
          "Germany",
          "Germany",
          "Germany",
          "Germany",
          "Germany",
          "Germany",
          "Germany",
          "Germany",
          "Germany",
          "Germany",
          "Germany",
          "Germany",
          "Germany",
          "Germany",
          "Germany",
          "Germany",
          "Germany",
          "Germany",
          "Germany",
          "Germany",
          "Germany",
          "Germany",
          "Germany",
          "Germany",
          "Germany",
          "Germany"
         ],
         "legendgroup": "Germany",
         "line": {
          "color": "#636efa",
          "dash": "solid",
          "shape": "spline"
         },
         "mode": "lines",
         "name": "Germany",
         "showlegend": true,
         "type": "scatter",
         "x": [
          0,
          1,
          2,
          3,
          4,
          5,
          6,
          7,
          8,
          9,
          10,
          11,
          12,
          13,
          14,
          15,
          16,
          17,
          18,
          19,
          20,
          21,
          22,
          23,
          24,
          25,
          26,
          27,
          28,
          29,
          30,
          31,
          32
         ],
         "xaxis": "x",
         "y": [
          203,
          262,
          545,
          670,
          800,
          1040,
          1224,
          1565,
          1966,
          2745,
          3675,
          4599,
          5813,
          7272,
          9367,
          12327,
          15320,
          19848,
          22364,
          24873,
          29056,
          32991,
          null,
          null,
          null,
          null,
          null,
          null,
          null,
          null,
          null,
          null,
          null
         ],
         "yaxis": "y"
        },
        {
         "hoverlabel": {
          "namelength": 0
         },
         "hovertemplate": "<b>%{hovertext}</b><br><br>country=Iran<br>days=%{x}<br>cases=%{y}",
         "hovertext": [
          "Iran",
          "Iran",
          "Iran",
          "Iran",
          "Iran",
          "Iran",
          "Iran",
          "Iran",
          "Iran",
          "Iran",
          "Iran",
          "Iran",
          "Iran",
          "Iran",
          "Iran",
          "Iran",
          "Iran",
          "Iran",
          "Iran",
          "Iran",
          "Iran",
          "Iran",
          "Iran",
          "Iran",
          "Iran",
          "Iran",
          "Iran",
          "Iran",
          "Iran",
          "Iran",
          "Iran",
          "Iran",
          "Iran"
         ],
         "legendgroup": "Iran",
         "line": {
          "color": "#EF553B",
          "dash": "solid",
          "shape": "spline"
         },
         "mode": "lines",
         "name": "Iran",
         "showlegend": true,
         "type": "scatter",
         "x": [
          0,
          1,
          2,
          3,
          4,
          5,
          6,
          7,
          8,
          9,
          10,
          11,
          12,
          13,
          14,
          15,
          16,
          17,
          18,
          19,
          20,
          21,
          22,
          23,
          24,
          25,
          26,
          27,
          28,
          29,
          30,
          31,
          32
         ],
         "xaxis": "x",
         "y": [
          245,
          388,
          593,
          978,
          1501,
          2336,
          2922,
          3513,
          4747,
          5823,
          6566,
          7161,
          8042,
          9000,
          10075,
          11364,
          12729,
          13938,
          14991,
          16169,
          17361,
          18407,
          19644,
          20610,
          21638,
          23049,
          24811,
          null,
          null,
          null,
          null,
          null,
          null
         ],
         "yaxis": "y"
        },
        {
         "hoverlabel": {
          "namelength": 0
         },
         "hovertemplate": "<b>%{hovertext}</b><br><br>country=Spain<br>days=%{x}<br>cases=%{y}",
         "hovertext": [
          "Spain",
          "Spain",
          "Spain",
          "Spain",
          "Spain",
          "Spain",
          "Spain",
          "Spain",
          "Spain",
          "Spain",
          "Spain",
          "Spain",
          "Spain",
          "Spain",
          "Spain",
          "Spain",
          "Spain",
          "Spain",
          "Spain",
          "Spain",
          "Spain",
          "Spain",
          "Spain",
          "Spain",
          "Spain",
          "Spain",
          "Spain",
          "Spain",
          "Spain",
          "Spain",
          "Spain",
          "Spain",
          "Spain"
         ],
         "legendgroup": "Spain",
         "line": {
          "color": "#00cc96",
          "dash": "solid",
          "shape": "spline"
         },
         "mode": "lines",
         "name": "Spain",
         "showlegend": true,
         "type": "scatter",
         "x": [
          0,
          1,
          2,
          3,
          4,
          5,
          6,
          7,
          8,
          9,
          10,
          11,
          12,
          13,
          14,
          15,
          16,
          17,
          18,
          19,
          20,
          21,
          22,
          23,
          24,
          25,
          26,
          27,
          28,
          29,
          30,
          31,
          32
         ],
         "xaxis": "x",
         "y": [
          228,
          282,
          401,
          525,
          674,
          1231,
          1695,
          2277,
          3146,
          5232,
          6391,
          7988,
          9942,
          11826,
          14769,
          18077,
          21571,
          25496,
          28768,
          35136,
          42058,
          null,
          null,
          null,
          null,
          null,
          null,
          null,
          null,
          null,
          null,
          null,
          null
         ],
         "yaxis": "y"
        },
        {
         "hoverlabel": {
          "namelength": 0
         },
         "hovertemplate": "<b>%{hovertext}</b><br><br>country=Italy<br>days=%{x}<br>cases=%{y}",
         "hovertext": [
          "Italy",
          "Italy",
          "Italy",
          "Italy",
          "Italy",
          "Italy",
          "Italy",
          "Italy",
          "Italy",
          "Italy",
          "Italy",
          "Italy",
          "Italy",
          "Italy",
          "Italy",
          "Italy",
          "Italy",
          "Italy",
          "Italy",
          "Italy",
          "Italy",
          "Italy",
          "Italy",
          "Italy",
          "Italy",
          "Italy",
          "Italy",
          "Italy",
          "Italy",
          "Italy",
          "Italy",
          "Italy",
          "Italy"
         ],
         "legendgroup": "Italy",
         "line": {
          "color": "#ab63fa",
          "dash": "solid",
          "shape": "spline"
         },
         "mode": "lines",
         "name": "Italy",
         "showlegend": true,
         "type": "scatter",
         "x": [
          0,
          1,
          2,
          3,
          4,
          5,
          6,
          7,
          8,
          9,
          10,
          11,
          12,
          13,
          14,
          15,
          16,
          17,
          18,
          19,
          20,
          21,
          22,
          23,
          24,
          25,
          26,
          27,
          28,
          29,
          30,
          31,
          32
         ],
         "xaxis": "x",
         "y": [
          229,
          323,
          470,
          655,
          889,
          1128,
          1701,
          2036,
          2502,
          3089,
          3858,
          4636,
          5883,
          7375,
          9172,
          10149,
          12462,
          15113,
          17660,
          21157,
          24747,
          27980,
          31506,
          35713,
          41035,
          47021,
          53578,
          59138,
          63927,
          69176,
          null,
          null,
          null
         ],
         "yaxis": "y"
        },
        {
         "hoverlabel": {
          "namelength": 0
         },
         "hovertemplate": "<b>%{hovertext}</b><br><br>country=UK<br>days=%{x}<br>cases=%{y}",
         "hovertext": [
          "UK",
          "UK",
          "UK",
          "UK",
          "UK",
          "UK",
          "UK",
          "UK",
          "UK",
          "UK",
          "UK",
          "UK",
          "UK",
          "UK",
          "UK",
          "UK",
          "UK",
          "UK",
          "UK",
          "UK",
          "UK",
          "UK",
          "UK",
          "UK",
          "UK",
          "UK",
          "UK",
          "UK",
          "UK",
          "UK",
          "UK",
          "UK",
          "UK"
         ],
         "legendgroup": "UK",
         "line": {
          "color": "#FFA15A",
          "dash": "solid",
          "shape": "spline"
         },
         "mode": "lines",
         "name": "UK",
         "showlegend": true,
         "type": "scatter",
         "x": [
          0,
          1,
          2,
          3,
          4,
          5,
          6,
          7,
          8,
          9,
          10,
          11,
          12,
          13,
          14,
          15,
          16,
          17,
          18,
          19,
          20,
          21,
          22,
          23,
          24,
          25,
          26,
          27,
          28,
          29,
          30,
          31,
          32
         ],
         "xaxis": "x",
         "y": [
          209,
          278,
          321,
          383,
          460,
          590,
          798,
          1140,
          1391,
          1543,
          1950,
          2626,
          3269,
          3983,
          5018,
          5683,
          6650,
          8077,
          null,
          null,
          null,
          null,
          null,
          null,
          null,
          null,
          null,
          null,
          null,
          null,
          null,
          null,
          null
         ],
         "yaxis": "y"
        },
        {
         "hoverlabel": {
          "namelength": 0
         },
         "hovertemplate": "<b>%{hovertext}</b><br><br>country=USA<br>days=%{x}<br>cases=%{y}",
         "hovertext": [
          "USA",
          "USA",
          "USA",
          "USA",
          "USA",
          "USA",
          "USA",
          "USA",
          "USA",
          "USA",
          "USA",
          "USA",
          "USA",
          "USA",
          "USA",
          "USA",
          "USA",
          "USA",
          "USA",
          "USA",
          "USA",
          "USA",
          "USA",
          "USA",
          "USA",
          "USA",
          "USA",
          "USA",
          "USA",
          "USA",
          "USA",
          "USA",
          "USA"
         ],
         "legendgroup": "USA",
         "line": {
          "color": "#19d3f3",
          "dash": "solid",
          "shape": "spline"
         },
         "mode": "lines",
         "name": "USA",
         "showlegend": true,
         "type": "scatter",
         "x": [
          0,
          1,
          2,
          3,
          4,
          5,
          6,
          7,
          8,
          9,
          10,
          11,
          12,
          13,
          14,
          15,
          16,
          17,
          18,
          19,
          20,
          21,
          22,
          23,
          24,
          25,
          26,
          27,
          28,
          29,
          30,
          31,
          32
         ],
         "xaxis": "x",
         "y": [
          221,
          319,
          435,
          541,
          704,
          994,
          1301,
          1630,
          2183,
          2770,
          3613,
          4596,
          6344,
          9197,
          13779,
          19367,
          24192,
          33592,
          43781,
          54856,
          null,
          null,
          null,
          null,
          null,
          null,
          null,
          null,
          null,
          null,
          null,
          null,
          null
         ],
         "yaxis": "y"
        },
        {
         "hoverlabel": {
          "namelength": 0
         },
         "hovertemplate": "<b>%{hovertext}</b><br><br>country=France<br>days=%{x}<br>cases=%{y}",
         "hovertext": [
          "France",
          "France",
          "France",
          "France",
          "France",
          "France",
          "France",
          "France",
          "France",
          "France",
          "France",
          "France",
          "France",
          "France",
          "France",
          "France",
          "France",
          "France",
          "France",
          "France",
          "France",
          "France",
          "France",
          "France",
          "France",
          "France",
          "France",
          "France",
          "France",
          "France",
          "France",
          "France",
          "France"
         ],
         "legendgroup": "France",
         "line": {
          "color": "#FF6692",
          "dash": "solid",
          "shape": "spline"
         },
         "mode": "lines",
         "name": "France",
         "showlegend": true,
         "type": "scatter",
         "x": [
          0,
          1,
          2,
          3,
          4,
          5,
          6,
          7,
          8,
          9,
          10,
          11,
          12,
          13,
          14,
          15,
          16,
          17,
          18,
          19,
          20,
          21,
          22,
          23,
          24,
          25,
          26,
          27,
          28,
          29,
          30,
          31,
          32
         ],
         "xaxis": "x",
         "y": [
          212,
          285,
          423,
          653,
          949,
          1209,
          1412,
          1784,
          2281,
          2876,
          3661,
          4499,
          5423,
          6633,
          7730,
          9134,
          10995,
          12612,
          14459,
          16018,
          19856,
          22304,
          null,
          null,
          null,
          null,
          null,
          null,
          null,
          null,
          null,
          null,
          null
         ],
         "yaxis": "y"
        },
        {
         "hoverlabel": {
          "namelength": 0
         },
         "hovertemplate": "<b>%{hovertext}</b><br><br>country=S. Korea<br>days=%{x}<br>cases=%{y}",
         "hovertext": [
          "S. Korea",
          "S. Korea",
          "S. Korea",
          "S. Korea",
          "S. Korea",
          "S. Korea",
          "S. Korea",
          "S. Korea",
          "S. Korea",
          "S. Korea",
          "S. Korea",
          "S. Korea",
          "S. Korea",
          "S. Korea",
          "S. Korea",
          "S. Korea",
          "S. Korea",
          "S. Korea",
          "S. Korea",
          "S. Korea",
          "S. Korea",
          "S. Korea",
          "S. Korea",
          "S. Korea",
          "S. Korea",
          "S. Korea",
          "S. Korea",
          "S. Korea",
          "S. Korea",
          "S. Korea",
          "S. Korea",
          "S. Korea",
          "S. Korea"
         ],
         "legendgroup": "S. Korea",
         "line": {
          "color": "#B6E880",
          "dash": "solid",
          "shape": "spline"
         },
         "mode": "lines",
         "name": "S. Korea",
         "showlegend": true,
         "type": "scatter",
         "x": [
          0,
          1,
          2,
          3,
          4,
          5,
          6,
          7,
          8,
          9,
          10,
          11,
          12,
          13,
          14,
          15,
          16,
          17,
          18,
          19,
          20,
          21,
          22,
          23,
          24,
          25,
          26,
          27,
          28,
          29,
          30,
          31,
          32
         ],
         "xaxis": "x",
         "y": [
          209,
          436,
          602,
          833,
          977,
          1261,
          1766,
          2337,
          3150,
          3736,
          4335,
          5186,
          5621,
          6284,
          6593,
          7041,
          7313,
          7478,
          7513,
          7755,
          7869,
          7979,
          8086,
          8162,
          8236,
          8320,
          8413,
          8565,
          8652,
          8799,
          8897,
          8961,
          9037
         ],
         "yaxis": "y"
        },
        {
         "hoverlabel": {
          "namelength": 0
         },
         "hovertemplate": "<b>%{hovertext}</b><br><br>country=Norway<br>days=%{x}<br>cases=%{y}",
         "hovertext": [
          "Norway",
          "Norway",
          "Norway",
          "Norway",
          "Norway",
          "Norway",
          "Norway",
          "Norway",
          "Norway",
          "Norway",
          "Norway",
          "Norway",
          "Norway",
          "Norway",
          "Norway",
          "Norway",
          "Norway",
          "Norway",
          "Norway",
          "Norway",
          "Norway",
          "Norway",
          "Norway",
          "Norway",
          "Norway",
          "Norway",
          "Norway",
          "Norway",
          "Norway",
          "Norway",
          "Norway",
          "Norway",
          "Norway"
         ],
         "legendgroup": "Norway",
         "line": {
          "color": "#FF97FF",
          "dash": "solid",
          "shape": "spline"
         },
         "mode": "lines",
         "name": "Norway",
         "showlegend": true,
         "type": "scatter",
         "x": [
          0,
          1,
          2,
          3,
          4,
          5,
          6,
          7,
          8,
          9,
          10,
          11,
          12,
          13,
          14,
          15,
          16,
          17,
          18,
          19,
          20,
          21,
          22,
          23,
          24,
          25,
          26,
          27,
          28,
          29,
          30,
          31,
          32
         ],
         "xaxis": "x",
         "y": [
          227,
          400,
          629,
          800,
          996,
          1109,
          1256,
          1348,
          1471,
          1591,
          1790,
          1959,
          2164,
          2385,
          2625,
          2866,
          null,
          null,
          null,
          null,
          null,
          null,
          null,
          null,
          null,
          null,
          null,
          null,
          null,
          null,
          null,
          null,
          null
         ],
         "yaxis": "y"
        },
        {
         "hoverlabel": {
          "namelength": 0
         },
         "hovertemplate": "<b>%{hovertext}</b><br><br>country=Canada<br>days=%{x}<br>cases=%{y}",
         "hovertext": [
          "Canada",
          "Canada",
          "Canada",
          "Canada",
          "Canada",
          "Canada",
          "Canada",
          "Canada",
          "Canada",
          "Canada",
          "Canada",
          "Canada",
          "Canada",
          "Canada",
          "Canada",
          "Canada",
          "Canada",
          "Canada",
          "Canada",
          "Canada",
          "Canada",
          "Canada",
          "Canada",
          "Canada",
          "Canada",
          "Canada",
          "Canada",
          "Canada",
          "Canada",
          "Canada",
          "Canada",
          "Canada",
          "Canada"
         ],
         "legendgroup": "Canada",
         "line": {
          "color": "#FECB52",
          "dash": "solid",
          "shape": "spline"
         },
         "mode": "lines",
         "name": "Canada",
         "showlegend": true,
         "type": "scatter",
         "x": [
          0,
          1,
          2,
          3,
          4,
          5,
          6,
          7,
          8,
          9,
          10,
          11,
          12,
          13,
          14,
          15,
          16,
          17,
          18,
          19,
          20,
          21,
          22,
          23,
          24,
          25,
          26,
          27,
          28,
          29,
          30,
          31,
          32
         ],
         "xaxis": "x",
         "y": [
          252,
          341,
          441,
          598,
          727,
          873,
          1087,
          1328,
          1470,
          2091,
          2792,
          null,
          null,
          null,
          null,
          null,
          null,
          null,
          null,
          null,
          null,
          null,
          null,
          null,
          null,
          null,
          null,
          null,
          null,
          null,
          null,
          null,
          null
         ],
         "yaxis": "y"
        },
        {
         "hoverlabel": {
          "namelength": 0
         },
         "hovertemplate": "<b>%{hovertext}</b><br><br>country=Australia<br>days=%{x}<br>cases=%{y}",
         "hovertext": [
          "Australia",
          "Australia",
          "Australia",
          "Australia",
          "Australia",
          "Australia",
          "Australia",
          "Australia",
          "Australia",
          "Australia",
          "Australia",
          "Australia",
          "Australia",
          "Australia",
          "Australia",
          "Australia",
          "Australia",
          "Australia",
          "Australia",
          "Australia",
          "Australia",
          "Australia",
          "Australia",
          "Australia",
          "Australia",
          "Australia",
          "Australia",
          "Australia",
          "Australia",
          "Australia",
          "Australia",
          "Australia",
          "Australia"
         ],
         "legendgroup": "Australia",
         "line": {
          "color": "#636efa",
          "dash": "solid",
          "shape": "spline"
         },
         "mode": "lines",
         "name": "Australia",
         "showlegend": true,
         "type": "scatter",
         "x": [
          0,
          1,
          2,
          3,
          4,
          5,
          6,
          7,
          8,
          9,
          10,
          11,
          12,
          13,
          14,
          15,
          16,
          17,
          18,
          19,
          20,
          21,
          22,
          23,
          24,
          25,
          26,
          27,
          28,
          29,
          30,
          31,
          32
         ],
         "xaxis": "x",
         "y": [
          248,
          300,
          401,
          455,
          596,
          756,
          928,
          1072,
          1609,
          1887,
          2317,
          null,
          null,
          null,
          null,
          null,
          null,
          null,
          null,
          null,
          null,
          null,
          null,
          null,
          null,
          null,
          null,
          null,
          null,
          null,
          null,
          null,
          null
         ],
         "yaxis": "y"
        },
        {
         "hoverlabel": {
          "namelength": 0
         },
         "hovertemplate": "<b>%{hovertext}</b><br><br>country=Germany_fit<br>days=%{x}<br>cases=%{y}",
         "hovertext": [
          "Germany_fit",
          "Germany_fit",
          "Germany_fit",
          "Germany_fit",
          "Germany_fit",
          "Germany_fit",
          "Germany_fit",
          "Germany_fit",
          "Germany_fit",
          "Germany_fit",
          "Germany_fit",
          "Germany_fit",
          "Germany_fit",
          "Germany_fit",
          "Germany_fit",
          "Germany_fit",
          "Germany_fit",
          "Germany_fit",
          "Germany_fit",
          "Germany_fit",
          "Germany_fit",
          "Germany_fit",
          "Germany_fit",
          "Germany_fit",
          "Germany_fit",
          "Germany_fit",
          "Germany_fit",
          "Germany_fit",
          "Germany_fit",
          "Germany_fit",
          "Germany_fit",
          "Germany_fit",
          "Germany_fit"
         ],
         "legendgroup": "Germany_fit",
         "line": {
          "color": "#EF553B",
          "dash": "solid",
          "shape": "spline"
         },
         "mode": "lines",
         "name": "Germany_fit",
         "showlegend": true,
         "type": "scatter",
         "x": [
          0,
          1,
          2,
          3,
          4,
          5,
          6,
          7,
          8,
          9,
          10,
          11,
          12,
          13,
          14,
          15,
          16,
          17,
          18,
          19,
          20,
          21,
          22,
          23,
          24,
          25,
          26,
          27,
          28,
          29,
          30,
          31,
          32
         ],
         "xaxis": "x",
         "y": [
          null,
          null,
          null,
          null,
          null,
          null,
          null,
          null,
          null,
          null,
          null,
          null,
          null,
          null,
          null,
          null,
          null,
          null,
          null,
          null,
          null,
          null,
          40747.84030607517,
          48055.00672333436,
          56611.78926075787,
          66631.88777935968,
          78365.54746784324,
          92105.80854706824,
          108195.8247515236,
          127037.43336193555,
          149101.19081978398,
          174938.1245564154,
          205193.49453074543
         ],
         "yaxis": "y"
        },
        {
         "hoverlabel": {
          "namelength": 0
         },
         "hovertemplate": "<b>%{hovertext}</b><br><br>country=Iran_fit<br>days=%{x}<br>cases=%{y}",
         "hovertext": [
          "Iran_fit",
          "Iran_fit",
          "Iran_fit",
          "Iran_fit",
          "Iran_fit",
          "Iran_fit",
          "Iran_fit",
          "Iran_fit",
          "Iran_fit",
          "Iran_fit",
          "Iran_fit",
          "Iran_fit",
          "Iran_fit",
          "Iran_fit",
          "Iran_fit",
          "Iran_fit",
          "Iran_fit",
          "Iran_fit",
          "Iran_fit",
          "Iran_fit",
          "Iran_fit",
          "Iran_fit",
          "Iran_fit",
          "Iran_fit",
          "Iran_fit",
          "Iran_fit",
          "Iran_fit",
          "Iran_fit",
          "Iran_fit",
          "Iran_fit",
          "Iran_fit",
          "Iran_fit",
          "Iran_fit"
         ],
         "legendgroup": "Iran_fit",
         "line": {
          "color": "#00cc96",
          "dash": "solid",
          "shape": "spline"
         },
         "mode": "lines",
         "name": "Iran_fit",
         "showlegend": true,
         "type": "scatter",
         "x": [
          0,
          1,
          2,
          3,
          4,
          5,
          6,
          7,
          8,
          9,
          10,
          11,
          12,
          13,
          14,
          15,
          16,
          17,
          18,
          19,
          20,
          21,
          22,
          23,
          24,
          25,
          26,
          27,
          28,
          29,
          30,
          31,
          32
         ],
         "xaxis": "x",
         "y": [
          null,
          null,
          null,
          null,
          null,
          null,
          null,
          null,
          null,
          null,
          null,
          null,
          null,
          null,
          null,
          null,
          null,
          null,
          null,
          null,
          null,
          null,
          null,
          null,
          null,
          null,
          null,
          26474.684478049807,
          28039.39623685686,
          29658.019056903082,
          31332.41040650977,
          33064.49175178428,
          34856.250761619536
         ],
         "yaxis": "y"
        },
        {
         "hoverlabel": {
          "namelength": 0
         },
         "hovertemplate": "<b>%{hovertext}</b><br><br>country=Spain_fit<br>days=%{x}<br>cases=%{y}",
         "hovertext": [
          "Spain_fit",
          "Spain_fit",
          "Spain_fit",
          "Spain_fit",
          "Spain_fit",
          "Spain_fit",
          "Spain_fit",
          "Spain_fit",
          "Spain_fit",
          "Spain_fit",
          "Spain_fit",
          "Spain_fit",
          "Spain_fit",
          "Spain_fit",
          "Spain_fit",
          "Spain_fit",
          "Spain_fit",
          "Spain_fit",
          "Spain_fit",
          "Spain_fit",
          "Spain_fit",
          "Spain_fit",
          "Spain_fit",
          "Spain_fit",
          "Spain_fit",
          "Spain_fit",
          "Spain_fit",
          "Spain_fit",
          "Spain_fit",
          "Spain_fit",
          "Spain_fit",
          "Spain_fit",
          "Spain_fit"
         ],
         "legendgroup": "Spain_fit",
         "line": {
          "color": "#ab63fa",
          "dash": "solid",
          "shape": "spline"
         },
         "mode": "lines",
         "name": "Spain_fit",
         "showlegend": true,
         "type": "scatter",
         "x": [
          0,
          1,
          2,
          3,
          4,
          5,
          6,
          7,
          8,
          9,
          10,
          11,
          12,
          13,
          14,
          15,
          16,
          17,
          18,
          19,
          20,
          21,
          22,
          23,
          24,
          25,
          26,
          27,
          28,
          29,
          30,
          31,
          32
         ],
         "xaxis": "x",
         "y": [
          null,
          null,
          null,
          null,
          null,
          null,
          null,
          null,
          null,
          null,
          null,
          null,
          null,
          null,
          null,
          null,
          null,
          null,
          null,
          null,
          null,
          49717.69792927169,
          58825.52944350203,
          69525.03355246171,
          82094.36885458931,
          96860.30457725638,
          114206.71570601576,
          134584.5627114069,
          158523.6153196238,
          186646.22511384578,
          219683.5050171704,
          258494.33628059292,
          304087.69710707717
         ],
         "yaxis": "y"
        },
        {
         "hoverlabel": {
          "namelength": 0
         },
         "hovertemplate": "<b>%{hovertext}</b><br><br>country=Italy_fit<br>days=%{x}<br>cases=%{y}",
         "hovertext": [
          "Italy_fit",
          "Italy_fit",
          "Italy_fit",
          "Italy_fit",
          "Italy_fit",
          "Italy_fit",
          "Italy_fit",
          "Italy_fit",
          "Italy_fit",
          "Italy_fit",
          "Italy_fit",
          "Italy_fit",
          "Italy_fit",
          "Italy_fit",
          "Italy_fit",
          "Italy_fit",
          "Italy_fit",
          "Italy_fit",
          "Italy_fit",
          "Italy_fit",
          "Italy_fit",
          "Italy_fit",
          "Italy_fit",
          "Italy_fit",
          "Italy_fit",
          "Italy_fit",
          "Italy_fit",
          "Italy_fit",
          "Italy_fit",
          "Italy_fit",
          "Italy_fit",
          "Italy_fit",
          "Italy_fit"
         ],
         "legendgroup": "Italy_fit",
         "line": {
          "color": "#FFA15A",
          "dash": "solid",
          "shape": "spline"
         },
         "mode": "lines",
         "name": "Italy_fit",
         "showlegend": true,
         "type": "scatter",
         "x": [
          0,
          1,
          2,
          3,
          4,
          5,
          6,
          7,
          8,
          9,
          10,
          11,
          12,
          13,
          14,
          15,
          16,
          17,
          18,
          19,
          20,
          21,
          22,
          23,
          24,
          25,
          26,
          27,
          28,
          29,
          30,
          31,
          32
         ],
         "xaxis": "x",
         "y": [
          null,
          null,
          null,
          null,
          null,
          null,
          null,
          null,
          null,
          null,
          null,
          null,
          null,
          null,
          null,
          null,
          null,
          null,
          null,
          null,
          null,
          null,
          null,
          null,
          null,
          null,
          null,
          null,
          null,
          null,
          81806.95518748724,
          91897.02163468489,
          103164.6717087012
         ],
         "yaxis": "y"
        },
        {
         "hoverlabel": {
          "namelength": 0
         },
         "hovertemplate": "<b>%{hovertext}</b><br><br>country=UK_fit<br>days=%{x}<br>cases=%{y}",
         "hovertext": [
          "UK_fit",
          "UK_fit",
          "UK_fit",
          "UK_fit",
          "UK_fit",
          "UK_fit",
          "UK_fit",
          "UK_fit",
          "UK_fit",
          "UK_fit",
          "UK_fit",
          "UK_fit",
          "UK_fit",
          "UK_fit",
          "UK_fit",
          "UK_fit",
          "UK_fit",
          "UK_fit",
          "UK_fit",
          "UK_fit",
          "UK_fit",
          "UK_fit",
          "UK_fit",
          "UK_fit",
          "UK_fit",
          "UK_fit",
          "UK_fit",
          "UK_fit",
          "UK_fit",
          "UK_fit",
          "UK_fit",
          "UK_fit",
          "UK_fit"
         ],
         "legendgroup": "UK_fit",
         "line": {
          "color": "#19d3f3",
          "dash": "solid",
          "shape": "spline"
         },
         "mode": "lines",
         "name": "UK_fit",
         "showlegend": true,
         "type": "scatter",
         "x": [
          0,
          1,
          2,
          3,
          4,
          5,
          6,
          7,
          8,
          9,
          10,
          11,
          12,
          13,
          14,
          15,
          16,
          17,
          18,
          19,
          20,
          21,
          22,
          23,
          24,
          25,
          26,
          27,
          28,
          29,
          30,
          31,
          32
         ],
         "xaxis": "x",
         "y": [
          null,
          null,
          null,
          null,
          null,
          null,
          null,
          null,
          null,
          null,
          null,
          null,
          null,
          null,
          null,
          null,
          null,
          null,
          9769.899161201285,
          11700.001003129159,
          13997.797593579242,
          16733.336753424937,
          19990.01078895546,
          23867.098687889757,
          28482.792617360315,
          33977.800985988666,
          40519.63790860257,
          48307.72983697886,
          57579.495031120154,
          68617.58120240299,
          81758.48196654812,
          97402.79477707592,
          116027.43305007988
         ],
         "yaxis": "y"
        },
        {
         "hoverlabel": {
          "namelength": 0
         },
         "hovertemplate": "<b>%{hovertext}</b><br><br>country=USA_fit<br>days=%{x}<br>cases=%{y}",
         "hovertext": [
          "USA_fit",
          "USA_fit",
          "USA_fit",
          "USA_fit",
          "USA_fit",
          "USA_fit",
          "USA_fit",
          "USA_fit",
          "USA_fit",
          "USA_fit",
          "USA_fit",
          "USA_fit",
          "USA_fit",
          "USA_fit",
          "USA_fit",
          "USA_fit",
          "USA_fit",
          "USA_fit",
          "USA_fit",
          "USA_fit",
          "USA_fit",
          "USA_fit",
          "USA_fit",
          "USA_fit",
          "USA_fit",
          "USA_fit",
          "USA_fit",
          "USA_fit",
          "USA_fit",
          "USA_fit",
          "USA_fit",
          "USA_fit",
          "USA_fit"
         ],
         "legendgroup": "USA_fit",
         "line": {
          "color": "#FF6692",
          "dash": "solid",
          "shape": "spline"
         },
         "mode": "lines",
         "name": "USA_fit",
         "showlegend": true,
         "type": "scatter",
         "x": [
          0,
          1,
          2,
          3,
          4,
          5,
          6,
          7,
          8,
          9,
          10,
          11,
          12,
          13,
          14,
          15,
          16,
          17,
          18,
          19,
          20,
          21,
          22,
          23,
          24,
          25,
          26,
          27,
          28,
          29,
          30,
          31,
          32
         ],
         "xaxis": "x",
         "y": [
          null,
          null,
          null,
          null,
          null,
          null,
          null,
          null,
          null,
          null,
          null,
          null,
          null,
          null,
          null,
          null,
          null,
          null,
          null,
          null,
          74415.50267630829,
          98284.23636185606,
          129759.32232784056,
          171264.70965242916,
          225996.79771807772,
          298170.59628063824,
          393344.3304290784,
          518847.4888073428,
          684345.279808726,
          902582.9654595191,
          1190367.3953907709,
          1569861.3304729883,
          2070290.2341443577
         ],
         "yaxis": "y"
        },
        {
         "hoverlabel": {
          "namelength": 0
         },
         "hovertemplate": "<b>%{hovertext}</b><br><br>country=France_fit<br>days=%{x}<br>cases=%{y}",
         "hovertext": [
          "France_fit",
          "France_fit",
          "France_fit",
          "France_fit",
          "France_fit",
          "France_fit",
          "France_fit",
          "France_fit",
          "France_fit",
          "France_fit",
          "France_fit",
          "France_fit",
          "France_fit",
          "France_fit",
          "France_fit",
          "France_fit",
          "France_fit",
          "France_fit",
          "France_fit",
          "France_fit",
          "France_fit",
          "France_fit",
          "France_fit",
          "France_fit",
          "France_fit",
          "France_fit",
          "France_fit",
          "France_fit",
          "France_fit",
          "France_fit",
          "France_fit",
          "France_fit",
          "France_fit"
         ],
         "legendgroup": "France_fit",
         "line": {
          "color": "#B6E880",
          "dash": "solid",
          "shape": "spline"
         },
         "mode": "lines",
         "name": "France_fit",
         "showlegend": true,
         "type": "scatter",
         "x": [
          0,
          1,
          2,
          3,
          4,
          5,
          6,
          7,
          8,
          9,
          10,
          11,
          12,
          13,
          14,
          15,
          16,
          17,
          18,
          19,
          20,
          21,
          22,
          23,
          24,
          25,
          26,
          27,
          28,
          29,
          30,
          31,
          32
         ],
         "xaxis": "x",
         "y": [
          null,
          null,
          null,
          null,
          null,
          null,
          null,
          null,
          null,
          null,
          null,
          null,
          null,
          null,
          null,
          null,
          null,
          null,
          null,
          null,
          null,
          null,
          26056.555340325165,
          30135.014240598663,
          34819.62351266463,
          40200.47068276971,
          46381.03230200136,
          53480.16385536482,
          61634.385415933306,
          71000.50699841579,
          81758.64409908695,
          94115.68141251456,
          108309.25133419911
         ],
         "yaxis": "y"
        },
        {
         "hoverlabel": {
          "namelength": 0
         },
         "hovertemplate": "<b>%{hovertext}</b><br><br>country=S. Korea_fit<br>days=%{x}<br>cases=%{y}",
         "hovertext": [
          "S. Korea_fit",
          "S. Korea_fit",
          "S. Korea_fit",
          "S. Korea_fit",
          "S. Korea_fit",
          "S. Korea_fit",
          "S. Korea_fit",
          "S. Korea_fit",
          "S. Korea_fit",
          "S. Korea_fit",
          "S. Korea_fit",
          "S. Korea_fit",
          "S. Korea_fit",
          "S. Korea_fit",
          "S. Korea_fit",
          "S. Korea_fit",
          "S. Korea_fit",
          "S. Korea_fit",
          "S. Korea_fit",
          "S. Korea_fit",
          "S. Korea_fit",
          "S. Korea_fit",
          "S. Korea_fit",
          "S. Korea_fit",
          "S. Korea_fit",
          "S. Korea_fit",
          "S. Korea_fit",
          "S. Korea_fit",
          "S. Korea_fit",
          "S. Korea_fit",
          "S. Korea_fit",
          "S. Korea_fit",
          "S. Korea_fit"
         ],
         "legendgroup": "S. Korea_fit",
         "line": {
          "color": "#FF97FF",
          "dash": "solid",
          "shape": "spline"
         },
         "mode": "lines",
         "name": "S. Korea_fit",
         "showlegend": true,
         "type": "scatter",
         "x": [
          0,
          1,
          2,
          3,
          4,
          5,
          6,
          7,
          8,
          9,
          10,
          11,
          12,
          13,
          14,
          15,
          16,
          17,
          18,
          19,
          20,
          21,
          22,
          23,
          24,
          25,
          26,
          27,
          28,
          29,
          30,
          31,
          32
         ],
         "xaxis": "x",
         "y": [
          null,
          null,
          null,
          null,
          null,
          null,
          null,
          null,
          null,
          null,
          null,
          null,
          null,
          null,
          null,
          null,
          null,
          null,
          null,
          null,
          null,
          null,
          null,
          null,
          null,
          null,
          null,
          null,
          null,
          null,
          null,
          null,
          null
         ],
         "yaxis": "y"
        },
        {
         "hoverlabel": {
          "namelength": 0
         },
         "hovertemplate": "<b>%{hovertext}</b><br><br>country=Norway_fit<br>days=%{x}<br>cases=%{y}",
         "hovertext": [
          "Norway_fit",
          "Norway_fit",
          "Norway_fit",
          "Norway_fit",
          "Norway_fit",
          "Norway_fit",
          "Norway_fit",
          "Norway_fit",
          "Norway_fit",
          "Norway_fit",
          "Norway_fit",
          "Norway_fit",
          "Norway_fit",
          "Norway_fit",
          "Norway_fit",
          "Norway_fit",
          "Norway_fit",
          "Norway_fit",
          "Norway_fit",
          "Norway_fit",
          "Norway_fit",
          "Norway_fit",
          "Norway_fit",
          "Norway_fit",
          "Norway_fit",
          "Norway_fit",
          "Norway_fit",
          "Norway_fit",
          "Norway_fit",
          "Norway_fit",
          "Norway_fit",
          "Norway_fit",
          "Norway_fit"
         ],
         "legendgroup": "Norway_fit",
         "line": {
          "color": "#FECB52",
          "dash": "solid",
          "shape": "spline"
         },
         "mode": "lines",
         "name": "Norway_fit",
         "showlegend": true,
         "type": "scatter",
         "x": [
          0,
          1,
          2,
          3,
          4,
          5,
          6,
          7,
          8,
          9,
          10,
          11,
          12,
          13,
          14,
          15,
          16,
          17,
          18,
          19,
          20,
          21,
          22,
          23,
          24,
          25,
          26,
          27,
          28,
          29,
          30,
          31,
          32
         ],
         "xaxis": "x",
         "y": [
          null,
          null,
          null,
          null,
          null,
          null,
          null,
          null,
          null,
          null,
          null,
          null,
          null,
          null,
          null,
          null,
          3000.5136442142793,
          3213.8484156709974,
          3433.6839645792315,
          3660.2183838573837,
          3893.655802748679,
          4134.206570761202,
          4382.087447212976,
          4637.521796552912,
          4900.73978963359,
          5171.978611117289,
          5451.482673202117,
          5739.503835860858,
          6036.301633790941,
          6342.143510280133,
          6657.3050581985735,
          6982.070268334399,
          7316.731785296683
         ],
         "yaxis": "y"
        },
        {
         "hoverlabel": {
          "namelength": 0
         },
         "hovertemplate": "<b>%{hovertext}</b><br><br>country=Canada_fit<br>days=%{x}<br>cases=%{y}",
         "hovertext": [
          "Canada_fit",
          "Canada_fit",
          "Canada_fit",
          "Canada_fit",
          "Canada_fit",
          "Canada_fit",
          "Canada_fit",
          "Canada_fit",
          "Canada_fit",
          "Canada_fit",
          "Canada_fit",
          "Canada_fit",
          "Canada_fit",
          "Canada_fit",
          "Canada_fit",
          "Canada_fit",
          "Canada_fit",
          "Canada_fit",
          "Canada_fit",
          "Canada_fit",
          "Canada_fit",
          "Canada_fit",
          "Canada_fit",
          "Canada_fit",
          "Canada_fit",
          "Canada_fit",
          "Canada_fit",
          "Canada_fit",
          "Canada_fit",
          "Canada_fit",
          "Canada_fit",
          "Canada_fit",
          "Canada_fit"
         ],
         "legendgroup": "Canada_fit",
         "line": {
          "color": "#636efa",
          "dash": "solid",
          "shape": "spline"
         },
         "mode": "lines",
         "name": "Canada_fit",
         "showlegend": true,
         "type": "scatter",
         "x": [
          0,
          1,
          2,
          3,
          4,
          5,
          6,
          7,
          8,
          9,
          10,
          11,
          12,
          13,
          14,
          15,
          16,
          17,
          18,
          19,
          20,
          21,
          22,
          23,
          24,
          25,
          26,
          27,
          28,
          29,
          30,
          31,
          32
         ],
         "xaxis": "x",
         "y": [
          null,
          null,
          null,
          null,
          null,
          null,
          null,
          null,
          null,
          null,
          null,
          3514.626934359452,
          4550.055774227966,
          5903.914530323618,
          7674.131334106705,
          9988.750579494663,
          13015.194707508263,
          16972.37430766871,
          22146.522491333984,
          28911.898878456064,
          37757.860771067746,
          49324.25964201445,
          64447.72325919025,
          84222.17115191802,
          110077.94066083606,
          143885.24696465203,
          188089.4606170758,
          245887.98757065812,
          321461.5458805418,
          420276.56793472165,
          549480.601752077,
          718419.3117543195,
          939312.4750248003
         ],
         "yaxis": "y"
        },
        {
         "hoverlabel": {
          "namelength": 0
         },
         "hovertemplate": "<b>%{hovertext}</b><br><br>country=Australia_fit<br>days=%{x}<br>cases=%{y}",
         "hovertext": [
          "Australia_fit",
          "Australia_fit",
          "Australia_fit",
          "Australia_fit",
          "Australia_fit",
          "Australia_fit",
          "Australia_fit",
          "Australia_fit",
          "Australia_fit",
          "Australia_fit",
          "Australia_fit",
          "Australia_fit",
          "Australia_fit",
          "Australia_fit",
          "Australia_fit",
          "Australia_fit",
          "Australia_fit",
          "Australia_fit",
          "Australia_fit",
          "Australia_fit",
          "Australia_fit",
          "Australia_fit",
          "Australia_fit",
          "Australia_fit",
          "Australia_fit",
          "Australia_fit",
          "Australia_fit",
          "Australia_fit",
          "Australia_fit",
          "Australia_fit",
          "Australia_fit",
          "Australia_fit",
          "Australia_fit"
         ],
         "legendgroup": "Australia_fit",
         "line": {
          "color": "#EF553B",
          "dash": "solid",
          "shape": "spline"
         },
         "mode": "lines",
         "name": "Australia_fit",
         "showlegend": true,
         "type": "scatter",
         "x": [
          0,
          1,
          2,
          3,
          4,
          5,
          6,
          7,
          8,
          9,
          10,
          11,
          12,
          13,
          14,
          15,
          16,
          17,
          18,
          19,
          20,
          21,
          22,
          23,
          24,
          25,
          26,
          27,
          28,
          29,
          30,
          31,
          32
         ],
         "xaxis": "x",
         "y": [
          null,
          null,
          null,
          null,
          null,
          null,
          null,
          null,
          null,
          null,
          null,
          2954.8705663133246,
          3715.5461730837446,
          4672.253420747963,
          5875.511090097003,
          7388.8570194626855,
          9292.203210612814,
          11686.05556985771,
          14696.821107155782,
          18483.4828390602,
          23245.994862742165,
          29235.840901698495,
          36769.31386554481,
          46244.21764903036,
          58160.87310623312,
          73148.53741720942,
          91998.63191773802,
          115706.5329826581,
          145524.13272404257,
          183025.9449638862,
          230192.24719714493,
          289513.6488438506,
          364122.60750095686
         ],
         "yaxis": "y"
        }
       ],
       "layout": {
        "legend": {
         "title": {
          "text": "country"
         },
         "tracegroupgap": 0
        },
        "margin": {
         "t": 60
        },
        "template": {
         "data": {
          "bar": [
           {
            "error_x": {
             "color": "#2a3f5f"
            },
            "error_y": {
             "color": "#2a3f5f"
            },
            "marker": {
             "line": {
              "color": "#E5ECF6",
              "width": 0.5
             }
            },
            "type": "bar"
           }
          ],
          "barpolar": [
           {
            "marker": {
             "line": {
              "color": "#E5ECF6",
              "width": 0.5
             }
            },
            "type": "barpolar"
           }
          ],
          "carpet": [
           {
            "aaxis": {
             "endlinecolor": "#2a3f5f",
             "gridcolor": "white",
             "linecolor": "white",
             "minorgridcolor": "white",
             "startlinecolor": "#2a3f5f"
            },
            "baxis": {
             "endlinecolor": "#2a3f5f",
             "gridcolor": "white",
             "linecolor": "white",
             "minorgridcolor": "white",
             "startlinecolor": "#2a3f5f"
            },
            "type": "carpet"
           }
          ],
          "choropleth": [
           {
            "colorbar": {
             "outlinewidth": 0,
             "ticks": ""
            },
            "type": "choropleth"
           }
          ],
          "contour": [
           {
            "colorbar": {
             "outlinewidth": 0,
             "ticks": ""
            },
            "colorscale": [
             [
              0,
              "#0d0887"
             ],
             [
              0.1111111111111111,
              "#46039f"
             ],
             [
              0.2222222222222222,
              "#7201a8"
             ],
             [
              0.3333333333333333,
              "#9c179e"
             ],
             [
              0.4444444444444444,
              "#bd3786"
             ],
             [
              0.5555555555555556,
              "#d8576b"
             ],
             [
              0.6666666666666666,
              "#ed7953"
             ],
             [
              0.7777777777777778,
              "#fb9f3a"
             ],
             [
              0.8888888888888888,
              "#fdca26"
             ],
             [
              1,
              "#f0f921"
             ]
            ],
            "type": "contour"
           }
          ],
          "contourcarpet": [
           {
            "colorbar": {
             "outlinewidth": 0,
             "ticks": ""
            },
            "type": "contourcarpet"
           }
          ],
          "heatmap": [
           {
            "colorbar": {
             "outlinewidth": 0,
             "ticks": ""
            },
            "colorscale": [
             [
              0,
              "#0d0887"
             ],
             [
              0.1111111111111111,
              "#46039f"
             ],
             [
              0.2222222222222222,
              "#7201a8"
             ],
             [
              0.3333333333333333,
              "#9c179e"
             ],
             [
              0.4444444444444444,
              "#bd3786"
             ],
             [
              0.5555555555555556,
              "#d8576b"
             ],
             [
              0.6666666666666666,
              "#ed7953"
             ],
             [
              0.7777777777777778,
              "#fb9f3a"
             ],
             [
              0.8888888888888888,
              "#fdca26"
             ],
             [
              1,
              "#f0f921"
             ]
            ],
            "type": "heatmap"
           }
          ],
          "heatmapgl": [
           {
            "colorbar": {
             "outlinewidth": 0,
             "ticks": ""
            },
            "colorscale": [
             [
              0,
              "#0d0887"
             ],
             [
              0.1111111111111111,
              "#46039f"
             ],
             [
              0.2222222222222222,
              "#7201a8"
             ],
             [
              0.3333333333333333,
              "#9c179e"
             ],
             [
              0.4444444444444444,
              "#bd3786"
             ],
             [
              0.5555555555555556,
              "#d8576b"
             ],
             [
              0.6666666666666666,
              "#ed7953"
             ],
             [
              0.7777777777777778,
              "#fb9f3a"
             ],
             [
              0.8888888888888888,
              "#fdca26"
             ],
             [
              1,
              "#f0f921"
             ]
            ],
            "type": "heatmapgl"
           }
          ],
          "histogram": [
           {
            "marker": {
             "colorbar": {
              "outlinewidth": 0,
              "ticks": ""
             }
            },
            "type": "histogram"
           }
          ],
          "histogram2d": [
           {
            "colorbar": {
             "outlinewidth": 0,
             "ticks": ""
            },
            "colorscale": [
             [
              0,
              "#0d0887"
             ],
             [
              0.1111111111111111,
              "#46039f"
             ],
             [
              0.2222222222222222,
              "#7201a8"
             ],
             [
              0.3333333333333333,
              "#9c179e"
             ],
             [
              0.4444444444444444,
              "#bd3786"
             ],
             [
              0.5555555555555556,
              "#d8576b"
             ],
             [
              0.6666666666666666,
              "#ed7953"
             ],
             [
              0.7777777777777778,
              "#fb9f3a"
             ],
             [
              0.8888888888888888,
              "#fdca26"
             ],
             [
              1,
              "#f0f921"
             ]
            ],
            "type": "histogram2d"
           }
          ],
          "histogram2dcontour": [
           {
            "colorbar": {
             "outlinewidth": 0,
             "ticks": ""
            },
            "colorscale": [
             [
              0,
              "#0d0887"
             ],
             [
              0.1111111111111111,
              "#46039f"
             ],
             [
              0.2222222222222222,
              "#7201a8"
             ],
             [
              0.3333333333333333,
              "#9c179e"
             ],
             [
              0.4444444444444444,
              "#bd3786"
             ],
             [
              0.5555555555555556,
              "#d8576b"
             ],
             [
              0.6666666666666666,
              "#ed7953"
             ],
             [
              0.7777777777777778,
              "#fb9f3a"
             ],
             [
              0.8888888888888888,
              "#fdca26"
             ],
             [
              1,
              "#f0f921"
             ]
            ],
            "type": "histogram2dcontour"
           }
          ],
          "mesh3d": [
           {
            "colorbar": {
             "outlinewidth": 0,
             "ticks": ""
            },
            "type": "mesh3d"
           }
          ],
          "parcoords": [
           {
            "line": {
             "colorbar": {
              "outlinewidth": 0,
              "ticks": ""
             }
            },
            "type": "parcoords"
           }
          ],
          "pie": [
           {
            "automargin": true,
            "type": "pie"
           }
          ],
          "scatter": [
           {
            "marker": {
             "colorbar": {
              "outlinewidth": 0,
              "ticks": ""
             }
            },
            "type": "scatter"
           }
          ],
          "scatter3d": [
           {
            "line": {
             "colorbar": {
              "outlinewidth": 0,
              "ticks": ""
             }
            },
            "marker": {
             "colorbar": {
              "outlinewidth": 0,
              "ticks": ""
             }
            },
            "type": "scatter3d"
           }
          ],
          "scattercarpet": [
           {
            "marker": {
             "colorbar": {
              "outlinewidth": 0,
              "ticks": ""
             }
            },
            "type": "scattercarpet"
           }
          ],
          "scattergeo": [
           {
            "marker": {
             "colorbar": {
              "outlinewidth": 0,
              "ticks": ""
             }
            },
            "type": "scattergeo"
           }
          ],
          "scattergl": [
           {
            "marker": {
             "colorbar": {
              "outlinewidth": 0,
              "ticks": ""
             }
            },
            "type": "scattergl"
           }
          ],
          "scattermapbox": [
           {
            "marker": {
             "colorbar": {
              "outlinewidth": 0,
              "ticks": ""
             }
            },
            "type": "scattermapbox"
           }
          ],
          "scatterpolar": [
           {
            "marker": {
             "colorbar": {
              "outlinewidth": 0,
              "ticks": ""
             }
            },
            "type": "scatterpolar"
           }
          ],
          "scatterpolargl": [
           {
            "marker": {
             "colorbar": {
              "outlinewidth": 0,
              "ticks": ""
             }
            },
            "type": "scatterpolargl"
           }
          ],
          "scatterternary": [
           {
            "marker": {
             "colorbar": {
              "outlinewidth": 0,
              "ticks": ""
             }
            },
            "type": "scatterternary"
           }
          ],
          "surface": [
           {
            "colorbar": {
             "outlinewidth": 0,
             "ticks": ""
            },
            "colorscale": [
             [
              0,
              "#0d0887"
             ],
             [
              0.1111111111111111,
              "#46039f"
             ],
             [
              0.2222222222222222,
              "#7201a8"
             ],
             [
              0.3333333333333333,
              "#9c179e"
             ],
             [
              0.4444444444444444,
              "#bd3786"
             ],
             [
              0.5555555555555556,
              "#d8576b"
             ],
             [
              0.6666666666666666,
              "#ed7953"
             ],
             [
              0.7777777777777778,
              "#fb9f3a"
             ],
             [
              0.8888888888888888,
              "#fdca26"
             ],
             [
              1,
              "#f0f921"
             ]
            ],
            "type": "surface"
           }
          ],
          "table": [
           {
            "cells": {
             "fill": {
              "color": "#EBF0F8"
             },
             "line": {
              "color": "white"
             }
            },
            "header": {
             "fill": {
              "color": "#C8D4E3"
             },
             "line": {
              "color": "white"
             }
            },
            "type": "table"
           }
          ]
         },
         "layout": {
          "annotationdefaults": {
           "arrowcolor": "#2a3f5f",
           "arrowhead": 0,
           "arrowwidth": 1
          },
          "coloraxis": {
           "colorbar": {
            "outlinewidth": 0,
            "ticks": ""
           }
          },
          "colorscale": {
           "diverging": [
            [
             0,
             "#8e0152"
            ],
            [
             0.1,
             "#c51b7d"
            ],
            [
             0.2,
             "#de77ae"
            ],
            [
             0.3,
             "#f1b6da"
            ],
            [
             0.4,
             "#fde0ef"
            ],
            [
             0.5,
             "#f7f7f7"
            ],
            [
             0.6,
             "#e6f5d0"
            ],
            [
             0.7,
             "#b8e186"
            ],
            [
             0.8,
             "#7fbc41"
            ],
            [
             0.9,
             "#4d9221"
            ],
            [
             1,
             "#276419"
            ]
           ],
           "sequential": [
            [
             0,
             "#0d0887"
            ],
            [
             0.1111111111111111,
             "#46039f"
            ],
            [
             0.2222222222222222,
             "#7201a8"
            ],
            [
             0.3333333333333333,
             "#9c179e"
            ],
            [
             0.4444444444444444,
             "#bd3786"
            ],
            [
             0.5555555555555556,
             "#d8576b"
            ],
            [
             0.6666666666666666,
             "#ed7953"
            ],
            [
             0.7777777777777778,
             "#fb9f3a"
            ],
            [
             0.8888888888888888,
             "#fdca26"
            ],
            [
             1,
             "#f0f921"
            ]
           ],
           "sequentialminus": [
            [
             0,
             "#0d0887"
            ],
            [
             0.1111111111111111,
             "#46039f"
            ],
            [
             0.2222222222222222,
             "#7201a8"
            ],
            [
             0.3333333333333333,
             "#9c179e"
            ],
            [
             0.4444444444444444,
             "#bd3786"
            ],
            [
             0.5555555555555556,
             "#d8576b"
            ],
            [
             0.6666666666666666,
             "#ed7953"
            ],
            [
             0.7777777777777778,
             "#fb9f3a"
            ],
            [
             0.8888888888888888,
             "#fdca26"
            ],
            [
             1,
             "#f0f921"
            ]
           ]
          },
          "colorway": [
           "#636efa",
           "#EF553B",
           "#00cc96",
           "#ab63fa",
           "#FFA15A",
           "#19d3f3",
           "#FF6692",
           "#B6E880",
           "#FF97FF",
           "#FECB52"
          ],
          "font": {
           "color": "#2a3f5f"
          },
          "geo": {
           "bgcolor": "white",
           "lakecolor": "white",
           "landcolor": "#E5ECF6",
           "showlakes": true,
           "showland": true,
           "subunitcolor": "white"
          },
          "hoverlabel": {
           "align": "left"
          },
          "hovermode": "closest",
          "mapbox": {
           "style": "light"
          },
          "paper_bgcolor": "white",
          "plot_bgcolor": "#E5ECF6",
          "polar": {
           "angularaxis": {
            "gridcolor": "white",
            "linecolor": "white",
            "ticks": ""
           },
           "bgcolor": "#E5ECF6",
           "radialaxis": {
            "gridcolor": "white",
            "linecolor": "white",
            "ticks": ""
           }
          },
          "scene": {
           "xaxis": {
            "backgroundcolor": "#E5ECF6",
            "gridcolor": "white",
            "gridwidth": 2,
            "linecolor": "white",
            "showbackground": true,
            "ticks": "",
            "zerolinecolor": "white"
           },
           "yaxis": {
            "backgroundcolor": "#E5ECF6",
            "gridcolor": "white",
            "gridwidth": 2,
            "linecolor": "white",
            "showbackground": true,
            "ticks": "",
            "zerolinecolor": "white"
           },
           "zaxis": {
            "backgroundcolor": "#E5ECF6",
            "gridcolor": "white",
            "gridwidth": 2,
            "linecolor": "white",
            "showbackground": true,
            "ticks": "",
            "zerolinecolor": "white"
           }
          },
          "shapedefaults": {
           "line": {
            "color": "#2a3f5f"
           }
          },
          "ternary": {
           "aaxis": {
            "gridcolor": "white",
            "linecolor": "white",
            "ticks": ""
           },
           "baxis": {
            "gridcolor": "white",
            "linecolor": "white",
            "ticks": ""
           },
           "bgcolor": "#E5ECF6",
           "caxis": {
            "gridcolor": "white",
            "linecolor": "white",
            "ticks": ""
           }
          },
          "title": {
           "x": 0.05
          },
          "xaxis": {
           "automargin": true,
           "gridcolor": "white",
           "linecolor": "white",
           "ticks": "",
           "title": {
            "standoff": 15
           },
           "zerolinecolor": "white",
           "zerolinewidth": 2
          },
          "yaxis": {
           "automargin": true,
           "gridcolor": "white",
           "linecolor": "white",
           "ticks": "",
           "title": {
            "standoff": 15
           },
           "zerolinecolor": "white",
           "zerolinewidth": 2
          }
         }
        },
        "xaxis": {
         "anchor": "y",
         "domain": [
          0,
          1
         ],
         "title": {
          "text": "days"
         }
        },
        "yaxis": {
         "anchor": "x",
         "domain": [
          0,
          1
         ],
         "title": {
          "text": "cases"
         },
         "type": "log"
        }
       }
      },
      "text/html": [
       "<div>\n",
       "        \n",
       "        \n",
       "            <div id=\"fe344760-23ae-45c0-b24d-66b3bf25d4ca\" class=\"plotly-graph-div\" style=\"height:525px; width:100%;\"></div>\n",
       "            <script type=\"text/javascript\">\n",
       "                require([\"plotly\"], function(Plotly) {\n",
       "                    window.PLOTLYENV=window.PLOTLYENV || {};\n",
       "                    \n",
       "                if (document.getElementById(\"fe344760-23ae-45c0-b24d-66b3bf25d4ca\")) {\n",
       "                    Plotly.newPlot(\n",
       "                        'fe344760-23ae-45c0-b24d-66b3bf25d4ca',\n",
       "                        [{\"hoverlabel\": {\"namelength\": 0}, \"hovertemplate\": \"<b>%{hovertext}</b><br><br>country=Germany<br>days=%{x}<br>cases=%{y}\", \"hovertext\": [\"Germany\", \"Germany\", \"Germany\", \"Germany\", \"Germany\", \"Germany\", \"Germany\", \"Germany\", \"Germany\", \"Germany\", \"Germany\", \"Germany\", \"Germany\", \"Germany\", \"Germany\", \"Germany\", \"Germany\", \"Germany\", \"Germany\", \"Germany\", \"Germany\", \"Germany\", \"Germany\", \"Germany\", \"Germany\", \"Germany\", \"Germany\", \"Germany\", \"Germany\", \"Germany\", \"Germany\", \"Germany\", \"Germany\"], \"legendgroup\": \"Germany\", \"line\": {\"color\": \"#636efa\", \"dash\": \"solid\", \"shape\": \"spline\"}, \"mode\": \"lines\", \"name\": \"Germany\", \"showlegend\": true, \"type\": \"scatter\", \"x\": [0, 1, 2, 3, 4, 5, 6, 7, 8, 9, 10, 11, 12, 13, 14, 15, 16, 17, 18, 19, 20, 21, 22, 23, 24, 25, 26, 27, 28, 29, 30, 31, 32], \"xaxis\": \"x\", \"y\": [203.0, 262.0, 545.0, 670.0, 800.0, 1040.0, 1224.0, 1565.0, 1966.0, 2745.0, 3675.0, 4599.0, 5813.0, 7272.0, 9367.0, 12327.0, 15320.0, 19848.0, 22364.0, 24873.0, 29056.0, 32991.0, null, null, null, null, null, null, null, null, null, null, null], \"yaxis\": \"y\"}, {\"hoverlabel\": {\"namelength\": 0}, \"hovertemplate\": \"<b>%{hovertext}</b><br><br>country=Iran<br>days=%{x}<br>cases=%{y}\", \"hovertext\": [\"Iran\", \"Iran\", \"Iran\", \"Iran\", \"Iran\", \"Iran\", \"Iran\", \"Iran\", \"Iran\", \"Iran\", \"Iran\", \"Iran\", \"Iran\", \"Iran\", \"Iran\", \"Iran\", \"Iran\", \"Iran\", \"Iran\", \"Iran\", \"Iran\", \"Iran\", \"Iran\", \"Iran\", \"Iran\", \"Iran\", \"Iran\", \"Iran\", \"Iran\", \"Iran\", \"Iran\", \"Iran\", \"Iran\"], \"legendgroup\": \"Iran\", \"line\": {\"color\": \"#EF553B\", \"dash\": \"solid\", \"shape\": \"spline\"}, \"mode\": \"lines\", \"name\": \"Iran\", \"showlegend\": true, \"type\": \"scatter\", \"x\": [0, 1, 2, 3, 4, 5, 6, 7, 8, 9, 10, 11, 12, 13, 14, 15, 16, 17, 18, 19, 20, 21, 22, 23, 24, 25, 26, 27, 28, 29, 30, 31, 32], \"xaxis\": \"x\", \"y\": [245.0, 388.0, 593.0, 978.0, 1501.0, 2336.0, 2922.0, 3513.0, 4747.0, 5823.0, 6566.0, 7161.0, 8042.0, 9000.0, 10075.0, 11364.0, 12729.0, 13938.0, 14991.0, 16169.0, 17361.0, 18407.0, 19644.0, 20610.0, 21638.0, 23049.0, 24811.0, null, null, null, null, null, null], \"yaxis\": \"y\"}, {\"hoverlabel\": {\"namelength\": 0}, \"hovertemplate\": \"<b>%{hovertext}</b><br><br>country=Spain<br>days=%{x}<br>cases=%{y}\", \"hovertext\": [\"Spain\", \"Spain\", \"Spain\", \"Spain\", \"Spain\", \"Spain\", \"Spain\", \"Spain\", \"Spain\", \"Spain\", \"Spain\", \"Spain\", \"Spain\", \"Spain\", \"Spain\", \"Spain\", \"Spain\", \"Spain\", \"Spain\", \"Spain\", \"Spain\", \"Spain\", \"Spain\", \"Spain\", \"Spain\", \"Spain\", \"Spain\", \"Spain\", \"Spain\", \"Spain\", \"Spain\", \"Spain\", \"Spain\"], \"legendgroup\": \"Spain\", \"line\": {\"color\": \"#00cc96\", \"dash\": \"solid\", \"shape\": \"spline\"}, \"mode\": \"lines\", \"name\": \"Spain\", \"showlegend\": true, \"type\": \"scatter\", \"x\": [0, 1, 2, 3, 4, 5, 6, 7, 8, 9, 10, 11, 12, 13, 14, 15, 16, 17, 18, 19, 20, 21, 22, 23, 24, 25, 26, 27, 28, 29, 30, 31, 32], \"xaxis\": \"x\", \"y\": [228.0, 282.0, 401.0, 525.0, 674.0, 1231.0, 1695.0, 2277.0, 3146.0, 5232.0, 6391.0, 7988.0, 9942.0, 11826.0, 14769.0, 18077.0, 21571.0, 25496.0, 28768.0, 35136.0, 42058.0, null, null, null, null, null, null, null, null, null, null, null, null], \"yaxis\": \"y\"}, {\"hoverlabel\": {\"namelength\": 0}, \"hovertemplate\": \"<b>%{hovertext}</b><br><br>country=Italy<br>days=%{x}<br>cases=%{y}\", \"hovertext\": [\"Italy\", \"Italy\", \"Italy\", \"Italy\", \"Italy\", \"Italy\", \"Italy\", \"Italy\", \"Italy\", \"Italy\", \"Italy\", \"Italy\", \"Italy\", \"Italy\", \"Italy\", \"Italy\", \"Italy\", \"Italy\", \"Italy\", \"Italy\", \"Italy\", \"Italy\", \"Italy\", \"Italy\", \"Italy\", \"Italy\", \"Italy\", \"Italy\", \"Italy\", \"Italy\", \"Italy\", \"Italy\", \"Italy\"], \"legendgroup\": \"Italy\", \"line\": {\"color\": \"#ab63fa\", \"dash\": \"solid\", \"shape\": \"spline\"}, \"mode\": \"lines\", \"name\": \"Italy\", \"showlegend\": true, \"type\": \"scatter\", \"x\": [0, 1, 2, 3, 4, 5, 6, 7, 8, 9, 10, 11, 12, 13, 14, 15, 16, 17, 18, 19, 20, 21, 22, 23, 24, 25, 26, 27, 28, 29, 30, 31, 32], \"xaxis\": \"x\", \"y\": [229.0, 323.0, 470.0, 655.0, 889.0, 1128.0, 1701.0, 2036.0, 2502.0, 3089.0, 3858.0, 4636.0, 5883.0, 7375.0, 9172.0, 10149.0, 12462.0, 15113.0, 17660.0, 21157.0, 24747.0, 27980.0, 31506.0, 35713.0, 41035.0, 47021.0, 53578.0, 59138.0, 63927.0, 69176.0, null, null, null], \"yaxis\": \"y\"}, {\"hoverlabel\": {\"namelength\": 0}, \"hovertemplate\": \"<b>%{hovertext}</b><br><br>country=UK<br>days=%{x}<br>cases=%{y}\", \"hovertext\": [\"UK\", \"UK\", \"UK\", \"UK\", \"UK\", \"UK\", \"UK\", \"UK\", \"UK\", \"UK\", \"UK\", \"UK\", \"UK\", \"UK\", \"UK\", \"UK\", \"UK\", \"UK\", \"UK\", \"UK\", \"UK\", \"UK\", \"UK\", \"UK\", \"UK\", \"UK\", \"UK\", \"UK\", \"UK\", \"UK\", \"UK\", \"UK\", \"UK\"], \"legendgroup\": \"UK\", \"line\": {\"color\": \"#FFA15A\", \"dash\": \"solid\", \"shape\": \"spline\"}, \"mode\": \"lines\", \"name\": \"UK\", \"showlegend\": true, \"type\": \"scatter\", \"x\": [0, 1, 2, 3, 4, 5, 6, 7, 8, 9, 10, 11, 12, 13, 14, 15, 16, 17, 18, 19, 20, 21, 22, 23, 24, 25, 26, 27, 28, 29, 30, 31, 32], \"xaxis\": \"x\", \"y\": [209.0, 278.0, 321.0, 383.0, 460.0, 590.0, 798.0, 1140.0, 1391.0, 1543.0, 1950.0, 2626.0, 3269.0, 3983.0, 5018.0, 5683.0, 6650.0, 8077.0, null, null, null, null, null, null, null, null, null, null, null, null, null, null, null], \"yaxis\": \"y\"}, {\"hoverlabel\": {\"namelength\": 0}, \"hovertemplate\": \"<b>%{hovertext}</b><br><br>country=USA<br>days=%{x}<br>cases=%{y}\", \"hovertext\": [\"USA\", \"USA\", \"USA\", \"USA\", \"USA\", \"USA\", \"USA\", \"USA\", \"USA\", \"USA\", \"USA\", \"USA\", \"USA\", \"USA\", \"USA\", \"USA\", \"USA\", \"USA\", \"USA\", \"USA\", \"USA\", \"USA\", \"USA\", \"USA\", \"USA\", \"USA\", \"USA\", \"USA\", \"USA\", \"USA\", \"USA\", \"USA\", \"USA\"], \"legendgroup\": \"USA\", \"line\": {\"color\": \"#19d3f3\", \"dash\": \"solid\", \"shape\": \"spline\"}, \"mode\": \"lines\", \"name\": \"USA\", \"showlegend\": true, \"type\": \"scatter\", \"x\": [0, 1, 2, 3, 4, 5, 6, 7, 8, 9, 10, 11, 12, 13, 14, 15, 16, 17, 18, 19, 20, 21, 22, 23, 24, 25, 26, 27, 28, 29, 30, 31, 32], \"xaxis\": \"x\", \"y\": [221.0, 319.0, 435.0, 541.0, 704.0, 994.0, 1301.0, 1630.0, 2183.0, 2770.0, 3613.0, 4596.0, 6344.0, 9197.0, 13779.0, 19367.0, 24192.0, 33592.0, 43781.0, 54856.0, null, null, null, null, null, null, null, null, null, null, null, null, null], \"yaxis\": \"y\"}, {\"hoverlabel\": {\"namelength\": 0}, \"hovertemplate\": \"<b>%{hovertext}</b><br><br>country=France<br>days=%{x}<br>cases=%{y}\", \"hovertext\": [\"France\", \"France\", \"France\", \"France\", \"France\", \"France\", \"France\", \"France\", \"France\", \"France\", \"France\", \"France\", \"France\", \"France\", \"France\", \"France\", \"France\", \"France\", \"France\", \"France\", \"France\", \"France\", \"France\", \"France\", \"France\", \"France\", \"France\", \"France\", \"France\", \"France\", \"France\", \"France\", \"France\"], \"legendgroup\": \"France\", \"line\": {\"color\": \"#FF6692\", \"dash\": \"solid\", \"shape\": \"spline\"}, \"mode\": \"lines\", \"name\": \"France\", \"showlegend\": true, \"type\": \"scatter\", \"x\": [0, 1, 2, 3, 4, 5, 6, 7, 8, 9, 10, 11, 12, 13, 14, 15, 16, 17, 18, 19, 20, 21, 22, 23, 24, 25, 26, 27, 28, 29, 30, 31, 32], \"xaxis\": \"x\", \"y\": [212.0, 285.0, 423.0, 653.0, 949.0, 1209.0, 1412.0, 1784.0, 2281.0, 2876.0, 3661.0, 4499.0, 5423.0, 6633.0, 7730.0, 9134.0, 10995.0, 12612.0, 14459.0, 16018.0, 19856.0, 22304.0, null, null, null, null, null, null, null, null, null, null, null], \"yaxis\": \"y\"}, {\"hoverlabel\": {\"namelength\": 0}, \"hovertemplate\": \"<b>%{hovertext}</b><br><br>country=S. Korea<br>days=%{x}<br>cases=%{y}\", \"hovertext\": [\"S. Korea\", \"S. Korea\", \"S. Korea\", \"S. Korea\", \"S. Korea\", \"S. Korea\", \"S. Korea\", \"S. Korea\", \"S. Korea\", \"S. Korea\", \"S. Korea\", \"S. Korea\", \"S. Korea\", \"S. Korea\", \"S. Korea\", \"S. Korea\", \"S. Korea\", \"S. Korea\", \"S. Korea\", \"S. Korea\", \"S. Korea\", \"S. Korea\", \"S. Korea\", \"S. Korea\", \"S. Korea\", \"S. Korea\", \"S. Korea\", \"S. Korea\", \"S. Korea\", \"S. Korea\", \"S. Korea\", \"S. Korea\", \"S. Korea\"], \"legendgroup\": \"S. Korea\", \"line\": {\"color\": \"#B6E880\", \"dash\": \"solid\", \"shape\": \"spline\"}, \"mode\": \"lines\", \"name\": \"S. Korea\", \"showlegend\": true, \"type\": \"scatter\", \"x\": [0, 1, 2, 3, 4, 5, 6, 7, 8, 9, 10, 11, 12, 13, 14, 15, 16, 17, 18, 19, 20, 21, 22, 23, 24, 25, 26, 27, 28, 29, 30, 31, 32], \"xaxis\": \"x\", \"y\": [209.0, 436.0, 602.0, 833.0, 977.0, 1261.0, 1766.0, 2337.0, 3150.0, 3736.0, 4335.0, 5186.0, 5621.0, 6284.0, 6593.0, 7041.0, 7313.0, 7478.0, 7513.0, 7755.0, 7869.0, 7979.0, 8086.0, 8162.0, 8236.0, 8320.0, 8413.0, 8565.0, 8652.0, 8799.0, 8897.0, 8961.0, 9037.0], \"yaxis\": \"y\"}, {\"hoverlabel\": {\"namelength\": 0}, \"hovertemplate\": \"<b>%{hovertext}</b><br><br>country=Norway<br>days=%{x}<br>cases=%{y}\", \"hovertext\": [\"Norway\", \"Norway\", \"Norway\", \"Norway\", \"Norway\", \"Norway\", \"Norway\", \"Norway\", \"Norway\", \"Norway\", \"Norway\", \"Norway\", \"Norway\", \"Norway\", \"Norway\", \"Norway\", \"Norway\", \"Norway\", \"Norway\", \"Norway\", \"Norway\", \"Norway\", \"Norway\", \"Norway\", \"Norway\", \"Norway\", \"Norway\", \"Norway\", \"Norway\", \"Norway\", \"Norway\", \"Norway\", \"Norway\"], \"legendgroup\": \"Norway\", \"line\": {\"color\": \"#FF97FF\", \"dash\": \"solid\", \"shape\": \"spline\"}, \"mode\": \"lines\", \"name\": \"Norway\", \"showlegend\": true, \"type\": \"scatter\", \"x\": [0, 1, 2, 3, 4, 5, 6, 7, 8, 9, 10, 11, 12, 13, 14, 15, 16, 17, 18, 19, 20, 21, 22, 23, 24, 25, 26, 27, 28, 29, 30, 31, 32], \"xaxis\": \"x\", \"y\": [227.0, 400.0, 629.0, 800.0, 996.0, 1109.0, 1256.0, 1348.0, 1471.0, 1591.0, 1790.0, 1959.0, 2164.0, 2385.0, 2625.0, 2866.0, null, null, null, null, null, null, null, null, null, null, null, null, null, null, null, null, null], \"yaxis\": \"y\"}, {\"hoverlabel\": {\"namelength\": 0}, \"hovertemplate\": \"<b>%{hovertext}</b><br><br>country=Canada<br>days=%{x}<br>cases=%{y}\", \"hovertext\": [\"Canada\", \"Canada\", \"Canada\", \"Canada\", \"Canada\", \"Canada\", \"Canada\", \"Canada\", \"Canada\", \"Canada\", \"Canada\", \"Canada\", \"Canada\", \"Canada\", \"Canada\", \"Canada\", \"Canada\", \"Canada\", \"Canada\", \"Canada\", \"Canada\", \"Canada\", \"Canada\", \"Canada\", \"Canada\", \"Canada\", \"Canada\", \"Canada\", \"Canada\", \"Canada\", \"Canada\", \"Canada\", \"Canada\"], \"legendgroup\": \"Canada\", \"line\": {\"color\": \"#FECB52\", \"dash\": \"solid\", \"shape\": \"spline\"}, \"mode\": \"lines\", \"name\": \"Canada\", \"showlegend\": true, \"type\": \"scatter\", \"x\": [0, 1, 2, 3, 4, 5, 6, 7, 8, 9, 10, 11, 12, 13, 14, 15, 16, 17, 18, 19, 20, 21, 22, 23, 24, 25, 26, 27, 28, 29, 30, 31, 32], \"xaxis\": \"x\", \"y\": [252.0, 341.0, 441.0, 598.0, 727.0, 873.0, 1087.0, 1328.0, 1470.0, 2091.0, 2792.0, null, null, null, null, null, null, null, null, null, null, null, null, null, null, null, null, null, null, null, null, null, null], \"yaxis\": \"y\"}, {\"hoverlabel\": {\"namelength\": 0}, \"hovertemplate\": \"<b>%{hovertext}</b><br><br>country=Australia<br>days=%{x}<br>cases=%{y}\", \"hovertext\": [\"Australia\", \"Australia\", \"Australia\", \"Australia\", \"Australia\", \"Australia\", \"Australia\", \"Australia\", \"Australia\", \"Australia\", \"Australia\", \"Australia\", \"Australia\", \"Australia\", \"Australia\", \"Australia\", \"Australia\", \"Australia\", \"Australia\", \"Australia\", \"Australia\", \"Australia\", \"Australia\", \"Australia\", \"Australia\", \"Australia\", \"Australia\", \"Australia\", \"Australia\", \"Australia\", \"Australia\", \"Australia\", \"Australia\"], \"legendgroup\": \"Australia\", \"line\": {\"color\": \"#636efa\", \"dash\": \"solid\", \"shape\": \"spline\"}, \"mode\": \"lines\", \"name\": \"Australia\", \"showlegend\": true, \"type\": \"scatter\", \"x\": [0, 1, 2, 3, 4, 5, 6, 7, 8, 9, 10, 11, 12, 13, 14, 15, 16, 17, 18, 19, 20, 21, 22, 23, 24, 25, 26, 27, 28, 29, 30, 31, 32], \"xaxis\": \"x\", \"y\": [248.0, 300.0, 401.0, 455.0, 596.0, 756.0, 928.0, 1072.0, 1609.0, 1887.0, 2317.0, null, null, null, null, null, null, null, null, null, null, null, null, null, null, null, null, null, null, null, null, null, null], \"yaxis\": \"y\"}, {\"hoverlabel\": {\"namelength\": 0}, \"hovertemplate\": \"<b>%{hovertext}</b><br><br>country=Germany_fit<br>days=%{x}<br>cases=%{y}\", \"hovertext\": [\"Germany_fit\", \"Germany_fit\", \"Germany_fit\", \"Germany_fit\", \"Germany_fit\", \"Germany_fit\", \"Germany_fit\", \"Germany_fit\", \"Germany_fit\", \"Germany_fit\", \"Germany_fit\", \"Germany_fit\", \"Germany_fit\", \"Germany_fit\", \"Germany_fit\", \"Germany_fit\", \"Germany_fit\", \"Germany_fit\", \"Germany_fit\", \"Germany_fit\", \"Germany_fit\", \"Germany_fit\", \"Germany_fit\", \"Germany_fit\", \"Germany_fit\", \"Germany_fit\", \"Germany_fit\", \"Germany_fit\", \"Germany_fit\", \"Germany_fit\", \"Germany_fit\", \"Germany_fit\", \"Germany_fit\"], \"legendgroup\": \"Germany_fit\", \"line\": {\"color\": \"#EF553B\", \"dash\": \"solid\", \"shape\": \"spline\"}, \"mode\": \"lines\", \"name\": \"Germany_fit\", \"showlegend\": true, \"type\": \"scatter\", \"x\": [0, 1, 2, 3, 4, 5, 6, 7, 8, 9, 10, 11, 12, 13, 14, 15, 16, 17, 18, 19, 20, 21, 22, 23, 24, 25, 26, 27, 28, 29, 30, 31, 32], \"xaxis\": \"x\", \"y\": [null, null, null, null, null, null, null, null, null, null, null, null, null, null, null, null, null, null, null, null, null, null, 40747.84030607517, 48055.00672333436, 56611.78926075787, 66631.88777935968, 78365.54746784324, 92105.80854706824, 108195.8247515236, 127037.43336193555, 149101.19081978398, 174938.1245564154, 205193.49453074543], \"yaxis\": \"y\"}, {\"hoverlabel\": {\"namelength\": 0}, \"hovertemplate\": \"<b>%{hovertext}</b><br><br>country=Iran_fit<br>days=%{x}<br>cases=%{y}\", \"hovertext\": [\"Iran_fit\", \"Iran_fit\", \"Iran_fit\", \"Iran_fit\", \"Iran_fit\", \"Iran_fit\", \"Iran_fit\", \"Iran_fit\", \"Iran_fit\", \"Iran_fit\", \"Iran_fit\", \"Iran_fit\", \"Iran_fit\", \"Iran_fit\", \"Iran_fit\", \"Iran_fit\", \"Iran_fit\", \"Iran_fit\", \"Iran_fit\", \"Iran_fit\", \"Iran_fit\", \"Iran_fit\", \"Iran_fit\", \"Iran_fit\", \"Iran_fit\", \"Iran_fit\", \"Iran_fit\", \"Iran_fit\", \"Iran_fit\", \"Iran_fit\", \"Iran_fit\", \"Iran_fit\", \"Iran_fit\"], \"legendgroup\": \"Iran_fit\", \"line\": {\"color\": \"#00cc96\", \"dash\": \"solid\", \"shape\": \"spline\"}, \"mode\": \"lines\", \"name\": \"Iran_fit\", \"showlegend\": true, \"type\": \"scatter\", \"x\": [0, 1, 2, 3, 4, 5, 6, 7, 8, 9, 10, 11, 12, 13, 14, 15, 16, 17, 18, 19, 20, 21, 22, 23, 24, 25, 26, 27, 28, 29, 30, 31, 32], \"xaxis\": \"x\", \"y\": [null, null, null, null, null, null, null, null, null, null, null, null, null, null, null, null, null, null, null, null, null, null, null, null, null, null, null, 26474.684478049807, 28039.39623685686, 29658.019056903082, 31332.41040650977, 33064.49175178428, 34856.250761619536], \"yaxis\": \"y\"}, {\"hoverlabel\": {\"namelength\": 0}, \"hovertemplate\": \"<b>%{hovertext}</b><br><br>country=Spain_fit<br>days=%{x}<br>cases=%{y}\", \"hovertext\": [\"Spain_fit\", \"Spain_fit\", \"Spain_fit\", \"Spain_fit\", \"Spain_fit\", \"Spain_fit\", \"Spain_fit\", \"Spain_fit\", \"Spain_fit\", \"Spain_fit\", \"Spain_fit\", \"Spain_fit\", \"Spain_fit\", \"Spain_fit\", \"Spain_fit\", \"Spain_fit\", \"Spain_fit\", \"Spain_fit\", \"Spain_fit\", \"Spain_fit\", \"Spain_fit\", \"Spain_fit\", \"Spain_fit\", \"Spain_fit\", \"Spain_fit\", \"Spain_fit\", \"Spain_fit\", \"Spain_fit\", \"Spain_fit\", \"Spain_fit\", \"Spain_fit\", \"Spain_fit\", \"Spain_fit\"], \"legendgroup\": \"Spain_fit\", \"line\": {\"color\": \"#ab63fa\", \"dash\": \"solid\", \"shape\": \"spline\"}, \"mode\": \"lines\", \"name\": \"Spain_fit\", \"showlegend\": true, \"type\": \"scatter\", \"x\": [0, 1, 2, 3, 4, 5, 6, 7, 8, 9, 10, 11, 12, 13, 14, 15, 16, 17, 18, 19, 20, 21, 22, 23, 24, 25, 26, 27, 28, 29, 30, 31, 32], \"xaxis\": \"x\", \"y\": [null, null, null, null, null, null, null, null, null, null, null, null, null, null, null, null, null, null, null, null, null, 49717.69792927169, 58825.52944350203, 69525.03355246171, 82094.36885458931, 96860.30457725638, 114206.71570601576, 134584.5627114069, 158523.6153196238, 186646.22511384578, 219683.5050171704, 258494.33628059292, 304087.69710707717], \"yaxis\": \"y\"}, {\"hoverlabel\": {\"namelength\": 0}, \"hovertemplate\": \"<b>%{hovertext}</b><br><br>country=Italy_fit<br>days=%{x}<br>cases=%{y}\", \"hovertext\": [\"Italy_fit\", \"Italy_fit\", \"Italy_fit\", \"Italy_fit\", \"Italy_fit\", \"Italy_fit\", \"Italy_fit\", \"Italy_fit\", \"Italy_fit\", \"Italy_fit\", \"Italy_fit\", \"Italy_fit\", \"Italy_fit\", \"Italy_fit\", \"Italy_fit\", \"Italy_fit\", \"Italy_fit\", \"Italy_fit\", \"Italy_fit\", \"Italy_fit\", \"Italy_fit\", \"Italy_fit\", \"Italy_fit\", \"Italy_fit\", \"Italy_fit\", \"Italy_fit\", \"Italy_fit\", \"Italy_fit\", \"Italy_fit\", \"Italy_fit\", \"Italy_fit\", \"Italy_fit\", \"Italy_fit\"], \"legendgroup\": \"Italy_fit\", \"line\": {\"color\": \"#FFA15A\", \"dash\": \"solid\", \"shape\": \"spline\"}, \"mode\": \"lines\", \"name\": \"Italy_fit\", \"showlegend\": true, \"type\": \"scatter\", \"x\": [0, 1, 2, 3, 4, 5, 6, 7, 8, 9, 10, 11, 12, 13, 14, 15, 16, 17, 18, 19, 20, 21, 22, 23, 24, 25, 26, 27, 28, 29, 30, 31, 32], \"xaxis\": \"x\", \"y\": [null, null, null, null, null, null, null, null, null, null, null, null, null, null, null, null, null, null, null, null, null, null, null, null, null, null, null, null, null, null, 81806.95518748724, 91897.02163468489, 103164.6717087012], \"yaxis\": \"y\"}, {\"hoverlabel\": {\"namelength\": 0}, \"hovertemplate\": \"<b>%{hovertext}</b><br><br>country=UK_fit<br>days=%{x}<br>cases=%{y}\", \"hovertext\": [\"UK_fit\", \"UK_fit\", \"UK_fit\", \"UK_fit\", \"UK_fit\", \"UK_fit\", \"UK_fit\", \"UK_fit\", \"UK_fit\", \"UK_fit\", \"UK_fit\", \"UK_fit\", \"UK_fit\", \"UK_fit\", \"UK_fit\", \"UK_fit\", \"UK_fit\", \"UK_fit\", \"UK_fit\", \"UK_fit\", \"UK_fit\", \"UK_fit\", \"UK_fit\", \"UK_fit\", \"UK_fit\", \"UK_fit\", \"UK_fit\", \"UK_fit\", \"UK_fit\", \"UK_fit\", \"UK_fit\", \"UK_fit\", \"UK_fit\"], \"legendgroup\": \"UK_fit\", \"line\": {\"color\": \"#19d3f3\", \"dash\": \"solid\", \"shape\": \"spline\"}, \"mode\": \"lines\", \"name\": \"UK_fit\", \"showlegend\": true, \"type\": \"scatter\", \"x\": [0, 1, 2, 3, 4, 5, 6, 7, 8, 9, 10, 11, 12, 13, 14, 15, 16, 17, 18, 19, 20, 21, 22, 23, 24, 25, 26, 27, 28, 29, 30, 31, 32], \"xaxis\": \"x\", \"y\": [null, null, null, null, null, null, null, null, null, null, null, null, null, null, null, null, null, null, 9769.899161201285, 11700.001003129159, 13997.797593579242, 16733.336753424937, 19990.01078895546, 23867.098687889757, 28482.792617360315, 33977.800985988666, 40519.63790860257, 48307.72983697886, 57579.495031120154, 68617.58120240299, 81758.48196654812, 97402.79477707592, 116027.43305007988], \"yaxis\": \"y\"}, {\"hoverlabel\": {\"namelength\": 0}, \"hovertemplate\": \"<b>%{hovertext}</b><br><br>country=USA_fit<br>days=%{x}<br>cases=%{y}\", \"hovertext\": [\"USA_fit\", \"USA_fit\", \"USA_fit\", \"USA_fit\", \"USA_fit\", \"USA_fit\", \"USA_fit\", \"USA_fit\", \"USA_fit\", \"USA_fit\", \"USA_fit\", \"USA_fit\", \"USA_fit\", \"USA_fit\", \"USA_fit\", \"USA_fit\", \"USA_fit\", \"USA_fit\", \"USA_fit\", \"USA_fit\", \"USA_fit\", \"USA_fit\", \"USA_fit\", \"USA_fit\", \"USA_fit\", \"USA_fit\", \"USA_fit\", \"USA_fit\", \"USA_fit\", \"USA_fit\", \"USA_fit\", \"USA_fit\", \"USA_fit\"], \"legendgroup\": \"USA_fit\", \"line\": {\"color\": \"#FF6692\", \"dash\": \"solid\", \"shape\": \"spline\"}, \"mode\": \"lines\", \"name\": \"USA_fit\", \"showlegend\": true, \"type\": \"scatter\", \"x\": [0, 1, 2, 3, 4, 5, 6, 7, 8, 9, 10, 11, 12, 13, 14, 15, 16, 17, 18, 19, 20, 21, 22, 23, 24, 25, 26, 27, 28, 29, 30, 31, 32], \"xaxis\": \"x\", \"y\": [null, null, null, null, null, null, null, null, null, null, null, null, null, null, null, null, null, null, null, null, 74415.50267630829, 98284.23636185606, 129759.32232784056, 171264.70965242916, 225996.79771807772, 298170.59628063824, 393344.3304290784, 518847.4888073428, 684345.279808726, 902582.9654595191, 1190367.3953907709, 1569861.3304729883, 2070290.2341443577], \"yaxis\": \"y\"}, {\"hoverlabel\": {\"namelength\": 0}, \"hovertemplate\": \"<b>%{hovertext}</b><br><br>country=France_fit<br>days=%{x}<br>cases=%{y}\", \"hovertext\": [\"France_fit\", \"France_fit\", \"France_fit\", \"France_fit\", \"France_fit\", \"France_fit\", \"France_fit\", \"France_fit\", \"France_fit\", \"France_fit\", \"France_fit\", \"France_fit\", \"France_fit\", \"France_fit\", \"France_fit\", \"France_fit\", \"France_fit\", \"France_fit\", \"France_fit\", \"France_fit\", \"France_fit\", \"France_fit\", \"France_fit\", \"France_fit\", \"France_fit\", \"France_fit\", \"France_fit\", \"France_fit\", \"France_fit\", \"France_fit\", \"France_fit\", \"France_fit\", \"France_fit\"], \"legendgroup\": \"France_fit\", \"line\": {\"color\": \"#B6E880\", \"dash\": \"solid\", \"shape\": \"spline\"}, \"mode\": \"lines\", \"name\": \"France_fit\", \"showlegend\": true, \"type\": \"scatter\", \"x\": [0, 1, 2, 3, 4, 5, 6, 7, 8, 9, 10, 11, 12, 13, 14, 15, 16, 17, 18, 19, 20, 21, 22, 23, 24, 25, 26, 27, 28, 29, 30, 31, 32], \"xaxis\": \"x\", \"y\": [null, null, null, null, null, null, null, null, null, null, null, null, null, null, null, null, null, null, null, null, null, null, 26056.555340325165, 30135.014240598663, 34819.62351266463, 40200.47068276971, 46381.03230200136, 53480.16385536482, 61634.385415933306, 71000.50699841579, 81758.64409908695, 94115.68141251456, 108309.25133419911], \"yaxis\": \"y\"}, {\"hoverlabel\": {\"namelength\": 0}, \"hovertemplate\": \"<b>%{hovertext}</b><br><br>country=S. Korea_fit<br>days=%{x}<br>cases=%{y}\", \"hovertext\": [\"S. Korea_fit\", \"S. Korea_fit\", \"S. Korea_fit\", \"S. Korea_fit\", \"S. Korea_fit\", \"S. Korea_fit\", \"S. Korea_fit\", \"S. Korea_fit\", \"S. Korea_fit\", \"S. Korea_fit\", \"S. Korea_fit\", \"S. Korea_fit\", \"S. Korea_fit\", \"S. Korea_fit\", \"S. Korea_fit\", \"S. Korea_fit\", \"S. Korea_fit\", \"S. Korea_fit\", \"S. Korea_fit\", \"S. Korea_fit\", \"S. Korea_fit\", \"S. Korea_fit\", \"S. Korea_fit\", \"S. Korea_fit\", \"S. Korea_fit\", \"S. Korea_fit\", \"S. Korea_fit\", \"S. Korea_fit\", \"S. Korea_fit\", \"S. Korea_fit\", \"S. Korea_fit\", \"S. Korea_fit\", \"S. Korea_fit\"], \"legendgroup\": \"S. Korea_fit\", \"line\": {\"color\": \"#FF97FF\", \"dash\": \"solid\", \"shape\": \"spline\"}, \"mode\": \"lines\", \"name\": \"S. Korea_fit\", \"showlegend\": true, \"type\": \"scatter\", \"x\": [0, 1, 2, 3, 4, 5, 6, 7, 8, 9, 10, 11, 12, 13, 14, 15, 16, 17, 18, 19, 20, 21, 22, 23, 24, 25, 26, 27, 28, 29, 30, 31, 32], \"xaxis\": \"x\", \"y\": [null, null, null, null, null, null, null, null, null, null, null, null, null, null, null, null, null, null, null, null, null, null, null, null, null, null, null, null, null, null, null, null, null], \"yaxis\": \"y\"}, {\"hoverlabel\": {\"namelength\": 0}, \"hovertemplate\": \"<b>%{hovertext}</b><br><br>country=Norway_fit<br>days=%{x}<br>cases=%{y}\", \"hovertext\": [\"Norway_fit\", \"Norway_fit\", \"Norway_fit\", \"Norway_fit\", \"Norway_fit\", \"Norway_fit\", \"Norway_fit\", \"Norway_fit\", \"Norway_fit\", \"Norway_fit\", \"Norway_fit\", \"Norway_fit\", \"Norway_fit\", \"Norway_fit\", \"Norway_fit\", \"Norway_fit\", \"Norway_fit\", \"Norway_fit\", \"Norway_fit\", \"Norway_fit\", \"Norway_fit\", \"Norway_fit\", \"Norway_fit\", \"Norway_fit\", \"Norway_fit\", \"Norway_fit\", \"Norway_fit\", \"Norway_fit\", \"Norway_fit\", \"Norway_fit\", \"Norway_fit\", \"Norway_fit\", \"Norway_fit\"], \"legendgroup\": \"Norway_fit\", \"line\": {\"color\": \"#FECB52\", \"dash\": \"solid\", \"shape\": \"spline\"}, \"mode\": \"lines\", \"name\": \"Norway_fit\", \"showlegend\": true, \"type\": \"scatter\", \"x\": [0, 1, 2, 3, 4, 5, 6, 7, 8, 9, 10, 11, 12, 13, 14, 15, 16, 17, 18, 19, 20, 21, 22, 23, 24, 25, 26, 27, 28, 29, 30, 31, 32], \"xaxis\": \"x\", \"y\": [null, null, null, null, null, null, null, null, null, null, null, null, null, null, null, null, 3000.5136442142793, 3213.8484156709974, 3433.6839645792315, 3660.2183838573837, 3893.655802748679, 4134.206570761202, 4382.087447212976, 4637.521796552912, 4900.73978963359, 5171.978611117289, 5451.482673202117, 5739.503835860858, 6036.301633790941, 6342.143510280133, 6657.3050581985735, 6982.070268334399, 7316.731785296683], \"yaxis\": \"y\"}, {\"hoverlabel\": {\"namelength\": 0}, \"hovertemplate\": \"<b>%{hovertext}</b><br><br>country=Canada_fit<br>days=%{x}<br>cases=%{y}\", \"hovertext\": [\"Canada_fit\", \"Canada_fit\", \"Canada_fit\", \"Canada_fit\", \"Canada_fit\", \"Canada_fit\", \"Canada_fit\", \"Canada_fit\", \"Canada_fit\", \"Canada_fit\", \"Canada_fit\", \"Canada_fit\", \"Canada_fit\", \"Canada_fit\", \"Canada_fit\", \"Canada_fit\", \"Canada_fit\", \"Canada_fit\", \"Canada_fit\", \"Canada_fit\", \"Canada_fit\", \"Canada_fit\", \"Canada_fit\", \"Canada_fit\", \"Canada_fit\", \"Canada_fit\", \"Canada_fit\", \"Canada_fit\", \"Canada_fit\", \"Canada_fit\", \"Canada_fit\", \"Canada_fit\", \"Canada_fit\"], \"legendgroup\": \"Canada_fit\", \"line\": {\"color\": \"#636efa\", \"dash\": \"solid\", \"shape\": \"spline\"}, \"mode\": \"lines\", \"name\": \"Canada_fit\", \"showlegend\": true, \"type\": \"scatter\", \"x\": [0, 1, 2, 3, 4, 5, 6, 7, 8, 9, 10, 11, 12, 13, 14, 15, 16, 17, 18, 19, 20, 21, 22, 23, 24, 25, 26, 27, 28, 29, 30, 31, 32], \"xaxis\": \"x\", \"y\": [null, null, null, null, null, null, null, null, null, null, null, 3514.626934359452, 4550.055774227966, 5903.914530323618, 7674.131334106705, 9988.750579494663, 13015.194707508263, 16972.37430766871, 22146.522491333984, 28911.898878456064, 37757.860771067746, 49324.25964201445, 64447.72325919025, 84222.17115191802, 110077.94066083606, 143885.24696465203, 188089.4606170758, 245887.98757065812, 321461.5458805418, 420276.56793472165, 549480.601752077, 718419.3117543195, 939312.4750248003], \"yaxis\": \"y\"}, {\"hoverlabel\": {\"namelength\": 0}, \"hovertemplate\": \"<b>%{hovertext}</b><br><br>country=Australia_fit<br>days=%{x}<br>cases=%{y}\", \"hovertext\": [\"Australia_fit\", \"Australia_fit\", \"Australia_fit\", \"Australia_fit\", \"Australia_fit\", \"Australia_fit\", \"Australia_fit\", \"Australia_fit\", \"Australia_fit\", \"Australia_fit\", \"Australia_fit\", \"Australia_fit\", \"Australia_fit\", \"Australia_fit\", \"Australia_fit\", \"Australia_fit\", \"Australia_fit\", \"Australia_fit\", \"Australia_fit\", \"Australia_fit\", \"Australia_fit\", \"Australia_fit\", \"Australia_fit\", \"Australia_fit\", \"Australia_fit\", \"Australia_fit\", \"Australia_fit\", \"Australia_fit\", \"Australia_fit\", \"Australia_fit\", \"Australia_fit\", \"Australia_fit\", \"Australia_fit\"], \"legendgroup\": \"Australia_fit\", \"line\": {\"color\": \"#EF553B\", \"dash\": \"solid\", \"shape\": \"spline\"}, \"mode\": \"lines\", \"name\": \"Australia_fit\", \"showlegend\": true, \"type\": \"scatter\", \"x\": [0, 1, 2, 3, 4, 5, 6, 7, 8, 9, 10, 11, 12, 13, 14, 15, 16, 17, 18, 19, 20, 21, 22, 23, 24, 25, 26, 27, 28, 29, 30, 31, 32], \"xaxis\": \"x\", \"y\": [null, null, null, null, null, null, null, null, null, null, null, 2954.8705663133246, 3715.5461730837446, 4672.253420747963, 5875.511090097003, 7388.8570194626855, 9292.203210612814, 11686.05556985771, 14696.821107155782, 18483.4828390602, 23245.994862742165, 29235.840901698495, 36769.31386554481, 46244.21764903036, 58160.87310623312, 73148.53741720942, 91998.63191773802, 115706.5329826581, 145524.13272404257, 183025.9449638862, 230192.24719714493, 289513.6488438506, 364122.60750095686], \"yaxis\": \"y\"}],\n",
       "                        {\"legend\": {\"title\": {\"text\": \"country\"}, \"tracegroupgap\": 0}, \"margin\": {\"t\": 60}, \"template\": {\"data\": {\"bar\": [{\"error_x\": {\"color\": \"#2a3f5f\"}, \"error_y\": {\"color\": \"#2a3f5f\"}, \"marker\": {\"line\": {\"color\": \"#E5ECF6\", \"width\": 0.5}}, \"type\": \"bar\"}], \"barpolar\": [{\"marker\": {\"line\": {\"color\": \"#E5ECF6\", \"width\": 0.5}}, \"type\": \"barpolar\"}], \"carpet\": [{\"aaxis\": {\"endlinecolor\": \"#2a3f5f\", \"gridcolor\": \"white\", \"linecolor\": \"white\", \"minorgridcolor\": \"white\", \"startlinecolor\": \"#2a3f5f\"}, \"baxis\": {\"endlinecolor\": \"#2a3f5f\", \"gridcolor\": \"white\", \"linecolor\": \"white\", \"minorgridcolor\": \"white\", \"startlinecolor\": \"#2a3f5f\"}, \"type\": \"carpet\"}], \"choropleth\": [{\"colorbar\": {\"outlinewidth\": 0, \"ticks\": \"\"}, \"type\": \"choropleth\"}], \"contour\": [{\"colorbar\": {\"outlinewidth\": 0, \"ticks\": \"\"}, \"colorscale\": [[0.0, \"#0d0887\"], [0.1111111111111111, \"#46039f\"], [0.2222222222222222, \"#7201a8\"], [0.3333333333333333, \"#9c179e\"], [0.4444444444444444, \"#bd3786\"], [0.5555555555555556, \"#d8576b\"], [0.6666666666666666, \"#ed7953\"], [0.7777777777777778, \"#fb9f3a\"], [0.8888888888888888, \"#fdca26\"], [1.0, \"#f0f921\"]], \"type\": \"contour\"}], \"contourcarpet\": [{\"colorbar\": {\"outlinewidth\": 0, \"ticks\": \"\"}, \"type\": \"contourcarpet\"}], \"heatmap\": [{\"colorbar\": {\"outlinewidth\": 0, \"ticks\": \"\"}, \"colorscale\": [[0.0, \"#0d0887\"], [0.1111111111111111, \"#46039f\"], [0.2222222222222222, \"#7201a8\"], [0.3333333333333333, \"#9c179e\"], [0.4444444444444444, \"#bd3786\"], [0.5555555555555556, \"#d8576b\"], [0.6666666666666666, \"#ed7953\"], [0.7777777777777778, \"#fb9f3a\"], [0.8888888888888888, \"#fdca26\"], [1.0, \"#f0f921\"]], \"type\": \"heatmap\"}], \"heatmapgl\": [{\"colorbar\": {\"outlinewidth\": 0, \"ticks\": \"\"}, \"colorscale\": [[0.0, \"#0d0887\"], [0.1111111111111111, \"#46039f\"], [0.2222222222222222, \"#7201a8\"], [0.3333333333333333, \"#9c179e\"], [0.4444444444444444, \"#bd3786\"], [0.5555555555555556, \"#d8576b\"], [0.6666666666666666, \"#ed7953\"], [0.7777777777777778, \"#fb9f3a\"], [0.8888888888888888, \"#fdca26\"], [1.0, \"#f0f921\"]], \"type\": \"heatmapgl\"}], \"histogram\": [{\"marker\": {\"colorbar\": {\"outlinewidth\": 0, \"ticks\": \"\"}}, \"type\": \"histogram\"}], \"histogram2d\": [{\"colorbar\": {\"outlinewidth\": 0, \"ticks\": \"\"}, \"colorscale\": [[0.0, \"#0d0887\"], [0.1111111111111111, \"#46039f\"], [0.2222222222222222, \"#7201a8\"], [0.3333333333333333, \"#9c179e\"], [0.4444444444444444, \"#bd3786\"], [0.5555555555555556, \"#d8576b\"], [0.6666666666666666, \"#ed7953\"], [0.7777777777777778, \"#fb9f3a\"], [0.8888888888888888, \"#fdca26\"], [1.0, \"#f0f921\"]], \"type\": \"histogram2d\"}], \"histogram2dcontour\": [{\"colorbar\": {\"outlinewidth\": 0, \"ticks\": \"\"}, \"colorscale\": [[0.0, \"#0d0887\"], [0.1111111111111111, \"#46039f\"], [0.2222222222222222, \"#7201a8\"], [0.3333333333333333, \"#9c179e\"], [0.4444444444444444, \"#bd3786\"], [0.5555555555555556, \"#d8576b\"], [0.6666666666666666, \"#ed7953\"], [0.7777777777777778, \"#fb9f3a\"], [0.8888888888888888, \"#fdca26\"], [1.0, \"#f0f921\"]], \"type\": \"histogram2dcontour\"}], \"mesh3d\": [{\"colorbar\": {\"outlinewidth\": 0, \"ticks\": \"\"}, \"type\": \"mesh3d\"}], \"parcoords\": [{\"line\": {\"colorbar\": {\"outlinewidth\": 0, \"ticks\": \"\"}}, \"type\": \"parcoords\"}], \"pie\": [{\"automargin\": true, \"type\": \"pie\"}], \"scatter\": [{\"marker\": {\"colorbar\": {\"outlinewidth\": 0, \"ticks\": \"\"}}, \"type\": \"scatter\"}], \"scatter3d\": [{\"line\": {\"colorbar\": {\"outlinewidth\": 0, \"ticks\": \"\"}}, \"marker\": {\"colorbar\": {\"outlinewidth\": 0, \"ticks\": \"\"}}, \"type\": \"scatter3d\"}], \"scattercarpet\": [{\"marker\": {\"colorbar\": {\"outlinewidth\": 0, \"ticks\": \"\"}}, \"type\": \"scattercarpet\"}], \"scattergeo\": [{\"marker\": {\"colorbar\": {\"outlinewidth\": 0, \"ticks\": \"\"}}, \"type\": \"scattergeo\"}], \"scattergl\": [{\"marker\": {\"colorbar\": {\"outlinewidth\": 0, \"ticks\": \"\"}}, \"type\": \"scattergl\"}], \"scattermapbox\": [{\"marker\": {\"colorbar\": {\"outlinewidth\": 0, \"ticks\": \"\"}}, \"type\": \"scattermapbox\"}], \"scatterpolar\": [{\"marker\": {\"colorbar\": {\"outlinewidth\": 0, \"ticks\": \"\"}}, \"type\": \"scatterpolar\"}], \"scatterpolargl\": [{\"marker\": {\"colorbar\": {\"outlinewidth\": 0, \"ticks\": \"\"}}, \"type\": \"scatterpolargl\"}], \"scatterternary\": [{\"marker\": {\"colorbar\": {\"outlinewidth\": 0, \"ticks\": \"\"}}, \"type\": \"scatterternary\"}], \"surface\": [{\"colorbar\": {\"outlinewidth\": 0, \"ticks\": \"\"}, \"colorscale\": [[0.0, \"#0d0887\"], [0.1111111111111111, \"#46039f\"], [0.2222222222222222, \"#7201a8\"], [0.3333333333333333, \"#9c179e\"], [0.4444444444444444, \"#bd3786\"], [0.5555555555555556, \"#d8576b\"], [0.6666666666666666, \"#ed7953\"], [0.7777777777777778, \"#fb9f3a\"], [0.8888888888888888, \"#fdca26\"], [1.0, \"#f0f921\"]], \"type\": \"surface\"}], \"table\": [{\"cells\": {\"fill\": {\"color\": \"#EBF0F8\"}, \"line\": {\"color\": \"white\"}}, \"header\": {\"fill\": {\"color\": \"#C8D4E3\"}, \"line\": {\"color\": \"white\"}}, \"type\": \"table\"}]}, \"layout\": {\"annotationdefaults\": {\"arrowcolor\": \"#2a3f5f\", \"arrowhead\": 0, \"arrowwidth\": 1}, \"coloraxis\": {\"colorbar\": {\"outlinewidth\": 0, \"ticks\": \"\"}}, \"colorscale\": {\"diverging\": [[0, \"#8e0152\"], [0.1, \"#c51b7d\"], [0.2, \"#de77ae\"], [0.3, \"#f1b6da\"], [0.4, \"#fde0ef\"], [0.5, \"#f7f7f7\"], [0.6, \"#e6f5d0\"], [0.7, \"#b8e186\"], [0.8, \"#7fbc41\"], [0.9, \"#4d9221\"], [1, \"#276419\"]], \"sequential\": [[0.0, \"#0d0887\"], [0.1111111111111111, \"#46039f\"], [0.2222222222222222, \"#7201a8\"], [0.3333333333333333, \"#9c179e\"], [0.4444444444444444, \"#bd3786\"], [0.5555555555555556, \"#d8576b\"], [0.6666666666666666, \"#ed7953\"], [0.7777777777777778, \"#fb9f3a\"], [0.8888888888888888, \"#fdca26\"], [1.0, \"#f0f921\"]], \"sequentialminus\": [[0.0, \"#0d0887\"], [0.1111111111111111, \"#46039f\"], [0.2222222222222222, \"#7201a8\"], [0.3333333333333333, \"#9c179e\"], [0.4444444444444444, \"#bd3786\"], [0.5555555555555556, \"#d8576b\"], [0.6666666666666666, \"#ed7953\"], [0.7777777777777778, \"#fb9f3a\"], [0.8888888888888888, \"#fdca26\"], [1.0, \"#f0f921\"]]}, \"colorway\": [\"#636efa\", \"#EF553B\", \"#00cc96\", \"#ab63fa\", \"#FFA15A\", \"#19d3f3\", \"#FF6692\", \"#B6E880\", \"#FF97FF\", \"#FECB52\"], \"font\": {\"color\": \"#2a3f5f\"}, \"geo\": {\"bgcolor\": \"white\", \"lakecolor\": \"white\", \"landcolor\": \"#E5ECF6\", \"showlakes\": true, \"showland\": true, \"subunitcolor\": \"white\"}, \"hoverlabel\": {\"align\": \"left\"}, \"hovermode\": \"closest\", \"mapbox\": {\"style\": \"light\"}, \"paper_bgcolor\": \"white\", \"plot_bgcolor\": \"#E5ECF6\", \"polar\": {\"angularaxis\": {\"gridcolor\": \"white\", \"linecolor\": \"white\", \"ticks\": \"\"}, \"bgcolor\": \"#E5ECF6\", \"radialaxis\": {\"gridcolor\": \"white\", \"linecolor\": \"white\", \"ticks\": \"\"}}, \"scene\": {\"xaxis\": {\"backgroundcolor\": \"#E5ECF6\", \"gridcolor\": \"white\", \"gridwidth\": 2, \"linecolor\": \"white\", \"showbackground\": true, \"ticks\": \"\", \"zerolinecolor\": \"white\"}, \"yaxis\": {\"backgroundcolor\": \"#E5ECF6\", \"gridcolor\": \"white\", \"gridwidth\": 2, \"linecolor\": \"white\", \"showbackground\": true, \"ticks\": \"\", \"zerolinecolor\": \"white\"}, \"zaxis\": {\"backgroundcolor\": \"#E5ECF6\", \"gridcolor\": \"white\", \"gridwidth\": 2, \"linecolor\": \"white\", \"showbackground\": true, \"ticks\": \"\", \"zerolinecolor\": \"white\"}}, \"shapedefaults\": {\"line\": {\"color\": \"#2a3f5f\"}}, \"ternary\": {\"aaxis\": {\"gridcolor\": \"white\", \"linecolor\": \"white\", \"ticks\": \"\"}, \"baxis\": {\"gridcolor\": \"white\", \"linecolor\": \"white\", \"ticks\": \"\"}, \"bgcolor\": \"#E5ECF6\", \"caxis\": {\"gridcolor\": \"white\", \"linecolor\": \"white\", \"ticks\": \"\"}}, \"title\": {\"x\": 0.05}, \"xaxis\": {\"automargin\": true, \"gridcolor\": \"white\", \"linecolor\": \"white\", \"ticks\": \"\", \"title\": {\"standoff\": 15}, \"zerolinecolor\": \"white\", \"zerolinewidth\": 2}, \"yaxis\": {\"automargin\": true, \"gridcolor\": \"white\", \"linecolor\": \"white\", \"ticks\": \"\", \"title\": {\"standoff\": 15}, \"zerolinecolor\": \"white\", \"zerolinewidth\": 2}}}, \"xaxis\": {\"anchor\": \"y\", \"domain\": [0.0, 1.0], \"title\": {\"text\": \"days\"}}, \"yaxis\": {\"anchor\": \"x\", \"domain\": [0.0, 1.0], \"title\": {\"text\": \"cases\"}, \"type\": \"log\"}},\n",
       "                        {\"responsive\": true}\n",
       "                    ).then(function(){\n",
       "                            \n",
       "var gd = document.getElementById('fe344760-23ae-45c0-b24d-66b3bf25d4ca');\n",
       "var x = new MutationObserver(function (mutations, observer) {{\n",
       "        var display = window.getComputedStyle(gd).display;\n",
       "        if (!display || display === 'none') {{\n",
       "            console.log([gd, 'removed!']);\n",
       "            Plotly.purge(gd);\n",
       "            observer.disconnect();\n",
       "        }}\n",
       "}});\n",
       "\n",
       "// Listen for the removal of the full notebook cells\n",
       "var notebookContainer = gd.closest('#notebook-container');\n",
       "if (notebookContainer) {{\n",
       "    x.observe(notebookContainer, {childList: true});\n",
       "}}\n",
       "\n",
       "// Listen for the clearing of the current output cell\n",
       "var outputEl = gd.closest('.output');\n",
       "if (outputEl) {{\n",
       "    x.observe(outputEl, {childList: true});\n",
       "}}\n",
       "\n",
       "                        })\n",
       "                };\n",
       "                });\n",
       "            </script>\n",
       "        </div>"
      ]
     },
     "metadata": {},
     "output_type": "display_data"
    }
   ],
   "source": [
    "import plotly.express as px\n",
    "fig = px.line(df_200_l, x=\"days\", y=\"cases\", color=\"country\", line_group=\"country\", hover_name=\"country\",\n",
    "        line_shape=\"spline\", render_mode=\"svg\",log_y=True,)\n",
    "fig.show()"
   ]
  },
  {
   "cell_type": "markdown",
   "metadata": {},
   "source": [
    "## Deaths analysis"
   ]
  },
  {
   "cell_type": "code",
   "execution_count": null,
   "metadata": {},
   "outputs": [],
   "source": []
  },
  {
   "cell_type": "code",
   "execution_count": null,
   "metadata": {},
   "outputs": [],
   "source": [
    "#deaths over time\n",
    "x = df_deaths.index\n",
    "germany = df_deaths.loc[:,'Germany']\n",
    "iran = df_deaths.loc[:,'Iran']\n",
    "italy = df_deaths.loc[:,'Italy']\n",
    "spain = df_deaths.loc[:,'Spain']\n",
    "US = df_deaths.loc[:,'USA']\n",
    "UK = df_deaths.loc[:,'UK']\n",
    "france = df_deaths.loc[:,'France']\n",
    "south_korea = df_deaths.loc[:,'S. Korea']\n",
    "australia = df_deaths.loc[:,'Australia']\n",
    "canada = df_deaths.loc[:,'Canada']\n",
    "norway = df_deaths.loc[:,'Norway']\n",
    "\n",
    "fig=plt.figure()\n",
    "fig.show()\n",
    "fig.set_size_inches(20, 9)\n",
    "plt.ylabel('Total Deaths')\n",
    "plt.title('Deaths per country over time')\n",
    "ax=fig.add_subplot(111)\n",
    "\n",
    "ax.plot(x,germany,c='b',marker=\"^\",ls='--',label='Germany',fillstyle='none')\n",
    "ax.plot(x,iran,c='g',marker=(8,2,0),ls='--',label='Iran')\n",
    "ax.plot(x,italy,c='k',marker=\"^\",ls='-',label='Italy')\n",
    "ax.plot(x,spain,c='r',marker=\"v\",ls='-',label='Spain')\n",
    "ax.plot(x,US,c='m',marker=\"o\",ls='--',label='US',fillstyle='none')\n",
    "ax.plot(x,UK,c='k',marker=\"+\",ls=':',label='UK')\n",
    "ax.plot(x,france,c='g',marker=\"o\",ls=':',label='France')\n",
    "ax.plot(x,south_korea,c='b',marker=\"+\",ls=':',label='South Korea')\n",
    "ax.plot(x,australia,c='m',marker=(8,2,0),ls='-',label='Australia')\n",
    "ax.plot(x,canada,c='k',marker=\"v\",ls='--',label='Canada')\n",
    "ax.plot(x,norway,c='r',marker=(8,2,0),ls=':',label='Norway')\n",
    "\n",
    "plt.legend(loc=2)\n",
    "plt.draw()"
   ]
  },
  {
   "cell_type": "code",
   "execution_count": null,
   "metadata": {},
   "outputs": [],
   "source": [
    "fig,ax = plt.subplots(figsize=(15,5))\n",
    "X = 5\n",
    "ax.set_title('Deaths starting at {} over time'.format(X))\n",
    "ax.set_xlabel('Days after {} deaths reached'.format(X))\n",
    "ax.set_ylabel('Deaths')\n",
    "index_X_cases(df_deaths,X).plot(ax=ax)"
   ]
  }
 ],
 "metadata": {
  "kernelspec": {
   "display_name": "Python 3",
   "language": "python",
   "name": "python3"
  },
  "language_info": {
   "codemirror_mode": {
    "name": "ipython",
    "version": 3
   },
   "file_extension": ".py",
   "mimetype": "text/x-python",
   "name": "python",
   "nbconvert_exporter": "python",
   "pygments_lexer": "ipython3",
   "version": "3.7.6"
  }
 },
 "nbformat": 4,
 "nbformat_minor": 2
}
