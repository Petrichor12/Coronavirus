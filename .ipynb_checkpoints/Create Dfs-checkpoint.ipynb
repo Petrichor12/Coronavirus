{
 "cells": [
  {
   "cell_type": "code",
   "execution_count": 16,
   "metadata": {},
   "outputs": [],
   "source": [
    "import pandas as pd"
   ]
  },
  {
   "cell_type": "markdown",
   "metadata": {},
   "source": [
    "## Combine CSVs - cases"
   ]
  },
  {
   "cell_type": "code",
   "execution_count": 17,
   "metadata": {},
   "outputs": [],
   "source": [
    "country = 'Germany'\n",
    "file_name = './Data/Countries/' + country + '.csv'\n",
    "df = pd.read_csv(file_name)\n",
    "df = df.drop(df.columns[[0,3,4,5]], axis=1)\n",
    "df = df.set_index('Dates')\n",
    "df = df.rename(columns={'Cases': 'Germany'})"
   ]
  },
  {
   "cell_type": "code",
   "execution_count": 18,
   "metadata": {},
   "outputs": [],
   "source": [
    "country = 'Iran'\n",
    "file_name = './Data/Countries/' + country + '.csv'\n",
    "df_2 = pd.read_csv(file_name)\n",
    "df_2 = df_2.drop(df_2.columns[[0,1,3,4,5,6,7]], axis=1)\n",
    "df[country] = df_2.values"
   ]
  },
  {
   "cell_type": "code",
   "execution_count": 19,
   "metadata": {},
   "outputs": [],
   "source": [
    "country = 'Spain'\n",
    "file_name = './Data/Countries/' + country + '.csv'\n",
    "df_2 = pd.read_csv(file_name)\n",
    "df_2 = df_2.drop(df_2.columns[[0,1,3,4,5,6,7]], axis=1)\n",
    "df[country] = df_2.values"
   ]
  },
  {
   "cell_type": "code",
   "execution_count": 20,
   "metadata": {},
   "outputs": [],
   "source": [
    "country = 'Italy'\n",
    "file_name = './Data/Countries/' + country + '.csv'\n",
    "df_2 = pd.read_csv(file_name)\n",
    "df_2 = df_2.drop(df_2.columns[[0,1,3,4,5,6,7]], axis=1)\n",
    "df[country] = df_2.values"
   ]
  },
  {
   "cell_type": "code",
   "execution_count": 21,
   "metadata": {},
   "outputs": [],
   "source": [
    "country = 'UK'\n",
    "file_name = './Data/Countries/' + country + '.csv'\n",
    "df_2 = pd.read_csv(file_name)\n",
    "df_2 = df_2.drop(df_2.columns[[0,1,3,4,5,6,7]], axis=1)\n",
    "df[country] = df_2.values"
   ]
  },
  {
   "cell_type": "code",
   "execution_count": 22,
   "metadata": {},
   "outputs": [],
   "source": [
    "country = 'USA'\n",
    "file_name = './Data/Countries/' + country + '.csv'\n",
    "df_2 = pd.read_csv(file_name)\n",
    "df_2 = df_2.drop(df_2.columns[[0,1,3,4,5,6,7]], axis=1)\n",
    "df[country] = df_2.values"
   ]
  },
  {
   "cell_type": "code",
   "execution_count": 23,
   "metadata": {},
   "outputs": [],
   "source": [
    "country = 'France'\n",
    "file_name = './Data/Countries/' + country + '.csv'\n",
    "df_2 = pd.read_csv(file_name)\n",
    "df_2 = df_2.drop(df_2.columns[[0,1,3,4,5,6,7]], axis=1)\n",
    "df[country] = df_2.values"
   ]
  },
  {
   "cell_type": "code",
   "execution_count": 24,
   "metadata": {},
   "outputs": [],
   "source": [
    "country = 'S. Korea'\n",
    "file_name = './Data/Countries/' + country + '.csv'\n",
    "df_2 = pd.read_csv(file_name)\n",
    "df_2 = df_2.drop(df_2.columns[[0,1,3,4,5,6,7]], axis=1)\n",
    "df['S. Korea'] = df_2.values"
   ]
  },
  {
   "cell_type": "code",
   "execution_count": 25,
   "metadata": {},
   "outputs": [],
   "source": [
    "country = 'Norway'\n",
    "file_name = './Data/Countries/' + country + '.csv'\n",
    "df_2 = pd.read_csv(file_name)\n",
    "df_2 = df_2.drop(df_2.columns[[0,1,3,4,5,6,7]], axis=1)\n",
    "df[country] = df_2.values"
   ]
  },
  {
   "cell_type": "code",
   "execution_count": 26,
   "metadata": {},
   "outputs": [],
   "source": [
    "country = 'Canada'\n",
    "file_name = './Data/Countries/' + country + '.csv'\n",
    "df_2 = pd.read_csv(file_name)\n",
    "df_2 = df_2.drop(df_2.columns[[0,1,3,4,5,6,7]], axis=1)\n",
    "df[country] = df_2.values"
   ]
  },
  {
   "cell_type": "code",
   "execution_count": 27,
   "metadata": {},
   "outputs": [],
   "source": [
    "country = 'Australia'\n",
    "file_name = './Data/Countries/' + country + '.csv'\n",
    "df_2 = pd.read_csv(file_name)\n",
    "df_2 = df_2.drop(df_2.columns[[0,1,3,4,5,6,7]], axis=1)\n",
    "df[country] = df_2.values"
   ]
  },
  {
   "cell_type": "code",
   "execution_count": 28,
   "metadata": {},
   "outputs": [],
   "source": [
    "df.to_csv('./Data/Stats/Cases.csv')"
   ]
  },
  {
   "cell_type": "markdown",
   "metadata": {},
   "source": [
    "## Combine csvs - deaths"
   ]
  },
  {
   "cell_type": "code",
   "execution_count": 29,
   "metadata": {},
   "outputs": [],
   "source": [
    "country = 'Germany'\n",
    "file_name = './Data/Countries/' + country + '.csv'\n",
    "df = pd.read_csv(file_name)\n",
    "df = df.drop(df.columns[[0,2,4,5,6,7]], axis=1)\n",
    "df = df.set_index('Dates')\n",
    "df = df.rename(columns={'Deaths': 'Germany'})"
   ]
  },
  {
   "cell_type": "code",
   "execution_count": 30,
   "metadata": {
    "scrolled": true
   },
   "outputs": [],
   "source": [
    "country = 'Iran'\n",
    "file_name = './Data/Countries/' + country + '.csv'\n",
    "df_2 = pd.read_csv(file_name)\n",
    "df_2 = df_2.drop(df_2.columns[[0,1,2,4,5,6,7]], axis=1)\n",
    "df[country] = df_2.values"
   ]
  },
  {
   "cell_type": "code",
   "execution_count": 31,
   "metadata": {},
   "outputs": [],
   "source": [
    "country = 'Spain'\n",
    "file_name = './Data/Countries/' + country + '.csv'\n",
    "df_2 = pd.read_csv(file_name)\n",
    "df_2 = df_2.drop(df_2.columns[[0,1,2,4,5,6,7]], axis=1)\n",
    "df[country] = df_2.values"
   ]
  },
  {
   "cell_type": "code",
   "execution_count": 32,
   "metadata": {},
   "outputs": [],
   "source": [
    "country = 'Italy'\n",
    "file_name = './Data/Countries/' + country + '.csv'\n",
    "df_2 = pd.read_csv(file_name)\n",
    "df_2 = df_2.drop(df_2.columns[[0,1,2,4,5,6,7]], axis=1)\n",
    "df[country] = df_2.values"
   ]
  },
  {
   "cell_type": "code",
   "execution_count": 33,
   "metadata": {},
   "outputs": [],
   "source": [
    "country = 'UK'\n",
    "file_name = './Data/Countries/' + country + '.csv'\n",
    "df_2 = pd.read_csv(file_name)\n",
    "df_2 = df_2.drop(df_2.columns[[0,1,2,4,5,6,7]], axis=1)\n",
    "df[country] = df_2.values"
   ]
  },
  {
   "cell_type": "code",
   "execution_count": 34,
   "metadata": {},
   "outputs": [],
   "source": [
    "country = 'USA'\n",
    "file_name = './Data/Countries/' + country + '.csv'\n",
    "df_2 = pd.read_csv(file_name)\n",
    "df_2 = df_2.drop(df_2.columns[[0,1,2,4,5,6,7]], axis=1)\n",
    "df[country] = df_2.values"
   ]
  },
  {
   "cell_type": "code",
   "execution_count": 35,
   "metadata": {},
   "outputs": [],
   "source": [
    "country = 'France'\n",
    "file_name = './Data/Countries/' + country + '.csv'\n",
    "df_2 = pd.read_csv(file_name)\n",
    "df_2 = df_2.drop(df_2.columns[[0,1,2,4,5,6,7]], axis=1)\n",
    "df[country] = df_2.values"
   ]
  },
  {
   "cell_type": "code",
   "execution_count": 36,
   "metadata": {},
   "outputs": [],
   "source": [
    "country = 'S. Korea'\n",
    "file_name = './Data/Countries/' + country + '.csv'\n",
    "df_2 = pd.read_csv(file_name)\n",
    "df_2 = df_2.drop(df_2.columns[[0,1,2,4,5,6,7]], axis=1)\n",
    "df['S. Korea'] = df_2.values"
   ]
  },
  {
   "cell_type": "code",
   "execution_count": 37,
   "metadata": {},
   "outputs": [],
   "source": [
    "country = 'Australia'\n",
    "file_name = './Data/Countries/' + country + '.csv'\n",
    "df_2 = pd.read_csv(file_name)\n",
    "df_2 = df_2.drop(df_2.columns[[0,1,2,4,5,6,7]], axis=1)\n",
    "df[country] = df_2.values"
   ]
  },
  {
   "cell_type": "code",
   "execution_count": 38,
   "metadata": {},
   "outputs": [],
   "source": [
    "country = 'Norway'\n",
    "file_name = './Data/Countries/' + country + '.csv'\n",
    "df_2 = pd.read_csv(file_name)\n",
    "df_2 = df_2.drop(df_2.columns[[0,1,2,4,5,6,7]], axis=1)\n",
    "df[country] = df_2.values"
   ]
  },
  {
   "cell_type": "code",
   "execution_count": 39,
   "metadata": {},
   "outputs": [],
   "source": [
    "country = 'Canada'\n",
    "file_name = './Data/Countries/' + country + '.csv'\n",
    "df_2 = pd.read_csv(file_name)\n",
    "df_2 = df_2.drop(df_2.columns[[0,1,2,4,5,6,7]], axis=1)\n",
    "df[country] = df_2.values"
   ]
  },
  {
   "cell_type": "code",
   "execution_count": 40,
   "metadata": {},
   "outputs": [],
   "source": [
    "country = 'Australia'\n",
    "file_name = './Data/Countries/' + country + '.csv'\n",
    "df_2 = pd.read_csv(file_name)\n",
    "df_2 = df_2.drop(df_2.columns[[0,1,2,4,5,6,7]], axis=1)\n",
    "df[country] = df_2.values"
   ]
  },
  {
   "cell_type": "code",
   "execution_count": 41,
   "metadata": {},
   "outputs": [],
   "source": [
    "df.to_csv('./Data/Stats/Deaths.csv')"
   ]
  },
  {
   "cell_type": "code",
   "execution_count": null,
   "metadata": {},
   "outputs": [],
   "source": []
  },
  {
   "cell_type": "code",
   "execution_count": null,
   "metadata": {},
   "outputs": [],
   "source": []
  },
  {
   "cell_type": "code",
   "execution_count": null,
   "metadata": {},
   "outputs": [],
   "source": []
  }
 ],
 "metadata": {
  "kernelspec": {
   "display_name": "Python 3",
   "language": "python",
   "name": "python3"
  },
  "language_info": {
   "codemirror_mode": {
    "name": "ipython",
    "version": 3
   },
   "file_extension": ".py",
   "mimetype": "text/x-python",
   "name": "python",
   "nbconvert_exporter": "python",
   "pygments_lexer": "ipython3",
   "version": "3.6.5"
  }
 },
 "nbformat": 4,
 "nbformat_minor": 2
}
