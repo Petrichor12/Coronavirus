{
 "cells": [
  {
   "cell_type": "code",
   "execution_count": 1,
   "metadata": {},
   "outputs": [],
   "source": [
    "import pandas as pd"
   ]
  },
  {
   "cell_type": "markdown",
   "metadata": {},
   "source": [
    "## Combine CSVs - cases"
   ]
  },
  {
   "cell_type": "code",
   "execution_count": 42,
   "metadata": {},
   "outputs": [],
   "source": [
    "country = 'Germany'\n",
    "file_name = './Data/Countries/' + country + '.csv'\n",
    "df = pd.read_csv(file_name)\n",
    "df = df.drop(df.columns[[0,3]], axis=1)\n",
    "df = df.set_index('Dates')\n",
    "df = df.rename(columns={'Cases': 'Germany'})"
   ]
  },
  {
   "cell_type": "code",
   "execution_count": 43,
   "metadata": {},
   "outputs": [],
   "source": [
    "country = 'Iran'\n",
    "file_name = './Data/Countries/' + country + '.csv'\n",
    "df_2 = pd.read_csv(file_name)\n",
    "df_2 = df_2.drop(df_2.columns[[0,1,3]], axis=1)\n",
    "df[country] = df_2.values"
   ]
  },
  {
   "cell_type": "code",
   "execution_count": 44,
   "metadata": {},
   "outputs": [],
   "source": [
    "country = 'Spain'\n",
    "file_name = './Data/Countries/' + country + '.csv'\n",
    "df_2 = pd.read_csv(file_name)\n",
    "df_2 = df_2.drop(df_2.columns[[0,1,3]], axis=1)\n",
    "df[country] = df_2.values"
   ]
  },
  {
   "cell_type": "code",
   "execution_count": 45,
   "metadata": {},
   "outputs": [],
   "source": [
    "country = 'Italy'\n",
    "file_name = './Data/Countries/' + country + '.csv'\n",
    "df_2 = pd.read_csv(file_name)\n",
    "df_2 = df_2.drop(df_2.columns[[0,1,3]], axis=1)\n",
    "df[country] = df_2.values"
   ]
  },
  {
   "cell_type": "code",
   "execution_count": 46,
   "metadata": {},
   "outputs": [],
   "source": [
    "country = 'UK'\n",
    "file_name = './Data/Countries/' + country + '.csv'\n",
    "df_2 = pd.read_csv(file_name)\n",
    "df_2 = df_2.drop(df_2.columns[[0,1,3]], axis=1)\n",
    "df[country] = df_2.values"
   ]
  },
  {
   "cell_type": "code",
   "execution_count": 47,
   "metadata": {},
   "outputs": [],
   "source": [
    "country = 'US'\n",
    "file_name = './Data/Countries/' + country + '.csv'\n",
    "df_2 = pd.read_csv(file_name)\n",
    "df_2 = df_2.drop(df_2.columns[[0,1,3]], axis=1)\n",
    "df[country] = df_2.values"
   ]
  },
  {
   "cell_type": "code",
   "execution_count": 48,
   "metadata": {},
   "outputs": [],
   "source": [
    "country = 'France'\n",
    "file_name = './Data/Countries/' + country + '.csv'\n",
    "df_2 = pd.read_csv(file_name)\n",
    "df_2 = df_2.drop(df_2.columns[[0,1,3]], axis=1)\n",
    "df[country] = df_2.values"
   ]
  },
  {
   "cell_type": "code",
   "execution_count": 49,
   "metadata": {},
   "outputs": [],
   "source": [
    "country = 'South-Korea'\n",
    "file_name = './Data/Countries/' + country + '.csv'\n",
    "df_2 = pd.read_csv(file_name)\n",
    "df_2 = df_2.drop(df_2.columns[[0,1,3]], axis=1)\n",
    "df['South Korea'] = df_2.values"
   ]
  },
  {
   "cell_type": "code",
   "execution_count": 50,
   "metadata": {},
   "outputs": [],
   "source": [
    "country = 'Australia'\n",
    "file_name = './Data/Countries/' + country + '.csv'\n",
    "df_2 = pd.read_csv(file_name)\n",
    "df_2 = df_2.drop(df_2.columns[[0,1,3]], axis=1)\n",
    "df[country] = df_2.values"
   ]
  },
  {
   "cell_type": "code",
   "execution_count": 51,
   "metadata": {},
   "outputs": [],
   "source": [
    "country = 'Norway'\n",
    "file_name = './Data/Countries/' + country + '.csv'\n",
    "df_2 = pd.read_csv(file_name)\n",
    "df_2 = df_2.drop(df_2.columns[[0,1,3]], axis=1)\n",
    "df[country] = df_2.values"
   ]
  },
  {
   "cell_type": "code",
   "execution_count": 52,
   "metadata": {},
   "outputs": [],
   "source": [
    "country = 'Canada'\n",
    "file_name = './Data/Countries/' + country + '.csv'\n",
    "df_2 = pd.read_csv(file_name)\n",
    "df_2 = df_2.drop(df_2.columns[[0,1,3]], axis=1)\n",
    "df[country] = df_2.values"
   ]
  },
  {
   "cell_type": "code",
   "execution_count": 53,
   "metadata": {},
   "outputs": [],
   "source": [
    "df.to_csv('./Data/Stats/Cases.csv')"
   ]
  },
  {
   "cell_type": "markdown",
   "metadata": {},
   "source": [
    "## Combine csvs - deaths"
   ]
  },
  {
   "cell_type": "code",
   "execution_count": 14,
   "metadata": {},
   "outputs": [],
   "source": [
    "country = 'Germany'\n",
    "file_name = './Data/Countries/' + country + '.csv'\n",
    "df = pd.read_csv(file_name)\n",
    "df = df.drop(df.columns[[0,2]], axis=1)\n",
    "df = df.set_index('Dates')\n",
    "df = df.rename(columns={'Deaths': 'Germany'})"
   ]
  },
  {
   "cell_type": "code",
   "execution_count": 15,
   "metadata": {},
   "outputs": [],
   "source": [
    "country = 'Iran'\n",
    "file_name = './Data/Countries/' + country + '.csv'\n",
    "df_2 = pd.read_csv(file_name)\n",
    "df_2 = df_2.drop(df_2.columns[[0,1,2]], axis=1)\n",
    "df[country] = df_2.values"
   ]
  },
  {
   "cell_type": "code",
   "execution_count": 16,
   "metadata": {},
   "outputs": [],
   "source": [
    "country = 'Spain'\n",
    "file_name = './Data/Countries/' + country + '.csv'\n",
    "df_2 = pd.read_csv(file_name)\n",
    "df_2 = df_2.drop(df_2.columns[[0,1,2]], axis=1)\n",
    "df[country] = df_2.values"
   ]
  },
  {
   "cell_type": "code",
   "execution_count": 17,
   "metadata": {},
   "outputs": [],
   "source": [
    "country = 'Italy'\n",
    "file_name = './Data/Countries/' + country + '.csv'\n",
    "df_2 = pd.read_csv(file_name)\n",
    "df_2 = df_2.drop(df_2.columns[[0,1,2]], axis=1)\n",
    "df[country] = df_2.values"
   ]
  },
  {
   "cell_type": "code",
   "execution_count": 18,
   "metadata": {},
   "outputs": [],
   "source": [
    "country = 'UK'\n",
    "file_name = './Data/Countries/' + country + '.csv'\n",
    "df_2 = pd.read_csv(file_name)\n",
    "df_2 = df_2.drop(df_2.columns[[0,1,2]], axis=1)\n",
    "df[country] = df_2.values"
   ]
  },
  {
   "cell_type": "code",
   "execution_count": 19,
   "metadata": {},
   "outputs": [],
   "source": [
    "country = 'US'\n",
    "file_name = './Data/Countries/' + country + '.csv'\n",
    "df_2 = pd.read_csv(file_name)\n",
    "df_2 = df_2.drop(df_2.columns[[0,1,2]], axis=1)\n",
    "df[country] = df_2.values"
   ]
  },
  {
   "cell_type": "code",
   "execution_count": 20,
   "metadata": {},
   "outputs": [],
   "source": [
    "country = 'France'\n",
    "file_name = './Data/Countries/' + country + '.csv'\n",
    "df_2 = pd.read_csv(file_name)\n",
    "df_2 = df_2.drop(df_2.columns[[0,1,2]], axis=1)\n",
    "df[country] = df_2.values"
   ]
  },
  {
   "cell_type": "code",
   "execution_count": 54,
   "metadata": {},
   "outputs": [],
   "source": [
    "country = 'South-Korea'\n",
    "file_name = './Data/Countries/' + country + '.csv'\n",
    "df_2 = pd.read_csv(file_name)\n",
    "df_2 = df_2.drop(df_2.columns[[0,1,2]], axis=1)\n",
    "df['South Korea'] = df_2.values"
   ]
  },
  {
   "cell_type": "code",
   "execution_count": 55,
   "metadata": {},
   "outputs": [],
   "source": [
    "country = 'Australia'\n",
    "file_name = './Data/Countries/' + country + '.csv'\n",
    "df_2 = pd.read_csv(file_name)\n",
    "df_2 = df_2.drop(df_2.columns[[0,1,2]], axis=1)\n",
    "df[country] = df_2.values"
   ]
  },
  {
   "cell_type": "code",
   "execution_count": 56,
   "metadata": {},
   "outputs": [],
   "source": [
    "country = 'Norway'\n",
    "file_name = './Data/Countries/' + country + '.csv'\n",
    "df_2 = pd.read_csv(file_name)\n",
    "df_2 = df_2.drop(df_2.columns[[0,1,2]], axis=1)\n",
    "df[country] = df_2.values"
   ]
  },
  {
   "cell_type": "code",
   "execution_count": 57,
   "metadata": {},
   "outputs": [],
   "source": [
    "country = 'Canada'\n",
    "file_name = './Data/Countries/' + country + '.csv'\n",
    "df_2 = pd.read_csv(file_name)\n",
    "df_2 = df_2.drop(df_2.columns[[0,1,2]], axis=1)\n",
    "df[country] = df_2.values"
   ]
  },
  {
   "cell_type": "code",
   "execution_count": 58,
   "metadata": {},
   "outputs": [],
   "source": [
    "df.to_csv('./Data/Stats/Deaths.csv')"
   ]
  },
  {
   "cell_type": "code",
   "execution_count": null,
   "metadata": {},
   "outputs": [],
   "source": []
  }
 ],
 "metadata": {
  "kernelspec": {
   "display_name": "Python 3",
   "language": "python",
   "name": "python3"
  },
  "language_info": {
   "codemirror_mode": {
    "name": "ipython",
    "version": 3
   },
   "file_extension": ".py",
   "mimetype": "text/x-python",
   "name": "python",
   "nbconvert_exporter": "python",
   "pygments_lexer": "ipython3",
   "version": "3.6.5"
  }
 },
 "nbformat": 4,
 "nbformat_minor": 2
}
