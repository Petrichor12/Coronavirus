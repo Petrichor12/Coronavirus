{
 "cells": [
  {
   "cell_type": "code",
   "execution_count": null,
   "metadata": {},
   "outputs": [],
   "source": [
    "import plotly\n",
    "import plotly.express as px\n",
    "import plotly.graph_objects as go\n",
    "import numpy as np\n",
    "import pandas as pd\n",
    "import numpy as np\n",
    "from os import listdir\n",
    "from os.path import isfile, join\n",
    "from datetime import date"
   ]
  },
  {
   "cell_type": "code",
   "execution_count": null,
   "metadata": {},
   "outputs": [],
   "source": [
    "#read in data\n",
    "df = pd.read_csv('./Data/timeseries.csv')\n",
    "mcases = df['Cases'].max()\n",
    "mdeaths = df['Deaths'].max()\n",
    "mnewcases = df['New Cases'].max()\n",
    "\n",
    "countries = ['USA', 'China', 'S', 'Norway', 'Germany', 'Italy', 'Australia', 'Turkey', \n",
    "             'Spain', 'France', 'UK', 'Canada', 'Iran', 'Switzerland','Brazil','Austria','Netherlands',\n",
    "            'Belgium','Portugal','Israel','Sweden','Russia','Ireland','India','Denmark']"
   ]
  },
  {
   "cell_type": "markdown",
   "metadata": {},
   "source": [
    "# Scatter plots"
   ]
  },
  {
   "cell_type": "code",
   "execution_count": null,
   "metadata": {},
   "outputs": [],
   "source": [
    "fig = px.scatter(df[df['Country'].isin(countries)], x=\"Cases\", y=\"Deaths\", animation_frame=\"Day0\",\n",
    "           size=\"Daily Deaths\", color=\"Country\", hover_name=\"Country\",animation_group=\"Country\",text=\"Country\",\n",
    "                 range_x=[0,mcases], range_y=[0,mdeaths])\n",
    "fig.update_layout(title='Evolution of Deaths and Cases by Country over Time')\n",
    "plotly.offline.plot(fig, filename = './Saved graphs/Animated graphs/CasesDeathsAnimated.html', auto_open=False)\n",
    "fig.show()"
   ]
  },
  {
   "cell_type": "code",
   "execution_count": null,
   "metadata": {},
   "outputs": [],
   "source": [
    "fig = px.scatter(df[df['Country'].isin(countries)], x=\"Cases\", y=\"Deaths\", animation_frame=\"Day0\",\n",
    "           size=\"Daily Deaths\", color=\"Country\", hover_name=\"Country\",animation_group=\"Country\",text=\"Country\",\n",
    "                 log_x=True,log_y=True, range_x=[1,mcases*1.1], range_y=[1,mdeaths*1.1])\n",
    "fig.update_layout(title='Evolution of Deaths and Cases by Country over Time')\n",
    "plotly.offline.plot(fig, filename = './Saved graphs/Animated graphs/CasesDeathsLogAnimated.html', auto_open=False)\n",
    "fig.show()"
   ]
  },
  {
   "cell_type": "markdown",
   "metadata": {},
   "source": [
    "# Line plots"
   ]
  },
  {
   "cell_type": "code",
   "execution_count": null,
   "metadata": {},
   "outputs": [],
   "source": [
    "#paramaters\n",
    "mdeaths = int(df['Deaths'].max())\n",
    "mcases = int(df['Cases'].max())\n",
    "mnewcases = int(df['New Cases Last Week'].max())\n",
    "mnewdeaths = int(df['New Deaths Last Week'].max())"
   ]
  },
  {
   "cell_type": "code",
   "execution_count": null,
   "metadata": {},
   "outputs": [],
   "source": [
    "fig = px.line(df[df['Country'].isin(countries)], x=\"Cases\", y=\"New Cases Last Week\",animation_frame='Day0',\n",
    "              color=\"Country\", hover_name=\"Country\",text=\"Country\",\n",
    "                 range_x=[500,mcases], range_y=[400,mnewcases],log_x=True,log_y=True,)\n",
    "fig.update_layout(title='Evolution of New Cases Last Week and Cases by Country over Time')\n",
    "plotly.offline.plot(fig, filename = './Saved graphs/Animated graphs/CasesNewCasesLogAnimated.html', auto_open=False)\n",
    "\n",
    "fig.show()\n"
   ]
  },
  {
   "cell_type": "code",
   "execution_count": null,
   "metadata": {},
   "outputs": [],
   "source": [
    "fig = px.line(df[df['Country'].isin(countries)], x=\"Cases\", y=\"New Deaths Last Week\",animation_frame='Day0',\n",
    "              color=\"Country\", hover_name=\"Country\",text=\"Country\",\n",
    "                 range_x=[500,mcases], range_y=[1,mnewdeaths],log_x=True,log_y=True,)\n",
    "fig.update_layout(title='Evolution of New Deaths Last Week and Cases by Country over Time')\n",
    "plotly.offline.plot(fig, filename = './Saved graphs/Animated graphs/CasesNewDeathsLogAnimated.html', auto_open=False)\n",
    "fig.show()\n",
    "\n"
   ]
  },
  {
   "cell_type": "code",
   "execution_count": null,
   "metadata": {},
   "outputs": [],
   "source": []
  }
 ],
 "metadata": {
  "kernelspec": {
   "display_name": "Python 3",
   "language": "python",
   "name": "python3"
  },
  "language_info": {
   "codemirror_mode": {
    "name": "ipython",
    "version": 3
   },
   "file_extension": ".py",
   "mimetype": "text/x-python",
   "name": "python",
   "nbconvert_exporter": "python",
   "pygments_lexer": "ipython3",
   "version": "3.6.5"
  }
 },
 "nbformat": 4,
 "nbformat_minor": 2
}
