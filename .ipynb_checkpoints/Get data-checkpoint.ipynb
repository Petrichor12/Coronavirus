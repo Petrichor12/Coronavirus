{
 "cells": [
  {
   "cell_type": "code",
   "execution_count": 2,
   "metadata": {},
   "outputs": [],
   "source": [
    "import bs4 as bs\n",
    "import requests\n",
    "import urllib.request\n",
    "import pandas as pd"
   ]
  },
  {
   "cell_type": "code",
   "execution_count": 6,
   "metadata": {},
   "outputs": [],
   "source": [
    "url = 'https://www.worldometers.info/coronavirus/'\n",
    "\n",
    "header = {\n",
    "  \"User-Agent\": \"Mozilla/5.0 (X11; Linux x86_64) AppleWebKit/537.36 (KHTML, like Gecko) Chrome/50.0.2661.75 Safari/537.36\",\n",
    "  \"X-Requested-With\": \"XMLHttpRequest\"\n",
    "}\n",
    "\n",
    "r = requests.get(url, headers=header)\n",
    "\n",
    "dfs = pd.read_html(r.text)\n",
    "df = dfs[0]\n",
    "\n",
    "df = df.fillna(0)\n",
    "\n",
    "df.to_csv('./Data/world_info.csv')"
   ]
  },
  {
   "cell_type": "code",
   "execution_count": 25,
   "metadata": {},
   "outputs": [
    {
     "name": "stdout",
     "output_type": "stream",
     "text": [
      "['\\n\\n            xAxis: {\\n                categories: [\"Feb 15\"', '\"Feb 16\"', '\"Feb 17\"', '\"Feb 18\"', '\"Feb 19\"', '\"Feb 20\"', '\"Feb 21\"', '\"Feb 22\"', '\"Feb 23\"', '\"Feb 24\"', '\"Feb 25\"', '\"Feb 26\"', '\"Feb 27\"', '\"Feb 28\"', '\"Feb 29\"', '\"Mar 01\"', '\"Mar 02\"', '\"Mar 03\"', '\"Mar 04\"', '\"Mar 05\"', '\"Mar 06\"', '\"Mar 07\"', '\"Mar 08\"', '\"Mar 09\"', '\"Mar 10\"', '\"Mar 11\"', '\"Mar 12\"', '\"Mar 13\"', '\"Mar 14\"', '\"Mar 15\"', '\"Mar 16\"', '\"Mar 17\"', '\"Mar 18\"', '\"Mar 19\"', '\"Mar 20\"]            }', \"\\n\\n            yAxis: {\\n                title: {\\n                    text: 'Total Coronavirus Deaths'\\n                }\\n\\n\\n            }\", \"\\n            legend: {\\n                layout: 'vertical'\", \"\\n                align: 'right'\", \"\\n                verticalAlign: 'middle'\\n            }\", '\\n\\n            credits: {\\n                enabled: false\\n            }', \"\\n\\n\\n            series: [{\\n                name: 'Deaths'\", \"\\n                color: '#FF9900'\", '\\n                lineWidth: 5', '\\n                data: [0', '0', '0', '0', '0', '0', '0', '0', '0', '0', '0', '0', '0', '0', '0', '0', '0', '0', '0', '0', '0', '0', '0', '2', '2', '3', '6', '8', '9', '13', '17', '26', '28', '44', '68]            }]', '\\n\\n            responsive: {\\n                rules: [{\\n                    condition: {\\n                        maxWidth: 800\\n                    }', \"\\n                    chartOptions: {\\n                        legend: {\\n                            layout: 'horizontal'\", \"\\n                            align: 'center'\", \"\\n                            verticalAlign: 'bottom'\\n                        }\\n                    }\\n                }]\\n            }\\n\\n        });\\n        Highcharts.chart('coronavirus-deaths-log'\", \" {\\n            chart: {\\n                type: 'line'\\n            }\", \"\\n            title: {\\n                text: 'Total Deaths'\\n            }\", \"\\n\\n            subtitle: {\\n                text: '(Logarithmic Scale)'\\n            }\", '\\n\\n            xAxis: {\\n                categories: [\"Feb 15\"', '\"Feb 16\"', '\"Feb 17\"', '\"Feb 18\"', '\"Feb 19\"', '\"Feb 20\"', '\"Feb 21\"', '\"Feb 22\"', '\"Feb 23\"', '\"Feb 24\"', '\"Feb 25\"', '\"Feb 26\",\"Feb 27\",\"Feb 28\",\"Feb 29\",\"Mar 01\",\"Mar 02\",\"Mar 03\",\"Mar 04\",\"Mar 05\",\"Mar 06\",\"Mar 07\",\"Mar 08\",\"Mar 09\",\"Mar 10\",\"Mar 11\",\"Mar 12\",\"Mar 13\",\"Mar 14\",\"Mar 15\",\"Mar 16\",\"Mar 17\",\"Mar 18\",\"Mar 19\",\"Mar 20\"]            },\\n\\n            yAxis: {\\n                title: {\\n                    text: \\'Total Coronavirus Deaths\\'\\n                },\\n\\n                type: \\'logarithmic\\'\\n\\n\\n            },\\n            legend: {\\n                layout: \\'vertical\\',\\n                align: \\'right\\',\\n                verticalAlign: \\'middle\\'\\n            },\\n\\n            credits: {\\n                enabled: false\\n            },\\n\\n\\n            series: [{\\n                name: \\'Deaths\\',\\n                color: \\'#FF9900\\',\\n                lineWidth: 5,\\n                data: [0,0,0,0,0,0,0,0,0,0,0,0,0,0,0,0,0,0,0,0,0,0,0,2,2,3,6,8,9,13,17,26,28,44,68]            }],\\n\\n            responsive: {\\n                rules: [{\\n                    condition: {\\n                        maxWidth: 800\\n                    },\\n                    chartOptions: {\\n                        legend: {\\n                            layout: \\'horizontal\\',\\n                            align: \\'center\\',\\n                            verticalAlign: \\'bottom\\'\\n                        }\\n                    }\\n                }]\\n            }\\n\\n        });']\n"
     ]
    }
   ],
   "source": [
    "country = 'Germany'\n",
    "url = 'https://www.worldometers.info/coronavirus/country/' + country\n",
    "r = requests.get(url, headers=header).text\n",
    "\n",
    "soup = bs.BeautifulSoup(r, 'lxml')\n",
    "\n",
    "cases = soup.find('div', class_='col-md-12').get_text(strip=True)\n",
    "cases = cases.split(',', 100)\n",
    "del cases[0:8]\n",
    "\n",
    "deaths = soup.findAll('script')[27].get_text(strip=True)\n",
    "deaths = deaths.split(',', 100)\n",
    "del deaths[0:4]\n",
    "\n",
    "#print(cases)\n",
    "#print(deaths)"
   ]
  },
  {
   "cell_type": "code",
   "execution_count": 96,
   "metadata": {},
   "outputs": [],
   "source": [
    "case_dates = cases[0:34]\n",
    "\n",
    "for i in range(0,len(case_dates)):\n",
    "    case_dates[i] = case_dates[i][:-1]\n",
    "    case_dates[i] = case_dates[i][1:]\n",
    "    \n",
    "case_dates[len(case_dates)-1] = case_dates[len(case_dates)-1][:-10]\n",
    "case_dates[0] = case_dates[0][44:]\n",
    "\n",
    "#print(case_dates)\n",
    "#len(case_dates)"
   ]
  },
  {
   "cell_type": "code",
   "execution_count": 97,
   "metadata": {},
   "outputs": [],
   "source": [
    "case_data = cases[42:76]\n",
    "\n",
    "case_data[len(case_data)-1] = case_data[len(case_data)-1][:-11]    \n",
    "case_data[0] = case_data[0][20:]\n",
    "\n",
    "for i in range(0,len(case_data)):\n",
    "    case_data[i] = int(case_data[i])\n",
    "\n",
    "#print(case_data)\n",
    "#len(case_data)"
   ]
  },
  {
   "cell_type": "code",
   "execution_count": 98,
   "metadata": {},
   "outputs": [],
   "source": [
    "df_country = pd.DataFrame(\n",
    "    {'Dates': case_dates,\n",
    "     'Cases': case_data\n",
    "    })\n",
    "\n",
    "df_country = df_country.fillna(0)\n",
    "\n",
    "file_name = './Data/Countries/' + country + '.csv'\n",
    "df_country.to_csv(file_name)\n"
   ]
  },
  {
   "cell_type": "code",
   "execution_count": null,
   "metadata": {},
   "outputs": [],
   "source": []
  },
  {
   "cell_type": "code",
   "execution_count": null,
   "metadata": {},
   "outputs": [],
   "source": []
  }
 ],
 "metadata": {
  "kernelspec": {
   "display_name": "Python 3",
   "language": "python",
   "name": "python3"
  },
  "language_info": {
   "codemirror_mode": {
    "name": "ipython",
    "version": 3
   },
   "file_extension": ".py",
   "mimetype": "text/x-python",
   "name": "python",
   "nbconvert_exporter": "python",
   "pygments_lexer": "ipython3",
   "version": "3.6.5"
  }
 },
 "nbformat": 4,
 "nbformat_minor": 2
}
