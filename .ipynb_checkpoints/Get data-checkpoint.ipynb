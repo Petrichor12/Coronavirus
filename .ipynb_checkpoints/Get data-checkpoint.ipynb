{
 "cells": [
  {
   "cell_type": "code",
   "execution_count": null,
   "metadata": {},
   "outputs": [],
   "source": [
    "import bs4 as bs\n",
    "import requests\n",
    "import urllib.request\n",
    "import pandas as pd"
   ]
  },
  {
   "cell_type": "code",
   "execution_count": null,
   "metadata": {},
   "outputs": [],
   "source": [
    "url = 'https://www.worldometers.info/coronavirus/'\n",
    "\n",
    "header = {\n",
    "  \"User-Agent\": \"Mozilla/5.0 (X11; Linux x86_64) AppleWebKit/537.36 (KHTML, like Gecko) Chrome/50.0.2661.75 Safari/537.36\",\n",
    "  \"X-Requested-With\": \"XMLHttpRequest\"\n",
    "}\n",
    "\n",
    "r = requests.get(url, headers=header)\n",
    "\n",
    "# Read text result into Pandas\n",
    "dfs = pd.read_html(r.text)\n",
    "# Look for the first table\n",
    "df = dfs[0]\n",
    "# Fill missing values with 0\n",
    "df = df.fillna(0)\n",
    "\n",
    "df.to_csv('./Data/world_info.csv')"
   ]
  },
  {
   "cell_type": "code",
   "execution_count": null,
   "metadata": {
    "scrolled": true
   },
   "outputs": [],
   "source": [
    "homepage_soup = bs.BeautifulSoup(r.text, 'lxml')\n",
    "# Using the table on the main page, only the countries with links (<a> tags) have detailed historical data.\n",
    "country_elements = homepage_soup.select('table[id=\"main_table_countries_today\"] > tbody > tr > td > a')\n",
    "# Start with an empty list\n",
    "countries_with_detailed_data = []\n",
    "# Iterate through each element, and add the contents (country name) to a list\n",
    "for individual_element in country_elements:\n",
    "    countries_with_detailed_data.append(individual_element.contents[0])\n",
    "# Table is sorted by total cases. Sort alphabetically instead\n",
    "countries_with_detailed_data.sort()\n",
    "\n",
    "print(\"Can get detailed data for %s\" % countries_with_detailed_data)"
   ]
  },
  {
   "cell_type": "code",
   "execution_count": null,
   "metadata": {
    "scrolled": true
   },
   "outputs": [],
   "source": [
    "country = 'Canada'\n",
    "url = 'https://www.worldometers.info/coronavirus/country/' + country\n",
    "r = requests.get(url, headers=header).text\n",
    "\n",
    "soup = bs.BeautifulSoup(r, 'lxml')\n",
    "\n",
    "cases = soup.find('div', class_='col-md-12').get_text(strip=True)\n",
    "cases = cases.split(',', 100)\n",
    "del cases[0:8]\n",
    "\n",
    "scripts = soup.select('script[type=\"text/javascript\"]')\n",
    "for individual_script in scripts:\n",
    "    individual_script = individual_script.get_text(strip=True)\n",
    "    if(\"coronavirus-deaths-linear\" in individual_script):\n",
    "        deaths = individual_script\n",
    "deaths = deaths.split(',', 100)\n",
    "\n",
    "#print(cases)\n",
    "#print(deaths)"
   ]
  },
  {
   "cell_type": "code",
   "execution_count": null,
   "metadata": {},
   "outputs": [],
   "source": [
    "case_dates = cases[0:38]\n",
    "\n",
    "for i in range(0,len(case_dates)):\n",
    "    case_dates[i] = case_dates[i][:-1]\n",
    "    case_dates[i] = case_dates[i][1:]\n",
    "    \n",
    "case_dates[len(case_dates)-1] = case_dates[len(case_dates)-1][:-10]\n",
    "case_dates[0] = case_dates[0][44:]\n",
    "\n",
    "#print(case_dates)\n",
    "#len(case_dates)"
   ]
  },
  {
   "cell_type": "code",
   "execution_count": null,
   "metadata": {},
   "outputs": [],
   "source": [
    "case_data = cases[46:84]\n",
    "\n",
    "case_data[len(case_data)-1] = case_data[len(case_data)-1][:-11]    \n",
    "case_data[0] = case_data[0][20:]\n",
    "\n",
    "for i in range(0,len(case_data)):\n",
    "    case_data[i] = int(case_data[i])\n",
    "\n",
    "#print(case_data)\n",
    "#len(case_data)"
   ]
  },
  {
   "cell_type": "code",
   "execution_count": null,
   "metadata": {},
   "outputs": [],
   "source": [
    "death_data = deaths[50:88]\n",
    "\n",
    "death_data[len(death_data)-1] = death_data[len(death_data)-1][:-15]    \n",
    "death_data[0] = death_data[0][24:]\n",
    "\n",
    "for i in range(0,len(death_data)):\n",
    "    death_data[i] = int(death_data[i])\n",
    "\n",
    "#print(death_data)\n",
    "#len(death_data)"
   ]
  },
  {
   "cell_type": "code",
   "execution_count": null,
   "metadata": {},
   "outputs": [],
   "source": [
    "df_country = pd.DataFrame(\n",
    "    {'Dates': case_dates,\n",
    "     'Cases': case_data,\n",
    "     'Deaths': death_data\n",
    "    })\n",
    "\n",
    "df_country = df_country.fillna(0)\n",
    "\n",
    "file_name = './Data/Countries/' + country + '.csv'\n",
    "df_country.to_csv(file_name)\n"
   ]
  },
  {
   "cell_type": "code",
   "execution_count": null,
   "metadata": {},
   "outputs": [],
   "source": []
  },
  {
   "cell_type": "code",
   "execution_count": null,
   "metadata": {},
   "outputs": [],
   "source": []
  },
  {
   "cell_type": "code",
   "execution_count": null,
   "metadata": {},
   "outputs": [],
   "source": []
  }
 ],
 "metadata": {
  "kernelspec": {
   "display_name": "Python 3",
   "language": "python",
   "name": "python3"
  },
  "language_info": {
   "codemirror_mode": {
    "name": "ipython",
    "version": 3
   },
   "file_extension": ".py",
   "mimetype": "text/x-python",
   "name": "python",
   "nbconvert_exporter": "python",
   "pygments_lexer": "ipython3",
   "version": "3.6.5"
  }
 },
 "nbformat": 4,
 "nbformat_minor": 2
}
