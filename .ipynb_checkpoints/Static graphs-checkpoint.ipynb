{
 "cells": [
  {
   "cell_type": "code",
   "execution_count": null,
   "metadata": {},
   "outputs": [],
   "source": [
    "import plotly\n",
    "import plotly.express as px\n",
    "import plotly.graph_objects as go\n",
    "import numpy as np\n",
    "import pandas as pd\n",
    "import numpy as np\n",
    "from os import listdir\n",
    "from os.path import isfile, join\n",
    "from datetime import date\n",
    "import matplotlib.pyplot as plt"
   ]
  },
  {
   "cell_type": "markdown",
   "metadata": {},
   "source": [
    "# Line graphs"
   ]
  },
  {
   "cell_type": "code",
   "execution_count": null,
   "metadata": {},
   "outputs": [],
   "source": [
    "df = pd.read_csv('./Data/timeseries.csv')\n",
    "mcases = df['Cases'].max()\n",
    "mdeaths = df['Deaths'].max()\n",
    "mnewcases = df['New Cases'].max()\n",
    "\n",
    "countries = ['USA', 'China', 'S', 'Norway', 'Germany', 'Italy', 'Australia', 'Turkey', \n",
    "             'Spain', 'France', 'UK', 'Canada', 'Iran']"
   ]
  },
  {
   "cell_type": "code",
   "execution_count": null,
   "metadata": {
    "scrolled": false
   },
   "outputs": [],
   "source": [
    "for col in ['Cases', 'Deaths','Active Cases','New Cases Last Week','New Deaths Last Week', \n",
    "            'CGR Last Week', 'DGR Last Week']:\n",
    "    \n",
    "    \n",
    "    fig = px.line(df[df['Country'].isin(countries)], x=\"Day0\", y=col, color=\"Country\",range_x=[20,'Day0'], range_y=[0,col])\n",
    "    fig.update_layout(title=col+' by Country over Time')\n",
    "    fig.show()"
   ]
  },
  {
   "cell_type": "code",
   "execution_count": null,
   "metadata": {},
   "outputs": [],
   "source": [
    "x=np.arange(10,mcases*10,10000)\n",
    "y=np.arange(10,mdeaths*10,10000)\n",
    "lethality = [0.005,0.01,0.02,0.04,0.06,0.1]\n",
    "greyscale = np.flip(np.cumsum([250/len(lethality) for x in lethality]))\n",
    "lgs = list(zip(lethality,greyscale))\n",
    "countries = ['China','USA','Germany','Italy','UK','Turkey','Spain','France']"
   ]
  },
  {
   "cell_type": "code",
   "execution_count": null,
   "metadata": {},
   "outputs": [],
   "source": [
    "fig = px.line(df[df['Country'].isin(countries)], x=\"Day0\", y=\"CFR_Total\",\n",
    "              color=\"Country\", hover_name=\"Country\",range_x=[50,85],range_y=[0,0.12])\n",
    "fig.update_layout(title='Total Case Fatality Rate (CFR) by Country over Time')\n",
    "fig.show()"
   ]
  },
  {
   "cell_type": "code",
   "execution_count": null,
   "metadata": {},
   "outputs": [],
   "source": [
    "fig = px.line(df[df['Country'].isin(countries)], x=\"Day0\", y=\"CFR_Current\",\n",
    "              color=\"Country\", hover_name=\"Country\",range_x=[50,85],range_y=[0,1])\n",
    "fig.update_layout(title='Current Case Fatality Rate (CFR) by Country over Time')\n",
    "fig.show()"
   ]
  },
  {
   "cell_type": "code",
   "execution_count": null,
   "metadata": {},
   "outputs": [],
   "source": [
    "df_cases = pd.read_csv('./Data/Stats/Cases.csv', index_col=0)"
   ]
  },
  {
   "cell_type": "code",
   "execution_count": null,
   "metadata": {
    "scrolled": false
   },
   "outputs": [],
   "source": [
    "def index_X_cases(df=df_cases,X_cases=200):\n",
    "    \"\"\"Produces a dataframe that sets the index to 0 at X cases and removes all preceeding observations\"\"\"\n",
    "    \n",
    "    # cycle through columns and reset index at X_cases\n",
    "    country_dfs = []\n",
    "    for c in df.columns:\n",
    "        dfc = df[[c]]\n",
    "        dfc = dfc[dfc[c]>=X_cases]\n",
    "        dfc.reset_index(drop=True,inplace=True)\n",
    "        country_dfs.append(dfc)\n",
    "    return pd.concat(country_dfs,axis=1)\n",
    "    \n",
    "# plot index_X_cases \n",
    "fig,ax = plt.subplots(figsize=(18.5,9))\n",
    "X_cases = 200\n",
    "ax.set_title('Cases starting at {} over time'.format(X_cases))\n",
    "ax.set_xlabel('Days after {} case numbers reached'.format(X_cases))\n",
    "ax.set_ylabel('Cases')\n",
    "\n",
    "index_X_cases(df_cases,X_cases).plot(ax=ax)\n"
   ]
  },
  {
   "cell_type": "markdown",
   "metadata": {},
   "source": [
    "# Area graphs"
   ]
  },
  {
   "cell_type": "code",
   "execution_count": null,
   "metadata": {},
   "outputs": [],
   "source": [
    "df = pd.read_csv('./Data/timeseries.csv')\n",
    "mcases = df['Cases'].max()\n",
    "mdeaths = df['Deaths'].max()\n",
    "mnewcases = df['New Cases'].max()"
   ]
  },
  {
   "cell_type": "code",
   "execution_count": null,
   "metadata": {
    "scrolled": false
   },
   "outputs": [],
   "source": [
    "for col in ['Cases', 'Deaths','Active Cases','Daily Deaths','New Cases Last Week','New Deaths Last Week']:\n",
    "    \n",
    "    fig = px.area(df, x=\"Day0\", y=col, color=\"Country\", range_x=[20,'Day0'], range_y=[0,col])\n",
    "    fig.update_layout(title=col+' by Country over Time')\n",
    "    fig.show()"
   ]
  },
  {
   "cell_type": "markdown",
   "metadata": {},
   "source": [
    "# Scatter plots"
   ]
  },
  {
   "cell_type": "code",
   "execution_count": null,
   "metadata": {},
   "outputs": [],
   "source": [
    "df = pd.read_csv('./Data/world_info.csv')\n",
    "\n",
    "df.columns = ['Unnamed','Country', 'Total Cases', 'New Cases', 'Total Deaths', 'New Deaths', 'Total Recovered', \n",
    "           'Active Cases', 'Critical cases', 'Cases per 1M', 'Deaths per 1M', 'Total Tests', 'Test per 1M']\n",
    "df = df.set_index('Country')\n",
    "df = df.drop(df.columns[[0]], axis=1)\n",
    "\n",
    "df.drop(df.tail(1).index,inplace=True)        #removes total row\n",
    "df.drop(df.head(1).index,inplace=True)        #removes total row"
   ]
  },
  {
   "cell_type": "code",
   "execution_count": null,
   "metadata": {},
   "outputs": [],
   "source": [
    "#Plot cases vs deaths on a scatter plot with log scale\n",
    "fig = px.scatter(df, x=\"Total Cases\", y=\"Total Deaths\", color=df.index, \n",
    "                 hover_name=df.index, text=df.index, trendline='ols', log_x=True, log_y=True)\n",
    "fig.update_layout(title='Deaths and cases of each country')\n",
    "fig.show()"
   ]
  },
  {
   "cell_type": "code",
   "execution_count": null,
   "metadata": {},
   "outputs": [],
   "source": [
    "#Plot cases vs deaths on a scatter plot\n",
    "fig = px.scatter(df, x=\"Total Cases\", y=\"Total Deaths\", color=df.index, \n",
    "                 hover_name=df.index, text=df.index, trendline='ols')\n",
    "fig.update_layout(title='Deaths and cases of each country')\n",
    "fig.show()"
   ]
  },
  {
   "cell_type": "markdown",
   "metadata": {},
   "source": [
    "# Bar graphs"
   ]
  },
  {
   "cell_type": "code",
   "execution_count": null,
   "metadata": {},
   "outputs": [],
   "source": [
    "#bar chart of total cases by country\n",
    "df = df.sort_values(by='Total Cases', ascending=0)\n",
    "\n",
    "fig = px.bar(df, x=df.index, y='Total Cases')\n",
    "fig.show()"
   ]
  },
  {
   "cell_type": "code",
   "execution_count": null,
   "metadata": {},
   "outputs": [],
   "source": [
    "#bar chart of deaths by country\n",
    "df = df.sort_values(by='Total Deaths', ascending=0)\n",
    "objects = df.index[0:20]\n",
    "y_pos = np.arange(len(objects))\n",
    "x = df.iloc[0:20,2]\n",
    "\n",
    "plt.bar(y_pos, x, align='center', alpha=0.7)\n",
    "plt.xticks(y_pos, objects)\n",
    "plt.ylabel('Total Deaths')\n",
    "plt.title('Total deaths per country')\n",
    "\n",
    "fig = plt.gcf()\n",
    "fig.set_size_inches(18.5, 9)\n",
    "plt.show()\n"
   ]
  },
  {
   "cell_type": "markdown",
   "metadata": {},
   "source": [
    "# Analysis graphs"
   ]
  },
  {
   "cell_type": "code",
   "execution_count": null,
   "metadata": {},
   "outputs": [],
   "source": [
    "df = pd.read_csv('./Data/timeseries.csv')\n",
    "mcases = df['Cases'].max()\n",
    "mdeaths = df['Deaths'].max()\n",
    "mnewcases = df['New Cases'].max()"
   ]
  },
  {
   "cell_type": "code",
   "execution_count": null,
   "metadata": {},
   "outputs": [],
   "source": [
    "fig = px.line(df, x=\"Cases\", y=\"New Cases Last Week\",\n",
    "              color=\"Country\", hover_name=\"Country\",\n",
    "                 range_x=[500,mcases], range_y=[400,mnewcases],log_x=True,log_y=True,)\n",
    "fig.update_layout(title='Evolution of New Cases Last Week and Cases by Country over Time')\n",
    "plotly.offline.plot(fig, filename = './Saved graphs/CasesNewCasesLogStatic.html', auto_open=False)\n",
    "fig.show()"
   ]
  },
  {
   "cell_type": "code",
   "execution_count": null,
   "metadata": {},
   "outputs": [],
   "source": [
    "x=np.arange(10,mcases*10,10000)\n",
    "y=np.arange(10,mdeaths*10,10000)\n",
    "lethality = [0.005,0.01,0.02,0.04,0.06,0.1]\n",
    "greyscale = np.flip(np.cumsum([250/len(lethality) for x in lethality]))\n",
    "lgs = list(zip(lethality,greyscale))\n",
    "countries = ['China','USA','Germany','Italy','UK','Turkey','Spain','France']\n",
    "\n",
    "\n",
    "fig = go.Figure()\n",
    "\n",
    "for l,gs in lgs:\n",
    "    fig.add_trace(go.Scatter(x=x, y=x*l, mode='lines',\n",
    "        name=str(round(l*100,1))+'%',text=str(round(l*100,0))+'%',\n",
    "        marker_color='rgb({},{},{})'.format(gs,gs,gs)\n",
    "                            )\n",
    "                 )\n",
    "\n",
    "\n",
    "for c in countries:\n",
    "    fig.add_trace(go.Scatter(x=df[df['Country']==c]['Cases'],\n",
    "                             y=df[df['Country']==c]['Deaths'],\n",
    "                             mode='lines+markers',text=c,name=c))\n",
    "\n",
    "fig.update_layout(title=\"Deaths over Cases incl. Case Fatality Rate (CFR) Iso Lines\",\n",
    "                  xaxis_title=\"Cases\",\n",
    "                  yaxis_title=\"Deaths\",\n",
    "                  xaxis_type=\"log\", yaxis_type=\"log\",)\n",
    "fig.update_xaxes(range=[1, 6])\n",
    "fig.update_yaxes(range=[0.4, 5])  \n",
    "plotly.offline.plot(fig, filename = './Saved graphs/CFRLines.html', auto_open=False)\n",
    "\n",
    "\n",
    "fig.show()"
   ]
  },
  {
   "cell_type": "code",
   "execution_count": null,
   "metadata": {},
   "outputs": [],
   "source": [
    "fig = px.scatter(df[df['Country'].isin(countries)], x=\"New Cases\", y=\"New Deaths\",\n",
    "                 color=\"Country\", hover_name=\"Country\",trendline=\"ols\",\n",
    "                 #log_x=True,log_y=True,#range_x=[200,20000],range_y=[20,2000]\n",
    "                )\n",
    "fig.update_layout(title='New Deaths over New Cases by Country')\n",
    "fig.show()"
   ]
  },
  {
   "cell_type": "code",
   "execution_count": null,
   "metadata": {},
   "outputs": [],
   "source": [
    "def index_X_cases(df=df,X_cases=200):\n",
    "    \"\"\"Produces a dataframe that sets the index to 0 at X cases and removes all preceeding observations\"\"\"\n",
    "    \n",
    "    # cycle through columns and reset index at X_cases\n",
    "    country_dfs = []\n",
    "    for c in df['Country'].unique():\n",
    "        dfc = df[df['Country']==c]\n",
    "        dfc = dfc[dfc['Cases']>=X_cases]\n",
    "        #dfc.sort_values('Cases',inplace=True)\n",
    "        dfc.reset_index(drop=True,inplace=True)\n",
    "        dfc.reset_index(inplace=True)\n",
    "        dfc = dfc.rename(columns={'index':'Day{}'.format(X_cases)})\n",
    "        country_dfs.append(dfc)\n",
    "    return pd.concat(country_dfs,axis=0)\n",
    "    \n",
    "# df index_X_cases \n",
    "df200 = index_X_cases(df,200)\n",
    "#df200"
   ]
  },
  {
   "cell_type": "code",
   "execution_count": null,
   "metadata": {},
   "outputs": [],
   "source": [
    "df = df200\n",
    "\n",
    "fig = go.Figure()\n",
    "\n",
    "for c in countries:\n",
    "    fig.add_trace(go.Scatter(x=df[df['Country']==c]['Day200'],\n",
    "                             y=df[df['Country']==c]['Cases'],\n",
    "                             mode='lines+markers',text=c,name=c))\n",
    "\n",
    "fig.update_layout(title=\"Cases over days reset at 200 cases by country\",\n",
    "                  xaxis_title=\"Days since 200 cases\",\n",
    "                  yaxis_title=\"Cases\", \n",
    "                  yaxis_type=\"log\",)\n",
    "\n",
    "fig.show()\n",
    "\n",
    "fig = go.Figure()\n",
    "\n",
    "for l,gs in lgs:\n",
    "    fig.add_trace(go.Scatter(x=x, y=x*l, mode='lines',\n",
    "        name=str(round(l*100,1))+'%',text=str(round(l*100,0))+'%',\n",
    "        marker_color='rgb({},{},{})'.format(gs,gs,gs)\n",
    "                            )\n",
    "                 )"
   ]
  },
  {
   "cell_type": "markdown",
   "metadata": {},
   "source": [
    "# Work in progress"
   ]
  },
  {
   "cell_type": "code",
   "execution_count": null,
   "metadata": {},
   "outputs": [],
   "source": [
    "from scipy.optimize import curve_fit\n",
    "\n",
    "\n",
    "def func(x, a, b, c):\n",
    "    return a * np.exp(b * x) + c\n",
    "\n",
    "def projection(df):\n",
    "    country_dfs = []\n",
    "    for c in df['Country'].unique():\n",
    "        # filter for country\n",
    "        dfc = df[df['Country']==c]\n",
    "        \n",
    "        # create vectors for curve fit\n",
    "        x = dfc['Day200']\n",
    "        y = dfc['Cases']\n",
    "        \n",
    "        # curve fit (func = exp function)\n",
    "        popt, pcov = curve_fit(func, x, y, p0=[0,0,0], maxfev=5000)        \n",
    "        \n",
    "        # save result\n",
    "        dff = pd.DataFrame({'Day200':np.arange(x.max(),50,1),'Cases_fit':func(np.arange(x.max(),50,1), *popt)})\n",
    "        dff['Country']=c  \n",
    "        # merge result\n",
    "        dfc = dfc.merge(dff,x)\n",
    "        print(dfc)\n",
    "        country_dfs.append(dfc)\n",
    "    \n",
    "    # merge all country dfs\n",
    "    dfc = pd.concat(country_dfs,axis=1)\n",
    "    return dfc\n",
    "projection(df200)"
   ]
  },
  {
   "cell_type": "code",
   "execution_count": null,
   "metadata": {},
   "outputs": [],
   "source": []
  },
  {
   "cell_type": "code",
   "execution_count": null,
   "metadata": {},
   "outputs": [],
   "source": [
    "df = projection(df200)\n",
    "\n",
    "df#[df['Country']=='USA']"
   ]
  },
  {
   "cell_type": "code",
   "execution_count": null,
   "metadata": {},
   "outputs": [],
   "source": [
    "fig = go.Figure()\n",
    "\n",
    "df = projection(df200)\n",
    "\n",
    "for c in countries:\n",
    "    fig.add_trace(go.Scatter(x=df[df['Country']==c]['Day200'],\n",
    "                             y=df[df['Country']==c]['Cases'],\n",
    "                             mode='lines+markers',text=c,name=c,))\n",
    "    #fig.add_trace(go.Scatter(x=df[df['Country']==c]['Day200'],\n",
    "    #                         y=df[df['Country']==c]['Cases_fit'],\n",
    "    #                         mode='lines',text=c,name=c,dash='dot'))\n",
    "\n",
    "fig.update_layout(title=\"Cases and Prediction over days reset at 200 cases by country\",\n",
    "                  xaxis_title=\"Days since 200 cases\",\n",
    "                  yaxis_title=\"Cases\", \n",
    "                  xaxis_type=\"log\",\n",
    "                  yaxis_type=\"log\",)\n",
    "fig.update_yaxes(range=[0.4, 4.2])  \n",
    "\n",
    "fig.show()"
   ]
  },
  {
   "cell_type": "code",
   "execution_count": null,
   "metadata": {},
   "outputs": [],
   "source": []
  },
  {
   "cell_type": "code",
   "execution_count": null,
   "metadata": {},
   "outputs": [],
   "source": []
  },
  {
   "cell_type": "code",
   "execution_count": null,
   "metadata": {},
   "outputs": [],
   "source": []
  }
 ],
 "metadata": {
  "kernelspec": {
   "display_name": "Python 3",
   "language": "python",
   "name": "python3"
  },
  "language_info": {
   "codemirror_mode": {
    "name": "ipython",
    "version": 3
   },
   "file_extension": ".py",
   "mimetype": "text/x-python",
   "name": "python",
   "nbconvert_exporter": "python",
   "pygments_lexer": "ipython3",
   "version": "3.6.5"
  }
 },
 "nbformat": 4,
 "nbformat_minor": 2
}
