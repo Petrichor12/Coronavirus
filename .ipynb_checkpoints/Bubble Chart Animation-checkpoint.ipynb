{
 "cells": [
  {
   "cell_type": "code",
   "execution_count": null,
   "metadata": {},
   "outputs": [],
   "source": [
    "import plotly\n",
    "import plotly.express as px\n",
    "import plotly.graph_objects as go\n",
    "import numpy as np\n",
    "import pandas as pd\n",
    "import numpy as np\n",
    "from os import listdir\n",
    "from os.path import isfile, join\n",
    "from datetime import date"
   ]
  },
  {
   "cell_type": "code",
   "execution_count": null,
   "metadata": {},
   "outputs": [],
   "source": [
    "#read in data\n",
    "df = pd.read_csv('./Data/timeseries.csv')"
   ]
  },
  {
   "cell_type": "markdown",
   "metadata": {},
   "source": [
    "# Area Chart"
   ]
  },
  {
   "cell_type": "code",
   "execution_count": null,
   "metadata": {
    "scrolled": false
   },
   "outputs": [],
   "source": [
    "for col in ['Cases', 'Deaths','Active Cases','Daily Deaths','New Cases Last Week','New Deaths Last Week']:\n",
    "    \n",
    "    fig = px.area(df, x=\"Day0\", y=col, color=\"Country\",)\n",
    "    fig.update_layout(title=col+' by Country over Time')\n",
    "    fig.show()"
   ]
  },
  {
   "cell_type": "markdown",
   "metadata": {},
   "source": [
    "# Line Chart"
   ]
  },
  {
   "cell_type": "code",
   "execution_count": null,
   "metadata": {
    "scrolled": false
   },
   "outputs": [],
   "source": [
    "for col in ['Cases', 'Deaths','Active Cases','Daily Deaths','New Cases Last Week','New Deaths Last Week']:\n",
    "    \n",
    "    fig = px.line(df, x=\"Day0\", y=col, color=\"Country\",)\n",
    "    fig.update_layout(title=col+' by Country over Time')\n",
    "    fig.show()"
   ]
  },
  {
   "cell_type": "markdown",
   "metadata": {},
   "source": [
    "# Animations"
   ]
  },
  {
   "cell_type": "code",
   "execution_count": null,
   "metadata": {},
   "outputs": [],
   "source": [
    "fig = px.scatter(df, x=\"Cases\", y=\"Deaths\", animation_frame=\"Day0\",\n",
    "           size=\"Daily Deaths\", color=\"Country\", hover_name=\"Country\",animation_group=\"Country\",text=\"Country\",\n",
    "                 range_x=[0,mcases], range_y=[0,mdeaths],trendline='ols')\n",
    "fig.update_layout(title='Evolution of Deaths and Cases by Country over Time')\n",
    "fig.show()"
   ]
  },
  {
   "cell_type": "code",
   "execution_count": null,
   "metadata": {
    "scrolled": false
   },
   "outputs": [],
   "source": [
    "fig = px.line(df, x=\"Cases\", y=\"New Cases Last Week\",\n",
    "              color=\"Country\", hover_name=\"Country\",\n",
    "                 range_x=[500,mcases], range_y=[400,mnewcases],log_x=True,log_y=True,)\n",
    "fig.update_layout(title='Evolution of New Cases Last Week and Cases by Country over Time')\n",
    "plotly.offline.plot(fig, filename = './Saved graphs/CasesNewCasesLogStatic.html', auto_open=False)\n",
    "fig.show()"
   ]
  },
  {
   "cell_type": "code",
   "execution_count": null,
   "metadata": {},
   "outputs": [],
   "source": [
    "fig = px.line(df, x=\"Cases\", y=\"New Deaths Last Week\",\n",
    "              color=\"Country\", hover_name=\"Country\",\n",
    "                 range_x=[500,mcases], range_y=[5,mnewdeaths],log_x=True,log_y=True,)\n",
    "fig.update_layout(title='Evolution of New Deaths Last Week and Cases by Country over Time')\n",
    "fig.show()"
   ]
  },
  {
   "cell_type": "code",
   "execution_count": null,
   "metadata": {},
   "outputs": [],
   "source": [
    "fig = px.line(df, x=\"Cases\", y=\"New Cases Last Week\",animation_frame='Day0',\n",
    "              color=\"Country\", hover_name=\"Country\",text=\"Country\",\n",
    "                 range_x=[500,mcases], range_y=[400,mnewcases],log_x=True,log_y=True,)\n",
    "fig.update_layout(title='Evolution of New Cases Last Week and Cases by Country over Time')\n",
    "plotly.offline.plot(fig, filename = './Saved graphs/CasesNewCasesLogAnimated.html', auto_open=False)\n",
    "\n",
    "fig.show()\n"
   ]
  },
  {
   "cell_type": "code",
   "execution_count": null,
   "metadata": {
    "scrolled": false
   },
   "outputs": [],
   "source": [
    "fig = px.line(df, x=\"Cases\", y=\"New Deaths Last Week\",animation_frame='Day0',\n",
    "              color=\"Country\", hover_name=\"Country\",text=\"Country\",\n",
    "                 range_x=[500,mcases], range_y=[1,mnewdeaths],log_x=True,log_y=True,)\n",
    "fig.update_layout(title='Evolution of New Deaths Last Week and Cases by Country over Time')\n",
    "fig.show()\n",
    "\n"
   ]
  },
  {
   "cell_type": "markdown",
   "metadata": {},
   "source": [
    "# Case Fatality Analysis"
   ]
  },
  {
   "cell_type": "code",
   "execution_count": null,
   "metadata": {
    "scrolled": false
   },
   "outputs": [],
   "source": [
    "x=np.arange(10,mcases*10,10000)\n",
    "y=np.arange(10,mdeaths*10,10000)\n",
    "lethality = [0.005,0.01,0.02,0.04,0.06,0.1]\n",
    "greyscale = np.flip(np.cumsum([250/len(lethality) for x in lethality]))\n",
    "lgs = list(zip(lethality,greyscale))\n",
    "countries = ['China','USA','Germany','Italy','UK','Turkey','Spain','France']\n",
    "\n",
    "\n",
    "fig = go.Figure()\n",
    "\n",
    "for l,gs in lgs:\n",
    "    fig.add_trace(go.Scatter(x=x, y=x*l, mode='lines',\n",
    "        name=str(round(l*100,1))+'%',text=str(round(l*100,0))+'%',\n",
    "        marker_color='rgb({},{},{})'.format(gs,gs,gs)\n",
    "                            )\n",
    "                 )\n",
    "\n",
    "\n",
    "for c in countries:\n",
    "    fig.add_trace(go.Scatter(x=df[df['Country']==c]['Cases'],\n",
    "                             y=df[df['Country']==c]['Deaths'],\n",
    "                             mode='lines+markers',text=c,name=c))\n",
    "\n",
    "fig.update_layout(title=\"Deaths over Cases incl. Case Fatality Rate (CFR) Iso Lines\",\n",
    "                  xaxis_title=\"Cases\",\n",
    "                  yaxis_title=\"Deaths\",\n",
    "                  xaxis_type=\"log\", yaxis_type=\"log\",)\n",
    "fig.update_xaxes(range=[1, 6])\n",
    "fig.update_yaxes(range=[0.4, 4.2])  \n",
    "plotly.offline.plot(fig, filename = './Saved graphs/CFRLines.html', auto_open=False)\n",
    "\n",
    "\n",
    "fig.show()"
   ]
  },
  {
   "cell_type": "code",
   "execution_count": null,
   "metadata": {},
   "outputs": [],
   "source": [
    "fig = px.line(df[df['Country'].isin(countries)], x=\"Day0\", y=\"CFR_Total\",\n",
    "              color=\"Country\", hover_name=\"Country\",range_x=[50,85],range_y=[0,0.12])\n",
    "fig.update_layout(title='Case Fatality Rate (CFR) by Country over Time')\n",
    "fig.show()\n"
   ]
  },
  {
   "cell_type": "code",
   "execution_count": null,
   "metadata": {},
   "outputs": [],
   "source": [
    "fig = px.scatter(df[df['Country'].isin(countries)], x=\"NewCases\", y=\"NewDeaths\",\n",
    "                 color=\"Country\", hover_name=\"Country\",trendline=\"ols\",\n",
    "                 #log_x=True,log_y=True,#range_x=[200,20000],range_y=[20,2000]\n",
    "                )\n",
    "fig.update_layout(title='Case Fatality Rate (CFR) by Country over Time')\n",
    "fig.show()"
   ]
  },
  {
   "cell_type": "code",
   "execution_count": null,
   "metadata": {},
   "outputs": [],
   "source": []
  },
  {
   "cell_type": "code",
   "execution_count": null,
   "metadata": {},
   "outputs": [],
   "source": []
  },
  {
   "cell_type": "code",
   "execution_count": null,
   "metadata": {},
   "outputs": [],
   "source": []
  }
 ],
 "metadata": {
  "kernelspec": {
   "display_name": "Python 3",
   "language": "python",
   "name": "python3"
  },
  "language_info": {
   "codemirror_mode": {
    "name": "ipython",
    "version": 3
   },
   "file_extension": ".py",
   "mimetype": "text/x-python",
   "name": "python",
   "nbconvert_exporter": "python",
   "pygments_lexer": "ipython3",
   "version": "3.6.5"
  }
 },
 "nbformat": 4,
 "nbformat_minor": 4
}
