{
 "cells": [
  {
   "cell_type": "code",
   "execution_count": null,
   "metadata": {},
   "outputs": [],
   "source": [
    "import bs4 as bs\n",
    "import requests\n",
    "import urllib.request\n",
    "import pandas as pd\n",
    "import re"
   ]
  },
  {
   "cell_type": "code",
   "execution_count": null,
   "metadata": {},
   "outputs": [],
   "source": [
    "url = 'https://www.worldometers.info/coronavirus/'\n",
    "\n",
    "header = {\n",
    "  \"User-Agent\": \"Mozilla/5.0 (X11; Linux x86_64) AppleWebKit/537.36 (KHTML, like Gecko) Chrome/50.0.2661.75 Safari/537.36\",\n",
    "  \"X-Requested-With\": \"XMLHttpRequest\"\n",
    "}\n",
    "\n",
    "r = requests.get(url, headers=header)\n",
    "\n",
    "# Read text result into Pandas\n",
    "dfs = pd.read_html(r.text)\n",
    "# Look for the first table\n",
    "df = dfs[0]\n",
    "# Fill missing values with 0\n",
    "df = df.fillna(0)\n",
    "\n",
    "df.to_csv('./Data/world_info.csv')"
   ]
  },
  {
   "cell_type": "code",
   "execution_count": null,
   "metadata": {
    "scrolled": true
   },
   "outputs": [],
   "source": [
    "homepage_soup = bs.BeautifulSoup(r.text, 'lxml')\n",
    "# Using the table on the main page, only the countries with links (<a> tags) have detailed historical data.\n",
    "country_elements = homepage_soup.select('table[id=\"main_table_countries_today\"] > tbody > tr > td > a')\n",
    "# Start with an empty list\n",
    "countries_with_detailed_data = {}\n",
    "# Iterate through each element, and add the contents (country name) to a list\n",
    "for individual_element in country_elements:\n",
    "    country_name = individual_element.contents[0]\n",
    "    country_url = individual_element['href']\n",
    "    countries_with_detailed_data[country_name] = country_url\n",
    "\n",
    "print(\"Can get detailed data for %s\" % \", \".join(list(countries_with_detailed_data.keys())))"
   ]
  },
  {
   "cell_type": "code",
   "execution_count": null,
   "metadata": {
    "scrolled": true
   },
   "outputs": [],
   "source": [
    "# Looks for script elements that contain the JS stats by day, and extract x and y axis values\n",
    "def extractDataFromGraph(soup, chart_id):\n",
    "    scripts = soup.select('script[type=\"text/javascript\"]')\n",
    "    for individual_script in scripts:\n",
    "        individual_script = individual_script.get_text(strip=True)\n",
    "        if(chart_id in individual_script):\n",
    "            x_text = re.search('categories: \\[([^\\]]+)\\]', individual_script).group(1)\n",
    "            y_text = re.search('data: \\[([0-9, ]+)]', individual_script).group(1)\n",
    "            x_values = x_text.replace('\"', '').split(\",\")\n",
    "            y_values = y_text.split(\",\")\n",
    "    return (x_values, y_values)\n",
    "\n",
    "# Iterate over each country and extract the same data, save to CSV\n",
    "def getDetailedDataForCountry(country, url_part):\n",
    "    url = 'https://www.worldometers.info/coronavirus/' + url_part\n",
    "    r = requests.get(url, headers=header).text\n",
    "\n",
    "    soup = bs.BeautifulSoup(r, 'lxml')\n",
    "    dates, cases = extractDataFromGraph(soup, \"coronavirus-cases-linear\")\n",
    "    # a bit risky ignoring dates for the following, if for some reason they are different on different graphs\n",
    "    active_cases = extractDataFromGraph(soup, \"graph-active-cases-total\")[1]\n",
    "    deaths = extractDataFromGraph(soup, \"coronavirus-deaths-linear\")[1]\n",
    "    daily_deaths = extractDataFromGraph(soup, \"graph-deaths-daily\")[1]\n",
    "    # doesn't work: graph-cases-daily\n",
    "    df_country = pd.DataFrame(\n",
    "    {'Dates': dates,\n",
    "     'Cases': cases,\n",
    "     'Deaths': deaths,\n",
    "     'Active Cases': active_cases,\n",
    "     'Daily Deaths': daily_deaths\n",
    "    })\n",
    "    df_country = df_country.fillna(0)\n",
    "\n",
    "    file_name = './Data/Countries/' + country + '.csv'\n",
    "    df_country.to_csv(file_name)\n",
    "\n",
    "# Execute the functions to collect data for all countries\n",
    "for country, url in countries_with_detailed_data.items():\n",
    "    getDetailedDataForCountry(country, url)"
   ]
  },
  {
   "cell_type": "code",
   "execution_count": null,
   "metadata": {},
   "outputs": [],
   "source": []
  },
  {
   "cell_type": "code",
   "execution_count": null,
   "metadata": {},
   "outputs": [],
   "source": []
  },
  {
   "cell_type": "code",
   "execution_count": null,
   "metadata": {},
   "outputs": [],
   "source": []
  }
 ],
 "metadata": {
  "kernelspec": {
   "display_name": "Python 3",
   "language": "python",
   "name": "python3"
  },
  "language_info": {
   "codemirror_mode": {
    "name": "ipython",
    "version": 3
   },
   "file_extension": ".py",
   "mimetype": "text/x-python",
   "name": "python",
   "nbconvert_exporter": "python",
   "pygments_lexer": "ipython3",
   "version": "3.7.6"
  }
 },
 "nbformat": 4,
 "nbformat_minor": 2
}
