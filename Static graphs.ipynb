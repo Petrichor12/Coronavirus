{
 "cells": [
  {
   "cell_type": "code",
   "execution_count": 1,
   "metadata": {
    "scrolled": false
   },
   "outputs": [],
   "source": [
    "import plotly\n",
    "import plotly.express as px\n",
    "import plotly.graph_objects as go\n",
    "import numpy as np\n",
    "import pandas as pd\n",
    "import numpy as np\n",
    "from os import listdir\n",
    "from os.path import isfile, join\n",
    "from datetime import date\n",
    "import matplotlib.pyplot as plt"
   ]
  },
  {
   "cell_type": "markdown",
   "metadata": {},
   "source": [
    "# Line graphs"
   ]
  },
  {
   "cell_type": "code",
   "execution_count": 2,
   "metadata": {
    "scrolled": false
   },
   "outputs": [],
   "source": [
    "df = pd.read_csv('./Data/timeseries.csv')\n",
    "mcases = df['Cases'].max()\n",
    "mdeaths = df['Deaths'].max()\n",
    "mnewcases = df['New Cases'].max()\n",
    "\n",
    "countries = ['USA', 'China', 'S', 'Norway', 'Germany', 'Italy', 'Australia', 'Turkey', \n",
    "             'Spain', 'France', 'UK', 'Canada', 'Iran']"
   ]
  },
  {
   "cell_type": "code",
   "execution_count": null,
   "metadata": {
    "scrolled": false
   },
   "outputs": [],
   "source": [
    "for col in ['Cases', 'Deaths','Active Cases','New Cases Last Week','New Deaths Last Week', \n",
    "            'CGR Last Week', 'DGR Last Week']:\n",
    "    \n",
    "    fig = px.line(df[df['Country'].isin(countries)], x=\"Day0\", y=col, color=\"Country\",range_x=[20,'Day0'], range_y=[0,col])\n",
    "    fig.update_layout(title=col+' by Country over Time')\n",
    "    fig.show()"
   ]
  },
  {
   "cell_type": "code",
   "execution_count": null,
   "metadata": {
    "scrolled": false
   },
   "outputs": [],
   "source": [
    "x=np.arange(10,mcases*10,10000)\n",
    "y=np.arange(10,mdeaths*10,10000)\n",
    "lethality = [0.005,0.01,0.02,0.04,0.06,0.1]\n",
    "greyscale = np.flip(np.cumsum([250/len(lethality) for x in lethality]))\n",
    "lgs = list(zip(lethality,greyscale))\n",
    "countries = ['China','USA','Germany','Italy','UK','Turkey','Spain','France']"
   ]
  },
  {
   "cell_type": "code",
   "execution_count": null,
   "metadata": {
    "scrolled": false
   },
   "outputs": [],
   "source": [
    "fig = px.line(df[df['Country'].isin(countries)], x=\"Day0\", y=\"CFR_Total\",\n",
    "              color=\"Country\", hover_name=\"Country\",range_x=[50,85],range_y=[0,0.12])\n",
    "fig.update_layout(title='Total Case Fatality Rate (CFR) by Country over Time')\n",
    "fig.show()"
   ]
  },
  {
   "cell_type": "code",
   "execution_count": null,
   "metadata": {
    "scrolled": false
   },
   "outputs": [],
   "source": [
    "fig = px.line(df[df['Country'].isin(countries)], x=\"Day0\", y=\"CFR_Current\",\n",
    "              color=\"Country\", hover_name=\"Country\",range_x=[50,85],range_y=[0,1])\n",
    "fig.update_layout(title='Current Case Fatality Rate (CFR) by Country over Time')\n",
    "fig.show()"
   ]
  },
  {
   "cell_type": "code",
   "execution_count": null,
   "metadata": {
    "scrolled": false
   },
   "outputs": [],
   "source": [
    "df_cases = pd.read_csv('./Data/Stats/Cases.csv', index_col=0)"
   ]
  },
  {
   "cell_type": "code",
   "execution_count": null,
   "metadata": {
    "scrolled": false
   },
   "outputs": [],
   "source": [
    "def index_X_cases(df=df_cases,X_cases=200):\n",
    "    \"\"\"Produces a dataframe that sets the index to 0 at X cases and removes all preceeding observations\"\"\"\n",
    "    \n",
    "    # cycle through columns and reset index at X_cases\n",
    "    country_dfs = []\n",
    "    for c in df.columns:\n",
    "        dfc = df[[c]]\n",
    "        dfc = dfc[dfc[c]>=X_cases]\n",
    "        dfc.reset_index(drop=True,inplace=True)\n",
    "        country_dfs.append(dfc)\n",
    "    return pd.concat(country_dfs,axis=1)"
   ]
  },
  {
   "cell_type": "markdown",
   "metadata": {},
   "source": [
    "# Area graphs"
   ]
  },
  {
   "cell_type": "code",
   "execution_count": null,
   "metadata": {
    "scrolled": false
   },
   "outputs": [],
   "source": [
    "df = pd.read_csv('./Data/timeseries.csv')\n",
    "mcases = df['Cases'].max()\n",
    "mdeaths = df['Deaths'].max()\n",
    "mnewcases = df['New Cases'].max()"
   ]
  },
  {
   "cell_type": "code",
   "execution_count": null,
   "metadata": {
    "scrolled": false
   },
   "outputs": [],
   "source": [
    "for col in ['Cases', 'Deaths','Active Cases','New Cases Last Week','New Deaths Last Week']:\n",
    "    \n",
    "    fig = px.area(df, x=\"Day0\", y=col, color=\"Country\", range_x=[20,'Day0'], range_y=[0,col])\n",
    "    fig.update_layout(title=col+' by Country over Time')\n",
    "    plotly.offline.plot(fig, filename = './Saved graphs/Static graphs/AreaGraphsStatic.html', auto_open=False)\n",
    "    fig.show()"
   ]
  },
  {
   "cell_type": "markdown",
   "metadata": {},
   "source": [
    "# Scatter plots"
   ]
  },
  {
   "cell_type": "code",
   "execution_count": 39,
   "metadata": {
    "scrolled": false
   },
   "outputs": [],
   "source": [
    "df = pd.read_csv('./Data/world_info.csv')\n",
    "\n",
    "df.columns = ['Unnamed','Country', 'Total Cases', 'New Cases', 'Total Deaths', 'New Deaths', 'Total Recovered', \n",
    "           'Active Cases', 'Critical cases', 'Cases per 1M', 'Deaths per 1M', 'Total Tests', 'Test per 1M']\n",
    "df = df.set_index('Country')\n",
    "df = df.drop(df.columns[[0]], axis=1)\n",
    "\n",
    "df.drop(df.tail(1).index,inplace=True)        #removes total row\n",
    "df.drop(df.head(1).index,inplace=True)        #removes total row"
   ]
  },
  {
   "cell_type": "code",
   "execution_count": null,
   "metadata": {
    "scrolled": false
   },
   "outputs": [],
   "source": [
    "#Plot cases vs deaths on a scatter plot with log scale\n",
    "fig = px.scatter(df, x=\"Total Cases\", y=\"Total Deaths\", color=df.index, \n",
    "                 hover_name=df.index, text=df.index, trendline='ols', log_x=True, log_y=True)\n",
    "fig.update_layout(title='Deaths and cases of each country')\n",
    "fig.show()\n",
    "plotly.offline.plot(fig, filename = './Saved graphs/Static graphs/CasesDeathsScatterLogStatic.html', auto_open=False)"
   ]
  },
  {
   "cell_type": "code",
   "execution_count": null,
   "metadata": {
    "scrolled": false
   },
   "outputs": [],
   "source": [
    "#Plot cases vs deaths on a scatter plot\n",
    "fig = px.scatter(df, x=\"Total Cases\", y=\"Total Deaths\", color=df.index, \n",
    "                 hover_name=df.index, text=df.index, trendline='ols')\n",
    "fig.update_layout(title='Deaths and cases of each country')\n",
    "fig.show()"
   ]
  },
  {
   "cell_type": "markdown",
   "metadata": {},
   "source": [
    "# Bar graphs"
   ]
  },
  {
   "cell_type": "code",
   "execution_count": null,
   "metadata": {
    "scrolled": false
   },
   "outputs": [],
   "source": [
    "#bar chart of total cases by country\n",
    "df = df.sort_values(by='Total Cases', ascending=0)\n",
    "\n",
    "fig = px.bar(df, x=df.index, y='Total Cases')\n",
    "fig.show()"
   ]
  },
  {
   "cell_type": "code",
   "execution_count": null,
   "metadata": {
    "scrolled": false
   },
   "outputs": [],
   "source": [
    "#bar chart of deaths by country\n",
    "df = df.sort_values(by='Total Deaths', ascending=0)\n",
    "objects = df.index[0:20]\n",
    "y_pos = np.arange(len(objects))\n",
    "x = df.iloc[0:20,2]\n",
    "\n",
    "plt.bar(y_pos, x, align='center', alpha=0.7)\n",
    "plt.xticks(y_pos, objects)\n",
    "plt.ylabel('Total Deaths')\n",
    "plt.title('Total deaths per country')\n",
    "\n",
    "fig = plt.gcf()\n",
    "fig.set_size_inches(18.5, 9)\n",
    "plt.show()\n"
   ]
  },
  {
   "cell_type": "markdown",
   "metadata": {},
   "source": [
    "# Analysis graphs"
   ]
  },
  {
   "cell_type": "code",
   "execution_count": null,
   "metadata": {
    "scrolled": false
   },
   "outputs": [],
   "source": [
    "df = pd.read_csv('./Data/timeseries.csv')\n",
    "mcases = df['Cases'].max()\n",
    "mdeaths = df['Deaths'].max()\n",
    "mnewcases = df['New Cases'].max()"
   ]
  },
  {
   "cell_type": "code",
   "execution_count": null,
   "metadata": {
    "scrolled": false
   },
   "outputs": [],
   "source": [
    "fig = px.line(df, x=\"Cases\", y=\"New Cases Last Week\",\n",
    "              color=\"Country\", hover_name=\"Country\",\n",
    "                 range_x=[500,mcases], range_y=[400,mnewcases],log_x=True,log_y=True,)\n",
    "fig.update_layout(title='Evolution of New Cases Last Week and Cases by Country over Time')\n",
    "plotly.offline.plot(fig, filename = './Saved graphs/Static graphs/CasesNewCasesLogStatic.html', auto_open=False)\n",
    "fig.show()"
   ]
  },
  {
   "cell_type": "code",
   "execution_count": null,
   "metadata": {},
   "outputs": [],
   "source": [
    "fig = px.line(df, x=\"Cases\", y=\"New Deaths Last Week\",\n",
    "              color=\"Country\", hover_name=\"Country\",\n",
    "                 range_x=[500,mcases], range_y=[4,mdeaths],log_x=True,log_y=True,)\n",
    "fig.update_layout(title='Evolution of New Deaths Last Week and Cases by Country over Time')\n",
    "plotly.offline.plot(fig, filename = './Saved graphs/Static graphs/CasesNewCasesLogStatic.html', auto_open=False)\n",
    "fig.show()"
   ]
  },
  {
   "cell_type": "code",
   "execution_count": null,
   "metadata": {
    "scrolled": false
   },
   "outputs": [],
   "source": [
    "x=np.arange(10,mcases*10,10000)\n",
    "y=np.arange(10,mdeaths*10,10000)\n",
    "lethality = [0.005,0.01,0.02,0.04,0.06,0.1]\n",
    "greyscale = np.flip(np.cumsum([250/len(lethality) for x in lethality]))\n",
    "lgs = list(zip(lethality,greyscale))\n",
    "countries = ['China','USA','Germany','Italy','UK','Turkey','Spain','France']\n",
    "\n",
    "\n",
    "fig = go.Figure()\n",
    "\n",
    "for l,gs in lgs:\n",
    "    fig.add_trace(go.Scatter(x=x, y=x*l, mode='lines',\n",
    "        name=str(round(l*100,1))+'%',text=str(round(l*100,0))+'%',\n",
    "        marker_color='rgb({},{},{})'.format(gs,gs,gs)\n",
    "                            )\n",
    "                 )\n",
    "\n",
    "\n",
    "for c in countries:\n",
    "    fig.add_trace(go.Scatter(x=df[df['Country']==c]['Cases'],\n",
    "                             y=df[df['Country']==c]['Deaths'],\n",
    "                             mode='lines+markers',text=c,name=c))\n",
    "\n",
    "fig.update_layout(title=\"Deaths over Cases incl. Case Fatality Rate (CFR) Iso Lines\",\n",
    "                  xaxis_title=\"Cases\",\n",
    "                  yaxis_title=\"Deaths\",\n",
    "                  xaxis_type=\"log\", yaxis_type=\"log\",)\n",
    "fig.update_xaxes(range=[1, 6])\n",
    "fig.update_yaxes(range=[0.4, 5])  \n",
    "plotly.offline.plot(fig, filename = './Saved graphs/Static graphs/CFRLines.html', auto_open=False)\n",
    "\n",
    "\n",
    "fig.show()"
   ]
  },
  {
   "cell_type": "code",
   "execution_count": null,
   "metadata": {
    "scrolled": false
   },
   "outputs": [],
   "source": [
    "fig = px.scatter(df[df['Country'].isin(countries)], x=\"New Cases\", y=\"New Deaths\",\n",
    "                 color=\"Country\", hover_name=\"Country\",trendline=\"ols\",\n",
    "                 #log_x=True,log_y=True,#range_x=[200,20000],range_y=[20,2000]\n",
    "                )\n",
    "fig.update_layout(title='New Deaths over New Cases by Country')\n",
    "fig.show()"
   ]
  },
  {
   "cell_type": "code",
   "execution_count": null,
   "metadata": {
    "scrolled": false
   },
   "outputs": [],
   "source": [
    "def index_X_cases(df=df,X_cases=200):\n",
    "    \"\"\"Produces a dataframe that sets the index to 0 at X cases and removes all preceeding observations\"\"\"\n",
    "    \n",
    "    # cycle through columns and reset index at X_cases\n",
    "    country_dfs = []\n",
    "    for c in df['Country'].unique():\n",
    "        dfc = df[df['Country']==c]\n",
    "        dfc = dfc[dfc['Cases']>=X_cases]\n",
    "        #dfc.sort_values('Cases',inplace=True)\n",
    "        dfc.reset_index(drop=True,inplace=True)\n",
    "        dfc.reset_index(inplace=True)\n",
    "        dfc = dfc.rename(columns={'index':'Day{}'.format(X_cases)})\n",
    "        country_dfs.append(dfc)\n",
    "    return pd.concat(country_dfs,axis=0)\n",
    "    \n",
    "# df index_X_cases \n",
    "df200 = index_X_cases(df,200)\n",
    "#df200"
   ]
  },
  {
   "cell_type": "code",
   "execution_count": null,
   "metadata": {
    "scrolled": false
   },
   "outputs": [],
   "source": [
    "df = df200\n",
    "\n",
    "fig = go.Figure()\n",
    "\n",
    "for c in countries:\n",
    "    fig.add_trace(go.Scatter(x=df[df['Country']==c]['Day200'],\n",
    "                             y=df[df['Country']==c]['Cases'],\n",
    "                             mode='lines+markers',text=c,name=c))\n",
    "\n",
    "fig.update_layout(title=\"Cases over days reset at 200 cases by country\",\n",
    "                  xaxis_title=\"Days since 200 cases\",\n",
    "                  yaxis_title=\"Cases\", \n",
    "                  yaxis_type=\"log\",)\n",
    "\n",
    "fig.show()\n",
    "\n",
    "fig = go.Figure()\n",
    "\n",
    "for l,gs in lgs:\n",
    "    fig.add_trace(go.Scatter(x=x, y=x*l, mode='lines',\n",
    "        name=str(round(l*100,1))+'%',text=str(round(l*100,0))+'%',\n",
    "        marker_color='rgb({},{},{})'.format(gs,gs,gs)\n",
    "                            )\n",
    "                 )"
   ]
  },
  {
   "cell_type": "markdown",
   "metadata": {},
   "source": [
    "# Work in progress"
   ]
  },
  {
   "cell_type": "code",
   "execution_count": null,
   "metadata": {
    "scrolled": false
   },
   "outputs": [],
   "source": [
    "from scipy.optimize import curve_fit\n",
    "\n",
    "\n",
    "def func(x, a, b, c):\n",
    "    return a * np.exp(b * x) + c\n",
    "\n",
    "def projection(df):\n",
    "    country_dfs = []\n",
    "    for c in df['Country'].unique():\n",
    "        # filter for country\n",
    "        dfc = df[df['Country']==c]\n",
    "        \n",
    "        # create vectors for curve fit\n",
    "        x = dfc['Day200']\n",
    "        y = dfc['Cases']\n",
    "        \n",
    "        # curve fit (func = exp function)\n",
    "        popt, pcov = curve_fit(func, x, y, p0=[0,0,0], maxfev=5000)        \n",
    "        \n",
    "        # save result\n",
    "        dff = pd.DataFrame({'Day200':np.arange(x.max(),50,1),'Cases_fit':func(np.arange(x.max(),50,1), *popt)})\n",
    "        dff['Country']=c  \n",
    "        # merge result\n",
    "        dfc = dfc.merge(dff,x)\n",
    "        print(dfc)\n",
    "        country_dfs.append(dfc)\n",
    "    \n",
    "    # merge all country dfs\n",
    "    dfc = pd.concat(country_dfs,axis=1)\n",
    "    return dfc\n",
    "projection(df200)"
   ]
  },
  {
   "cell_type": "code",
   "execution_count": null,
   "metadata": {
    "scrolled": false
   },
   "outputs": [],
   "source": []
  },
  {
   "cell_type": "code",
   "execution_count": null,
   "metadata": {
    "scrolled": false
   },
   "outputs": [],
   "source": [
    "df = projection(df200)\n",
    "\n",
    "df#[df['Country']=='USA']"
   ]
  },
  {
   "cell_type": "code",
   "execution_count": null,
   "metadata": {
    "scrolled": false
   },
   "outputs": [],
   "source": [
    "fig = go.Figure()\n",
    "\n",
    "df = projection(df200)\n",
    "\n",
    "for c in countries:\n",
    "    fig.add_trace(go.Scatter(x=df[df['Country']==c]['Day200'],\n",
    "                             y=df[df['Country']==c]['Cases'],\n",
    "                             mode='lines+markers',text=c,name=c,))\n",
    "    #fig.add_trace(go.Scatter(x=df[df['Country']==c]['Day200'],\n",
    "    #                         y=df[df['Country']==c]['Cases_fit'],\n",
    "    #                         mode='lines',text=c,name=c,dash='dot'))\n",
    "\n",
    "fig.update_layout(title=\"Cases and Prediction over days reset at 200 cases by country\",\n",
    "                  xaxis_title=\"Days since 200 cases\",\n",
    "                  yaxis_title=\"Cases\", \n",
    "                  xaxis_type=\"log\",\n",
    "                  yaxis_type=\"log\",)\n",
    "fig.update_yaxes(range=[0.4, 4.2])  \n",
    "\n",
    "fig.show()"
   ]
  },
  {
   "cell_type": "markdown",
   "metadata": {},
   "source": [
    "# Testing"
   ]
  },
  {
   "cell_type": "code",
   "execution_count": null,
   "metadata": {
    "scrolled": false
   },
   "outputs": [],
   "source": [
    "df_cases = pd.read_csv('C:/Users/Jason Collis/Documents/Python Scripts/Coronavirus/Data/Stats/Cases.csv')\n",
    "df_cases = df_cases.set_index('Unnamed: 0')\n",
    "df_cases.index.names = ['Date']\n",
    "df_cases['Total'] = df_cases.sum(axis=1)\n",
    "df_cases"
   ]
  },
  {
   "cell_type": "code",
   "execution_count": null,
   "metadata": {},
   "outputs": [],
   "source": [
    "countries = []\n",
    "for i in df_cases.columns.values:\n",
    "    countries.append({'label':i,'value':i})"
   ]
  },
  {
   "cell_type": "code",
   "execution_count": null,
   "metadata": {},
   "outputs": [],
   "source": [
    "from datetime import timedelta\n",
    "country = 'Total'\n",
    "today = date.today() - timedelta(days=4)\n",
    "display_date = today.strftime('%b %d')\n",
    "y = df_cases.loc[display_date,country]\n",
    "y"
   ]
  },
  {
   "cell_type": "code",
   "execution_count": 49,
   "metadata": {},
   "outputs": [],
   "source": [
    "df = pd.read_csv('https://raw.githubusercontent.com/Petrichor12/Coronavirus/master/Data/timeseries.csv')\n",
    "mcases = df['Cases'].max()\n",
    "mdeaths = df['Deaths'].max()\n",
    "mdays = df['Day0'].max()\n",
    "\n",
    "days_slider = list(range(0, mdays, 10))\n",
    "days_slider.sort()\n",
    "\n",
    "min_days = days_slider[0]\n",
    "max_days = days_slider[len(days_slider) - 1]"
   ]
  },
  {
   "cell_type": "code",
   "execution_count": 50,
   "metadata": {},
   "outputs": [
    {
     "data": {
      "text/html": [
       "<div>\n",
       "<style scoped>\n",
       "    .dataframe tbody tr th:only-of-type {\n",
       "        vertical-align: middle;\n",
       "    }\n",
       "\n",
       "    .dataframe tbody tr th {\n",
       "        vertical-align: top;\n",
       "    }\n",
       "\n",
       "    .dataframe thead th {\n",
       "        text-align: right;\n",
       "    }\n",
       "</style>\n",
       "<table border=\"1\" class=\"dataframe\">\n",
       "  <thead>\n",
       "    <tr style=\"text-align: right;\">\n",
       "      <th></th>\n",
       "      <th>Unnamed: 0</th>\n",
       "      <th>Day0</th>\n",
       "      <th>Country</th>\n",
       "      <th>Dates</th>\n",
       "      <th>Cases</th>\n",
       "      <th>Deaths</th>\n",
       "      <th>Active Cases</th>\n",
       "      <th>Daily Cases</th>\n",
       "      <th>Daily Deaths</th>\n",
       "      <th>CFR</th>\n",
       "      <th>Cases growth rate</th>\n",
       "      <th>Deaths growth rate</th>\n",
       "      <th>New Cases Last Week</th>\n",
       "      <th>New Deaths Last Week</th>\n",
       "      <th>CGR Last Week</th>\n",
       "      <th>DGR Last Week</th>\n",
       "      <th>New Cases</th>\n",
       "      <th>New Deaths</th>\n",
       "      <th>CFR_Current</th>\n",
       "      <th>CFR_Total</th>\n",
       "    </tr>\n",
       "  </thead>\n",
       "  <tbody>\n",
       "    <tr>\n",
       "      <th>0</th>\n",
       "      <td>0</td>\n",
       "      <td>0</td>\n",
       "      <td>Afghanistan</td>\n",
       "      <td>0</td>\n",
       "      <td>0.0</td>\n",
       "      <td>0.0</td>\n",
       "      <td>0.0</td>\n",
       "      <td>0.0</td>\n",
       "      <td>0.0</td>\n",
       "      <td>0.000000</td>\n",
       "      <td>0.000000</td>\n",
       "      <td>0.000000</td>\n",
       "      <td>0.0</td>\n",
       "      <td>0.0</td>\n",
       "      <td>0.000000</td>\n",
       "      <td>0.000000</td>\n",
       "      <td>0.0</td>\n",
       "      <td>0.0</td>\n",
       "      <td>0.000000</td>\n",
       "      <td>0.000000</td>\n",
       "    </tr>\n",
       "    <tr>\n",
       "      <th>1</th>\n",
       "      <td>1</td>\n",
       "      <td>0</td>\n",
       "      <td>Netherlands</td>\n",
       "      <td>0</td>\n",
       "      <td>0.0</td>\n",
       "      <td>0.0</td>\n",
       "      <td>0.0</td>\n",
       "      <td>0.0</td>\n",
       "      <td>0.0</td>\n",
       "      <td>0.000000</td>\n",
       "      <td>0.000000</td>\n",
       "      <td>0.000000</td>\n",
       "      <td>0.0</td>\n",
       "      <td>0.0</td>\n",
       "      <td>0.000000</td>\n",
       "      <td>0.000000</td>\n",
       "      <td>0.0</td>\n",
       "      <td>0.0</td>\n",
       "      <td>0.000000</td>\n",
       "      <td>0.000000</td>\n",
       "    </tr>\n",
       "    <tr>\n",
       "      <th>2</th>\n",
       "      <td>2</td>\n",
       "      <td>0</td>\n",
       "      <td>New Caledonia</td>\n",
       "      <td>0</td>\n",
       "      <td>0.0</td>\n",
       "      <td>0.0</td>\n",
       "      <td>0.0</td>\n",
       "      <td>0.0</td>\n",
       "      <td>0.0</td>\n",
       "      <td>0.000000</td>\n",
       "      <td>0.000000</td>\n",
       "      <td>0.000000</td>\n",
       "      <td>0.0</td>\n",
       "      <td>0.0</td>\n",
       "      <td>0.000000</td>\n",
       "      <td>0.000000</td>\n",
       "      <td>0.0</td>\n",
       "      <td>0.0</td>\n",
       "      <td>0.000000</td>\n",
       "      <td>0.000000</td>\n",
       "    </tr>\n",
       "    <tr>\n",
       "      <th>3</th>\n",
       "      <td>3</td>\n",
       "      <td>0</td>\n",
       "      <td>New Zealand</td>\n",
       "      <td>0</td>\n",
       "      <td>0.0</td>\n",
       "      <td>0.0</td>\n",
       "      <td>0.0</td>\n",
       "      <td>0.0</td>\n",
       "      <td>0.0</td>\n",
       "      <td>0.000000</td>\n",
       "      <td>0.000000</td>\n",
       "      <td>0.000000</td>\n",
       "      <td>0.0</td>\n",
       "      <td>0.0</td>\n",
       "      <td>0.000000</td>\n",
       "      <td>0.000000</td>\n",
       "      <td>0.0</td>\n",
       "      <td>0.0</td>\n",
       "      <td>0.000000</td>\n",
       "      <td>0.000000</td>\n",
       "    </tr>\n",
       "    <tr>\n",
       "      <th>4</th>\n",
       "      <td>4</td>\n",
       "      <td>0</td>\n",
       "      <td>Nicaragua</td>\n",
       "      <td>0</td>\n",
       "      <td>0.0</td>\n",
       "      <td>0.0</td>\n",
       "      <td>0.0</td>\n",
       "      <td>0.0</td>\n",
       "      <td>0.0</td>\n",
       "      <td>0.000000</td>\n",
       "      <td>0.000000</td>\n",
       "      <td>0.000000</td>\n",
       "      <td>0.0</td>\n",
       "      <td>0.0</td>\n",
       "      <td>0.000000</td>\n",
       "      <td>0.000000</td>\n",
       "      <td>0.0</td>\n",
       "      <td>0.0</td>\n",
       "      <td>0.000000</td>\n",
       "      <td>0.000000</td>\n",
       "    </tr>\n",
       "    <tr>\n",
       "      <th>...</th>\n",
       "      <td>...</td>\n",
       "      <td>...</td>\n",
       "      <td>...</td>\n",
       "      <td>...</td>\n",
       "      <td>...</td>\n",
       "      <td>...</td>\n",
       "      <td>...</td>\n",
       "      <td>...</td>\n",
       "      <td>...</td>\n",
       "      <td>...</td>\n",
       "      <td>...</td>\n",
       "      <td>...</td>\n",
       "      <td>...</td>\n",
       "      <td>...</td>\n",
       "      <td>...</td>\n",
       "      <td>...</td>\n",
       "      <td>...</td>\n",
       "      <td>...</td>\n",
       "      <td>...</td>\n",
       "      <td>...</td>\n",
       "    </tr>\n",
       "    <tr>\n",
       "      <th>25435</th>\n",
       "      <td>25435</td>\n",
       "      <td>119</td>\n",
       "      <td>Myanmar</td>\n",
       "      <td>2020-04-29 00:00:00</td>\n",
       "      <td>150.0</td>\n",
       "      <td>6.0</td>\n",
       "      <td>117.0</td>\n",
       "      <td>0.0</td>\n",
       "      <td>1.0</td>\n",
       "      <td>0.040000</td>\n",
       "      <td>1.000000</td>\n",
       "      <td>1.200000</td>\n",
       "      <td>27.0</td>\n",
       "      <td>1.0</td>\n",
       "      <td>1.029338</td>\n",
       "      <td>1.028571</td>\n",
       "      <td>0.0</td>\n",
       "      <td>1.0</td>\n",
       "      <td>0.058824</td>\n",
       "      <td>0.040000</td>\n",
       "    </tr>\n",
       "    <tr>\n",
       "      <th>25436</th>\n",
       "      <td>25436</td>\n",
       "      <td>119</td>\n",
       "      <td>Mozambique</td>\n",
       "      <td>2020-04-29 00:00:00</td>\n",
       "      <td>76.0</td>\n",
       "      <td>0.0</td>\n",
       "      <td>64.0</td>\n",
       "      <td>0.0</td>\n",
       "      <td>0.0</td>\n",
       "      <td>0.000000</td>\n",
       "      <td>1.000000</td>\n",
       "      <td>0.000000</td>\n",
       "      <td>35.0</td>\n",
       "      <td>0.0</td>\n",
       "      <td>1.099662</td>\n",
       "      <td>0.000000</td>\n",
       "      <td>0.0</td>\n",
       "      <td>0.0</td>\n",
       "      <td>0.000000</td>\n",
       "      <td>0.000000</td>\n",
       "    </tr>\n",
       "    <tr>\n",
       "      <th>25437</th>\n",
       "      <td>25437</td>\n",
       "      <td>119</td>\n",
       "      <td>Morocco</td>\n",
       "      <td>2020-04-29 00:00:00</td>\n",
       "      <td>4321.0</td>\n",
       "      <td>168.0</td>\n",
       "      <td>3225.0</td>\n",
       "      <td>69.0</td>\n",
       "      <td>3.0</td>\n",
       "      <td>0.038880</td>\n",
       "      <td>1.016228</td>\n",
       "      <td>1.018182</td>\n",
       "      <td>875.0</td>\n",
       "      <td>19.0</td>\n",
       "      <td>1.032936</td>\n",
       "      <td>1.017349</td>\n",
       "      <td>69.0</td>\n",
       "      <td>3.0</td>\n",
       "      <td>0.058108</td>\n",
       "      <td>0.038880</td>\n",
       "    </tr>\n",
       "    <tr>\n",
       "      <th>25438</th>\n",
       "      <td>25438</td>\n",
       "      <td>119</td>\n",
       "      <td>Romania</td>\n",
       "      <td>2020-04-29 00:00:00</td>\n",
       "      <td>11978.0</td>\n",
       "      <td>693.0</td>\n",
       "      <td>7716.0</td>\n",
       "      <td>362.0</td>\n",
       "      <td>30.0</td>\n",
       "      <td>0.057856</td>\n",
       "      <td>1.031164</td>\n",
       "      <td>1.045249</td>\n",
       "      <td>2268.0</td>\n",
       "      <td>169.0</td>\n",
       "      <td>1.030461</td>\n",
       "      <td>1.040781</td>\n",
       "      <td>362.0</td>\n",
       "      <td>30.0</td>\n",
       "      <td>0.080888</td>\n",
       "      <td>0.057856</td>\n",
       "    </tr>\n",
       "    <tr>\n",
       "      <th>25439</th>\n",
       "      <td>25439</td>\n",
       "      <td>119</td>\n",
       "      <td>Zimbabwe</td>\n",
       "      <td>2020-04-29 00:00:00</td>\n",
       "      <td>32.0</td>\n",
       "      <td>4.0</td>\n",
       "      <td>23.0</td>\n",
       "      <td>0.0</td>\n",
       "      <td>0.0</td>\n",
       "      <td>0.125000</td>\n",
       "      <td>1.000000</td>\n",
       "      <td>1.000000</td>\n",
       "      <td>4.0</td>\n",
       "      <td>0.0</td>\n",
       "      <td>1.019563</td>\n",
       "      <td>1.000000</td>\n",
       "      <td>0.0</td>\n",
       "      <td>0.0</td>\n",
       "      <td>0.130435</td>\n",
       "      <td>0.125000</td>\n",
       "    </tr>\n",
       "  </tbody>\n",
       "</table>\n",
       "<p>25440 rows × 20 columns</p>\n",
       "</div>"
      ],
      "text/plain": [
       "       Unnamed: 0  Day0        Country                Dates    Cases  Deaths  \\\n",
       "0               0     0    Afghanistan                    0      0.0     0.0   \n",
       "1               1     0    Netherlands                    0      0.0     0.0   \n",
       "2               2     0  New Caledonia                    0      0.0     0.0   \n",
       "3               3     0    New Zealand                    0      0.0     0.0   \n",
       "4               4     0      Nicaragua                    0      0.0     0.0   \n",
       "...           ...   ...            ...                  ...      ...     ...   \n",
       "25435       25435   119        Myanmar  2020-04-29 00:00:00    150.0     6.0   \n",
       "25436       25436   119     Mozambique  2020-04-29 00:00:00     76.0     0.0   \n",
       "25437       25437   119        Morocco  2020-04-29 00:00:00   4321.0   168.0   \n",
       "25438       25438   119        Romania  2020-04-29 00:00:00  11978.0   693.0   \n",
       "25439       25439   119       Zimbabwe  2020-04-29 00:00:00     32.0     4.0   \n",
       "\n",
       "       Active Cases  Daily Cases  Daily Deaths       CFR  Cases growth rate  \\\n",
       "0               0.0          0.0           0.0  0.000000           0.000000   \n",
       "1               0.0          0.0           0.0  0.000000           0.000000   \n",
       "2               0.0          0.0           0.0  0.000000           0.000000   \n",
       "3               0.0          0.0           0.0  0.000000           0.000000   \n",
       "4               0.0          0.0           0.0  0.000000           0.000000   \n",
       "...             ...          ...           ...       ...                ...   \n",
       "25435         117.0          0.0           1.0  0.040000           1.000000   \n",
       "25436          64.0          0.0           0.0  0.000000           1.000000   \n",
       "25437        3225.0         69.0           3.0  0.038880           1.016228   \n",
       "25438        7716.0        362.0          30.0  0.057856           1.031164   \n",
       "25439          23.0          0.0           0.0  0.125000           1.000000   \n",
       "\n",
       "       Deaths growth rate  New Cases Last Week  New Deaths Last Week  \\\n",
       "0                0.000000                  0.0                   0.0   \n",
       "1                0.000000                  0.0                   0.0   \n",
       "2                0.000000                  0.0                   0.0   \n",
       "3                0.000000                  0.0                   0.0   \n",
       "4                0.000000                  0.0                   0.0   \n",
       "...                   ...                  ...                   ...   \n",
       "25435            1.200000                 27.0                   1.0   \n",
       "25436            0.000000                 35.0                   0.0   \n",
       "25437            1.018182                875.0                  19.0   \n",
       "25438            1.045249               2268.0                 169.0   \n",
       "25439            1.000000                  4.0                   0.0   \n",
       "\n",
       "       CGR Last Week  DGR Last Week  New Cases  New Deaths  CFR_Current  \\\n",
       "0           0.000000       0.000000        0.0         0.0     0.000000   \n",
       "1           0.000000       0.000000        0.0         0.0     0.000000   \n",
       "2           0.000000       0.000000        0.0         0.0     0.000000   \n",
       "3           0.000000       0.000000        0.0         0.0     0.000000   \n",
       "4           0.000000       0.000000        0.0         0.0     0.000000   \n",
       "...              ...            ...        ...         ...          ...   \n",
       "25435       1.029338       1.028571        0.0         1.0     0.058824   \n",
       "25436       1.099662       0.000000        0.0         0.0     0.000000   \n",
       "25437       1.032936       1.017349       69.0         3.0     0.058108   \n",
       "25438       1.030461       1.040781      362.0        30.0     0.080888   \n",
       "25439       1.019563       1.000000        0.0         0.0     0.130435   \n",
       "\n",
       "       CFR_Total  \n",
       "0       0.000000  \n",
       "1       0.000000  \n",
       "2       0.000000  \n",
       "3       0.000000  \n",
       "4       0.000000  \n",
       "...          ...  \n",
       "25435   0.040000  \n",
       "25436   0.000000  \n",
       "25437   0.038880  \n",
       "25438   0.057856  \n",
       "25439   0.125000  \n",
       "\n",
       "[25440 rows x 20 columns]"
      ]
     },
     "execution_count": 50,
     "metadata": {},
     "output_type": "execute_result"
    }
   ],
   "source": [
    "df"
   ]
  },
  {
   "cell_type": "code",
   "execution_count": 43,
   "metadata": {},
   "outputs": [
    {
     "data": {
      "text/plain": [
       "110"
      ]
     },
     "execution_count": 43,
     "metadata": {},
     "output_type": "execute_result"
    }
   ],
   "source": []
  },
  {
   "cell_type": "code",
   "execution_count": null,
   "metadata": {},
   "outputs": [],
   "source": []
  }
 ],
 "metadata": {
  "kernelspec": {
   "display_name": "Python 3",
   "language": "python",
   "name": "python3"
  },
  "language_info": {
   "codemirror_mode": {
    "name": "ipython",
    "version": 3
   },
   "file_extension": ".py",
   "mimetype": "text/x-python",
   "name": "python",
   "nbconvert_exporter": "python",
   "pygments_lexer": "ipython3",
   "version": "3.6.5"
  }
 },
 "nbformat": 4,
 "nbformat_minor": 2
}
