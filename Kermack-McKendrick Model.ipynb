{
 "cells": [
  {
   "cell_type": "markdown",
   "metadata": {},
   "source": [
    "# Kermack-McKendrick Model \n",
    "\n",
    "#### Code:\n",
    "- http://greenteapress.com/modsimpy/ModSimPy3.pdf\n",
    "- https://github.com/AllenDowney/ModSimPy/blob/master/notebooks/chap11.ipynb\n",
    "\n",
    "#### Model:\n",
    "- https://mathworld.wolfram.com/Kermack-McKendrickModel.html"
   ]
  },
  {
   "cell_type": "code",
   "execution_count": 1,
   "metadata": {},
   "outputs": [],
   "source": [
    "import pandas as pd\n",
    "from modsim import *"
   ]
  },
  {
   "cell_type": "markdown",
   "metadata": {},
   "source": [
    "# Functions"
   ]
  },
  {
   "cell_type": "code",
   "execution_count": 2,
   "metadata": {},
   "outputs": [],
   "source": [
    "def make_system(beta, gamma,duration=2*365,S=7000000000, I=500000, R=123000):\n",
    "    \"\"\"Make a system object for the SIR model.\n",
    "    \n",
    "    beta: contact rate in days\n",
    "    gamma: recovery rate in days\n",
    "    \n",
    "    returns: System object\n",
    "    \"\"\"\n",
    "    init = State(S=S, I=I, R=R)\n",
    "    init /= sum(init)\n",
    "\n",
    "    t0 = 0\n",
    "    t_end = duration\n",
    "\n",
    "    return System(init=init, t0=t0, t_end=t_end,\n",
    "                  beta=beta, gamma=gamma)"
   ]
  },
  {
   "cell_type": "code",
   "execution_count": 3,
   "metadata": {},
   "outputs": [],
   "source": [
    "def update_func(state, t, system):\n",
    "    \"\"\"Update the SIR model.\n",
    "    \n",
    "    state: State with variables S, I, R\n",
    "    t: time step\n",
    "    system: System with beta and gamma\n",
    "    \n",
    "    returns: State object\n",
    "    \"\"\"\n",
    "    s, i, r = state\n",
    "\n",
    "    infected = system.beta * i * s    \n",
    "    recovered = system.gamma * i\n",
    "    \n",
    "    s -= infected * t\n",
    "    i += (infected - recovered) * t\n",
    "    r += recovered * t\n",
    "    \n",
    "    return State(S=s, I=i, R=r)"
   ]
  },
  {
   "cell_type": "code",
   "execution_count": 4,
   "metadata": {},
   "outputs": [],
   "source": [
    "def run_simulation(system, update_func):\n",
    "    \"\"\"Runs a simulation of the system.\n",
    "        \n",
    "    system: System object\n",
    "    update_func: function that updates state\n",
    "    \n",
    "    returns: TimeFrame\n",
    "    \"\"\"\n",
    "    frame = TimeFrame(columns=system.init.index)\n",
    "    frame.row[system.t0] = system.init\n",
    "    \n",
    "    for t in linrange(system.t0, system.t_end):\n",
    "        frame.row[t+1] = update_func(frame.row[t], t, system)\n",
    "    \n",
    "    return frame"
   ]
  },
  {
   "cell_type": "markdown",
   "metadata": {},
   "source": [
    "# Run\n",
    "\n",
    "- vary tc and tr"
   ]
  },
  {
   "cell_type": "code",
   "execution_count": 12,
   "metadata": {},
   "outputs": [],
   "source": [
    "tc = 7      # time between contacts in days \n",
    "tr = 20      # recovery time in days\n",
    "\n",
    "beta = 1 / tc      # contact rate in per day\n",
    "gamma = 1 / tr     # recovery rate in per day\n",
    "\n",
    "duration=60\n",
    "S=7000000 # population\n",
    "I=500000 # infected as of march 26, 2020\n",
    "R=123000 # recovered (excl. deaths) as of march 26, 2020\n",
    "\n",
    "\n",
    "system = make_system(beta, gamma,duration,S,I,R)\n",
    "results = run_simulation(system, update_func)\n",
    "#results"
   ]
  },
  {
   "cell_type": "markdown",
   "metadata": {},
   "source": [
    "# Plot results"
   ]
  },
  {
   "cell_type": "code",
   "execution_count": 13,
   "metadata": {},
   "outputs": [],
   "source": [
    "results.reset_index(inplace=True)"
   ]
  },
  {
   "cell_type": "code",
   "execution_count": 14,
   "metadata": {},
   "outputs": [],
   "source": [
    "death_rate=0.1\n",
    "results['Deaths']=death_rate*results['I']"
   ]
  },
  {
   "cell_type": "code",
   "execution_count": 15,
   "metadata": {},
   "outputs": [],
   "source": [
    "#results['R_0']=(beta/gamma)*results['I']"
   ]
  },
  {
   "cell_type": "code",
   "execution_count": 16,
   "metadata": {},
   "outputs": [],
   "source": [
    "df = results.melt(id_vars='index')"
   ]
  },
  {
   "cell_type": "code",
   "execution_count": 17,
   "metadata": {},
   "outputs": [
    {
     "data": {
      "application/vnd.plotly.v1+json": {
       "config": {
        "plotlyServerURL": "https://plot.ly"
       },
       "data": [
        {
         "hoverlabel": {
          "namelength": 0
         },
         "hovertemplate": "<b>%{hovertext}</b><br><br>variable=S<br>index=%{x}<br>value=%{y}",
         "hovertext": [
          "S",
          "S",
          "S",
          "S",
          "S",
          "S",
          "S",
          "S",
          "S",
          "S",
          "S",
          "S",
          "S",
          "S",
          "S",
          "S",
          "S",
          "S",
          "S",
          "S",
          "S",
          "S",
          "S",
          "S",
          "S",
          "S",
          "S",
          "S",
          "S",
          "S",
          "S",
          "S",
          "S",
          "S",
          "S",
          "S",
          "S",
          "S",
          "S",
          "S",
          "S",
          "S",
          "S",
          "S",
          "S",
          "S",
          "S",
          "S",
          "S",
          "S",
          "S",
          "S",
          "S",
          "S",
          "S",
          "S",
          "S",
          "S",
          "S",
          "S",
          "S"
         ],
         "legendgroup": "variable=S",
         "line": {
          "color": "#636efa",
          "dash": "solid",
          "shape": "spline"
         },
         "mode": "lines",
         "name": "variable=S",
         "showlegend": true,
         "type": "scatter",
         "x": [
          0,
          1,
          2,
          3,
          4,
          5,
          6,
          7,
          8,
          9,
          10,
          11,
          12,
          13,
          14,
          15,
          16,
          17,
          18,
          19,
          20,
          21,
          22,
          23,
          24,
          25,
          26,
          27,
          28,
          29,
          30,
          31,
          32,
          33,
          34,
          35,
          36,
          37,
          38,
          39,
          40,
          41,
          42,
          43,
          44,
          45,
          46,
          47,
          48,
          49,
          50,
          51,
          52,
          53,
          54,
          55,
          56,
          57,
          58,
          59,
          60
         ],
         "xaxis": "x",
         "y": [
          0.9182736455463728,
          0.9182736455463728,
          0.9096692936269337,
          0.891237892038509,
          0.8598196167357475,
          0.8100308839669107,
          0.7343177820194393,
          0.6248901823967473,
          0.4804613259905658,
          0.3186632212115577,
          0.1799375685973684,
          0.09640725192286298,
          0.05913794318970527,
          0.04413660659031174,
          0.03805537962273302,
          0.035616195557101424,
          0.03469626504534189,
          0.03438433069889191,
          0.034292592574171096,
          0.03426997171974855,
          0.034265481380132454,
          0.03426480546701057,
          0.03426473598691567,
          0.03426473214408807,
          0.03426473211319682,
          0.034264732114402896,
          0.03426473211429922,
          0.03426473211431298,
          0.03426473211431051,
          0.03426473211431107,
          0.034264732114310914,
          0.03426473211431096,
          0.03426473211431094,
          0.03426473211431095,
          0.03426473211431095,
          0.03426473211431095,
          0.03426473211431095,
          0.03426473211431095,
          0.03426473211431095,
          0.03426473211431095,
          0.03426473211431095,
          0.03426473211431095,
          0.03426473211431095,
          0.03426473211431095,
          0.03426473211431095,
          0.03426473211431095,
          0.03426473211431095,
          0.03426473211431095,
          0.03426473211431095,
          0.03426473211431095,
          0.03426473211431095,
          0.03426473211431095,
          0.03426473211431095,
          0.03426473211431095,
          0.03426473211431095,
          0.03426473211431095,
          0.03426473211431095,
          0.03426473211431095,
          0.03426473211431095,
          0.03426473211431095,
          0.03426473211431094
         ],
         "yaxis": "y"
        },
        {
         "hoverlabel": {
          "namelength": 0
         },
         "hovertemplate": "<b>%{hovertext}</b><br><br>variable=I<br>index=%{x}<br>value=%{y}",
         "hovertext": [
          "I",
          "I",
          "I",
          "I",
          "I",
          "I",
          "I",
          "I",
          "I",
          "I",
          "I",
          "I",
          "I",
          "I",
          "I",
          "I",
          "I",
          "I",
          "I",
          "I",
          "I",
          "I",
          "I",
          "I",
          "I",
          "I",
          "I",
          "I",
          "I",
          "I",
          "I",
          "I",
          "I",
          "I",
          "I",
          "I",
          "I",
          "I",
          "I",
          "I",
          "I",
          "I",
          "I",
          "I",
          "I",
          "I",
          "I",
          "I",
          "I",
          "I",
          "I",
          "I",
          "I",
          "I",
          "I",
          "I",
          "I",
          "I",
          "I",
          "I",
          "I"
         ],
         "legendgroup": "variable=I",
         "line": {
          "color": "#EF553B",
          "dash": "solid",
          "shape": "spline"
         },
         "mode": "lines",
         "name": "variable=I",
         "showlegend": true,
         "type": "scatter",
         "x": [
          0,
          1,
          2,
          3,
          4,
          5,
          6,
          7,
          8,
          9,
          10,
          11,
          12,
          13,
          14,
          15,
          16,
          17,
          18,
          19,
          20,
          21,
          22,
          23,
          24,
          25,
          26,
          27,
          28,
          29,
          30,
          31,
          32,
          33,
          34,
          35,
          36,
          37,
          38,
          39,
          40,
          41,
          42,
          43,
          44,
          45,
          46,
          47,
          48,
          49,
          50,
          51,
          52,
          53,
          54,
          55,
          56,
          57,
          58,
          59,
          60
         ],
         "xaxis": "x",
         "y": [
          0.06559097468188377,
          0.06559097468188377,
          0.07091577786722861,
          0.08225560166893042,
          0.10133553672135234,
          0.1308571621459187,
          0.17385597355691035,
          0.23112678111252927,
          0.29466126412932553,
          0.3385948632566034,
          0.32495282740532117,
          0.246006730377166,
          0.1479723374028824,
          0.0741902715605465,
          0.032047822013769996,
          0.012053530669762592,
          0.003933313179200185,
          0.0010985969822900161,
          0.0002565276720643165,
          4.8273621628980106e-05,
          6.904020697543973e-06,
          6.759131218849769e-07,
          3.5684438807716766e-08,
          2.743837250752635e-10,
          -1.0266308558257651e-11,
          8.471852115139836e-13,
          -1.0812282315060163e-13,
          1.867616282544835e-14,
          -4.0683412266631364e-15,
          1.0697340015403836e-15,
          -3.29527397708289e-16,
          1.1637297882499938e-16,
          -4.6346258741139304e-17,
          2.0548134032040477e-17,
          -1.0037070239987002e-17,
          5.355492627774756e-18,
          -3.0990968696767217e-18,
          1.933158914985976e-18,
          -1.2930637381400368e-18,
          9.232364588152162e-19,
          -7.008255576402741e-19,
          5.63604986260808e-19,
          -4.786734171776804e-19,
          4.281310604364383e-19,
          -4.0223625777135717e-19,
          3.9605054143352395e-19,
          -4.0782382582509953e-19,
          4.383420006412579e-19,
          -4.909153369168526e-19,
          5.719369058989355e-19,
          -6.921276594850521e-19,
          8.68794568933576e-19,
          -1.1297430573455086e-18,
          1.5200263421337829e-18,
          -2.11369851348428e-18,
          3.034577912910758e-18,
          -4.49353349621896e-18,
          6.856602521237124e-18,
          -1.0771634668509188e-17,
          1.7407954980412874e-17,
          -2.891804707899824e-17
         ],
         "yaxis": "y"
        },
        {
         "hoverlabel": {
          "namelength": 0
         },
         "hovertemplate": "<b>%{hovertext}</b><br><br>variable=R<br>index=%{x}<br>value=%{y}",
         "hovertext": [
          "R",
          "R",
          "R",
          "R",
          "R",
          "R",
          "R",
          "R",
          "R",
          "R",
          "R",
          "R",
          "R",
          "R",
          "R",
          "R",
          "R",
          "R",
          "R",
          "R",
          "R",
          "R",
          "R",
          "R",
          "R",
          "R",
          "R",
          "R",
          "R",
          "R",
          "R",
          "R",
          "R",
          "R",
          "R",
          "R",
          "R",
          "R",
          "R",
          "R",
          "R",
          "R",
          "R",
          "R",
          "R",
          "R",
          "R",
          "R",
          "R",
          "R",
          "R",
          "R",
          "R",
          "R",
          "R",
          "R",
          "R",
          "R",
          "R",
          "R",
          "R"
         ],
         "legendgroup": "variable=R",
         "line": {
          "color": "#00cc96",
          "dash": "solid",
          "shape": "spline"
         },
         "mode": "lines",
         "name": "variable=R",
         "showlegend": true,
         "type": "scatter",
         "x": [
          0,
          1,
          2,
          3,
          4,
          5,
          6,
          7,
          8,
          9,
          10,
          11,
          12,
          13,
          14,
          15,
          16,
          17,
          18,
          19,
          20,
          21,
          22,
          23,
          24,
          25,
          26,
          27,
          28,
          29,
          30,
          31,
          32,
          33,
          34,
          35,
          36,
          37,
          38,
          39,
          40,
          41,
          42,
          43,
          44,
          45,
          46,
          47,
          48,
          49,
          50,
          51,
          52,
          53,
          54,
          55,
          56,
          57,
          58,
          59,
          60
         ],
         "xaxis": "x",
         "y": [
          0.016135379771743407,
          0.016135379771743407,
          0.019414928505837595,
          0.026506506292560458,
          0.03884484654290002,
          0.059111953887170485,
          0.09182624442365016,
          0.14398303649072325,
          0.22487740988010851,
          0.34274191553183875,
          0.4951096039973103,
          0.6575860176999708,
          0.7928897194074122,
          0.8816731218491416,
          0.9298967983634968,
          0.9523302737731358,
          0.9613704217754577,
          0.9645170723188179,
          0.9654508797537644,
          0.9656817546586223,
          0.9657276145991698,
          0.9657345186198674,
          0.9657352283286453,
          0.9657352675815281,
          0.9657352678970693,
          0.9657352678847497,
          0.9657352678858087,
          0.9657352678856681,
          0.9657352678856933,
          0.9657352678856876,
          0.9657352678856892,
          0.9657352678856888,
          0.965735267885689,
          0.9657352678856889,
          0.9657352678856889,
          0.9657352678856889,
          0.9657352678856889,
          0.9657352678856889,
          0.9657352678856889,
          0.9657352678856889,
          0.9657352678856889,
          0.9657352678856889,
          0.9657352678856889,
          0.9657352678856889,
          0.9657352678856889,
          0.9657352678856889,
          0.9657352678856889,
          0.9657352678856889,
          0.9657352678856889,
          0.9657352678856889,
          0.9657352678856889,
          0.9657352678856889,
          0.9657352678856889,
          0.9657352678856889,
          0.9657352678856889,
          0.9657352678856889,
          0.9657352678856889,
          0.9657352678856889,
          0.9657352678856889,
          0.9657352678856889,
          0.9657352678856889
         ],
         "yaxis": "y"
        },
        {
         "hoverlabel": {
          "namelength": 0
         },
         "hovertemplate": "<b>%{hovertext}</b><br><br>variable=Deaths<br>index=%{x}<br>value=%{y}",
         "hovertext": [
          "Deaths",
          "Deaths",
          "Deaths",
          "Deaths",
          "Deaths",
          "Deaths",
          "Deaths",
          "Deaths",
          "Deaths",
          "Deaths",
          "Deaths",
          "Deaths",
          "Deaths",
          "Deaths",
          "Deaths",
          "Deaths",
          "Deaths",
          "Deaths",
          "Deaths",
          "Deaths",
          "Deaths",
          "Deaths",
          "Deaths",
          "Deaths",
          "Deaths",
          "Deaths",
          "Deaths",
          "Deaths",
          "Deaths",
          "Deaths",
          "Deaths",
          "Deaths",
          "Deaths",
          "Deaths",
          "Deaths",
          "Deaths",
          "Deaths",
          "Deaths",
          "Deaths",
          "Deaths",
          "Deaths",
          "Deaths",
          "Deaths",
          "Deaths",
          "Deaths",
          "Deaths",
          "Deaths",
          "Deaths",
          "Deaths",
          "Deaths",
          "Deaths",
          "Deaths",
          "Deaths",
          "Deaths",
          "Deaths",
          "Deaths",
          "Deaths",
          "Deaths",
          "Deaths",
          "Deaths",
          "Deaths"
         ],
         "legendgroup": "variable=Deaths",
         "line": {
          "color": "#ab63fa",
          "dash": "solid",
          "shape": "spline"
         },
         "mode": "lines",
         "name": "variable=Deaths",
         "showlegend": true,
         "type": "scatter",
         "x": [
          0,
          1,
          2,
          3,
          4,
          5,
          6,
          7,
          8,
          9,
          10,
          11,
          12,
          13,
          14,
          15,
          16,
          17,
          18,
          19,
          20,
          21,
          22,
          23,
          24,
          25,
          26,
          27,
          28,
          29,
          30,
          31,
          32,
          33,
          34,
          35,
          36,
          37,
          38,
          39,
          40,
          41,
          42,
          43,
          44,
          45,
          46,
          47,
          48,
          49,
          50,
          51,
          52,
          53,
          54,
          55,
          56,
          57,
          58,
          59,
          60
         ],
         "xaxis": "x",
         "y": [
          0.006559097468188377,
          0.006559097468188377,
          0.007091577786722861,
          0.008225560166893043,
          0.010133553672135235,
          0.01308571621459187,
          0.017385597355691035,
          0.023112678111252928,
          0.029466126412932555,
          0.03385948632566034,
          0.032495282740532115,
          0.0246006730377166,
          0.01479723374028824,
          0.00741902715605465,
          0.003204782201377,
          0.0012053530669762593,
          0.0003933313179200185,
          0.00010985969822900161,
          2.5652767206431652e-05,
          4.827362162898011e-06,
          6.904020697543974e-07,
          6.759131218849769e-08,
          3.568443880771677e-09,
          2.743837250752635e-11,
          -1.0266308558257651e-12,
          8.471852115139836e-14,
          -1.0812282315060163e-14,
          1.867616282544835e-15,
          -4.0683412266631366e-16,
          1.0697340015403837e-16,
          -3.29527397708289e-17,
          1.1637297882499938e-17,
          -4.634625874113931e-18,
          2.054813403204048e-18,
          -1.0037070239987002e-18,
          5.355492627774757e-19,
          -3.0990968696767217e-19,
          1.9331589149859762e-19,
          -1.2930637381400367e-19,
          9.232364588152163e-20,
          -7.008255576402742e-20,
          5.63604986260808e-20,
          -4.7867341717768046e-20,
          4.281310604364383e-20,
          -4.022362577713572e-20,
          3.9605054143352396e-20,
          -4.0782382582509954e-20,
          4.3834200064125794e-20,
          -4.9091533691685255e-20,
          5.719369058989355e-20,
          -6.921276594850522e-20,
          8.68794568933576e-20,
          -1.1297430573455087e-19,
          1.520026342133783e-19,
          -2.11369851348428e-19,
          3.034577912910758e-19,
          -4.493533496218961e-19,
          6.856602521237124e-19,
          -1.0771634668509189e-18,
          1.7407954980412875e-18,
          -2.891804707899824e-18
         ],
         "yaxis": "y"
        }
       ],
       "layout": {
        "height": 600,
        "legend": {
         "tracegroupgap": 0
        },
        "margin": {
         "t": 60
        },
        "template": {
         "data": {
          "bar": [
           {
            "error_x": {
             "color": "#2a3f5f"
            },
            "error_y": {
             "color": "#2a3f5f"
            },
            "marker": {
             "line": {
              "color": "#E5ECF6",
              "width": 0.5
             }
            },
            "type": "bar"
           }
          ],
          "barpolar": [
           {
            "marker": {
             "line": {
              "color": "#E5ECF6",
              "width": 0.5
             }
            },
            "type": "barpolar"
           }
          ],
          "carpet": [
           {
            "aaxis": {
             "endlinecolor": "#2a3f5f",
             "gridcolor": "white",
             "linecolor": "white",
             "minorgridcolor": "white",
             "startlinecolor": "#2a3f5f"
            },
            "baxis": {
             "endlinecolor": "#2a3f5f",
             "gridcolor": "white",
             "linecolor": "white",
             "minorgridcolor": "white",
             "startlinecolor": "#2a3f5f"
            },
            "type": "carpet"
           }
          ],
          "choropleth": [
           {
            "colorbar": {
             "outlinewidth": 0,
             "ticks": ""
            },
            "type": "choropleth"
           }
          ],
          "contour": [
           {
            "colorbar": {
             "outlinewidth": 0,
             "ticks": ""
            },
            "colorscale": [
             [
              0,
              "#0d0887"
             ],
             [
              0.1111111111111111,
              "#46039f"
             ],
             [
              0.2222222222222222,
              "#7201a8"
             ],
             [
              0.3333333333333333,
              "#9c179e"
             ],
             [
              0.4444444444444444,
              "#bd3786"
             ],
             [
              0.5555555555555556,
              "#d8576b"
             ],
             [
              0.6666666666666666,
              "#ed7953"
             ],
             [
              0.7777777777777778,
              "#fb9f3a"
             ],
             [
              0.8888888888888888,
              "#fdca26"
             ],
             [
              1,
              "#f0f921"
             ]
            ],
            "type": "contour"
           }
          ],
          "contourcarpet": [
           {
            "colorbar": {
             "outlinewidth": 0,
             "ticks": ""
            },
            "type": "contourcarpet"
           }
          ],
          "heatmap": [
           {
            "colorbar": {
             "outlinewidth": 0,
             "ticks": ""
            },
            "colorscale": [
             [
              0,
              "#0d0887"
             ],
             [
              0.1111111111111111,
              "#46039f"
             ],
             [
              0.2222222222222222,
              "#7201a8"
             ],
             [
              0.3333333333333333,
              "#9c179e"
             ],
             [
              0.4444444444444444,
              "#bd3786"
             ],
             [
              0.5555555555555556,
              "#d8576b"
             ],
             [
              0.6666666666666666,
              "#ed7953"
             ],
             [
              0.7777777777777778,
              "#fb9f3a"
             ],
             [
              0.8888888888888888,
              "#fdca26"
             ],
             [
              1,
              "#f0f921"
             ]
            ],
            "type": "heatmap"
           }
          ],
          "heatmapgl": [
           {
            "colorbar": {
             "outlinewidth": 0,
             "ticks": ""
            },
            "colorscale": [
             [
              0,
              "#0d0887"
             ],
             [
              0.1111111111111111,
              "#46039f"
             ],
             [
              0.2222222222222222,
              "#7201a8"
             ],
             [
              0.3333333333333333,
              "#9c179e"
             ],
             [
              0.4444444444444444,
              "#bd3786"
             ],
             [
              0.5555555555555556,
              "#d8576b"
             ],
             [
              0.6666666666666666,
              "#ed7953"
             ],
             [
              0.7777777777777778,
              "#fb9f3a"
             ],
             [
              0.8888888888888888,
              "#fdca26"
             ],
             [
              1,
              "#f0f921"
             ]
            ],
            "type": "heatmapgl"
           }
          ],
          "histogram": [
           {
            "marker": {
             "colorbar": {
              "outlinewidth": 0,
              "ticks": ""
             }
            },
            "type": "histogram"
           }
          ],
          "histogram2d": [
           {
            "colorbar": {
             "outlinewidth": 0,
             "ticks": ""
            },
            "colorscale": [
             [
              0,
              "#0d0887"
             ],
             [
              0.1111111111111111,
              "#46039f"
             ],
             [
              0.2222222222222222,
              "#7201a8"
             ],
             [
              0.3333333333333333,
              "#9c179e"
             ],
             [
              0.4444444444444444,
              "#bd3786"
             ],
             [
              0.5555555555555556,
              "#d8576b"
             ],
             [
              0.6666666666666666,
              "#ed7953"
             ],
             [
              0.7777777777777778,
              "#fb9f3a"
             ],
             [
              0.8888888888888888,
              "#fdca26"
             ],
             [
              1,
              "#f0f921"
             ]
            ],
            "type": "histogram2d"
           }
          ],
          "histogram2dcontour": [
           {
            "colorbar": {
             "outlinewidth": 0,
             "ticks": ""
            },
            "colorscale": [
             [
              0,
              "#0d0887"
             ],
             [
              0.1111111111111111,
              "#46039f"
             ],
             [
              0.2222222222222222,
              "#7201a8"
             ],
             [
              0.3333333333333333,
              "#9c179e"
             ],
             [
              0.4444444444444444,
              "#bd3786"
             ],
             [
              0.5555555555555556,
              "#d8576b"
             ],
             [
              0.6666666666666666,
              "#ed7953"
             ],
             [
              0.7777777777777778,
              "#fb9f3a"
             ],
             [
              0.8888888888888888,
              "#fdca26"
             ],
             [
              1,
              "#f0f921"
             ]
            ],
            "type": "histogram2dcontour"
           }
          ],
          "mesh3d": [
           {
            "colorbar": {
             "outlinewidth": 0,
             "ticks": ""
            },
            "type": "mesh3d"
           }
          ],
          "parcoords": [
           {
            "line": {
             "colorbar": {
              "outlinewidth": 0,
              "ticks": ""
             }
            },
            "type": "parcoords"
           }
          ],
          "pie": [
           {
            "automargin": true,
            "type": "pie"
           }
          ],
          "scatter": [
           {
            "marker": {
             "colorbar": {
              "outlinewidth": 0,
              "ticks": ""
             }
            },
            "type": "scatter"
           }
          ],
          "scatter3d": [
           {
            "line": {
             "colorbar": {
              "outlinewidth": 0,
              "ticks": ""
             }
            },
            "marker": {
             "colorbar": {
              "outlinewidth": 0,
              "ticks": ""
             }
            },
            "type": "scatter3d"
           }
          ],
          "scattercarpet": [
           {
            "marker": {
             "colorbar": {
              "outlinewidth": 0,
              "ticks": ""
             }
            },
            "type": "scattercarpet"
           }
          ],
          "scattergeo": [
           {
            "marker": {
             "colorbar": {
              "outlinewidth": 0,
              "ticks": ""
             }
            },
            "type": "scattergeo"
           }
          ],
          "scattergl": [
           {
            "marker": {
             "colorbar": {
              "outlinewidth": 0,
              "ticks": ""
             }
            },
            "type": "scattergl"
           }
          ],
          "scattermapbox": [
           {
            "marker": {
             "colorbar": {
              "outlinewidth": 0,
              "ticks": ""
             }
            },
            "type": "scattermapbox"
           }
          ],
          "scatterpolar": [
           {
            "marker": {
             "colorbar": {
              "outlinewidth": 0,
              "ticks": ""
             }
            },
            "type": "scatterpolar"
           }
          ],
          "scatterpolargl": [
           {
            "marker": {
             "colorbar": {
              "outlinewidth": 0,
              "ticks": ""
             }
            },
            "type": "scatterpolargl"
           }
          ],
          "scatterternary": [
           {
            "marker": {
             "colorbar": {
              "outlinewidth": 0,
              "ticks": ""
             }
            },
            "type": "scatterternary"
           }
          ],
          "surface": [
           {
            "colorbar": {
             "outlinewidth": 0,
             "ticks": ""
            },
            "colorscale": [
             [
              0,
              "#0d0887"
             ],
             [
              0.1111111111111111,
              "#46039f"
             ],
             [
              0.2222222222222222,
              "#7201a8"
             ],
             [
              0.3333333333333333,
              "#9c179e"
             ],
             [
              0.4444444444444444,
              "#bd3786"
             ],
             [
              0.5555555555555556,
              "#d8576b"
             ],
             [
              0.6666666666666666,
              "#ed7953"
             ],
             [
              0.7777777777777778,
              "#fb9f3a"
             ],
             [
              0.8888888888888888,
              "#fdca26"
             ],
             [
              1,
              "#f0f921"
             ]
            ],
            "type": "surface"
           }
          ],
          "table": [
           {
            "cells": {
             "fill": {
              "color": "#EBF0F8"
             },
             "line": {
              "color": "white"
             }
            },
            "header": {
             "fill": {
              "color": "#C8D4E3"
             },
             "line": {
              "color": "white"
             }
            },
            "type": "table"
           }
          ]
         },
         "layout": {
          "annotationdefaults": {
           "arrowcolor": "#2a3f5f",
           "arrowhead": 0,
           "arrowwidth": 1
          },
          "coloraxis": {
           "colorbar": {
            "outlinewidth": 0,
            "ticks": ""
           }
          },
          "colorscale": {
           "diverging": [
            [
             0,
             "#8e0152"
            ],
            [
             0.1,
             "#c51b7d"
            ],
            [
             0.2,
             "#de77ae"
            ],
            [
             0.3,
             "#f1b6da"
            ],
            [
             0.4,
             "#fde0ef"
            ],
            [
             0.5,
             "#f7f7f7"
            ],
            [
             0.6,
             "#e6f5d0"
            ],
            [
             0.7,
             "#b8e186"
            ],
            [
             0.8,
             "#7fbc41"
            ],
            [
             0.9,
             "#4d9221"
            ],
            [
             1,
             "#276419"
            ]
           ],
           "sequential": [
            [
             0,
             "#0d0887"
            ],
            [
             0.1111111111111111,
             "#46039f"
            ],
            [
             0.2222222222222222,
             "#7201a8"
            ],
            [
             0.3333333333333333,
             "#9c179e"
            ],
            [
             0.4444444444444444,
             "#bd3786"
            ],
            [
             0.5555555555555556,
             "#d8576b"
            ],
            [
             0.6666666666666666,
             "#ed7953"
            ],
            [
             0.7777777777777778,
             "#fb9f3a"
            ],
            [
             0.8888888888888888,
             "#fdca26"
            ],
            [
             1,
             "#f0f921"
            ]
           ],
           "sequentialminus": [
            [
             0,
             "#0d0887"
            ],
            [
             0.1111111111111111,
             "#46039f"
            ],
            [
             0.2222222222222222,
             "#7201a8"
            ],
            [
             0.3333333333333333,
             "#9c179e"
            ],
            [
             0.4444444444444444,
             "#bd3786"
            ],
            [
             0.5555555555555556,
             "#d8576b"
            ],
            [
             0.6666666666666666,
             "#ed7953"
            ],
            [
             0.7777777777777778,
             "#fb9f3a"
            ],
            [
             0.8888888888888888,
             "#fdca26"
            ],
            [
             1,
             "#f0f921"
            ]
           ]
          },
          "colorway": [
           "#636efa",
           "#EF553B",
           "#00cc96",
           "#ab63fa",
           "#FFA15A",
           "#19d3f3",
           "#FF6692",
           "#B6E880",
           "#FF97FF",
           "#FECB52"
          ],
          "font": {
           "color": "#2a3f5f"
          },
          "geo": {
           "bgcolor": "white",
           "lakecolor": "white",
           "landcolor": "#E5ECF6",
           "showlakes": true,
           "showland": true,
           "subunitcolor": "white"
          },
          "hoverlabel": {
           "align": "left"
          },
          "hovermode": "closest",
          "mapbox": {
           "style": "light"
          },
          "paper_bgcolor": "white",
          "plot_bgcolor": "#E5ECF6",
          "polar": {
           "angularaxis": {
            "gridcolor": "white",
            "linecolor": "white",
            "ticks": ""
           },
           "bgcolor": "#E5ECF6",
           "radialaxis": {
            "gridcolor": "white",
            "linecolor": "white",
            "ticks": ""
           }
          },
          "scene": {
           "xaxis": {
            "backgroundcolor": "#E5ECF6",
            "gridcolor": "white",
            "gridwidth": 2,
            "linecolor": "white",
            "showbackground": true,
            "ticks": "",
            "zerolinecolor": "white"
           },
           "yaxis": {
            "backgroundcolor": "#E5ECF6",
            "gridcolor": "white",
            "gridwidth": 2,
            "linecolor": "white",
            "showbackground": true,
            "ticks": "",
            "zerolinecolor": "white"
           },
           "zaxis": {
            "backgroundcolor": "#E5ECF6",
            "gridcolor": "white",
            "gridwidth": 2,
            "linecolor": "white",
            "showbackground": true,
            "ticks": "",
            "zerolinecolor": "white"
           }
          },
          "shapedefaults": {
           "line": {
            "color": "#2a3f5f"
           }
          },
          "ternary": {
           "aaxis": {
            "gridcolor": "white",
            "linecolor": "white",
            "ticks": ""
           },
           "baxis": {
            "gridcolor": "white",
            "linecolor": "white",
            "ticks": ""
           },
           "bgcolor": "#E5ECF6",
           "caxis": {
            "gridcolor": "white",
            "linecolor": "white",
            "ticks": ""
           }
          },
          "title": {
           "x": 0.05
          },
          "xaxis": {
           "automargin": true,
           "gridcolor": "white",
           "linecolor": "white",
           "ticks": "",
           "title": {
            "standoff": 15
           },
           "zerolinecolor": "white",
           "zerolinewidth": 2
          },
          "yaxis": {
           "automargin": true,
           "gridcolor": "white",
           "linecolor": "white",
           "ticks": "",
           "title": {
            "standoff": 15
           },
           "zerolinecolor": "white",
           "zerolinewidth": 2
          }
         }
        },
        "xaxis": {
         "anchor": "y",
         "domain": [
          0,
          1
         ],
         "title": {
          "text": "index"
         }
        },
        "yaxis": {
         "anchor": "x",
         "domain": [
          0,
          1
         ],
         "title": {
          "text": "value"
         }
        }
       }
      },
      "text/html": [
       "<div>\n",
       "        \n",
       "        \n",
       "            <div id=\"21390620-9db3-473b-aee2-0dd233fd0fde\" class=\"plotly-graph-div\" style=\"height:600px; width:100%;\"></div>\n",
       "            <script type=\"text/javascript\">\n",
       "                require([\"plotly\"], function(Plotly) {\n",
       "                    window.PLOTLYENV=window.PLOTLYENV || {};\n",
       "                    \n",
       "                if (document.getElementById(\"21390620-9db3-473b-aee2-0dd233fd0fde\")) {\n",
       "                    Plotly.newPlot(\n",
       "                        '21390620-9db3-473b-aee2-0dd233fd0fde',\n",
       "                        [{\"hoverlabel\": {\"namelength\": 0}, \"hovertemplate\": \"<b>%{hovertext}</b><br><br>variable=S<br>index=%{x}<br>value=%{y}\", \"hovertext\": [\"S\", \"S\", \"S\", \"S\", \"S\", \"S\", \"S\", \"S\", \"S\", \"S\", \"S\", \"S\", \"S\", \"S\", \"S\", \"S\", \"S\", \"S\", \"S\", \"S\", \"S\", \"S\", \"S\", \"S\", \"S\", \"S\", \"S\", \"S\", \"S\", \"S\", \"S\", \"S\", \"S\", \"S\", \"S\", \"S\", \"S\", \"S\", \"S\", \"S\", \"S\", \"S\", \"S\", \"S\", \"S\", \"S\", \"S\", \"S\", \"S\", \"S\", \"S\", \"S\", \"S\", \"S\", \"S\", \"S\", \"S\", \"S\", \"S\", \"S\", \"S\"], \"legendgroup\": \"variable=S\", \"line\": {\"color\": \"#636efa\", \"dash\": \"solid\", \"shape\": \"spline\"}, \"mode\": \"lines\", \"name\": \"variable=S\", \"showlegend\": true, \"type\": \"scatter\", \"x\": [0, 1, 2, 3, 4, 5, 6, 7, 8, 9, 10, 11, 12, 13, 14, 15, 16, 17, 18, 19, 20, 21, 22, 23, 24, 25, 26, 27, 28, 29, 30, 31, 32, 33, 34, 35, 36, 37, 38, 39, 40, 41, 42, 43, 44, 45, 46, 47, 48, 49, 50, 51, 52, 53, 54, 55, 56, 57, 58, 59, 60], \"xaxis\": \"x\", \"y\": [0.9182736455463728, 0.9182736455463728, 0.9096692936269337, 0.891237892038509, 0.8598196167357475, 0.8100308839669107, 0.7343177820194393, 0.6248901823967473, 0.4804613259905658, 0.3186632212115577, 0.1799375685973684, 0.09640725192286298, 0.05913794318970527, 0.04413660659031174, 0.03805537962273302, 0.035616195557101424, 0.03469626504534189, 0.03438433069889191, 0.034292592574171096, 0.03426997171974855, 0.034265481380132454, 0.03426480546701057, 0.03426473598691567, 0.03426473214408807, 0.03426473211319682, 0.034264732114402896, 0.03426473211429922, 0.03426473211431298, 0.03426473211431051, 0.03426473211431107, 0.034264732114310914, 0.03426473211431096, 0.03426473211431094, 0.03426473211431095, 0.03426473211431095, 0.03426473211431095, 0.03426473211431095, 0.03426473211431095, 0.03426473211431095, 0.03426473211431095, 0.03426473211431095, 0.03426473211431095, 0.03426473211431095, 0.03426473211431095, 0.03426473211431095, 0.03426473211431095, 0.03426473211431095, 0.03426473211431095, 0.03426473211431095, 0.03426473211431095, 0.03426473211431095, 0.03426473211431095, 0.03426473211431095, 0.03426473211431095, 0.03426473211431095, 0.03426473211431095, 0.03426473211431095, 0.03426473211431095, 0.03426473211431095, 0.03426473211431095, 0.03426473211431094], \"yaxis\": \"y\"}, {\"hoverlabel\": {\"namelength\": 0}, \"hovertemplate\": \"<b>%{hovertext}</b><br><br>variable=I<br>index=%{x}<br>value=%{y}\", \"hovertext\": [\"I\", \"I\", \"I\", \"I\", \"I\", \"I\", \"I\", \"I\", \"I\", \"I\", \"I\", \"I\", \"I\", \"I\", \"I\", \"I\", \"I\", \"I\", \"I\", \"I\", \"I\", \"I\", \"I\", \"I\", \"I\", \"I\", \"I\", \"I\", \"I\", \"I\", \"I\", \"I\", \"I\", \"I\", \"I\", \"I\", \"I\", \"I\", \"I\", \"I\", \"I\", \"I\", \"I\", \"I\", \"I\", \"I\", \"I\", \"I\", \"I\", \"I\", \"I\", \"I\", \"I\", \"I\", \"I\", \"I\", \"I\", \"I\", \"I\", \"I\", \"I\"], \"legendgroup\": \"variable=I\", \"line\": {\"color\": \"#EF553B\", \"dash\": \"solid\", \"shape\": \"spline\"}, \"mode\": \"lines\", \"name\": \"variable=I\", \"showlegend\": true, \"type\": \"scatter\", \"x\": [0, 1, 2, 3, 4, 5, 6, 7, 8, 9, 10, 11, 12, 13, 14, 15, 16, 17, 18, 19, 20, 21, 22, 23, 24, 25, 26, 27, 28, 29, 30, 31, 32, 33, 34, 35, 36, 37, 38, 39, 40, 41, 42, 43, 44, 45, 46, 47, 48, 49, 50, 51, 52, 53, 54, 55, 56, 57, 58, 59, 60], \"xaxis\": \"x\", \"y\": [0.06559097468188377, 0.06559097468188377, 0.07091577786722861, 0.08225560166893042, 0.10133553672135234, 0.1308571621459187, 0.17385597355691035, 0.23112678111252927, 0.29466126412932553, 0.3385948632566034, 0.32495282740532117, 0.246006730377166, 0.1479723374028824, 0.0741902715605465, 0.032047822013769996, 0.012053530669762592, 0.003933313179200185, 0.0010985969822900161, 0.0002565276720643165, 4.8273621628980106e-05, 6.904020697543973e-06, 6.759131218849769e-07, 3.5684438807716766e-08, 2.743837250752635e-10, -1.0266308558257651e-11, 8.471852115139836e-13, -1.0812282315060163e-13, 1.867616282544835e-14, -4.0683412266631364e-15, 1.0697340015403836e-15, -3.29527397708289e-16, 1.1637297882499938e-16, -4.6346258741139304e-17, 2.0548134032040477e-17, -1.0037070239987002e-17, 5.355492627774756e-18, -3.0990968696767217e-18, 1.933158914985976e-18, -1.2930637381400368e-18, 9.232364588152162e-19, -7.008255576402741e-19, 5.63604986260808e-19, -4.786734171776804e-19, 4.281310604364383e-19, -4.0223625777135717e-19, 3.9605054143352395e-19, -4.0782382582509953e-19, 4.383420006412579e-19, -4.909153369168526e-19, 5.719369058989355e-19, -6.921276594850521e-19, 8.68794568933576e-19, -1.1297430573455086e-18, 1.5200263421337829e-18, -2.11369851348428e-18, 3.034577912910758e-18, -4.49353349621896e-18, 6.856602521237124e-18, -1.0771634668509188e-17, 1.7407954980412874e-17, -2.891804707899824e-17], \"yaxis\": \"y\"}, {\"hoverlabel\": {\"namelength\": 0}, \"hovertemplate\": \"<b>%{hovertext}</b><br><br>variable=R<br>index=%{x}<br>value=%{y}\", \"hovertext\": [\"R\", \"R\", \"R\", \"R\", \"R\", \"R\", \"R\", \"R\", \"R\", \"R\", \"R\", \"R\", \"R\", \"R\", \"R\", \"R\", \"R\", \"R\", \"R\", \"R\", \"R\", \"R\", \"R\", \"R\", \"R\", \"R\", \"R\", \"R\", \"R\", \"R\", \"R\", \"R\", \"R\", \"R\", \"R\", \"R\", \"R\", \"R\", \"R\", \"R\", \"R\", \"R\", \"R\", \"R\", \"R\", \"R\", \"R\", \"R\", \"R\", \"R\", \"R\", \"R\", \"R\", \"R\", \"R\", \"R\", \"R\", \"R\", \"R\", \"R\", \"R\"], \"legendgroup\": \"variable=R\", \"line\": {\"color\": \"#00cc96\", \"dash\": \"solid\", \"shape\": \"spline\"}, \"mode\": \"lines\", \"name\": \"variable=R\", \"showlegend\": true, \"type\": \"scatter\", \"x\": [0, 1, 2, 3, 4, 5, 6, 7, 8, 9, 10, 11, 12, 13, 14, 15, 16, 17, 18, 19, 20, 21, 22, 23, 24, 25, 26, 27, 28, 29, 30, 31, 32, 33, 34, 35, 36, 37, 38, 39, 40, 41, 42, 43, 44, 45, 46, 47, 48, 49, 50, 51, 52, 53, 54, 55, 56, 57, 58, 59, 60], \"xaxis\": \"x\", \"y\": [0.016135379771743407, 0.016135379771743407, 0.019414928505837595, 0.026506506292560458, 0.03884484654290002, 0.059111953887170485, 0.09182624442365016, 0.14398303649072325, 0.22487740988010851, 0.34274191553183875, 0.4951096039973103, 0.6575860176999708, 0.7928897194074122, 0.8816731218491416, 0.9298967983634968, 0.9523302737731358, 0.9613704217754577, 0.9645170723188179, 0.9654508797537644, 0.9656817546586223, 0.9657276145991698, 0.9657345186198674, 0.9657352283286453, 0.9657352675815281, 0.9657352678970693, 0.9657352678847497, 0.9657352678858087, 0.9657352678856681, 0.9657352678856933, 0.9657352678856876, 0.9657352678856892, 0.9657352678856888, 0.965735267885689, 0.9657352678856889, 0.9657352678856889, 0.9657352678856889, 0.9657352678856889, 0.9657352678856889, 0.9657352678856889, 0.9657352678856889, 0.9657352678856889, 0.9657352678856889, 0.9657352678856889, 0.9657352678856889, 0.9657352678856889, 0.9657352678856889, 0.9657352678856889, 0.9657352678856889, 0.9657352678856889, 0.9657352678856889, 0.9657352678856889, 0.9657352678856889, 0.9657352678856889, 0.9657352678856889, 0.9657352678856889, 0.9657352678856889, 0.9657352678856889, 0.9657352678856889, 0.9657352678856889, 0.9657352678856889, 0.9657352678856889], \"yaxis\": \"y\"}, {\"hoverlabel\": {\"namelength\": 0}, \"hovertemplate\": \"<b>%{hovertext}</b><br><br>variable=Deaths<br>index=%{x}<br>value=%{y}\", \"hovertext\": [\"Deaths\", \"Deaths\", \"Deaths\", \"Deaths\", \"Deaths\", \"Deaths\", \"Deaths\", \"Deaths\", \"Deaths\", \"Deaths\", \"Deaths\", \"Deaths\", \"Deaths\", \"Deaths\", \"Deaths\", \"Deaths\", \"Deaths\", \"Deaths\", \"Deaths\", \"Deaths\", \"Deaths\", \"Deaths\", \"Deaths\", \"Deaths\", \"Deaths\", \"Deaths\", \"Deaths\", \"Deaths\", \"Deaths\", \"Deaths\", \"Deaths\", \"Deaths\", \"Deaths\", \"Deaths\", \"Deaths\", \"Deaths\", \"Deaths\", \"Deaths\", \"Deaths\", \"Deaths\", \"Deaths\", \"Deaths\", \"Deaths\", \"Deaths\", \"Deaths\", \"Deaths\", \"Deaths\", \"Deaths\", \"Deaths\", \"Deaths\", \"Deaths\", \"Deaths\", \"Deaths\", \"Deaths\", \"Deaths\", \"Deaths\", \"Deaths\", \"Deaths\", \"Deaths\", \"Deaths\", \"Deaths\"], \"legendgroup\": \"variable=Deaths\", \"line\": {\"color\": \"#ab63fa\", \"dash\": \"solid\", \"shape\": \"spline\"}, \"mode\": \"lines\", \"name\": \"variable=Deaths\", \"showlegend\": true, \"type\": \"scatter\", \"x\": [0, 1, 2, 3, 4, 5, 6, 7, 8, 9, 10, 11, 12, 13, 14, 15, 16, 17, 18, 19, 20, 21, 22, 23, 24, 25, 26, 27, 28, 29, 30, 31, 32, 33, 34, 35, 36, 37, 38, 39, 40, 41, 42, 43, 44, 45, 46, 47, 48, 49, 50, 51, 52, 53, 54, 55, 56, 57, 58, 59, 60], \"xaxis\": \"x\", \"y\": [0.006559097468188377, 0.006559097468188377, 0.007091577786722861, 0.008225560166893043, 0.010133553672135235, 0.01308571621459187, 0.017385597355691035, 0.023112678111252928, 0.029466126412932555, 0.03385948632566034, 0.032495282740532115, 0.0246006730377166, 0.01479723374028824, 0.00741902715605465, 0.003204782201377, 0.0012053530669762593, 0.0003933313179200185, 0.00010985969822900161, 2.5652767206431652e-05, 4.827362162898011e-06, 6.904020697543974e-07, 6.759131218849769e-08, 3.568443880771677e-09, 2.743837250752635e-11, -1.0266308558257651e-12, 8.471852115139836e-14, -1.0812282315060163e-14, 1.867616282544835e-15, -4.0683412266631366e-16, 1.0697340015403837e-16, -3.29527397708289e-17, 1.1637297882499938e-17, -4.634625874113931e-18, 2.054813403204048e-18, -1.0037070239987002e-18, 5.355492627774757e-19, -3.0990968696767217e-19, 1.9331589149859762e-19, -1.2930637381400367e-19, 9.232364588152163e-20, -7.008255576402742e-20, 5.63604986260808e-20, -4.7867341717768046e-20, 4.281310604364383e-20, -4.022362577713572e-20, 3.9605054143352396e-20, -4.0782382582509954e-20, 4.3834200064125794e-20, -4.9091533691685255e-20, 5.719369058989355e-20, -6.921276594850522e-20, 8.68794568933576e-20, -1.1297430573455087e-19, 1.520026342133783e-19, -2.11369851348428e-19, 3.034577912910758e-19, -4.493533496218961e-19, 6.856602521237124e-19, -1.0771634668509189e-18, 1.7407954980412875e-18, -2.891804707899824e-18], \"yaxis\": \"y\"}],\n",
       "                        {\"height\": 600, \"legend\": {\"tracegroupgap\": 0}, \"margin\": {\"t\": 60}, \"template\": {\"data\": {\"bar\": [{\"error_x\": {\"color\": \"#2a3f5f\"}, \"error_y\": {\"color\": \"#2a3f5f\"}, \"marker\": {\"line\": {\"color\": \"#E5ECF6\", \"width\": 0.5}}, \"type\": \"bar\"}], \"barpolar\": [{\"marker\": {\"line\": {\"color\": \"#E5ECF6\", \"width\": 0.5}}, \"type\": \"barpolar\"}], \"carpet\": [{\"aaxis\": {\"endlinecolor\": \"#2a3f5f\", \"gridcolor\": \"white\", \"linecolor\": \"white\", \"minorgridcolor\": \"white\", \"startlinecolor\": \"#2a3f5f\"}, \"baxis\": {\"endlinecolor\": \"#2a3f5f\", \"gridcolor\": \"white\", \"linecolor\": \"white\", \"minorgridcolor\": \"white\", \"startlinecolor\": \"#2a3f5f\"}, \"type\": \"carpet\"}], \"choropleth\": [{\"colorbar\": {\"outlinewidth\": 0, \"ticks\": \"\"}, \"type\": \"choropleth\"}], \"contour\": [{\"colorbar\": {\"outlinewidth\": 0, \"ticks\": \"\"}, \"colorscale\": [[0.0, \"#0d0887\"], [0.1111111111111111, \"#46039f\"], [0.2222222222222222, \"#7201a8\"], [0.3333333333333333, \"#9c179e\"], [0.4444444444444444, \"#bd3786\"], [0.5555555555555556, \"#d8576b\"], [0.6666666666666666, \"#ed7953\"], [0.7777777777777778, \"#fb9f3a\"], [0.8888888888888888, \"#fdca26\"], [1.0, \"#f0f921\"]], \"type\": \"contour\"}], \"contourcarpet\": [{\"colorbar\": {\"outlinewidth\": 0, \"ticks\": \"\"}, \"type\": \"contourcarpet\"}], \"heatmap\": [{\"colorbar\": {\"outlinewidth\": 0, \"ticks\": \"\"}, \"colorscale\": [[0.0, \"#0d0887\"], [0.1111111111111111, \"#46039f\"], [0.2222222222222222, \"#7201a8\"], [0.3333333333333333, \"#9c179e\"], [0.4444444444444444, \"#bd3786\"], [0.5555555555555556, \"#d8576b\"], [0.6666666666666666, \"#ed7953\"], [0.7777777777777778, \"#fb9f3a\"], [0.8888888888888888, \"#fdca26\"], [1.0, \"#f0f921\"]], \"type\": \"heatmap\"}], \"heatmapgl\": [{\"colorbar\": {\"outlinewidth\": 0, \"ticks\": \"\"}, \"colorscale\": [[0.0, \"#0d0887\"], [0.1111111111111111, \"#46039f\"], [0.2222222222222222, \"#7201a8\"], [0.3333333333333333, \"#9c179e\"], [0.4444444444444444, \"#bd3786\"], [0.5555555555555556, \"#d8576b\"], [0.6666666666666666, \"#ed7953\"], [0.7777777777777778, \"#fb9f3a\"], [0.8888888888888888, \"#fdca26\"], [1.0, \"#f0f921\"]], \"type\": \"heatmapgl\"}], \"histogram\": [{\"marker\": {\"colorbar\": {\"outlinewidth\": 0, \"ticks\": \"\"}}, \"type\": \"histogram\"}], \"histogram2d\": [{\"colorbar\": {\"outlinewidth\": 0, \"ticks\": \"\"}, \"colorscale\": [[0.0, \"#0d0887\"], [0.1111111111111111, \"#46039f\"], [0.2222222222222222, \"#7201a8\"], [0.3333333333333333, \"#9c179e\"], [0.4444444444444444, \"#bd3786\"], [0.5555555555555556, \"#d8576b\"], [0.6666666666666666, \"#ed7953\"], [0.7777777777777778, \"#fb9f3a\"], [0.8888888888888888, \"#fdca26\"], [1.0, \"#f0f921\"]], \"type\": \"histogram2d\"}], \"histogram2dcontour\": [{\"colorbar\": {\"outlinewidth\": 0, \"ticks\": \"\"}, \"colorscale\": [[0.0, \"#0d0887\"], [0.1111111111111111, \"#46039f\"], [0.2222222222222222, \"#7201a8\"], [0.3333333333333333, \"#9c179e\"], [0.4444444444444444, \"#bd3786\"], [0.5555555555555556, \"#d8576b\"], [0.6666666666666666, \"#ed7953\"], [0.7777777777777778, \"#fb9f3a\"], [0.8888888888888888, \"#fdca26\"], [1.0, \"#f0f921\"]], \"type\": \"histogram2dcontour\"}], \"mesh3d\": [{\"colorbar\": {\"outlinewidth\": 0, \"ticks\": \"\"}, \"type\": \"mesh3d\"}], \"parcoords\": [{\"line\": {\"colorbar\": {\"outlinewidth\": 0, \"ticks\": \"\"}}, \"type\": \"parcoords\"}], \"pie\": [{\"automargin\": true, \"type\": \"pie\"}], \"scatter\": [{\"marker\": {\"colorbar\": {\"outlinewidth\": 0, \"ticks\": \"\"}}, \"type\": \"scatter\"}], \"scatter3d\": [{\"line\": {\"colorbar\": {\"outlinewidth\": 0, \"ticks\": \"\"}}, \"marker\": {\"colorbar\": {\"outlinewidth\": 0, \"ticks\": \"\"}}, \"type\": \"scatter3d\"}], \"scattercarpet\": [{\"marker\": {\"colorbar\": {\"outlinewidth\": 0, \"ticks\": \"\"}}, \"type\": \"scattercarpet\"}], \"scattergeo\": [{\"marker\": {\"colorbar\": {\"outlinewidth\": 0, \"ticks\": \"\"}}, \"type\": \"scattergeo\"}], \"scattergl\": [{\"marker\": {\"colorbar\": {\"outlinewidth\": 0, \"ticks\": \"\"}}, \"type\": \"scattergl\"}], \"scattermapbox\": [{\"marker\": {\"colorbar\": {\"outlinewidth\": 0, \"ticks\": \"\"}}, \"type\": \"scattermapbox\"}], \"scatterpolar\": [{\"marker\": {\"colorbar\": {\"outlinewidth\": 0, \"ticks\": \"\"}}, \"type\": \"scatterpolar\"}], \"scatterpolargl\": [{\"marker\": {\"colorbar\": {\"outlinewidth\": 0, \"ticks\": \"\"}}, \"type\": \"scatterpolargl\"}], \"scatterternary\": [{\"marker\": {\"colorbar\": {\"outlinewidth\": 0, \"ticks\": \"\"}}, \"type\": \"scatterternary\"}], \"surface\": [{\"colorbar\": {\"outlinewidth\": 0, \"ticks\": \"\"}, \"colorscale\": [[0.0, \"#0d0887\"], [0.1111111111111111, \"#46039f\"], [0.2222222222222222, \"#7201a8\"], [0.3333333333333333, \"#9c179e\"], [0.4444444444444444, \"#bd3786\"], [0.5555555555555556, \"#d8576b\"], [0.6666666666666666, \"#ed7953\"], [0.7777777777777778, \"#fb9f3a\"], [0.8888888888888888, \"#fdca26\"], [1.0, \"#f0f921\"]], \"type\": \"surface\"}], \"table\": [{\"cells\": {\"fill\": {\"color\": \"#EBF0F8\"}, \"line\": {\"color\": \"white\"}}, \"header\": {\"fill\": {\"color\": \"#C8D4E3\"}, \"line\": {\"color\": \"white\"}}, \"type\": \"table\"}]}, \"layout\": {\"annotationdefaults\": {\"arrowcolor\": \"#2a3f5f\", \"arrowhead\": 0, \"arrowwidth\": 1}, \"coloraxis\": {\"colorbar\": {\"outlinewidth\": 0, \"ticks\": \"\"}}, \"colorscale\": {\"diverging\": [[0, \"#8e0152\"], [0.1, \"#c51b7d\"], [0.2, \"#de77ae\"], [0.3, \"#f1b6da\"], [0.4, \"#fde0ef\"], [0.5, \"#f7f7f7\"], [0.6, \"#e6f5d0\"], [0.7, \"#b8e186\"], [0.8, \"#7fbc41\"], [0.9, \"#4d9221\"], [1, \"#276419\"]], \"sequential\": [[0.0, \"#0d0887\"], [0.1111111111111111, \"#46039f\"], [0.2222222222222222, \"#7201a8\"], [0.3333333333333333, \"#9c179e\"], [0.4444444444444444, \"#bd3786\"], [0.5555555555555556, \"#d8576b\"], [0.6666666666666666, \"#ed7953\"], [0.7777777777777778, \"#fb9f3a\"], [0.8888888888888888, \"#fdca26\"], [1.0, \"#f0f921\"]], \"sequentialminus\": [[0.0, \"#0d0887\"], [0.1111111111111111, \"#46039f\"], [0.2222222222222222, \"#7201a8\"], [0.3333333333333333, \"#9c179e\"], [0.4444444444444444, \"#bd3786\"], [0.5555555555555556, \"#d8576b\"], [0.6666666666666666, \"#ed7953\"], [0.7777777777777778, \"#fb9f3a\"], [0.8888888888888888, \"#fdca26\"], [1.0, \"#f0f921\"]]}, \"colorway\": [\"#636efa\", \"#EF553B\", \"#00cc96\", \"#ab63fa\", \"#FFA15A\", \"#19d3f3\", \"#FF6692\", \"#B6E880\", \"#FF97FF\", \"#FECB52\"], \"font\": {\"color\": \"#2a3f5f\"}, \"geo\": {\"bgcolor\": \"white\", \"lakecolor\": \"white\", \"landcolor\": \"#E5ECF6\", \"showlakes\": true, \"showland\": true, \"subunitcolor\": \"white\"}, \"hoverlabel\": {\"align\": \"left\"}, \"hovermode\": \"closest\", \"mapbox\": {\"style\": \"light\"}, \"paper_bgcolor\": \"white\", \"plot_bgcolor\": \"#E5ECF6\", \"polar\": {\"angularaxis\": {\"gridcolor\": \"white\", \"linecolor\": \"white\", \"ticks\": \"\"}, \"bgcolor\": \"#E5ECF6\", \"radialaxis\": {\"gridcolor\": \"white\", \"linecolor\": \"white\", \"ticks\": \"\"}}, \"scene\": {\"xaxis\": {\"backgroundcolor\": \"#E5ECF6\", \"gridcolor\": \"white\", \"gridwidth\": 2, \"linecolor\": \"white\", \"showbackground\": true, \"ticks\": \"\", \"zerolinecolor\": \"white\"}, \"yaxis\": {\"backgroundcolor\": \"#E5ECF6\", \"gridcolor\": \"white\", \"gridwidth\": 2, \"linecolor\": \"white\", \"showbackground\": true, \"ticks\": \"\", \"zerolinecolor\": \"white\"}, \"zaxis\": {\"backgroundcolor\": \"#E5ECF6\", \"gridcolor\": \"white\", \"gridwidth\": 2, \"linecolor\": \"white\", \"showbackground\": true, \"ticks\": \"\", \"zerolinecolor\": \"white\"}}, \"shapedefaults\": {\"line\": {\"color\": \"#2a3f5f\"}}, \"ternary\": {\"aaxis\": {\"gridcolor\": \"white\", \"linecolor\": \"white\", \"ticks\": \"\"}, \"baxis\": {\"gridcolor\": \"white\", \"linecolor\": \"white\", \"ticks\": \"\"}, \"bgcolor\": \"#E5ECF6\", \"caxis\": {\"gridcolor\": \"white\", \"linecolor\": \"white\", \"ticks\": \"\"}}, \"title\": {\"x\": 0.05}, \"xaxis\": {\"automargin\": true, \"gridcolor\": \"white\", \"linecolor\": \"white\", \"ticks\": \"\", \"title\": {\"standoff\": 15}, \"zerolinecolor\": \"white\", \"zerolinewidth\": 2}, \"yaxis\": {\"automargin\": true, \"gridcolor\": \"white\", \"linecolor\": \"white\", \"ticks\": \"\", \"title\": {\"standoff\": 15}, \"zerolinecolor\": \"white\", \"zerolinewidth\": 2}}}, \"xaxis\": {\"anchor\": \"y\", \"domain\": [0.0, 1.0], \"title\": {\"text\": \"index\"}}, \"yaxis\": {\"anchor\": \"x\", \"domain\": [0.0, 1.0], \"title\": {\"text\": \"value\"}}},\n",
       "                        {\"responsive\": true}\n",
       "                    ).then(function(){\n",
       "                            \n",
       "var gd = document.getElementById('21390620-9db3-473b-aee2-0dd233fd0fde');\n",
       "var x = new MutationObserver(function (mutations, observer) {{\n",
       "        var display = window.getComputedStyle(gd).display;\n",
       "        if (!display || display === 'none') {{\n",
       "            console.log([gd, 'removed!']);\n",
       "            Plotly.purge(gd);\n",
       "            observer.disconnect();\n",
       "        }}\n",
       "}});\n",
       "\n",
       "// Listen for the removal of the full notebook cells\n",
       "var notebookContainer = gd.closest('#notebook-container');\n",
       "if (notebookContainer) {{\n",
       "    x.observe(notebookContainer, {childList: true});\n",
       "}}\n",
       "\n",
       "// Listen for the clearing of the current output cell\n",
       "var outputEl = gd.closest('.output');\n",
       "if (outputEl) {{\n",
       "    x.observe(outputEl, {childList: true});\n",
       "}}\n",
       "\n",
       "                        })\n",
       "                };\n",
       "                });\n",
       "            </script>\n",
       "        </div>"
      ]
     },
     "metadata": {},
     "output_type": "display_data"
    }
   ],
   "source": [
    "import plotly.express as px\n",
    "\n",
    "fig = px.line(df, x=\"index\", y=\"value\", color=\"variable\", line_group=\"variable\", hover_name=\"variable\",\n",
    "        line_shape=\"spline\", render_mode=\"svg\")\n",
    "fig.show()"
   ]
  },
  {
   "cell_type": "code",
   "execution_count": null,
   "metadata": {},
   "outputs": [],
   "source": []
  },
  {
   "cell_type": "code",
   "execution_count": null,
   "metadata": {},
   "outputs": [],
   "source": []
  }
 ],
 "metadata": {
  "kernelspec": {
   "display_name": "Python 3",
   "language": "python",
   "name": "python3"
  },
  "language_info": {
   "codemirror_mode": {
    "name": "ipython",
    "version": 3
   },
   "file_extension": ".py",
   "mimetype": "text/x-python",
   "name": "python",
   "nbconvert_exporter": "python",
   "pygments_lexer": "ipython3",
   "version": "3.6.5"
  }
 },
 "nbformat": 4,
 "nbformat_minor": 4
}
