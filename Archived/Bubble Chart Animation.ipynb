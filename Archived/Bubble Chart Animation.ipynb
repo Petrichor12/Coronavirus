{
 "cells": [
  {
   "cell_type": "code",
   "execution_count": 1,
   "metadata": {},
   "outputs": [],
   "source": [
    "import plotly\n",
    "import plotly.express as px\n",
    "import plotly.graph_objects as go\n",
    "import numpy as np\n",
    "import pandas as pd\n",
    "import numpy as np\n",
    "from os import listdir\n",
    "from os.path import isfile, join\n",
    "from datetime import date"
   ]
  },
  {
   "cell_type": "code",
   "execution_count": 3,
   "metadata": {},
   "outputs": [],
   "source": [
    "#read in data\n",
    "df = pd.read_csv('./Data/timeseries.csv')\n",
    "mcases = df['Cases'].max()\n",
    "mdeaths = df['Deaths'].max()\n",
    "mnewcases = df['New Cases'].max()"
   ]
  },
  {
   "cell_type": "markdown",
   "metadata": {},
   "source": [
    "# Area Chart"
   ]
  },
  {
   "cell_type": "code",
   "execution_count": null,
   "metadata": {
    "scrolled": false
   },
   "outputs": [],
   "source": [
    "for col in ['Cases', 'Deaths','Active Cases','Daily Deaths','New Cases Last Week','New Deaths Last Week']:\n",
    "    \n",
    "    fig = px.area(df, x=\"Day0\", y=col, color=\"Country\", range_x=[20,'Day0'], range_y=[0,col])\n",
    "    fig.update_layout(title=col+' by Country over Time')\n",
    "    fig.show()"
   ]
  },
  {
   "cell_type": "markdown",
   "metadata": {},
   "source": [
    "# Line Chart"
   ]
  },
  {
   "cell_type": "code",
   "execution_count": null,
   "metadata": {
    "scrolled": false
   },
   "outputs": [],
   "source": [
    "for col in ['Cases', 'Deaths','Active Cases','Daily Deaths','New Cases Last Week','New Deaths Last Week']:\n",
    "    \n",
    "    fig = px.line(df, x=\"Day0\", y=col, color=\"Country\",range_x=[20,'Day0'], range_y=[0,col])\n",
    "    fig.update_layout(title=col+' by Country over Time')\n",
    "    fig.show()"
   ]
  },
  {
   "cell_type": "markdown",
   "metadata": {},
   "source": [
    "# Animations"
   ]
  },
  {
   "cell_type": "code",
   "execution_count": 4,
   "metadata": {},
   "outputs": [
    {
     "name": "stderr",
     "output_type": "stream",
     "text": [
      "c:\\users\\jason collis\\appdata\\local\\programs\\python\\python36\\lib\\site-packages\\statsmodels\\regression\\linear_model.py:1685: RuntimeWarning:\n",
      "\n",
      "invalid value encountered in double_scalars\n",
      "\n"
     ]
    },
    {
     "ename": "IndexError",
     "evalue": "index 1 is out of bounds for axis 0 with size 1",
     "output_type": "error",
     "traceback": [
      "\u001b[1;31m---------------------------------------------------------------------------\u001b[0m",
      "\u001b[1;31mIndexError\u001b[0m                                Traceback (most recent call last)",
      "\u001b[1;32m<ipython-input-4-ef6104b8fe04>\u001b[0m in \u001b[0;36m<module>\u001b[1;34m\u001b[0m\n\u001b[0;32m      1\u001b[0m fig = px.scatter(df, x=\"Cases\", y=\"Deaths\", animation_frame=\"Day0\",\n\u001b[0;32m      2\u001b[0m            \u001b[0msize\u001b[0m\u001b[1;33m=\u001b[0m\u001b[1;34m\"Daily Deaths\"\u001b[0m\u001b[1;33m,\u001b[0m \u001b[0mcolor\u001b[0m\u001b[1;33m=\u001b[0m\u001b[1;34m\"Country\"\u001b[0m\u001b[1;33m,\u001b[0m \u001b[0mhover_name\u001b[0m\u001b[1;33m=\u001b[0m\u001b[1;34m\"Country\"\u001b[0m\u001b[1;33m,\u001b[0m\u001b[0manimation_group\u001b[0m\u001b[1;33m=\u001b[0m\u001b[1;34m\"Country\"\u001b[0m\u001b[1;33m,\u001b[0m\u001b[0mtext\u001b[0m\u001b[1;33m=\u001b[0m\u001b[1;34m\"Country\"\u001b[0m\u001b[1;33m,\u001b[0m\u001b[1;33m\u001b[0m\u001b[0m\n\u001b[1;32m----> 3\u001b[1;33m                  range_x=[0,mcases], range_y=[0,mdeaths],trendline='ols')\n\u001b[0m\u001b[0;32m      4\u001b[0m \u001b[0mfig\u001b[0m\u001b[1;33m.\u001b[0m\u001b[0mupdate_layout\u001b[0m\u001b[1;33m(\u001b[0m\u001b[0mtitle\u001b[0m\u001b[1;33m=\u001b[0m\u001b[1;34m'Evolution of Deaths and Cases by Country over Time'\u001b[0m\u001b[1;33m)\u001b[0m\u001b[1;33m\u001b[0m\u001b[0m\n\u001b[0;32m      5\u001b[0m \u001b[0mfig\u001b[0m\u001b[1;33m.\u001b[0m\u001b[0mshow\u001b[0m\u001b[1;33m(\u001b[0m\u001b[1;33m)\u001b[0m\u001b[1;33m\u001b[0m\u001b[0m\n",
      "\u001b[1;32mc:\\users\\jason collis\\appdata\\local\\programs\\python\\python36\\lib\\site-packages\\plotly\\express\\_chart_types.py\u001b[0m in \u001b[0;36mscatter\u001b[1;34m(data_frame, x, y, color, symbol, size, hover_name, hover_data, custom_data, text, facet_row, facet_col, facet_col_wrap, error_x, error_x_minus, error_y, error_y_minus, animation_frame, animation_group, category_orders, labels, color_discrete_sequence, color_discrete_map, color_continuous_scale, range_color, color_continuous_midpoint, symbol_sequence, symbol_map, opacity, size_max, marginal_x, marginal_y, trendline, trendline_color_override, log_x, log_y, range_x, range_y, render_mode, title, template, width, height)\u001b[0m\n\u001b[0;32m     53\u001b[0m     \u001b[1;32min\u001b[0m \u001b[1;36m2\u001b[0m\u001b[0mD\u001b[0m \u001b[0mspace\u001b[0m\u001b[1;33m.\u001b[0m\u001b[1;33m\u001b[0m\u001b[0m\n\u001b[0;32m     54\u001b[0m     \"\"\"\n\u001b[1;32m---> 55\u001b[1;33m     \u001b[1;32mreturn\u001b[0m \u001b[0mmake_figure\u001b[0m\u001b[1;33m(\u001b[0m\u001b[0margs\u001b[0m\u001b[1;33m=\u001b[0m\u001b[0mlocals\u001b[0m\u001b[1;33m(\u001b[0m\u001b[1;33m)\u001b[0m\u001b[1;33m,\u001b[0m \u001b[0mconstructor\u001b[0m\u001b[1;33m=\u001b[0m\u001b[0mgo\u001b[0m\u001b[1;33m.\u001b[0m\u001b[0mScatter\u001b[0m\u001b[1;33m)\u001b[0m\u001b[1;33m\u001b[0m\u001b[0m\n\u001b[0m\u001b[0;32m     56\u001b[0m \u001b[1;33m\u001b[0m\u001b[0m\n\u001b[0;32m     57\u001b[0m \u001b[1;33m\u001b[0m\u001b[0m\n",
      "\u001b[1;32mc:\\users\\jason collis\\appdata\\local\\programs\\python\\python36\\lib\\site-packages\\plotly\\express\\_core.py\u001b[0m in \u001b[0;36mmake_figure\u001b[1;34m(args, constructor, trace_patch, layout_patch)\u001b[0m\n\u001b[0;32m   1230\u001b[0m \u001b[1;33m\u001b[0m\u001b[0m\n\u001b[0;32m   1231\u001b[0m             patch, fit_results = make_trace_kwargs(\n\u001b[1;32m-> 1232\u001b[1;33m                 \u001b[0margs\u001b[0m\u001b[1;33m,\u001b[0m \u001b[0mtrace_spec\u001b[0m\u001b[1;33m,\u001b[0m \u001b[0mgroup\u001b[0m\u001b[1;33m,\u001b[0m \u001b[0mmapping_labels\u001b[0m\u001b[1;33m.\u001b[0m\u001b[0mcopy\u001b[0m\u001b[1;33m(\u001b[0m\u001b[1;33m)\u001b[0m\u001b[1;33m,\u001b[0m \u001b[0msizeref\u001b[0m\u001b[1;33m\u001b[0m\u001b[0m\n\u001b[0m\u001b[0;32m   1233\u001b[0m             )\n\u001b[0;32m   1234\u001b[0m             \u001b[0mtrace\u001b[0m\u001b[1;33m.\u001b[0m\u001b[0mupdate\u001b[0m\u001b[1;33m(\u001b[0m\u001b[0mpatch\u001b[0m\u001b[1;33m)\u001b[0m\u001b[1;33m\u001b[0m\u001b[0m\n",
      "\u001b[1;32mc:\\users\\jason collis\\appdata\\local\\programs\\python\\python36\\lib\\site-packages\\plotly\\express\\_core.py\u001b[0m in \u001b[0;36mmake_trace_kwargs\u001b[1;34m(args, trace_spec, g, mapping_labels, sizeref)\u001b[0m\n\u001b[0;32m    239\u001b[0m                         hover_header += \"%s = %f * %s + %f<br>\" % (\n\u001b[0;32m    240\u001b[0m                             \u001b[0margs\u001b[0m\u001b[1;33m[\u001b[0m\u001b[1;34m\"y\"\u001b[0m\u001b[1;33m]\u001b[0m\u001b[1;33m,\u001b[0m\u001b[1;33m\u001b[0m\u001b[0m\n\u001b[1;32m--> 241\u001b[1;33m                             \u001b[0mfit_results\u001b[0m\u001b[1;33m.\u001b[0m\u001b[0mparams\u001b[0m\u001b[1;33m[\u001b[0m\u001b[1;36m1\u001b[0m\u001b[1;33m]\u001b[0m\u001b[1;33m,\u001b[0m\u001b[1;33m\u001b[0m\u001b[0m\n\u001b[0m\u001b[0;32m    242\u001b[0m                             \u001b[0margs\u001b[0m\u001b[1;33m[\u001b[0m\u001b[1;34m\"x\"\u001b[0m\u001b[1;33m]\u001b[0m\u001b[1;33m,\u001b[0m\u001b[1;33m\u001b[0m\u001b[0m\n\u001b[0;32m    243\u001b[0m                             \u001b[0mfit_results\u001b[0m\u001b[1;33m.\u001b[0m\u001b[0mparams\u001b[0m\u001b[1;33m[\u001b[0m\u001b[1;36m0\u001b[0m\u001b[1;33m]\u001b[0m\u001b[1;33m,\u001b[0m\u001b[1;33m\u001b[0m\u001b[0m\n",
      "\u001b[1;31mIndexError\u001b[0m: index 1 is out of bounds for axis 0 with size 1"
     ]
    }
   ],
   "source": [
    "fig = px.scatter(df, x=\"Cases\", y=\"Deaths\", animation_frame=\"Day0\",\n",
    "           size=\"Daily Deaths\", color=\"Country\", hover_name=\"Country\",animation_group=\"Country\",text=\"Country\",\n",
    "                 range_x=[0,mcases], range_y=[0,mdeaths],trendline='ols')\n",
    "fig.update_layout(title='Evolution of Deaths and Cases by Country over Time')\n",
    "fig.show()"
   ]
  },
  {
   "cell_type": "code",
   "execution_count": null,
   "metadata": {},
   "outputs": [],
   "source": [
    "fig = px.scatter(df, x=\"Cases\", y=\"Deaths\", animation_frame=\"Day0\",\n",
    "           size=\"Daily Deaths\", color=\"Country\", hover_name=\"Country\",animation_group=\"Country\",text=\"Country\",\n",
    "                 trendline='ols',log_x=True,log_y=True)\n",
    "fig.update_layout(title='Evolution of Deaths and Cases by Country over Time')\n",
    "fig.show()"
   ]
  },
  {
   "cell_type": "code",
   "execution_count": null,
   "metadata": {
    "scrolled": false
   },
   "outputs": [],
   "source": [
    "fig = px.line(df, x=\"Cases\", y=\"New Cases Last Week\",\n",
    "              color=\"Country\", hover_name=\"Country\",\n",
    "                 range_x=[500,mcases], range_y=[400,mnewcases],log_x=True,log_y=True,)\n",
    "fig.update_layout(title='Evolution of New Cases Last Week and Cases by Country over Time')\n",
    "plotly.offline.plot(fig, filename = './Saved graphs/CasesNewCasesLogStatic.html', auto_open=False)\n",
    "fig.show()"
   ]
  },
  {
   "cell_type": "code",
   "execution_count": null,
   "metadata": {},
   "outputs": [],
   "source": [
    "#paramaters\n",
    "mdeaths = int(df['Deaths'].max())\n",
    "mcases = int(df['Cases'].max())\n",
    "mnewcases = int(df['New Cases Last Week'].max())\n",
    "mnewdeaths = int(df['New Deaths Last Week'].max())"
   ]
  },
  {
   "cell_type": "code",
   "execution_count": null,
   "metadata": {},
   "outputs": [],
   "source": [
    "fig = px.line(df, x=\"Cases\", y=\"New Deaths Last Week\",\n",
    "              color=\"Country\", hover_name=\"Country\",\n",
    "                 range_x=[500,mcases], range_y=[5,mnewdeaths],log_x=True,log_y=True,)\n",
    "fig.update_layout(title='Evolution of New Deaths Last Week and Cases by Country over Time')\n",
    "fig.show()"
   ]
  },
  {
   "cell_type": "code",
   "execution_count": null,
   "metadata": {},
   "outputs": [],
   "source": [
    "fig = px.line(df, x=\"Cases\", y=\"New Cases Last Week\",animation_frame='Day0',\n",
    "              color=\"Country\", hover_name=\"Country\",text=\"Country\",\n",
    "                 range_x=[500,mcases], range_y=[400,mnewcases],log_x=True,log_y=True,)\n",
    "fig.update_layout(title='Evolution of New Cases Last Week and Cases by Country over Time')\n",
    "plotly.offline.plot(fig, filename = './Saved graphs/CasesNewCasesLogAnimated.html', auto_open=False)\n",
    "\n",
    "fig.show()\n"
   ]
  },
  {
   "cell_type": "code",
   "execution_count": null,
   "metadata": {
    "scrolled": false
   },
   "outputs": [],
   "source": [
    "fig = px.line(df, x=\"Cases\", y=\"New Deaths Last Week\",animation_frame='Day0',\n",
    "              color=\"Country\", hover_name=\"Country\",text=\"Country\",\n",
    "                 range_x=[500,mcases], range_y=[1,mnewdeaths],log_x=True,log_y=True,)\n",
    "fig.update_layout(title='Evolution of New Deaths Last Week and Cases by Country over Time')\n",
    "fig.show()\n",
    "\n"
   ]
  },
  {
   "cell_type": "markdown",
   "metadata": {},
   "source": [
    "# Case Fatality Analysis"
   ]
  },
  {
   "cell_type": "code",
   "execution_count": null,
   "metadata": {
    "scrolled": false
   },
   "outputs": [],
   "source": [
    "x=np.arange(10,mcases*10,10000)\n",
    "y=np.arange(10,mdeaths*10,10000)\n",
    "lethality = [0.005,0.01,0.02,0.04,0.06,0.1]\n",
    "greyscale = np.flip(np.cumsum([250/len(lethality) for x in lethality]))\n",
    "lgs = list(zip(lethality,greyscale))\n",
    "countries = ['China','USA','Germany','Italy','UK','Turkey','Spain','France']\n",
    "\n",
    "\n",
    "fig = go.Figure()\n",
    "\n",
    "for l,gs in lgs:\n",
    "    fig.add_trace(go.Scatter(x=x, y=x*l, mode='lines',\n",
    "        name=str(round(l*100,1))+'%',text=str(round(l*100,0))+'%',\n",
    "        marker_color='rgb({},{},{})'.format(gs,gs,gs)\n",
    "                            )\n",
    "                 )\n",
    "\n",
    "\n",
    "for c in countries:\n",
    "    fig.add_trace(go.Scatter(x=df[df['Country']==c]['Cases'],\n",
    "                             y=df[df['Country']==c]['Deaths'],\n",
    "                             mode='lines+markers',text=c,name=c))\n",
    "\n",
    "fig.update_layout(title=\"Deaths over Cases incl. Case Fatality Rate (CFR) Iso Lines\",\n",
    "                  xaxis_title=\"Cases\",\n",
    "                  yaxis_title=\"Deaths\",\n",
    "                  xaxis_type=\"log\", yaxis_type=\"log\",)\n",
    "fig.update_xaxes(range=[1, 6])\n",
    "fig.update_yaxes(range=[0.4, 4.2])  \n",
    "plotly.offline.plot(fig, filename = 'CFRLines.html', auto_open=False)\n",
    "\n",
    "\n",
    "fig.show()"
   ]
  },
  {
   "cell_type": "code",
   "execution_count": null,
   "metadata": {},
   "outputs": [],
   "source": [
    "fig = px.line(df[df['Country'].isin(countries)], x=\"Day0\", y=\"CFR_Total\",\n",
    "              color=\"Country\", hover_name=\"Country\",range_x=[50,85],range_y=[0,0.12])\n",
    "fig.update_layout(title='Case Fatality Rate (CFR) by Country over Time')\n",
    "fig.show()\n"
   ]
  },
  {
   "cell_type": "code",
   "execution_count": null,
   "metadata": {},
   "outputs": [],
   "source": [
    "fig = px.line(df[df['Country'].isin(countries)], x=\"Day0\", y=\"CFR_Current\",\n",
    "              color=\"Country\", hover_name=\"Country\",range_x=[50,85],range_y=[0,1])\n",
    "fig.update_layout(title='Case Fatality Rate (CFR) by Country over Time')\n",
    "fig.show()"
   ]
  },
  {
   "cell_type": "code",
   "execution_count": null,
   "metadata": {},
   "outputs": [],
   "source": [
    "fig = px.scatter(df[df['Country'].isin(countries)], x=\"NewCases\", y=\"NewDeaths\",\n",
    "                 color=\"Country\", hover_name=\"Country\",trendline=\"ols\",\n",
    "                 #log_x=True,log_y=True,#range_x=[200,20000],range_y=[20,2000]\n",
    "                )\n",
    "fig.update_layout(title='New Deaths over New Cases by Country')\n",
    "fig.show()"
   ]
  },
  {
   "cell_type": "code",
   "execution_count": null,
   "metadata": {},
   "outputs": [],
   "source": [
    "def index_X_cases(df=df,X_cases=200):\n",
    "    \"\"\"Produces a dataframe that sets the index to 0 at X cases and removes all preceeding observations\"\"\"\n",
    "    \n",
    "    # cycle through columns and reset index at X_cases\n",
    "    country_dfs = []\n",
    "    for c in df['Country'].unique():\n",
    "        dfc = df[df['Country']==c]\n",
    "        dfc = dfc[dfc['Cases']>=X_cases]\n",
    "        #dfc.sort_values('Cases',inplace=True)\n",
    "        dfc.reset_index(drop=True,inplace=True)\n",
    "        dfc.reset_index(inplace=True)\n",
    "        dfc = dfc.rename(columns={'index':'Day{}'.format(X_cases)})\n",
    "        country_dfs.append(dfc)\n",
    "    return pd.concat(country_dfs,axis=0)\n",
    "    \n",
    "# df index_X_cases \n",
    "df200 = index_X_cases(df,200)\n",
    "#df200"
   ]
  },
  {
   "cell_type": "code",
   "execution_count": null,
   "metadata": {},
   "outputs": [],
   "source": [
    "df = df200\n",
    "\n",
    "fig = go.Figure()\n",
    "\n",
    "for c in countries:\n",
    "    fig.add_trace(go.Scatter(x=df[df['Country']==c]['Day200'],\n",
    "                             y=df[df['Country']==c]['Cases'],\n",
    "                             mode='lines+markers',text=c,name=c))\n",
    "\n",
    "fig.update_layout(title=\"Cases over days reset at 200 cases by country\",\n",
    "                  xaxis_title=\"Days since 200 cases\",\n",
    "                  yaxis_title=\"Cases\", \n",
    "                  yaxis_type=\"log\",)\n",
    "\n",
    "fig.show()\n",
    "\n",
    "fig = go.Figure()\n",
    "\n",
    "for l,gs in lgs:\n",
    "    fig.add_trace(go.Scatter(x=x, y=x*l, mode='lines',\n",
    "        name=str(round(l*100,1))+'%',text=str(round(l*100,0))+'%',\n",
    "        marker_color='rgb({},{},{})'.format(gs,gs,gs)\n",
    "                            )\n",
    "                 )\n",
    "\n",
    "for c in countries:\n",
    "    fig.add_trace(go.Scatter(x=df[df['Country']==c]['Cases'],\n",
    "                             y=df[df['Country']==c]['Deaths'],\n",
    "                             mode='lines+markers',text=c,name=c))\n",
    "\n",
    "fig.update_layout(title=\"Cases over days reset at 200 cases by country\",\n",
    "                  xaxis_title=\"Days since 200 cases\",\n",
    "                  yaxis_title=\"Cases\", \n",
    "                  xaxis_type=\"log\",\n",
    "                  yaxis_type=\"log\",)\n",
    "fig.update_yaxes(range=[0.4, 4.2])  \n",
    "\n",
    "fig.show()"
   ]
  },
  {
   "cell_type": "code",
   "execution_count": null,
   "metadata": {},
   "outputs": [],
   "source": [
    "fig = px.line(df[df['Country'].isin(countries)], x=\"Cases\", y=\"New Cases Last Week\",\n",
    "              color=\"Country\", hover_name=\"Country\",\n",
    "                 range_x=[5000,mcases*1.1], range_y=[3000,140000],log_x=True,log_y=True,\n",
    "             )\n",
    "fig.update_layout(title='Evolution of New Cases Last Week and Cases by Country over Time')\n",
    "fig.show()"
   ]
  },
  {
   "cell_type": "code",
   "execution_count": null,
   "metadata": {
    "scrolled": false
   },
   "outputs": [],
   "source": [
    "from scipy.optimize import curve_fit\n",
    "\n",
    "\n",
    "def func(x, a, b, c):\n",
    "    return a * np.exp(b * x) + c\n",
    "\n",
    "def projection(df):\n",
    "    country_dfs = []\n",
    "    for c in df['Country'].unique():\n",
    "        # filter for country\n",
    "        dfc = df[df['Country']==c]\n",
    "        \n",
    "        # create vectors for curve fit\n",
    "        x = dfc['Day200']\n",
    "        y = dfc['Cases']\n",
    "        \n",
    "        # curve fit (func = exp function)\n",
    "        popt, pcov = curve_fit(func, x, y, p0=[0,0,0], maxfev=5000)        \n",
    "        \n",
    "        # save result\n",
    "        dff = pd.DataFrame({'Day200':np.arange(x.max(),50,1),'Cases_fit':func(np.arange(x.max(),50,1), *popt)})\n",
    "        dff['Country']=c  \n",
    "        # merge result\n",
    "        dfc = dfc.merge(dff,x)\n",
    "        print(dfc)\n",
    "        country_dfs.append(dfc)\n",
    "    \n",
    "    # merge all country dfs\n",
    "    dfc = pd.concat(country_dfs,axis=1)\n",
    "    return dfc\n",
    "projection(df200)"
   ]
  },
  {
   "cell_type": "code",
   "execution_count": null,
   "metadata": {},
   "outputs": [],
   "source": []
  },
  {
   "cell_type": "code",
   "execution_count": null,
   "metadata": {},
   "outputs": [],
   "source": [
    "df = projection(df200)\n",
    "\n",
    "df#[df['Country']=='USA']"
   ]
  },
  {
   "cell_type": "code",
   "execution_count": null,
   "metadata": {},
   "outputs": [],
   "source": [
    "fig = go.Figure()\n",
    "\n",
    "df = projection(df200)\n",
    "\n",
    "for c in countries:\n",
    "    fig.add_trace(go.Scatter(x=df[df['Country']==c]['Day200'],\n",
    "                             y=df[df['Country']==c]['Cases'],\n",
    "                             mode='lines+markers',text=c,name=c,))\n",
    "    #fig.add_trace(go.Scatter(x=df[df['Country']==c]['Day200'],\n",
    "    #                         y=df[df['Country']==c]['Cases_fit'],\n",
    "    #                         mode='lines',text=c,name=c,dash='dot'))\n",
    "\n",
    "fig.update_layout(title=\"Cases and Prediction over days reset at 200 cases by country\",\n",
    "                  xaxis_title=\"Days since 200 cases\",\n",
    "                  yaxis_title=\"Cases\", \n",
    "                  xaxis_type=\"log\",\n",
    "                  yaxis_type=\"log\",)\n",
    "fig.update_yaxes(range=[0.4, 4.2])  \n",
    "\n",
    "fig.show()"
   ]
  },
  {
   "cell_type": "code",
   "execution_count": null,
   "metadata": {},
   "outputs": [],
   "source": [
    "print('hello world')"
   ]
  },
  {
   "cell_type": "code",
   "execution_count": null,
   "metadata": {},
   "outputs": [],
   "source": []
  }
 ],
 "metadata": {
  "kernelspec": {
   "display_name": "Python 3",
   "language": "python",
   "name": "python3"
  },
  "language_info": {
   "codemirror_mode": {
    "name": "ipython",
    "version": 3
   },
   "file_extension": ".py",
   "mimetype": "text/x-python",
   "name": "python",
   "nbconvert_exporter": "python",
   "pygments_lexer": "ipython3",
   "version": "3.6.5"
  }
 },
 "nbformat": 4,
 "nbformat_minor": 4
}
