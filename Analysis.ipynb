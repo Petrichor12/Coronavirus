{
 "cells": [
  {
   "cell_type": "code",
   "execution_count": null,
   "metadata": {},
   "outputs": [],
   "source": [
    "import pandas as pd\n",
    "import numpy as np\n",
    "import matplotlib.pyplot as plt"
   ]
  },
  {
   "cell_type": "markdown",
   "metadata": {},
   "source": [
    "## World Analysis"
   ]
  },
  {
   "cell_type": "code",
   "execution_count": null,
   "metadata": {},
   "outputs": [],
   "source": [
    "df = pd.read_csv('./Data/world_info.csv')\n",
    "\n",
    "df.columns = ['Unnamed','Country', 'Total Cases', 'New Cases', 'Total Deaths', 'New Deaths', 'Total Recovered', \n",
    "           'Active Cases', 'Critical cases', 'Cases per 1M', 'Deaths per 1M','Date of 1st Case']\n",
    "df = df.set_index('Country')\n",
    "df = df.drop(df.columns[[0]], axis=1)\n",
    "\n",
    "df.drop(df.tail(1).index,inplace=True)        #removes total row\n",
    "df.head()"
   ]
  },
  {
   "cell_type": "code",
   "execution_count": null,
   "metadata": {},
   "outputs": [],
   "source": [
    "#Plot cases vs deaths on a scatter plot\n",
    "x = df.loc[:,'Total Cases']\n",
    "y = df.loc[:,'Total Deaths']\n",
    "colors = 'black'\n",
    "area = np.pi*3\n",
    "\n",
    "plt.scatter(x, y, s=area, c=colors, alpha=0.7)\n",
    "plt.title('Cases vs Deaths')\n",
    "plt.xlabel('Cases')\n",
    "plt.ylabel('Deaths')\n",
    "\n",
    "plt.show()"
   ]
  },
  {
   "cell_type": "code",
   "execution_count": null,
   "metadata": {
    "scrolled": false
   },
   "outputs": [],
   "source": [
    "#same scatter plot on log scale\n",
    "fig = plt.figure()\n",
    "ax = plt.gca()\n",
    "\n",
    "ax.plot(x,y, 'o', c='black', alpha=0.7, markeredgecolor='none')\n",
    "ax.set_yscale('log')\n",
    "ax.set_xscale('log')\n",
    "plt.title('Cases vs Deaths')\n",
    "plt.xlabel('Cases')\n",
    "plt.ylabel('Deaths')"
   ]
  },
  {
   "cell_type": "code",
   "execution_count": null,
   "metadata": {
    "scrolled": false
   },
   "outputs": [],
   "source": [
    "#bar chart of total cases by country\n",
    "df = df.sort_values(by='Total Cases', ascending=0)\n",
    "objects = df.index[0:20]\n",
    "y_pos = np.arange(len(objects))\n",
    "x = df.iloc[0:20,0]\n",
    "\n",
    "plt.bar(y_pos, x, align='center', alpha=0.7)\n",
    "plt.xticks(y_pos, objects)\n",
    "plt.ylabel('Cases')\n",
    "plt.title('Total cases by country')\n",
    "\n",
    "fig = plt.gcf()\n",
    "fig.set_size_inches(18.5, 9)\n",
    "plt.show()\n"
   ]
  },
  {
   "cell_type": "code",
   "execution_count": null,
   "metadata": {
    "scrolled": false
   },
   "outputs": [],
   "source": [
    "#bar chart of deaths by country\n",
    "df = df.sort_values(by='Total Deaths', ascending=0)\n",
    "objects = df.index[0:20]\n",
    "y_pos = np.arange(len(objects))\n",
    "x = df.iloc[0:20,2]\n",
    "\n",
    "plt.bar(y_pos, x, align='center', alpha=0.7)\n",
    "plt.xticks(y_pos, objects)\n",
    "plt.ylabel('Total Deaths')\n",
    "plt.title('Total deaths per country')\n",
    "\n",
    "fig = plt.gcf()\n",
    "fig.set_size_inches(18.5, 9)\n",
    "plt.show()\n"
   ]
  },
  {
   "cell_type": "code",
   "execution_count": null,
   "metadata": {
    "scrolled": false
   },
   "outputs": [],
   "source": [
    "#bar chart of cases per capita\n",
    "df = df.sort_values(by='Cases per 1M', ascending=0)\n",
    "objects = df.index[0:20]\n",
    "y_pos = np.arange(len(objects))\n",
    "x = df.iloc[0:20,7]\n",
    "\n",
    "plt.bar(y_pos, x, align='center', alpha=0.7)\n",
    "plt.xticks(y_pos, objects)\n",
    "plt.ylabel('Cases per 1M people')\n",
    "plt.title('Per capita cases per country')\n",
    "\n",
    "fig = plt.gcf()\n",
    "fig.set_size_inches(18.5, 9)\n",
    "plt.show()\n"
   ]
  },
  {
   "cell_type": "code",
   "execution_count": null,
   "metadata": {},
   "outputs": [],
   "source": [
    "#bar chart of deaths per capita\n",
    "df = df.sort_values(by='Deaths per 1M', ascending=0)\n",
    "objects = df.index[1:21]\n",
    "y_pos = np.arange(len(objects))\n",
    "x = df.iloc[1:21,8]\n",
    "\n",
    "plt.bar(y_pos, x, align='center', alpha=0.7)\n",
    "plt.xticks(y_pos, objects)\n",
    "plt.ylabel('Deaths per 1M people')\n",
    "plt.title('Per capita deaths per country')\n",
    "\n",
    "fig = plt.gcf()\n",
    "fig.set_size_inches(18.5, 9)\n",
    "plt.show()\n"
   ]
  },
  {
   "cell_type": "code",
   "execution_count": null,
   "metadata": {},
   "outputs": [],
   "source": []
  },
  {
   "cell_type": "markdown",
   "metadata": {},
   "source": [
    "## Cases Analysis"
   ]
  },
  {
   "cell_type": "code",
   "execution_count": null,
   "metadata": {},
   "outputs": [],
   "source": [
    "df_cases = pd.read_csv('./Data/Stats/Cases.csv')\n",
    "\n",
    "df_cases = df_cases.set_index('Dates')\n",
    "\n",
    "#df_cases.tail()"
   ]
  },
  {
   "cell_type": "code",
   "execution_count": null,
   "metadata": {
    "scrolled": false
   },
   "outputs": [],
   "source": [
    "#cases over time\n",
    "x = df_cases.index\n",
    "germany = df_cases.loc[:,'Germany']\n",
    "iran = df_cases.loc[:,'Iran']\n",
    "italy = df_cases.loc[:,'Italy']\n",
    "spain = df_cases.loc[:,'Spain']\n",
    "US = df_cases.loc[:,'USA']\n",
    "UK = df_cases.loc[:,'UK']\n",
    "france = df_cases.loc[:,'France']\n",
    "south_korea = df_cases.loc[:,'S. Korea']\n",
    "australia = df_cases.loc[:,'Australia']\n",
    "canada = df_cases.loc[:,'Canada']\n",
    "norway = df_cases.loc[:,'Norway']\n",
    "\n",
    "fig=plt.figure()\n",
    "fig.show()\n",
    "fig.set_size_inches(20, 9)\n",
    "plt.ylabel('Total Cases')\n",
    "plt.title('Cases per country over time')\n",
    "ax=fig.add_subplot(111)\n",
    "\n",
    "ax.plot(x,germany,c='b',marker=\"^\",ls='--',label='Germany',fillstyle='none')\n",
    "ax.plot(x,iran,c='g',marker=(8,2,0),ls='--',label='Iran')\n",
    "ax.plot(x,italy,c='k',marker=\"^\",ls='-',label='Italy')\n",
    "ax.plot(x,spain,c='r',marker=\"v\",ls='-',label='Spain')\n",
    "ax.plot(x,US,c='m',marker=\"o\",ls='--',label='US',fillstyle='none')\n",
    "ax.plot(x,UK,c='k',marker=\"+\",ls=':',label='UK')\n",
    "ax.plot(x,france,c='g',marker=\"o\",ls=':',label='France')\n",
    "ax.plot(x,south_korea,c='b',marker=\"+\",ls=':',label='South Korea')\n",
    "ax.plot(x,australia,c='m',marker=(8,2,0),ls='-',label='Australia')\n",
    "ax.plot(x,canada,c='k',marker=\"v\",ls='--',label='Canada')\n",
    "ax.plot(x,norway,c='r',marker=(8,2,0),ls=':',label='Norway')\n",
    "\n",
    "plt.legend(loc=2)\n",
    "plt.draw()"
   ]
  },
  {
   "cell_type": "code",
   "execution_count": null,
   "metadata": {},
   "outputs": [],
   "source": [
    "def index_X_cases(df=df_cases,X_cases=200):\n",
    "    \"\"\"Produces a dataframe that sets the index to 0 at X cases and removes all preceeding observations\"\"\"\n",
    "    \n",
    "    # cycle through columns and reset index at X_cases\n",
    "    country_dfs = []\n",
    "    for c in df.columns:\n",
    "        dfc = df[[c]]\n",
    "        dfc = dfc[dfc[c]>=X_cases]\n",
    "        dfc.reset_index(drop=True,inplace=True)\n",
    "        country_dfs.append(dfc)\n",
    "    return pd.concat(country_dfs,axis=1)\n",
    "    \n",
    "# plot index_X_cases \n",
    "fig,ax = plt.subplots(figsize=(18.5,9))\n",
    "X_cases = 200\n",
    "ax.set_title('Cases starting at {} over time'.format(X_cases))\n",
    "ax.set_xlabel('Days after {} case numbers reached'.format(X_cases))\n",
    "ax.set_ylabel('Cases')\n",
    "\n",
    "index_X_cases(df_cases,X_cases).plot(ax=ax)\n"
   ]
  },
  {
   "cell_type": "markdown",
   "metadata": {},
   "source": [
    "# Fit function through data"
   ]
  },
  {
   "cell_type": "code",
   "execution_count": null,
   "metadata": {},
   "outputs": [],
   "source": [
    "# creating case df\n",
    "df_200_cases = index_X_cases()\n",
    "#df_200_cases = df_200_cases.drop(['Daily Deaths'], axis=1)\n",
    "#df_200_cases = df_200_cases.drop(['CFR'], axis=1)"
   ]
  },
  {
   "cell_type": "code",
   "execution_count": null,
   "metadata": {
    "scrolled": false
   },
   "outputs": [],
   "source": [
    "from scipy.optimize import curve_fit\n",
    "\n",
    "\n",
    "def func(x, a, b, c):\n",
    "    return a * np.exp(b * x) + c\n",
    "\n",
    "def projection(df):\n",
    "    country_dfs = []\n",
    "    for c in df.columns:\n",
    "        dfc = df[c]\n",
    "        x = df.index\n",
    "        dfc.dropna(inplace=True)\n",
    "        x_fit = dfc.index\n",
    "        y = dfc\n",
    "        \n",
    "        popt, pcov = curve_fit(func, x_fit, y, p0=[0,0,0], maxfev=5000)\n",
    "        dfc = pd.DataFrame(data = func(x.difference(x_fit), *popt), index=x.difference(x_fit), columns=['{}_fit'.format(c)])\n",
    "\n",
    "        country_dfs.append(dfc)\n",
    "    dfc = pd.concat(country_dfs,axis=1)\n",
    "    return dfc"
   ]
  },
  {
   "cell_type": "code",
   "execution_count": null,
   "metadata": {},
   "outputs": [],
   "source": [
    "df_200_cases_projection = projection(df_200_cases)\n",
    "df_200_cases = index_X_cases()\n",
    "df_200 = pd.concat([df_200_cases,df_200_cases_projection],axis=1)\n",
    "\n",
    "\n",
    "df_200 = df_200.reset_index()\n",
    "df_200_l = df_200.melt(id_vars='index')\n",
    "df_200_l.columns=['days','country','cases']\n",
    "df_200_l[['country','type']] = df_200_l['country'].str.split('_',expand=True).fillna('act')\n",
    "#df_200_l"
   ]
  },
  {
   "cell_type": "code",
   "execution_count": null,
   "metadata": {},
   "outputs": [],
   "source": [
    "import plotly.express as px\n",
    "fig = px.line(df_200_l, x=\"days\", y=\"cases\", color=\"country\", line_group=\"country\", hover_name=\"country\",\n",
    "         render_mode=\"svg\",log_y=True,line_dash='type')\n",
    "fig.show()"
   ]
  },
  {
   "cell_type": "markdown",
   "metadata": {},
   "source": [
    "## Deaths analysis"
   ]
  },
  {
   "cell_type": "code",
   "execution_count": null,
   "metadata": {},
   "outputs": [],
   "source": [
    "df_deaths = pd.read_csv('./Data/Stats/Deaths.csv')\n",
    "\n",
    "df_deaths = df_deaths.set_index('Dates')\n",
    "\n",
    "#df_deaths.tail()"
   ]
  },
  {
   "cell_type": "code",
   "execution_count": null,
   "metadata": {},
   "outputs": [],
   "source": [
    "#deaths over time\n",
    "x = df_deaths.index\n",
    "germany = df_deaths.loc[:,'Germany']\n",
    "iran = df_deaths.loc[:,'Iran']\n",
    "italy = df_deaths.loc[:,'Italy']\n",
    "spain = df_deaths.loc[:,'Spain']\n",
    "US = df_deaths.loc[:,'USA']\n",
    "UK = df_deaths.loc[:,'UK']\n",
    "france = df_deaths.loc[:,'France']\n",
    "south_korea = df_deaths.loc[:,'S. Korea']\n",
    "australia = df_deaths.loc[:,'Australia']\n",
    "canada = df_deaths.loc[:,'Canada']\n",
    "norway = df_deaths.loc[:,'Norway']\n",
    "\n",
    "fig=plt.figure()\n",
    "fig.show()\n",
    "fig.set_size_inches(20, 9)\n",
    "plt.ylabel('Total Deaths')\n",
    "plt.title('Deaths per country over time')\n",
    "ax=fig.add_subplot(111)\n",
    "\n",
    "ax.plot(x,germany,c='b',marker=\"^\",ls='--',label='Germany',fillstyle='none')\n",
    "ax.plot(x,iran,c='g',marker=(8,2,0),ls='--',label='Iran')\n",
    "ax.plot(x,italy,c='k',marker=\"^\",ls='-',label='Italy')\n",
    "ax.plot(x,spain,c='r',marker=\"v\",ls='-',label='Spain')\n",
    "ax.plot(x,US,c='m',marker=\"o\",ls='--',label='US',fillstyle='none')\n",
    "ax.plot(x,UK,c='k',marker=\"+\",ls=':',label='UK')\n",
    "ax.plot(x,france,c='g',marker=\"o\",ls=':',label='France')\n",
    "ax.plot(x,south_korea,c='b',marker=\"+\",ls=':',label='South Korea')\n",
    "ax.plot(x,australia,c='m',marker=(8,2,0),ls='-',label='Australia')\n",
    "ax.plot(x,canada,c='k',marker=\"v\",ls='--',label='Canada')\n",
    "ax.plot(x,norway,c='r',marker=(8,2,0),ls=':',label='Norway')\n",
    "\n",
    "plt.legend(loc=2)\n",
    "plt.draw()"
   ]
  },
  {
   "cell_type": "code",
   "execution_count": null,
   "metadata": {},
   "outputs": [],
   "source": [
    "fig,ax = plt.subplots(figsize=(15,5))\n",
    "X = 5\n",
    "ax.set_title('Deaths starting at {} over time'.format(X))\n",
    "ax.set_xlabel('Days after {} deaths reached'.format(X))\n",
    "ax.set_ylabel('Deaths')\n",
    "index_X_cases(df_deaths,X).plot(ax=ax)"
   ]
  },
  {
   "cell_type": "code",
   "execution_count": null,
   "metadata": {},
   "outputs": [],
   "source": []
  }
 ],
 "metadata": {
  "kernelspec": {
   "display_name": "Python 3",
   "language": "python",
   "name": "python3"
  },
  "language_info": {
   "codemirror_mode": {
    "name": "ipython",
    "version": 3
   },
   "file_extension": ".py",
   "mimetype": "text/x-python",
   "name": "python",
   "nbconvert_exporter": "python",
   "pygments_lexer": "ipython3",
   "version": "3.7.6"
  }
 },
 "nbformat": 4,
 "nbformat_minor": 2
}
