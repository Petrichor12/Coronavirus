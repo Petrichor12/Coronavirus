{
 "cells": [
  {
   "cell_type": "code",
<<<<<<< Updated upstream
   "execution_count": null,
=======
   "execution_count": 3,
>>>>>>> Stashed changes
   "metadata": {},
   "outputs": [],
   "source": [
    "import pandas as pd\n",
    "import numpy as np\n",
    "import matplotlib.pyplot as plt"
   ]
  },
  {
   "cell_type": "markdown",
   "metadata": {},
   "source": [
    "## World Analysis"
   ]
  },
  {
   "cell_type": "code",
<<<<<<< Updated upstream
   "execution_count": null,
   "metadata": {},
   "outputs": [],
=======
   "execution_count": 4,
   "metadata": {},
   "outputs": [
    {
     "data": {
      "text/html": [
       "<div>\n",
       "<style scoped>\n",
       "    .dataframe tbody tr th:only-of-type {\n",
       "        vertical-align: middle;\n",
       "    }\n",
       "\n",
       "    .dataframe tbody tr th {\n",
       "        vertical-align: top;\n",
       "    }\n",
       "\n",
       "    .dataframe thead th {\n",
       "        text-align: right;\n",
       "    }\n",
       "</style>\n",
       "<table border=\"1\" class=\"dataframe\">\n",
       "  <thead>\n",
       "    <tr style=\"text-align: right;\">\n",
       "      <th></th>\n",
       "      <th>Total Cases</th>\n",
       "      <th>New Cases</th>\n",
       "      <th>Total Deaths</th>\n",
       "      <th>New Deaths</th>\n",
       "      <th>Total Recovered</th>\n",
       "      <th>Active Cases</th>\n",
       "      <th>Critical cases</th>\n",
       "      <th>Cases per 1M</th>\n",
       "    </tr>\n",
       "    <tr>\n",
       "      <th>Country</th>\n",
       "      <th></th>\n",
       "      <th></th>\n",
       "      <th></th>\n",
       "      <th></th>\n",
       "      <th></th>\n",
       "      <th></th>\n",
       "      <th></th>\n",
       "      <th></th>\n",
       "    </tr>\n",
       "  </thead>\n",
       "  <tbody>\n",
       "    <tr>\n",
       "      <th>China</th>\n",
       "      <td>81054</td>\n",
       "      <td>+46</td>\n",
       "      <td>3261.0</td>\n",
       "      <td>6.0</td>\n",
       "      <td>72440.0</td>\n",
       "      <td>5353</td>\n",
       "      <td>1845.0</td>\n",
       "      <td>56.0</td>\n",
       "    </tr>\n",
       "    <tr>\n",
       "      <th>Italy</th>\n",
       "      <td>53578</td>\n",
       "      <td>0</td>\n",
       "      <td>4825.0</td>\n",
       "      <td>0.0</td>\n",
       "      <td>6072.0</td>\n",
       "      <td>42681</td>\n",
       "      <td>2857.0</td>\n",
       "      <td>886.0</td>\n",
       "    </tr>\n",
       "    <tr>\n",
       "      <th>USA</th>\n",
       "      <td>30291</td>\n",
       "      <td>+6,084</td>\n",
       "      <td>388.0</td>\n",
       "      <td>86.0</td>\n",
       "      <td>178.0</td>\n",
       "      <td>29725</td>\n",
       "      <td>708.0</td>\n",
       "      <td>92.0</td>\n",
       "    </tr>\n",
       "    <tr>\n",
       "      <th>Spain</th>\n",
       "      <td>28603</td>\n",
       "      <td>+3,107</td>\n",
       "      <td>1756.0</td>\n",
       "      <td>375.0</td>\n",
       "      <td>2125.0</td>\n",
       "      <td>24722</td>\n",
       "      <td>1785.0</td>\n",
       "      <td>612.0</td>\n",
       "    </tr>\n",
       "    <tr>\n",
       "      <th>Germany</th>\n",
       "      <td>23974</td>\n",
       "      <td>+1,610</td>\n",
       "      <td>93.0</td>\n",
       "      <td>9.0</td>\n",
       "      <td>266.0</td>\n",
       "      <td>23615</td>\n",
       "      <td>2.0</td>\n",
       "      <td>286.0</td>\n",
       "    </tr>\n",
       "  </tbody>\n",
       "</table>\n",
       "</div>"
      ],
      "text/plain": [
       "         Total Cases New Cases  Total Deaths  New Deaths  Total Recovered  \\\n",
       "Country                                                                     \n",
       "China          81054       +46        3261.0         6.0          72440.0   \n",
       "Italy          53578         0        4825.0         0.0           6072.0   \n",
       "USA            30291    +6,084         388.0        86.0            178.0   \n",
       "Spain          28603    +3,107        1756.0       375.0           2125.0   \n",
       "Germany        23974    +1,610          93.0         9.0            266.0   \n",
       "\n",
       "         Active Cases  Critical cases  Cases per 1M  \n",
       "Country                                              \n",
       "China            5353          1845.0          56.0  \n",
       "Italy           42681          2857.0         886.0  \n",
       "USA             29725           708.0          92.0  \n",
       "Spain           24722          1785.0         612.0  \n",
       "Germany         23615             2.0         286.0  "
      ]
     },
     "execution_count": 4,
     "metadata": {},
     "output_type": "execute_result"
    }
   ],
>>>>>>> Stashed changes
   "source": [
    "df = pd.read_csv('./Data/world_info.csv')\n",
    "\n",
    "df.columns = ['Unnamed','Country', 'Total Cases', 'New Cases', 'Total Deaths', 'New Deaths', 'Total Recovered', \n",
    "           'Active Cases', 'Critical cases', 'Cases per 1M', 'Deaths per 1M']\n",
    "df = df.set_index('Country')\n",
    "df = df.drop(df.columns[[0]], axis=1)\n",
    "\n",
    "df.drop(df.tail(1).index,inplace=True)        #removes total row\n",
    "\n",
    "df.head()"
   ]
  },
  {
   "cell_type": "code",
<<<<<<< Updated upstream
   "execution_count": null,
=======
   "execution_count": 5,
>>>>>>> Stashed changes
   "metadata": {},
   "outputs": [],
   "source": [
    "#Plot cases vs deaths on a scatter plot\n",
    "x = df.loc[:,'Total Cases']\n",
    "y = df.loc[:,'Total Deaths']\n",
    "colors = 'black'\n",
    "area = np.pi*3\n",
    "\n",
    "plt.scatter(x, y, s=area, c=colors, alpha=0.7)\n",
    "plt.title('Cases vs Deaths')\n",
    "plt.xlabel('Cases')\n",
    "plt.ylabel('Deaths')\n",
    "\n",
    "plt.show()"
   ]
  },
  {
   "cell_type": "code",
<<<<<<< Updated upstream
   "execution_count": null,
   "metadata": {
    "scrolled": false
   },
   "outputs": [],
=======
   "execution_count": 6,
   "metadata": {
    "scrolled": false
   },
   "outputs": [
    {
     "data": {
      "text/plain": [
       "Text(0, 0.5, 'Deaths')"
      ]
     },
     "execution_count": 6,
     "metadata": {},
     "output_type": "execute_result"
    },
    {
     "data": {
      "image/png": "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\n",
      "text/plain": [
       "<Figure size 432x288 with 1 Axes>"
      ]
     },
     "metadata": {
      "needs_background": "light"
     },
     "output_type": "display_data"
    }
   ],
>>>>>>> Stashed changes
   "source": [
    "#same scatter plot on log scale\n",
    "fig = plt.figure()\n",
    "ax = plt.gca()\n",
    "\n",
    "ax.plot(x,y, 'o', c='black', alpha=0.7, markeredgecolor='none')\n",
    "ax.set_yscale('log')\n",
    "ax.set_xscale('log')\n",
    "plt.title('Cases vs Deaths')\n",
    "plt.xlabel('Cases')\n",
    "plt.ylabel('Deaths')"
   ]
  },
  {
   "cell_type": "code",
<<<<<<< Updated upstream
   "execution_count": null,
=======
   "execution_count": 7,
>>>>>>> Stashed changes
   "metadata": {
    "scrolled": false
   },
   "outputs": [],
   "source": [
    "#bar chart of total cases by country\n",
    "df = df.sort_values(by='Total Cases', ascending=0)\n",
    "objects = df.index[0:20]\n",
    "y_pos = np.arange(len(objects))\n",
    "x = df.iloc[0:20,0]\n",
    "\n",
    "plt.bar(y_pos, x, align='center', alpha=0.7)\n",
    "plt.xticks(y_pos, objects)\n",
    "plt.ylabel('Cases')\n",
    "plt.title('Total cases by country')\n",
    "\n",
    "fig = plt.gcf()\n",
    "fig.set_size_inches(18.5, 9)\n",
    "plt.show()\n"
   ]
  },
  {
   "cell_type": "code",
<<<<<<< Updated upstream
   "execution_count": null,
   "metadata": {
    "scrolled": false
   },
   "outputs": [],
=======
   "execution_count": 8,
   "metadata": {
    "scrolled": false
   },
   "outputs": [
    {
     "data": {
      "image/png": "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\n",
      "text/plain": [
       "<Figure size 1332x648 with 1 Axes>"
      ]
     },
     "metadata": {
      "needs_background": "light"
     },
     "output_type": "display_data"
    }
   ],
>>>>>>> Stashed changes
   "source": [
    "#bar chart of deaths by country\n",
    "df = df.sort_values(by='Total Deaths', ascending=0)\n",
    "objects = df.index[0:20]\n",
    "y_pos = np.arange(len(objects))\n",
    "x = df.iloc[0:20,2]\n",
    "\n",
    "plt.bar(y_pos, x, align='center', alpha=0.7)\n",
    "plt.xticks(y_pos, objects)\n",
    "plt.ylabel('Total Deaths')\n",
    "plt.title('Total deaths per country')\n",
    "\n",
    "fig = plt.gcf()\n",
    "fig.set_size_inches(18.5, 9)\n",
    "plt.show()\n"
   ]
  },
  {
   "cell_type": "code",
   "execution_count": null,
   "metadata": {
    "scrolled": false
   },
   "outputs": [],
   "source": [
    "#bar chart of cases per capita\n",
    "df = df.sort_values(by='Cases per 1M', ascending=0)\n",
    "objects = df.index[0:20]\n",
    "y_pos = np.arange(len(objects))\n",
    "x = df.iloc[0:20,7]\n",
    "\n",
    "plt.bar(y_pos, x, align='center', alpha=0.7)\n",
    "plt.xticks(y_pos, objects)\n",
    "plt.ylabel('Cases per 1M people')\n",
    "plt.title('Per capita cases per country')\n",
    "\n",
    "fig = plt.gcf()\n",
    "fig.set_size_inches(18.5, 9)\n",
    "plt.show()\n"
   ]
  },
  {
   "cell_type": "code",
   "execution_count": null,
   "metadata": {},
   "outputs": [],
   "source": [
    "#bar chart of deaths per capita\n",
    "df = df.sort_values(by='Deaths per 1M', ascending=0)\n",
    "objects = df.index[1:21]\n",
    "y_pos = np.arange(len(objects))\n",
    "x = df.iloc[1:21,8]\n",
    "\n",
    "plt.bar(y_pos, x, align='center', alpha=0.7)\n",
    "plt.xticks(y_pos, objects)\n",
    "plt.ylabel('Deaths per 1M people')\n",
    "plt.title('Per capita deaths per country')\n",
    "\n",
    "fig = plt.gcf()\n",
    "fig.set_size_inches(18.5, 9)\n",
    "plt.show()\n"
   ]
  },
  {
   "cell_type": "code",
   "execution_count": null,
   "metadata": {},
   "outputs": [],
   "source": []
  },
  {
   "cell_type": "markdown",
   "metadata": {},
   "source": [
    "## Cases Analysis"
   ]
  },
  {
   "cell_type": "code",
   "execution_count": null,
   "metadata": {},
   "outputs": [],
   "source": [
    "df_cases = pd.read_csv('./Data/Stats/Cases.csv')\n",
    "\n",
    "df_cases = df_cases.set_index('Dates')\n",
    "\n",
    "#df_cases.tail()"
   ]
  },
  {
   "cell_type": "code",
<<<<<<< Updated upstream
   "execution_count": null,
=======
   "execution_count": 11,
>>>>>>> Stashed changes
   "metadata": {
    "scrolled": false
   },
   "outputs": [],
   "source": [
    "#cases over time\n",
    "x = df_cases.index\n",
    "germany = df_cases.loc[:,'Germany']\n",
    "iran = df_cases.loc[:,'Iran']\n",
    "italy = df_cases.loc[:,'Italy']\n",
    "spain = df_cases.loc[:,'Spain']\n",
    "US = df_cases.loc[:,'US']\n",
    "UK = df_cases.loc[:,'UK']\n",
    "france = df_cases.loc[:,'France']\n",
    "south_korea = df_cases.loc[:,'South Korea']\n",
    "australia = df_cases.loc[:,'Australia']\n",
    "canada = df_cases.loc[:,'Canada']\n",
    "norway = df_cases.loc[:,'Norway']\n",
    "\n",
    "fig=plt.figure()\n",
    "fig.show()\n",
    "fig.set_size_inches(20, 9)\n",
    "plt.ylabel('Total Cases')\n",
    "plt.title('Cases per country over time')\n",
    "ax=fig.add_subplot(111)\n",
    "\n",
    "ax.plot(x,germany,c='b',marker=\"^\",ls='--',label='Germany',fillstyle='none')\n",
    "ax.plot(x,iran,c='g',marker=(8,2,0),ls='--',label='Iran')\n",
    "ax.plot(x,italy,c='k',marker=\"^\",ls='-',label='Italy')\n",
    "ax.plot(x,spain,c='r',marker=\"v\",ls='-',label='Spain')\n",
    "ax.plot(x,US,c='m',marker=\"o\",ls='--',label='US',fillstyle='none')\n",
    "ax.plot(x,UK,c='k',marker=\"+\",ls=':',label='UK')\n",
    "ax.plot(x,france,c='g',marker=\"o\",ls=':',label='France')\n",
    "ax.plot(x,south_korea,c='b',marker=\"+\",ls=':',label='South Korea')\n",
    "ax.plot(x,australia,c='m',marker=(8,2,0),ls='-',label='Australia')\n",
    "ax.plot(x,canada,c='k',marker=\"v\",ls='--',label='Canada')\n",
    "ax.plot(x,norway,c='r',marker=(8,2,0),ls=':',label='Norway')\n",
    "\n",
    "plt.legend(loc=2)\n",
    "plt.draw()"
   ]
  },
  {
   "cell_type": "code",
   "execution_count": null,
   "metadata": {},
   "outputs": [],
   "source": [
    "def index_X_cases(df=df_cases,X_cases=200):\n",
    "    \"\"\"Produces a dataframe that sets the index to 0 at X cases and removes all preceeding observations\"\"\"\n",
    "    \n",
    "    # cycle through columns and reset index at X_cases\n",
    "    country_dfs = []\n",
    "    for c in df.columns:\n",
    "        dfc = df[[c]]\n",
    "        dfc = dfc[dfc[c]>=X_cases]\n",
    "        dfc.reset_index(drop=True,inplace=True)\n",
    "        country_dfs.append(dfc)\n",
    "    return pd.concat(country_dfs,axis=1)\n",
    "    \n",
    "# plot index_X_cases \n",
    "fig,ax = plt.subplots(figsize=(18.5,9))\n",
    "X_cases = 200\n",
    "ax.set_title('Cases starting at {} over time'.format(X_cases))\n",
    "ax.set_xlabel('Days after {} case numbers reached'.format(X_cases))\n",
    "ax.set_ylabel('Cases')\n",
    "\n",
    "index_X_cases(df_cases,X_cases).plot(ax=ax)\n"
   ]
  },
  {
   "cell_type": "code",
<<<<<<< Updated upstream
=======
   "execution_count": null,
   "metadata": {},
   "outputs": [],
   "source": []
  },
  {
   "cell_type": "code",
   "execution_count": null,
   "metadata": {},
   "outputs": [],
   "source": []
  },
  {
   "cell_type": "code",
   "execution_count": null,
   "metadata": {},
   "outputs": [],
   "source": []
  },
  {
   "cell_type": "code",
   "execution_count": null,
   "metadata": {},
   "outputs": [],
   "source": []
  },
  {
   "cell_type": "code",
   "execution_count": null,
   "metadata": {},
   "outputs": [],
   "source": []
  },
  {
   "cell_type": "code",
   "execution_count": null,
   "metadata": {},
   "outputs": [],
   "source": []
  },
  {
   "cell_type": "code",
   "execution_count": null,
   "metadata": {},
   "outputs": [],
   "source": []
  },
  {
   "cell_type": "code",
   "execution_count": null,
   "metadata": {},
   "outputs": [],
   "source": []
  },
  {
   "cell_type": "code",
   "execution_count": null,
   "metadata": {},
   "outputs": [],
   "source": []
  },
  {
   "cell_type": "code",
   "execution_count": null,
   "metadata": {},
   "outputs": [],
   "source": []
  },
  {
   "cell_type": "code",
   "execution_count": null,
   "metadata": {},
   "outputs": [],
   "source": []
  },
  {
   "cell_type": "code",
   "execution_count": null,
   "metadata": {},
   "outputs": [],
   "source": []
  },
  {
   "cell_type": "code",
   "execution_count": null,
   "metadata": {},
   "outputs": [],
   "source": []
  },
  {
   "cell_type": "code",
   "execution_count": null,
   "metadata": {},
   "outputs": [],
   "source": []
  },
  {
   "cell_type": "code",
   "execution_count": null,
   "metadata": {},
   "outputs": [],
   "source": []
  },
  {
   "cell_type": "code",
   "execution_count": null,
   "metadata": {},
   "outputs": [],
   "source": []
  },
  {
   "cell_type": "code",
   "execution_count": null,
   "metadata": {},
   "outputs": [],
   "source": []
  },
  {
   "cell_type": "code",
   "execution_count": null,
   "metadata": {},
   "outputs": [],
   "source": []
  },
  {
   "cell_type": "code",
   "execution_count": null,
   "metadata": {},
   "outputs": [],
   "source": []
  },
  {
   "cell_type": "code",
   "execution_count": null,
   "metadata": {},
   "outputs": [],
   "source": []
  },
  {
   "cell_type": "code",
   "execution_count": null,
   "metadata": {},
   "outputs": [],
   "source": []
  },
  {
   "cell_type": "code",
   "execution_count": null,
   "metadata": {},
   "outputs": [],
   "source": []
  },
  {
   "cell_type": "code",
>>>>>>> Stashed changes
   "execution_count": null,
   "metadata": {},
   "outputs": [],
   "source": [
    "fig,ax = plt.subplots(figsize=(15,5))\n",
    "X = 5\n",
    "ax.set_title('Deaths starting at {} over time'.format(X))\n",
    "ax.set_xlabel('Days after {} deaths reached'.format(X))\n",
    "ax.set_ylabel('Deaths')\n",
    "index_X_cases(df_deaths,X).plot(ax=ax)"
   ]
  },
  {
   "cell_type": "markdown",
   "metadata": {},
   "source": [
    "# Fit function through data"
   ]
  },
  {
   "cell_type": "code",
   "execution_count": null,
   "metadata": {},
   "outputs": [],
   "source": [
    "df_200_cases = index_X_cases()\n",
    "#df_200_cases"
   ]
  },
  {
   "cell_type": "code",
   "execution_count": null,
   "metadata": {
    "scrolled": false
   },
   "outputs": [],
   "source": [
    "from scipy.optimize import curve_fit\n",
    "\n",
    "\n",
    "def func(x, a, b, c):\n",
    "    return a * np.exp(b * x) + c\n",
    "\n",
    "def projection(df):\n",
    "    country_dfs = []\n",
    "    for c in df.columns:\n",
    "        dfc = df[c]\n",
    "        x = df.index\n",
    "        dfc.dropna(inplace=True)\n",
    "        x_fit = dfc.index\n",
    "        y = dfc\n",
    "        \n",
    "        popt, pcov = curve_fit(func, x_fit, y, p0=[0,0,0], maxfev=5000)\n",
    "        dfc = pd.DataFrame(data = func(x.difference(x_fit), *popt), index=x.difference(x_fit), columns=['{}_fit'.format(c)])\n",
    "\n",
    "        country_dfs.append(dfc)\n",
    "    dfc = pd.concat(country_dfs,axis=1)\n",
    "    return dfc"
   ]
  },
  {
   "cell_type": "code",
   "execution_count": null,
   "metadata": {},
   "outputs": [],
   "source": [
    "df_200_cases_projection = projection(df_200_cases)\n",
    "df_200_cases = index_X_cases()\n",
    "\n",
    "df_200 = pd.concat([df_200_cases,df_200_cases_projection],axis=1)\n",
    "\n",
    "act_fit_pairs = list(zip(df_200_cases.columns, df_200_cases_projection.columns))\n",
    "print(act_fit_pairs)\n",
    "\n",
    "fig,ax = plt.subplots(figsize=(15,5))\n",
    "ax.set_title('Cases starting at 200 over time')\n",
    "df_200.plot(ax=ax)\n",
    "\n"
   ]
  },
  {
   "cell_type": "code",
   "execution_count": null,
   "metadata": {},
   "outputs": [],
   "source": []
  },
  {
   "cell_type": "markdown",
   "metadata": {},
   "source": [
    "## Deaths analysis"
   ]
  },
  {
   "cell_type": "code",
<<<<<<< Updated upstream
   "execution_count": null,
=======
   "execution_count": 13,
>>>>>>> Stashed changes
   "metadata": {},
   "outputs": [],
   "source": [
    "df_deaths = pd.read_csv('./Data/Stats/Deaths.csv')\n",
    "\n",
    "df_deaths = df_deaths.set_index('Dates')\n",
    "\n",
    "#df_cases.tail()"
   ]
  },
  {
   "cell_type": "code",
<<<<<<< Updated upstream
   "execution_count": null,
   "metadata": {},
   "outputs": [],
=======
   "execution_count": 14,
   "metadata": {},
   "outputs": [
    {
     "name": "stderr",
     "output_type": "stream",
     "text": [
      "c:\\users\\jason collis\\appdata\\local\\programs\\python\\python36\\lib\\site-packages\\ipykernel_launcher.py:16: UserWarning: Matplotlib is currently using module://ipykernel.pylab.backend_inline, which is a non-GUI backend, so cannot show the figure.\n",
      "  app.launch_new_instance()\n",
      "c:\\users\\jason collis\\appdata\\local\\programs\\python\\python36\\lib\\site-packages\\ipykernel_launcher.py:20: MatplotlibDeprecationWarning: Adding an axes using the same arguments as a previous axes currently reuses the earlier instance.  In a future version, a new instance will always be created and returned.  Meanwhile, this warning can be suppressed, and the future behavior ensured, by passing a unique label to each axes instance.\n"
     ]
    },
    {
     "data": {
      "image/png": "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\n",
      "text/plain": [
       "<Figure size 1440x648 with 1 Axes>"
      ]
     },
     "metadata": {
      "needs_background": "light"
     },
     "output_type": "display_data"
    }
   ],
>>>>>>> Stashed changes
   "source": [
    "#deaths over time\n",
    "x = df_deaths.index\n",
    "germany = df_deaths.loc[:,'Germany']\n",
    "iran = df_deaths.loc[:,'Iran']\n",
    "italy = df_deaths.loc[:,'Italy']\n",
    "spain = df_deaths.loc[:,'Spain']\n",
    "US = df_deaths.loc[:,'US']\n",
    "UK = df_deaths.loc[:,'UK']\n",
    "france = df_deaths.loc[:,'France']\n",
    "south_korea = df_deaths.loc[:,'South Korea']\n",
    "australia = df_deaths.loc[:,'Australia']\n",
    "canada = df_deaths.loc[:,'Canada']\n",
    "norway = df_deaths.loc[:,'Norway']\n",
    "\n",
    "fig=plt.figure()\n",
    "fig.show()\n",
    "fig.set_size_inches(20, 9)\n",
    "plt.ylabel('Total Deaths')\n",
    "plt.title('Deaths per country over time')\n",
    "ax=fig.add_subplot(111)\n",
    "\n",
    "ax.plot(x,germany,c='b',marker=\"^\",ls='--',label='Germany',fillstyle='none')\n",
    "ax.plot(x,iran,c='g',marker=(8,2,0),ls='--',label='Iran')\n",
    "ax.plot(x,italy,c='k',marker=\"^\",ls='-',label='Italy')\n",
    "ax.plot(x,spain,c='r',marker=\"v\",ls='-',label='Spain')\n",
    "ax.plot(x,US,c='m',marker=\"o\",ls='--',label='US',fillstyle='none')\n",
    "ax.plot(x,UK,c='k',marker=\"+\",ls=':',label='UK')\n",
    "ax.plot(x,france,c='g',marker=\"o\",ls=':',label='France')\n",
    "ax.plot(x,south_korea,c='b',marker=\"+\",ls=':',label='South Korea')\n",
    "ax.plot(x,australia,c='m',marker=(8,2,0),ls='-',label='Australia')\n",
    "ax.plot(x,canada,c='k',marker=\"v\",ls='--',label='Canada')\n",
    "ax.plot(x,norway,c='r',marker=(8,2,0),ls=':',label='Norway')\n",
    "\n",
    "plt.legend(loc=2)\n",
    "plt.draw()"
   ]
  },
  {
   "cell_type": "code",
   "execution_count": null,
   "metadata": {},
   "outputs": [],
   "source": [
    "fig,ax = plt.subplots(figsize=(15,5))\n",
    "X = 5\n",
    "ax.set_title('Deaths starting at {} over time'.format(X))\n",
    "ax.set_xlabel('Days after {} deaths reached'.format(X))\n",
    "ax.set_ylabel('Deaths')\n",
    "index_X_cases(df_deaths,X).plot(ax=ax)"
   ]
  }
 ],
 "metadata": {
  "kernelspec": {
   "display_name": "Python 3",
   "language": "python",
   "name": "python3"
  },
  "language_info": {
   "codemirror_mode": {
    "name": "ipython",
    "version": 3
   },
   "file_extension": ".py",
   "mimetype": "text/x-python",
   "name": "python",
   "nbconvert_exporter": "python",
   "pygments_lexer": "ipython3",
   "version": "3.6.5"
  }
 },
 "nbformat": 4,
 "nbformat_minor": 2
}
