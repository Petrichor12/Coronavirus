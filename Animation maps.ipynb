{
 "cells": [
  {
   "cell_type": "markdown",
   "metadata": {},
   "source": [
    "# Notes:\n",
    "I find the projection 'natural earth' to be the best 2D projection and 'orthographic' to be the best globe projection. For a full list see here: https://plotly.com/python-api-reference/generated/plotly.express.choropleth.html"
   ]
  },
  {
   "cell_type": "code",
   "execution_count": null,
   "metadata": {},
   "outputs": [],
   "source": [
    "import plotly.express as px\n",
    "import plotly.graph_objects as go\n",
    "import numpy as np\n",
    "import pandas as pd\n",
    "import numpy as np\n",
    "from os import listdir\n",
    "from os.path import isfile, join\n",
    "from datetime import date"
   ]
  },
  {
   "cell_type": "markdown",
   "metadata": {},
   "source": [
    "# Bubble standard animations"
   ]
  },
  {
   "cell_type": "code",
   "execution_count": null,
   "metadata": {},
   "outputs": [],
   "source": [
    "df = pd.read_csv('./Data/timeseries.csv')"
   ]
  },
  {
   "cell_type": "code",
   "execution_count": null,
   "metadata": {},
   "outputs": [],
   "source": [
    "#Bubble animation map of total cases over time\n",
    "fig = px.scatter_geo(df, locations=\"Country\",\n",
    "                     hover_name=\"Country\", size=\"Cases\",\n",
    "                     projection=\"natural earth\", locationmode='country names',\n",
    "                     animation_frame='Day0', animation_group='Country')\n",
    "fig.update_geos(showcountries=True)\n",
    "fig.update_layout(title_text = 'Total cases over time')\n",
    "fig.show()"
   ]
  },
  {
   "cell_type": "code",
   "execution_count": null,
   "metadata": {},
   "outputs": [],
   "source": [
    "#Bubble animation map of total deaths over time\n",
    "fig = px.scatter_geo(df, locations=\"Country\",\n",
    "                     hover_name=\"Country\", size=\"Deaths\",\n",
    "                     projection=\"natural earth\", locationmode='country names',\n",
    "                     animation_frame='Day0', animation_group='Country')\n",
    "fig.update_geos(showcountries=True)\n",
    "fig.update_layout(title_text = 'Total deaths over time')\n",
    "fig.show()"
   ]
  },
  {
   "cell_type": "markdown",
   "metadata": {},
   "source": [
    "# Choropleth standard animations"
   ]
  },
  {
   "cell_type": "code",
   "execution_count": null,
   "metadata": {},
   "outputs": [],
   "source": [
    "#Choropleth animation map of cases over time\n",
    "fig = px.choropleth(df, locations=\"Country\",\n",
    "                     hover_name=\"Country\", color=\"Cases\",\n",
    "                     projection=\"natural earth\", locationmode='country names', \n",
    "                     animation_frame='Day0', animation_group='Country')\n",
    "fig.update_geos(showcountries=True)\n",
    "fig.update_layout(title_text = 'Total cases over time')\n",
    "fig.show()"
   ]
  },
  {
   "cell_type": "code",
   "execution_count": null,
   "metadata": {},
   "outputs": [],
   "source": [
    "#Choropleth animation map of deaths over time\n",
    "fig = px.choropleth(df, locations=\"Country\",\n",
    "                     hover_name=\"Country\", color=\"Deaths\",\n",
    "                     projection=\"natural earth\", locationmode='country names', \n",
    "                     animation_frame='Day0', animation_group='Country')\n",
    "fig.update_geos(showcountries=True)\n",
    "fig.update_layout(title_text = 'Total deaths over time')\n",
    "fig.show()"
   ]
  },
  {
   "cell_type": "code",
   "execution_count": null,
   "metadata": {},
   "outputs": [],
   "source": [
    "#Choropleth animation map of weekly cases over time\n",
    "fig = px.choropleth(df, locations=\"Country\",\n",
    "                     hover_name=\"Country\", color=\"New Cases Last Week\",\n",
    "                     projection=\"natural earth\", locationmode='country names', \n",
    "                     animation_frame='Day0', animation_group='Country')\n",
    "fig.update_geos(showcountries=True)\n",
    "fig.update_layout(title_text = 'New cases last week over time')\n",
    "fig.show()"
   ]
  },
  {
   "cell_type": "code",
   "execution_count": null,
   "metadata": {},
   "outputs": [],
   "source": [
    "#Choropleth animation map of weekly deaths over time\n",
    "fig = px.choropleth(df, locations=\"Country\",\n",
    "                     hover_name=\"Country\", color=\"New Deaths Last Week\",\n",
    "                     projection=\"natural earth\", locationmode='country names', \n",
    "                     animation_frame='Day0', animation_group='Country')\n",
    "fig.update_geos(showcountries=True)\n",
    "fig.update_layout(title_text = 'New deaths last week over time')\n",
    "fig.show()"
   ]
  },
  {
   "cell_type": "markdown",
   "metadata": {},
   "source": [
    "# Growth rate animations"
   ]
  },
  {
   "cell_type": "code",
   "execution_count": null,
   "metadata": {},
   "outputs": [],
   "source": [
    "#Choropleth animation map of cases growth rate over time\n",
    "fig = px.choropleth(df, locations=\"Country\",\n",
    "                     hover_name=\"Country\", color=\"CGR Last Week\",\n",
    "                     projection=\"natural earth\", locationmode='country names', \n",
    "                     animation_frame='Day0', animation_group='Country')\n",
    "fig.update_geos(showcountries=True)\n",
    "fig.update_layout(title_text = 'Cases growth rate over time (7 day moving average)')\n",
    "fig.show()"
   ]
  },
  {
   "cell_type": "code",
   "execution_count": null,
   "metadata": {},
   "outputs": [],
   "source": [
    "#Choropleth animation map of deaths growth rate over time\n",
    "fig = px.choropleth(df, locations=\"Country\",\n",
    "                     hover_name=\"Country\", color=\"DGR Last Week\",\n",
    "                     projection=\"natural earth\", locationmode='country names', \n",
    "                     animation_frame='Day0', animation_group='Country')\n",
    "fig.update_geos(showcountries=True)\n",
    "fig.update_layout(title_text = 'Deaths growth rate over time (7 day moving average)')\n",
    "fig.show()"
   ]
  },
  {
   "cell_type": "code",
   "execution_count": null,
   "metadata": {},
   "outputs": [],
   "source": [
    "print('hello world')"
   ]
  },
  {
   "cell_type": "code",
   "execution_count": null,
   "metadata": {},
   "outputs": [],
   "source": []
  }
 ],
 "metadata": {
  "kernelspec": {
   "display_name": "Python 3",
   "language": "python",
   "name": "python3"
  },
  "language_info": {
   "codemirror_mode": {
    "name": "ipython",
    "version": 3
   },
   "file_extension": ".py",
   "mimetype": "text/x-python",
   "name": "python",
   "nbconvert_exporter": "python",
   "pygments_lexer": "ipython3",
   "version": "3.6.5"
  }
 },
 "nbformat": 4,
 "nbformat_minor": 2
}
